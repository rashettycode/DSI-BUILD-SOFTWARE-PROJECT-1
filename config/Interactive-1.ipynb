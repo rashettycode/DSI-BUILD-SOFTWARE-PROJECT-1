{
 "cells": [
  {
   "cell_type": "markdown",
   "metadata": {
    "isInteractiveWindowMessageCell": true
   },
   "source": [
    "Connected to Python 3.11.4"
   ]
  },
  {
   "cell_type": "code",
   "execution_count": 1,
   "metadata": {},
   "outputs": [
    {
     "ename": "ModuleNotFoundError",
     "evalue": "No module named 'assignmentpkg'",
     "output_type": "error",
     "traceback": [
      "\u001b[1;31m---------------------------------------------------------------------------\u001b[0m",
      "\u001b[1;31mModuleNotFoundError\u001b[0m                       Traceback (most recent call last)",
      "\u001b[1;32mc:\\Users\\rahul\\Desktop\\Assignmentpkg\\dsi-build-software-project\\assignmentpkg\\test_analysis.py\u001b[0m in \u001b[0;36mline 2\n\u001b[0;32m      <a href='file:///c%3A/Users/rahul/Desktop/Assignmentpkg/dsi-build-software-project/assignmentpkg/test_analysis.py?line=0'>1</a>\u001b[0m \u001b[39mimport\u001b[39;00m \u001b[39munittest\u001b[39;00m\n\u001b[1;32m----> <a href='file:///c%3A/Users/rahul/Desktop/Assignmentpkg/dsi-build-software-project/assignmentpkg/test_analysis.py?line=1'>2</a>\u001b[0m \u001b[39mfrom\u001b[39;00m \u001b[39massignmentpkg\u001b[39;00m\u001b[39m.\u001b[39;00m\u001b[39manalysis\u001b[39;00m \u001b[39mimport\u001b[39;00m Analysis\n\u001b[0;32m      <a href='file:///c%3A/Users/rahul/Desktop/Assignmentpkg/dsi-build-software-project/assignmentpkg/test_analysis.py?line=3'>4</a>\u001b[0m \u001b[39mclass\u001b[39;00m \u001b[39mTestAnalysis\u001b[39;00m(unittest\u001b[39m.\u001b[39mTestCase):\n\u001b[0;32m      <a href='file:///c%3A/Users/rahul/Desktop/Assignmentpkg/dsi-build-software-project/assignmentpkg/test_analysis.py?line=4'>5</a>\u001b[0m     \u001b[39mdef\u001b[39;00m \u001b[39msetUp\u001b[39m(\u001b[39mself\u001b[39m):\n",
      "\u001b[1;31mModuleNotFoundError\u001b[0m: No module named 'assignmentpkg'"
     ]
    }
   ],
   "source": [
    "import unittest\n",
    "from assignmentpkg.analysis import Analysis\n",
    "\n",
    "class TestAnalysis(unittest.TestCase):\n",
    "    def setUp(self):\n",
    "        config_paths = ['configs/system_config.yml', 'configs/user_config.yml']\n",
    "        self.analysis = Analysis(config_paths)\n",
    "\n",
    "    def test_load_data(self):\n",
    "        data = self.analysis.load_data()\n",
    "        self.assertIsNotNone(data)\n",
    "\n",
    "    def test_calculate_mean(self):\n",
    "        self.analysis.load_data()\n",
    "        mean_word_count = self.analysis.calculate_mean('word_count')\n",
    "        self.assertIsInstance(mean_word_count, float)\n",
    "\n",
    "\n",
    "if __name__ == '__main__':\n",
    "    unittest.main()"
   ]
  },
  {
   "cell_type": "markdown",
   "metadata": {
    "isInteractiveWindowMessageCell": true
   },
   "source": [
    "Restarted Python 3.11.4"
   ]
  },
  {
   "cell_type": "code",
   "execution_count": 1,
   "metadata": {},
   "outputs": [
    {
     "name": "stdout",
     "output_type": "stream",
     "text": [
      "Processing c:\\users\\rahul\\desktop\\assignmentpkg\\dsi-build-software-project\\assignmentpkgNote: you may need to restart the kernel to use updated packages.\n",
      "\n",
      "  Installing build dependencies: started\n",
      "  Installing build dependencies: finished with status 'done'\n",
      "  Getting requirements to build wheel: started\n",
      "  Getting requirements to build wheel: finished with status 'done'\n",
      "  Preparing metadata (pyproject.toml): started\n",
      "  Preparing metadata (pyproject.toml): finished with status 'done'\n",
      "Requirement already satisfied: requests in c:\\users\\rahul\\appdata\\local\\programs\\python\\python311\\lib\\site-packages (from assignmentpkg==0.1.0) (2.31.0)\n",
      "Requirement already satisfied: PyYAML in c:\\users\\rahul\\appdata\\local\\programs\\python\\python311\\lib\\site-packages (from assignmentpkg==0.1.0) (6.0.1)\n",
      "Requirement already satisfied: numpy in c:\\users\\rahul\\appdata\\local\\programs\\python\\python311\\lib\\site-packages (from assignmentpkg==0.1.0) (1.26.3)\n",
      "Requirement already satisfied: scipy in c:\\users\\rahul\\appdata\\local\\programs\\python\\python311\\lib\\site-packages (from assignmentpkg==0.1.0) (1.11.4)\n",
      "Requirement already satisfied: matplotlib in c:\\users\\rahul\\appdata\\local\\programs\\python\\python311\\lib\\site-packages (from assignmentpkg==0.1.0) (3.8.2)\n",
      "Requirement already satisfied: contourpy>=1.0.1 in c:\\users\\rahul\\appdata\\local\\programs\\python\\python311\\lib\\site-packages (from matplotlib->assignmentpkg==0.1.0) (1.2.0)\n",
      "Requirement already satisfied: cycler>=0.10 in c:\\users\\rahul\\appdata\\local\\programs\\python\\python311\\lib\\site-packages (from matplotlib->assignmentpkg==0.1.0) (0.12.1)\n",
      "Requirement already satisfied: fonttools>=4.22.0 in c:\\users\\rahul\\appdata\\local\\programs\\python\\python311\\lib\\site-packages (from matplotlib->assignmentpkg==0.1.0) (4.47.2)\n",
      "Requirement already satisfied: kiwisolver>=1.3.1 in c:\\users\\rahul\\appdata\\local\\programs\\python\\python311\\lib\\site-packages (from matplotlib->assignmentpkg==0.1.0) (1.4.5)\n",
      "Requirement already satisfied: packaging>=20.0 in c:\\users\\rahul\\appdata\\roaming\\python\\python311\\site-packages (from matplotlib->assignmentpkg==0.1.0) (23.2)\n",
      "Requirement already satisfied: pillow>=8 in c:\\users\\rahul\\appdata\\local\\programs\\python\\python311\\lib\\site-packages (from matplotlib->assignmentpkg==0.1.0) (10.2.0)\n",
      "Requirement already satisfied: pyparsing>=2.3.1 in c:\\users\\rahul\\appdata\\local\\programs\\python\\python311\\lib\\site-packages (from matplotlib->assignmentpkg==0.1.0) (3.1.1)\n",
      "Requirement already satisfied: python-dateutil>=2.7 in c:\\users\\rahul\\appdata\\roaming\\python\\python311\\site-packages (from matplotlib->assignmentpkg==0.1.0) (2.8.2)\n",
      "Requirement already satisfied: charset-normalizer<4,>=2 in c:\\users\\rahul\\appdata\\local\\programs\\python\\python311\\lib\\site-packages (from requests->assignmentpkg==0.1.0) (3.3.2)\n",
      "Requirement already satisfied: idna<4,>=2.5 in c:\\users\\rahul\\appdata\\local\\programs\\python\\python311\\lib\\site-packages (from requests->assignmentpkg==0.1.0) (3.6)\n",
      "Requirement already satisfied: urllib3<3,>=1.21.1 in c:\\users\\rahul\\appdata\\local\\programs\\python\\python311\\lib\\site-packages (from requests->assignmentpkg==0.1.0) (2.1.0)\n",
      "Requirement already satisfied: certifi>=2017.4.17 in c:\\users\\rahul\\appdata\\local\\programs\\python\\python311\\lib\\site-packages (from requests->assignmentpkg==0.1.0) (2023.11.17)\n",
      "Requirement already satisfied: six>=1.5 in c:\\users\\rahul\\appdata\\roaming\\python\\python311\\site-packages (from python-dateutil>=2.7->matplotlib->assignmentpkg==0.1.0) (1.16.0)\n",
      "Building wheels for collected packages: assignmentpkg\n",
      "  Building wheel for assignmentpkg (pyproject.toml): started\n",
      "  Building wheel for assignmentpkg (pyproject.toml): finished with status 'done'\n",
      "  Created wheel for assignmentpkg: filename=assignmentpkg-0.1.0-py3-none-any.whl size=1124 sha256=2866ade29af3a6c0c5b66f9105ae2a19d5927dc33750c784ed3c2c58e476b935\n",
      "  Stored in directory: C:\\Users\\rahul\\AppData\\Local\\Temp\\pip-ephem-wheel-cache-i78birq7\\wheels\\96\\e5\\bd\\44663bf4961bbf8659e5672f3f41077090479baa020442f8e3\n",
      "Successfully built assignmentpkg\n",
      "Installing collected packages: assignmentpkg\n",
      "  Attempting uninstall: assignmentpkg\n",
      "    Found existing installation: assignmentpkg 0.1.0\n",
      "    Uninstalling assignmentpkg-0.1.0:\n",
      "      Successfully uninstalled assignmentpkg-0.1.0\n",
      "Successfully installed assignmentpkg-0.1.0\n"
     ]
    }
   ],
   "source": [
    "pip install .\n"
   ]
  },
  {
   "cell_type": "code",
   "execution_count": 2,
   "metadata": {},
   "outputs": [
    {
     "ename": "ModuleNotFoundError",
     "evalue": "No module named 'assignmentpkg'",
     "output_type": "error",
     "traceback": [
      "\u001b[1;31m---------------------------------------------------------------------------\u001b[0m",
      "\u001b[1;31mModuleNotFoundError\u001b[0m                       Traceback (most recent call last)",
      "Cell \u001b[1;32mIn[2], line 1\u001b[0m\n\u001b[1;32m----> 1\u001b[0m \u001b[39mfrom\u001b[39;00m \u001b[39massignmentpkg\u001b[39;00m \u001b[39mimport\u001b[39;00m analysis\n",
      "\u001b[1;31mModuleNotFoundError\u001b[0m: No module named 'assignmentpkg'"
     ]
    }
   ],
   "source": [
    "from assignmentpkg import analysis\n"
   ]
  },
  {
   "cell_type": "code",
   "execution_count": 3,
   "metadata": {},
   "outputs": [
    {
     "name": "stderr",
     "output_type": "stream",
     "text": [
      "'pip' is not recognized as an internal or external command,\n",
      "operable program or batch file.\n"
     ]
    }
   ],
   "source": [
    "!pip install assignmentpkg"
   ]
  },
  {
   "cell_type": "code",
   "execution_count": 4,
   "metadata": {},
   "outputs": [
    {
     "name": "stdout",
     "output_type": "stream",
     "text": [
      "Collecting package-nameNote: you may need to restart the kernel to use updated packages.\n",
      "\n",
      "  Downloading package_name-0.1.tar.gz (782 bytes)\n",
      "  Installing build dependencies: started\n",
      "  Installing build dependencies: finished with status 'done'\n",
      "  Getting requirements to build wheel: started\n",
      "  Getting requirements to build wheel: finished with status 'done'\n",
      "  Preparing metadata (pyproject.toml): started\n",
      "  Preparing metadata (pyproject.toml): finished with status 'done'\n",
      "Building wheels for collected packages: package-name\n",
      "  Building wheel for package-name (pyproject.toml): started\n",
      "  Building wheel for package-name (pyproject.toml): finished with status 'done'\n",
      "  Created wheel for package-name: filename=package_name-0.1-py3-none-any.whl size=1232 sha256=46ae6adcd7d66b2312e08193362e261ba1b5c9f3872076d53a2ea40341d8fa0e\n",
      "  Stored in directory: c:\\users\\rahul\\appdata\\local\\pip\\cache\\wheels\\b3\\c1\\6f\\538e951eb00f535f43151173b4c55e463a35c17b9e90ab3b1a\n",
      "Successfully built package-name\n",
      "Installing collected packages: package-name\n",
      "Successfully installed package-name-0.1\n"
     ]
    }
   ],
   "source": [
    "pip install package-name"
   ]
  },
  {
   "cell_type": "code",
   "execution_count": 5,
   "metadata": {},
   "outputs": [
    {
     "name": "stdout",
     "output_type": "stream",
     "text": [
      "Requirement already satisfied: assignmentpkg in c:\\users\\rahul\\appdata\\local\\programs\\python\\python311\\lib\\site-packages (0.1.0)\n",
      "Requirement already satisfied: requests in c:\\users\\rahul\\appdata\\local\\programs\\python\\python311\\lib\\site-packages (from assignmentpkg) (2.31.0)\n",
      "Requirement already satisfied: PyYAML in c:\\users\\rahul\\appdata\\local\\programs\\python\\python311\\lib\\site-packages (from assignmentpkg) (6.0.1)\n",
      "Requirement already satisfied: numpy in c:\\users\\rahul\\appdata\\local\\programs\\python\\python311\\lib\\site-packages (from assignmentpkg) (1.26.3)\n",
      "Requirement already satisfied: scipy in c:\\users\\rahul\\appdata\\local\\programs\\python\\python311\\lib\\site-packages (from assignmentpkg) (1.11.4)\n",
      "Requirement already satisfied: matplotlib in c:\\users\\rahul\\appdata\\local\\programs\\python\\python311\\lib\\site-packages (from assignmentpkg) (3.8.2)\n",
      "Requirement already satisfied: contourpy>=1.0.1 in c:\\users\\rahul\\appdata\\local\\programs\\python\\python311\\lib\\site-packages (from matplotlib->assignmentpkg) (1.2.0)\n",
      "Requirement already satisfied: cycler>=0.10 in c:\\users\\rahul\\appdata\\local\\programs\\python\\python311\\lib\\site-packages (from matplotlib->assignmentpkg) (0.12.1)\n",
      "Requirement already satisfied: fonttools>=4.22.0 in c:\\users\\rahul\\appdata\\local\\programs\\python\\python311\\lib\\site-packages (from matplotlib->assignmentpkg) (4.47.2)\n",
      "Requirement already satisfied: kiwisolver>=1.3.1 in c:\\users\\rahul\\appdata\\local\\programs\\python\\python311\\lib\\site-packages (from matplotlib->assignmentpkg) (1.4.5)\n",
      "Requirement already satisfied: packaging>=20.0 in c:\\users\\rahul\\appdata\\roaming\\python\\python311\\site-packages (from matplotlib->assignmentpkg) (23.2)\n",
      "Requirement already satisfied: pillow>=8 in c:\\users\\rahul\\appdata\\local\\programs\\python\\python311\\lib\\site-packages (from matplotlib->assignmentpkg) (10.2.0)\n",
      "Requirement already satisfied: pyparsing>=2.3.1 in c:\\users\\rahul\\appdata\\local\\programs\\python\\python311\\lib\\site-packages (from matplotlib->assignmentpkg) (3.1.1)\n",
      "Requirement already satisfied: python-dateutil>=2.7 in c:\\users\\rahul\\appdata\\roaming\\python\\python311\\site-packages (from matplotlib->assignmentpkg) (2.8.2)\n",
      "Requirement already satisfied: charset-normalizer<4,>=2 in c:\\users\\rahul\\appdata\\local\\programs\\python\\python311\\lib\\site-packages (from requests->assignmentpkg) (3.3.2)\n",
      "Requirement already satisfied: idna<4,>=2.5 in c:\\users\\rahul\\appdata\\local\\programs\\python\\python311\\lib\\site-packages (from requests->assignmentpkg) (3.6)\n",
      "Requirement already satisfied: urllib3<3,>=1.21.1 in c:\\users\\rahul\\appdata\\local\\programs\\python\\python311\\lib\\site-packages (from requests->assignmentpkg) (2.1.0)\n",
      "Requirement already satisfied: certifi>=2017.4.17 in c:\\users\\rahul\\appdata\\local\\programs\\python\\python311\\lib\\site-packages (from requests->assignmentpkg) (2023.11.17)\n",
      "Requirement already satisfied: six>=1.5 in c:\\users\\rahul\\appdata\\roaming\\python\\python311\\site-packages (from python-dateutil>=2.7->matplotlib->assignmentpkg) (1.16.0)\n",
      "Note: you may need to restart the kernel to use updated packages.\n"
     ]
    }
   ],
   "source": [
    "pip install assignmentpkg\n"
   ]
  },
  {
   "cell_type": "markdown",
   "metadata": {
    "isInteractiveWindowMessageCell": true
   },
   "source": [
    "Restarted Python 3.11.4"
   ]
  },
  {
   "cell_type": "code",
   "execution_count": 1,
   "metadata": {},
   "outputs": [
    {
     "ename": "ModuleNotFoundError",
     "evalue": "No module named 'assignmentpkg'",
     "output_type": "error",
     "traceback": [
      "\u001b[1;31m---------------------------------------------------------------------------\u001b[0m",
      "\u001b[1;31mModuleNotFoundError\u001b[0m                       Traceback (most recent call last)",
      "Cell \u001b[1;32mIn[1], line 1\u001b[0m\n\u001b[1;32m----> 1\u001b[0m \u001b[39mfrom\u001b[39;00m \u001b[39massignmentpkg\u001b[39;00m \u001b[39mimport\u001b[39;00m analysis\n",
      "\u001b[1;31mModuleNotFoundError\u001b[0m: No module named 'assignmentpkg'"
     ]
    }
   ],
   "source": [
    "from assignmentpkg import analysis"
   ]
  },
  {
   "cell_type": "code",
   "execution_count": 2,
   "metadata": {},
   "outputs": [
    {
     "name": "stdout",
     "output_type": "stream",
     "text": [
      "Package            Version\n",
      "------------------ ----------\n",
      "assignmentpkg      0.1.0\n",
      "asttokens          2.4.1\n",
      "certifi            2023.11.17\n",
      "charset-normalizer 3.3.2\n",
      "colorama           0.4.6\n",
      "comm               0.2.1\n",
      "contourpy          1.2.0\n",
      "cycler             0.12.1\n",
      "debugpy            1.8.0\n",
      "decorator          5.1.1\n",
      "executing          2.0.1\n",
      "fonttools          4.47.2\n",
      "idna               3.6\n",
      "ipykernel          6.28.0\n",
      "ipython            8.20.0\n",
      "jedi               0.19.1\n",
      "jupyter_client     8.6.0\n",
      "jupyter_core       5.7.1\n",
      "kiwisolver         1.4.5\n",
      "matplotlib         3.8.2\n",
      "matplotlib-inline  0.1.6\n",
      "nest-asyncio       1.5.8\n",
      "numpy              1.26.3\n",
      "package_name       0.1\n",
      "packaging          23.2\n",
      "parso              0.8.3\n",
      "pillow             10.2.0\n",
      "pip                23.3.2\n",
      "platformdirs       4.1.0\n",
      "prompt-toolkit     3.0.43\n",
      "psutil             5.9.7\n",
      "pure-eval          0.2.2\n",
      "Pygments           2.17.2\n",
      "pyparsing          3.1.1\n",
      "python-dateutil    2.8.2\n",
      "pywin32            306\n",
      "PyYAML             6.0.1\n",
      "pyzmq              25.1.2\n",
      "requests           2.31.0\n",
      "scipy              1.11.4\n",
      "setuptools         65.5.0\n",
      "six                1.16.0\n",
      "stack-data         0.6.3\n",
      "tornado            6.4\n",
      "traitlets          5.14.1\n",
      "urllib3            2.1.0\n",
      "wcwidth            0.2.13\n",
      "Note: you may need to restart the kernel to use updated packages.\n"
     ]
    }
   ],
   "source": [
    "pip list\n"
   ]
  },
  {
   "cell_type": "markdown",
   "metadata": {
    "isInteractiveWindowMessageCell": true
   },
   "source": [
    "Restarted Python 3.11.4"
   ]
  },
  {
   "cell_type": "code",
   "execution_count": 1,
   "metadata": {},
   "outputs": [
    {
     "ename": "ModuleNotFoundError",
     "evalue": "No module named 'assignmentpkg'",
     "output_type": "error",
     "traceback": [
      "\u001b[1;31m---------------------------------------------------------------------------\u001b[0m",
      "\u001b[1;31mModuleNotFoundError\u001b[0m                       Traceback (most recent call last)",
      "Cell \u001b[1;32mIn[1], line 1\u001b[0m\n\u001b[1;32m----> 1\u001b[0m \u001b[39mfrom\u001b[39;00m \u001b[39massignmentpkg\u001b[39;00m \u001b[39mimport\u001b[39;00m analysis\n",
      "\u001b[1;31mModuleNotFoundError\u001b[0m: No module named 'assignmentpkg'"
     ]
    }
   ],
   "source": [
    "\n",
    "from assignmentpkg import analysis\n"
   ]
  },
  {
   "cell_type": "code",
   "execution_count": 2,
   "metadata": {},
   "outputs": [
    {
     "ename": "ModuleNotFoundError",
     "evalue": "No module named 'assignmentpkg'",
     "output_type": "error",
     "traceback": [
      "\u001b[1;31m---------------------------------------------------------------------------\u001b[0m",
      "\u001b[1;31mModuleNotFoundError\u001b[0m                       Traceback (most recent call last)",
      "Cell \u001b[1;32mIn[2], line 1\u001b[0m\n\u001b[1;32m----> 1\u001b[0m \u001b[39mfrom\u001b[39;00m \u001b[39massignmentpkg\u001b[39;00m \u001b[39mimport\u001b[39;00m analysis\n\u001b[0;32m      3\u001b[0m analyzer \u001b[39m=\u001b[39m analysis\u001b[39m.\u001b[39mAnalysis(\u001b[39m'\u001b[39m\u001b[39mc:\u001b[39m\u001b[39m\\\\\u001b[39;00m\u001b[39mUsers\u001b[39m\u001b[39m\\\\\u001b[39;00m\u001b[39mrahul\u001b[39m\u001b[39m\\\\\u001b[39;00m\u001b[39mDesktop\u001b[39m\u001b[39m\\\\\u001b[39;00m\u001b[39mAssignmentpkg\u001b[39m\u001b[39m\\\\\u001b[39;00m\u001b[39mdsi-build-software-project\u001b[39m\u001b[39m\\\\\u001b[39;00m\u001b[39mconfig\u001b[39m\u001b[39m\\\\\u001b[39;00m\u001b[39muser_config.yml\u001b[39m\u001b[39m'\u001b[39m)\n",
      "\u001b[1;31mModuleNotFoundError\u001b[0m: No module named 'assignmentpkg'"
     ]
    }
   ],
   "source": [
    "from assignmentpkg import analysis\n",
    "\n",
    "analyzer = analysis.Analysis('c:\\\\Users\\\\rahul\\\\Desktop\\\\Assignmentpkg\\\\dsi-build-software-project\\\\config\\\\user_config.yml')\n"
   ]
  },
  {
   "cell_type": "code",
   "execution_count": 3,
   "metadata": {},
   "outputs": [
    {
     "ename": "ModuleNotFoundError",
     "evalue": "No module named 'assignmentpkg'",
     "output_type": "error",
     "traceback": [
      "\u001b[1;31m---------------------------------------------------------------------------\u001b[0m",
      "\u001b[1;31mModuleNotFoundError\u001b[0m                       Traceback (most recent call last)",
      "Cell \u001b[1;32mIn[3], line 1\u001b[0m\n\u001b[1;32m----> 1\u001b[0m \u001b[39mfrom\u001b[39;00m \u001b[39massignmentpkg\u001b[39;00m \u001b[39mimport\u001b[39;00m analysis\n",
      "\u001b[1;31mModuleNotFoundError\u001b[0m: No module named 'assignmentpkg'"
     ]
    }
   ],
   "source": [
    "from assignmentpkg import analysis\n"
   ]
  },
  {
   "cell_type": "code",
   "execution_count": 4,
   "metadata": {},
   "outputs": [
    {
     "name": "stdout",
     "output_type": "stream",
     "text": [
      "Requirement already satisfied: assignmentpkg in c:\\users\\rahul\\appdata\\local\\programs\\python\\python311\\lib\\site-packages (0.1.0)Note: you may need to restart the kernel to use updated packages.\n",
      "\n",
      "Requirement already satisfied: requests in c:\\users\\rahul\\appdata\\local\\programs\\python\\python311\\lib\\site-packages (from assignmentpkg) (2.31.0)\n",
      "Requirement already satisfied: PyYAML in c:\\users\\rahul\\appdata\\local\\programs\\python\\python311\\lib\\site-packages (from assignmentpkg) (6.0.1)\n",
      "Requirement already satisfied: numpy in c:\\users\\rahul\\appdata\\local\\programs\\python\\python311\\lib\\site-packages (from assignmentpkg) (1.26.3)\n",
      "Requirement already satisfied: scipy in c:\\users\\rahul\\appdata\\local\\programs\\python\\python311\\lib\\site-packages (from assignmentpkg) (1.11.4)\n",
      "Requirement already satisfied: matplotlib in c:\\users\\rahul\\appdata\\local\\programs\\python\\python311\\lib\\site-packages (from assignmentpkg) (3.8.2)\n",
      "Requirement already satisfied: contourpy>=1.0.1 in c:\\users\\rahul\\appdata\\local\\programs\\python\\python311\\lib\\site-packages (from matplotlib->assignmentpkg) (1.2.0)\n",
      "Requirement already satisfied: cycler>=0.10 in c:\\users\\rahul\\appdata\\local\\programs\\python\\python311\\lib\\site-packages (from matplotlib->assignmentpkg) (0.12.1)\n",
      "Requirement already satisfied: fonttools>=4.22.0 in c:\\users\\rahul\\appdata\\local\\programs\\python\\python311\\lib\\site-packages (from matplotlib->assignmentpkg) (4.47.2)\n",
      "Requirement already satisfied: kiwisolver>=1.3.1 in c:\\users\\rahul\\appdata\\local\\programs\\python\\python311\\lib\\site-packages (from matplotlib->assignmentpkg) (1.4.5)\n",
      "Requirement already satisfied: packaging>=20.0 in c:\\users\\rahul\\appdata\\roaming\\python\\python311\\site-packages (from matplotlib->assignmentpkg) (23.2)\n",
      "Requirement already satisfied: pillow>=8 in c:\\users\\rahul\\appdata\\local\\programs\\python\\python311\\lib\\site-packages (from matplotlib->assignmentpkg) (10.2.0)\n",
      "Requirement already satisfied: pyparsing>=2.3.1 in c:\\users\\rahul\\appdata\\local\\programs\\python\\python311\\lib\\site-packages (from matplotlib->assignmentpkg) (3.1.1)\n",
      "Requirement already satisfied: python-dateutil>=2.7 in c:\\users\\rahul\\appdata\\roaming\\python\\python311\\site-packages (from matplotlib->assignmentpkg) (2.8.2)\n",
      "Requirement already satisfied: charset-normalizer<4,>=2 in c:\\users\\rahul\\appdata\\local\\programs\\python\\python311\\lib\\site-packages (from requests->assignmentpkg) (3.3.2)\n",
      "Requirement already satisfied: idna<4,>=2.5 in c:\\users\\rahul\\appdata\\local\\programs\\python\\python311\\lib\\site-packages (from requests->assignmentpkg) (3.6)\n",
      "Requirement already satisfied: urllib3<3,>=1.21.1 in c:\\users\\rahul\\appdata\\local\\programs\\python\\python311\\lib\\site-packages (from requests->assignmentpkg) (2.1.0)\n",
      "Requirement already satisfied: certifi>=2017.4.17 in c:\\users\\rahul\\appdata\\local\\programs\\python\\python311\\lib\\site-packages (from requests->assignmentpkg) (2023.11.17)\n",
      "Requirement already satisfied: six>=1.5 in c:\\users\\rahul\\appdata\\roaming\\python\\python311\\site-packages (from python-dateutil>=2.7->matplotlib->assignmentpkg) (1.16.0)\n"
     ]
    }
   ],
   "source": [
    "pip install assignmentpkg\n"
   ]
  },
  {
   "cell_type": "code",
   "execution_count": 5,
   "metadata": {},
   "outputs": [
    {
     "name": "stdout",
     "output_type": "stream",
     "text": [
      "c:\\Users\\rahul\\Desktop\\Assignmentpkg\\dsi-build-software-project\\assignmentpkg\n"
     ]
    }
   ],
   "source": [
    "import os\n",
    "print(os.getcwd())\n"
   ]
  },
  {
   "cell_type": "code",
   "execution_count": 6,
   "metadata": {},
   "outputs": [],
   "source": [
    "import sys\n",
    "sys.path.append(r'c:\\Users\\rahul\\Desktop\\Assignmentpkg\\dsi-build-software-project')\n",
    "from assignmentpkg import analysis\n"
   ]
  },
  {
   "cell_type": "code",
   "execution_count": 7,
   "metadata": {},
   "outputs": [
    {
     "name": "stderr",
     "output_type": "stream",
     "text": [
      "usage: ipykernel_launcher.py [-h] [-v] [-q] [--locals] [-f] [-c] [-b]\n",
      "                             [-k TESTNAMEPATTERNS]\n",
      "                             [tests ...]\n",
      "ipykernel_launcher.py: error: argument -f/--failfast: ignored explicit argument 'c:\\\\Users\\\\rahul\\\\AppData\\\\Roaming\\\\jupyter\\\\runtime\\\\kernel-v2-301521Roifa4rLGE7.json'\n"
     ]
    },
    {
     "ename": "AttributeError",
     "evalue": "'tuple' object has no attribute 'tb_frame'",
     "output_type": "error",
     "traceback": [
      "\u001b[1;31m---------------------------------------------------------------------------\u001b[0m",
      "\u001b[1;31mArgumentError\u001b[0m                             Traceback (most recent call last)",
      "File \u001b[1;32mc:\\Users\\rahul\\AppData\\Local\\Programs\\Python\\Python311\\Lib\\argparse.py:1902\u001b[0m, in \u001b[0;36mArgumentParser.parse_known_args\u001b[1;34m(self, args, namespace)\u001b[0m\n\u001b[0;32m   <a href='file:///c%3A/Users/rahul/AppData/Local/Programs/Python/Python311/Lib/argparse.py?line=1900'>1901</a>\u001b[0m \u001b[39mtry\u001b[39;00m:\n\u001b[1;32m-> <a href='file:///c%3A/Users/rahul/AppData/Local/Programs/Python/Python311/Lib/argparse.py?line=1901'>1902</a>\u001b[0m     namespace, args \u001b[39m=\u001b[39m \u001b[39mself\u001b[39;49m\u001b[39m.\u001b[39;49m_parse_known_args(args, namespace)\n\u001b[0;32m   <a href='file:///c%3A/Users/rahul/AppData/Local/Programs/Python/Python311/Lib/argparse.py?line=1902'>1903</a>\u001b[0m \u001b[39mexcept\u001b[39;00m ArgumentError \u001b[39mas\u001b[39;00m err:\n",
      "File \u001b[1;32mc:\\Users\\rahul\\AppData\\Local\\Programs\\Python\\Python311\\Lib\\argparse.py:2114\u001b[0m, in \u001b[0;36mArgumentParser._parse_known_args\u001b[1;34m(self, arg_strings, namespace)\u001b[0m\n\u001b[0;32m   <a href='file:///c%3A/Users/rahul/AppData/Local/Programs/Python/Python311/Lib/argparse.py?line=2112'>2113</a>\u001b[0m     \u001b[39m# consume the next optional and any arguments for it\u001b[39;00m\n\u001b[1;32m-> <a href='file:///c%3A/Users/rahul/AppData/Local/Programs/Python/Python311/Lib/argparse.py?line=2113'>2114</a>\u001b[0m     start_index \u001b[39m=\u001b[39m consume_optional(start_index)\n\u001b[0;32m   <a href='file:///c%3A/Users/rahul/AppData/Local/Programs/Python/Python311/Lib/argparse.py?line=2115'>2116</a>\u001b[0m \u001b[39m# consume any positionals following the last Optional\u001b[39;00m\n",
      "File \u001b[1;32mc:\\Users\\rahul\\AppData\\Local\\Programs\\Python\\Python311\\Lib\\argparse.py:2036\u001b[0m, in \u001b[0;36mArgumentParser._parse_known_args.<locals>.consume_optional\u001b[1;34m(start_index)\u001b[0m\n\u001b[0;32m   <a href='file:///c%3A/Users/rahul/AppData/Local/Programs/Python/Python311/Lib/argparse.py?line=2034'>2035</a>\u001b[0m         msg \u001b[39m=\u001b[39m _(\u001b[39m'\u001b[39m\u001b[39mignored explicit argument \u001b[39m\u001b[39m%r\u001b[39;00m\u001b[39m'\u001b[39m)\n\u001b[1;32m-> <a href='file:///c%3A/Users/rahul/AppData/Local/Programs/Python/Python311/Lib/argparse.py?line=2035'>2036</a>\u001b[0m         \u001b[39mraise\u001b[39;00m ArgumentError(action, msg \u001b[39m%\u001b[39m explicit_arg)\n\u001b[0;32m   <a href='file:///c%3A/Users/rahul/AppData/Local/Programs/Python/Python311/Lib/argparse.py?line=2037'>2038</a>\u001b[0m \u001b[39m# if there is no explicit argument, try to match the\u001b[39;00m\n\u001b[0;32m   <a href='file:///c%3A/Users/rahul/AppData/Local/Programs/Python/Python311/Lib/argparse.py?line=2038'>2039</a>\u001b[0m \u001b[39m# optional's string arguments with the following strings\u001b[39;00m\n\u001b[0;32m   <a href='file:///c%3A/Users/rahul/AppData/Local/Programs/Python/Python311/Lib/argparse.py?line=2039'>2040</a>\u001b[0m \u001b[39m# if successful, exit the loop\u001b[39;00m\n\u001b[0;32m   <a href='file:///c%3A/Users/rahul/AppData/Local/Programs/Python/Python311/Lib/argparse.py?line=2040'>2041</a>\u001b[0m \u001b[39melse\u001b[39;00m:\n",
      "\u001b[1;31mArgumentError\u001b[0m: argument -f/--failfast: ignored explicit argument 'c:\\\\Users\\\\rahul\\\\AppData\\\\Roaming\\\\jupyter\\\\runtime\\\\kernel-v2-301521Roifa4rLGE7.json'",
      "\nDuring handling of the above exception, another exception occurred:\n",
      "\u001b[1;31mSystemExit\u001b[0m                                Traceback (most recent call last)",
      "    \u001b[1;31m[... skipping hidden 1 frame]\u001b[0m\n",
      "Cell \u001b[1;32mIn[7], line 43\u001b[0m\n\u001b[0;32m     42\u001b[0m \u001b[39mif\u001b[39;00m \u001b[39m__name__\u001b[39m \u001b[39m==\u001b[39m \u001b[39m'\u001b[39m\u001b[39m__main__\u001b[39m\u001b[39m'\u001b[39m:\n\u001b[1;32m---> 43\u001b[0m     unittest\u001b[39m.\u001b[39;49mmain()\n",
      "File \u001b[1;32mc:\\Users\\rahul\\AppData\\Local\\Programs\\Python\\Python311\\Lib\\unittest\\main.py:101\u001b[0m, in \u001b[0;36mTestProgram.__init__\u001b[1;34m(self, module, defaultTest, argv, testRunner, testLoader, exit, verbosity, failfast, catchbreak, buffer, warnings, tb_locals)\u001b[0m\n\u001b[0;32m    <a href='file:///c%3A/Users/rahul/AppData/Local/Programs/Python/Python311/Lib/unittest/main.py?line=99'>100</a>\u001b[0m \u001b[39mself\u001b[39m\u001b[39m.\u001b[39mprogName \u001b[39m=\u001b[39m os\u001b[39m.\u001b[39mpath\u001b[39m.\u001b[39mbasename(argv[\u001b[39m0\u001b[39m])\n\u001b[1;32m--> <a href='file:///c%3A/Users/rahul/AppData/Local/Programs/Python/Python311/Lib/unittest/main.py?line=100'>101</a>\u001b[0m \u001b[39mself\u001b[39;49m\u001b[39m.\u001b[39;49mparseArgs(argv)\n\u001b[0;32m    <a href='file:///c%3A/Users/rahul/AppData/Local/Programs/Python/Python311/Lib/unittest/main.py?line=101'>102</a>\u001b[0m \u001b[39mself\u001b[39m\u001b[39m.\u001b[39mrunTests()\n",
      "File \u001b[1;32mc:\\Users\\rahul\\AppData\\Local\\Programs\\Python\\Python311\\Lib\\unittest\\main.py:136\u001b[0m, in \u001b[0;36mTestProgram.parseArgs\u001b[1;34m(self, argv)\u001b[0m\n\u001b[0;32m    <a href='file:///c%3A/Users/rahul/AppData/Local/Programs/Python/Python311/Lib/unittest/main.py?line=134'>135</a>\u001b[0m \u001b[39melse\u001b[39;00m:\n\u001b[1;32m--> <a href='file:///c%3A/Users/rahul/AppData/Local/Programs/Python/Python311/Lib/unittest/main.py?line=135'>136</a>\u001b[0m     \u001b[39mself\u001b[39;49m\u001b[39m.\u001b[39;49m_main_parser\u001b[39m.\u001b[39;49mparse_args(argv[\u001b[39m1\u001b[39;49m:], \u001b[39mself\u001b[39;49m)\n\u001b[0;32m    <a href='file:///c%3A/Users/rahul/AppData/Local/Programs/Python/Python311/Lib/unittest/main.py?line=137'>138</a>\u001b[0m \u001b[39mif\u001b[39;00m \u001b[39mself\u001b[39m\u001b[39m.\u001b[39mtests:\n",
      "File \u001b[1;32mc:\\Users\\rahul\\AppData\\Local\\Programs\\Python\\Python311\\Lib\\argparse.py:1869\u001b[0m, in \u001b[0;36mArgumentParser.parse_args\u001b[1;34m(self, args, namespace)\u001b[0m\n\u001b[0;32m   <a href='file:///c%3A/Users/rahul/AppData/Local/Programs/Python/Python311/Lib/argparse.py?line=1867'>1868</a>\u001b[0m \u001b[39mdef\u001b[39;00m \u001b[39mparse_args\u001b[39m(\u001b[39mself\u001b[39m, args\u001b[39m=\u001b[39m\u001b[39mNone\u001b[39;00m, namespace\u001b[39m=\u001b[39m\u001b[39mNone\u001b[39;00m):\n\u001b[1;32m-> <a href='file:///c%3A/Users/rahul/AppData/Local/Programs/Python/Python311/Lib/argparse.py?line=1868'>1869</a>\u001b[0m     args, argv \u001b[39m=\u001b[39m \u001b[39mself\u001b[39;49m\u001b[39m.\u001b[39;49mparse_known_args(args, namespace)\n\u001b[0;32m   <a href='file:///c%3A/Users/rahul/AppData/Local/Programs/Python/Python311/Lib/argparse.py?line=1869'>1870</a>\u001b[0m     \u001b[39mif\u001b[39;00m argv:\n",
      "File \u001b[1;32mc:\\Users\\rahul\\AppData\\Local\\Programs\\Python\\Python311\\Lib\\argparse.py:1904\u001b[0m, in \u001b[0;36mArgumentParser.parse_known_args\u001b[1;34m(self, args, namespace)\u001b[0m\n\u001b[0;32m   <a href='file:///c%3A/Users/rahul/AppData/Local/Programs/Python/Python311/Lib/argparse.py?line=1902'>1903</a>\u001b[0m     \u001b[39mexcept\u001b[39;00m ArgumentError \u001b[39mas\u001b[39;00m err:\n\u001b[1;32m-> <a href='file:///c%3A/Users/rahul/AppData/Local/Programs/Python/Python311/Lib/argparse.py?line=1903'>1904</a>\u001b[0m         \u001b[39mself\u001b[39;49m\u001b[39m.\u001b[39;49merror(\u001b[39mstr\u001b[39;49m(err))\n\u001b[0;32m   <a href='file:///c%3A/Users/rahul/AppData/Local/Programs/Python/Python311/Lib/argparse.py?line=1904'>1905</a>\u001b[0m \u001b[39melse\u001b[39;00m:\n",
      "File \u001b[1;32mc:\\Users\\rahul\\AppData\\Local\\Programs\\Python\\Python311\\Lib\\argparse.py:2630\u001b[0m, in \u001b[0;36mArgumentParser.error\u001b[1;34m(self, message)\u001b[0m\n\u001b[0;32m   <a href='file:///c%3A/Users/rahul/AppData/Local/Programs/Python/Python311/Lib/argparse.py?line=2628'>2629</a>\u001b[0m args \u001b[39m=\u001b[39m {\u001b[39m'\u001b[39m\u001b[39mprog\u001b[39m\u001b[39m'\u001b[39m: \u001b[39mself\u001b[39m\u001b[39m.\u001b[39mprog, \u001b[39m'\u001b[39m\u001b[39mmessage\u001b[39m\u001b[39m'\u001b[39m: message}\n\u001b[1;32m-> <a href='file:///c%3A/Users/rahul/AppData/Local/Programs/Python/Python311/Lib/argparse.py?line=2629'>2630</a>\u001b[0m \u001b[39mself\u001b[39;49m\u001b[39m.\u001b[39;49mexit(\u001b[39m2\u001b[39;49m, _(\u001b[39m'\u001b[39;49m\u001b[39m%(prog)s\u001b[39;49;00m\u001b[39m: error: \u001b[39;49m\u001b[39m%(message)s\u001b[39;49;00m\u001b[39m\\n\u001b[39;49;00m\u001b[39m'\u001b[39;49m) \u001b[39m%\u001b[39;49m args)\n",
      "File \u001b[1;32mc:\\Users\\rahul\\AppData\\Local\\Programs\\Python\\Python311\\Lib\\argparse.py:2617\u001b[0m, in \u001b[0;36mArgumentParser.exit\u001b[1;34m(self, status, message)\u001b[0m\n\u001b[0;32m   <a href='file:///c%3A/Users/rahul/AppData/Local/Programs/Python/Python311/Lib/argparse.py?line=2615'>2616</a>\u001b[0m     \u001b[39mself\u001b[39m\u001b[39m.\u001b[39m_print_message(message, _sys\u001b[39m.\u001b[39mstderr)\n\u001b[1;32m-> <a href='file:///c%3A/Users/rahul/AppData/Local/Programs/Python/Python311/Lib/argparse.py?line=2616'>2617</a>\u001b[0m _sys\u001b[39m.\u001b[39;49mexit(status)\n",
      "\u001b[1;31mSystemExit\u001b[0m: 2",
      "\nDuring handling of the above exception, another exception occurred:\n",
      "\u001b[1;31mAttributeError\u001b[0m                            Traceback (most recent call last)",
      "    \u001b[1;31m[... skipping hidden 1 frame]\u001b[0m\n",
      "File \u001b[1;32m~\\AppData\\Roaming\\Python\\Python311\\site-packages\\IPython\\core\\interactiveshell.py:2121\u001b[0m, in \u001b[0;36mInteractiveShell.showtraceback\u001b[1;34m(self, exc_tuple, filename, tb_offset, exception_only, running_compiled_code)\u001b[0m\n\u001b[0;32m   <a href='file:///c%3A/Users/rahul/AppData/Roaming/Python/Python311/site-packages/IPython/core/interactiveshell.py?line=2117'>2118</a>\u001b[0m \u001b[39mif\u001b[39;00m exception_only:\n\u001b[0;32m   <a href='file:///c%3A/Users/rahul/AppData/Roaming/Python/Python311/site-packages/IPython/core/interactiveshell.py?line=2118'>2119</a>\u001b[0m     stb \u001b[39m=\u001b[39m [\u001b[39m'\u001b[39m\u001b[39mAn exception has occurred, use \u001b[39m\u001b[39m%\u001b[39m\u001b[39mtb to see \u001b[39m\u001b[39m'\u001b[39m\n\u001b[0;32m   <a href='file:///c%3A/Users/rahul/AppData/Roaming/Python/Python311/site-packages/IPython/core/interactiveshell.py?line=2119'>2120</a>\u001b[0m            \u001b[39m'\u001b[39m\u001b[39mthe full traceback.\u001b[39m\u001b[39m\\n\u001b[39;00m\u001b[39m'\u001b[39m]\n\u001b[1;32m-> <a href='file:///c%3A/Users/rahul/AppData/Roaming/Python/Python311/site-packages/IPython/core/interactiveshell.py?line=2120'>2121</a>\u001b[0m     stb\u001b[39m.\u001b[39mextend(\u001b[39mself\u001b[39;49m\u001b[39m.\u001b[39;49mInteractiveTB\u001b[39m.\u001b[39;49mget_exception_only(etype,\n\u001b[0;32m   <a href='file:///c%3A/Users/rahul/AppData/Roaming/Python/Python311/site-packages/IPython/core/interactiveshell.py?line=2121'>2122</a>\u001b[0m                                                      value))\n\u001b[0;32m   <a href='file:///c%3A/Users/rahul/AppData/Roaming/Python/Python311/site-packages/IPython/core/interactiveshell.py?line=2122'>2123</a>\u001b[0m \u001b[39melse\u001b[39;00m:\n\u001b[0;32m   <a href='file:///c%3A/Users/rahul/AppData/Roaming/Python/Python311/site-packages/IPython/core/interactiveshell.py?line=2124'>2125</a>\u001b[0m     \u001b[39mdef\u001b[39;00m \u001b[39mcontains_exceptiongroup\u001b[39m(val):\n",
      "File \u001b[1;32m~\\AppData\\Roaming\\Python\\Python311\\site-packages\\IPython\\core\\ultratb.py:710\u001b[0m, in \u001b[0;36mListTB.get_exception_only\u001b[1;34m(self, etype, value)\u001b[0m\n\u001b[0;32m    <a href='file:///c%3A/Users/rahul/AppData/Roaming/Python/Python311/site-packages/IPython/core/ultratb.py?line=701'>702</a>\u001b[0m \u001b[39mdef\u001b[39;00m \u001b[39mget_exception_only\u001b[39m(\u001b[39mself\u001b[39m, etype, value):\n\u001b[0;32m    <a href='file:///c%3A/Users/rahul/AppData/Roaming/Python/Python311/site-packages/IPython/core/ultratb.py?line=702'>703</a>\u001b[0m \u001b[39m    \u001b[39m\u001b[39m\"\"\"Only print the exception type and message, without a traceback.\u001b[39;00m\n\u001b[0;32m    <a href='file:///c%3A/Users/rahul/AppData/Roaming/Python/Python311/site-packages/IPython/core/ultratb.py?line=703'>704</a>\u001b[0m \n\u001b[0;32m    <a href='file:///c%3A/Users/rahul/AppData/Roaming/Python/Python311/site-packages/IPython/core/ultratb.py?line=704'>705</a>\u001b[0m \u001b[39m    Parameters\u001b[39;00m\n\u001b[1;32m   (...)\u001b[0m\n\u001b[0;32m    <a href='file:///c%3A/Users/rahul/AppData/Roaming/Python/Python311/site-packages/IPython/core/ultratb.py?line=707'>708</a>\u001b[0m \u001b[39m    value : exception value\u001b[39;00m\n\u001b[0;32m    <a href='file:///c%3A/Users/rahul/AppData/Roaming/Python/Python311/site-packages/IPython/core/ultratb.py?line=708'>709</a>\u001b[0m \u001b[39m    \"\"\"\u001b[39;00m\n\u001b[1;32m--> <a href='file:///c%3A/Users/rahul/AppData/Roaming/Python/Python311/site-packages/IPython/core/ultratb.py?line=709'>710</a>\u001b[0m     \u001b[39mreturn\u001b[39;00m ListTB\u001b[39m.\u001b[39;49mstructured_traceback(\u001b[39mself\u001b[39;49m, etype, value)\n",
      "File \u001b[1;32m~\\AppData\\Roaming\\Python\\Python311\\site-packages\\IPython\\core\\ultratb.py:568\u001b[0m, in \u001b[0;36mListTB.structured_traceback\u001b[1;34m(self, etype, evalue, etb, tb_offset, context)\u001b[0m\n\u001b[0;32m    <a href='file:///c%3A/Users/rahul/AppData/Roaming/Python/Python311/site-packages/IPython/core/ultratb.py?line=564'>565</a>\u001b[0m     chained_exc_ids\u001b[39m.\u001b[39madd(\u001b[39mid\u001b[39m(exception[\u001b[39m1\u001b[39m]))\n\u001b[0;32m    <a href='file:///c%3A/Users/rahul/AppData/Roaming/Python/Python311/site-packages/IPython/core/ultratb.py?line=565'>566</a>\u001b[0m     chained_exceptions_tb_offset \u001b[39m=\u001b[39m \u001b[39m0\u001b[39m\n\u001b[0;32m    <a href='file:///c%3A/Users/rahul/AppData/Roaming/Python/Python311/site-packages/IPython/core/ultratb.py?line=566'>567</a>\u001b[0m     out_list \u001b[39m=\u001b[39m (\n\u001b[1;32m--> <a href='file:///c%3A/Users/rahul/AppData/Roaming/Python/Python311/site-packages/IPython/core/ultratb.py?line=567'>568</a>\u001b[0m         \u001b[39mself\u001b[39;49m\u001b[39m.\u001b[39;49mstructured_traceback(\n\u001b[0;32m    <a href='file:///c%3A/Users/rahul/AppData/Roaming/Python/Python311/site-packages/IPython/core/ultratb.py?line=568'>569</a>\u001b[0m             etype,\n\u001b[0;32m    <a href='file:///c%3A/Users/rahul/AppData/Roaming/Python/Python311/site-packages/IPython/core/ultratb.py?line=569'>570</a>\u001b[0m             evalue,\n\u001b[0;32m    <a href='file:///c%3A/Users/rahul/AppData/Roaming/Python/Python311/site-packages/IPython/core/ultratb.py?line=570'>571</a>\u001b[0m             (etb, chained_exc_ids),  \u001b[39m# type: ignore\u001b[39;49;00m\n\u001b[0;32m    <a href='file:///c%3A/Users/rahul/AppData/Roaming/Python/Python311/site-packages/IPython/core/ultratb.py?line=571'>572</a>\u001b[0m             chained_exceptions_tb_offset,\n\u001b[0;32m    <a href='file:///c%3A/Users/rahul/AppData/Roaming/Python/Python311/site-packages/IPython/core/ultratb.py?line=572'>573</a>\u001b[0m             context,\n\u001b[0;32m    <a href='file:///c%3A/Users/rahul/AppData/Roaming/Python/Python311/site-packages/IPython/core/ultratb.py?line=573'>574</a>\u001b[0m         )\n\u001b[0;32m    <a href='file:///c%3A/Users/rahul/AppData/Roaming/Python/Python311/site-packages/IPython/core/ultratb.py?line=574'>575</a>\u001b[0m         \u001b[39m+\u001b[39m chained_exception_message\n\u001b[0;32m    <a href='file:///c%3A/Users/rahul/AppData/Roaming/Python/Python311/site-packages/IPython/core/ultratb.py?line=575'>576</a>\u001b[0m         \u001b[39m+\u001b[39m out_list)\n\u001b[0;32m    <a href='file:///c%3A/Users/rahul/AppData/Roaming/Python/Python311/site-packages/IPython/core/ultratb.py?line=577'>578</a>\u001b[0m \u001b[39mreturn\u001b[39;00m out_list\n",
      "File \u001b[1;32m~\\AppData\\Roaming\\Python\\Python311\\site-packages\\IPython\\core\\ultratb.py:1435\u001b[0m, in \u001b[0;36mAutoFormattedTB.structured_traceback\u001b[1;34m(self, etype, evalue, etb, tb_offset, number_of_lines_of_context)\u001b[0m\n\u001b[0;32m   <a href='file:///c%3A/Users/rahul/AppData/Roaming/Python/Python311/site-packages/IPython/core/ultratb.py?line=1432'>1433</a>\u001b[0m \u001b[39melse\u001b[39;00m:\n\u001b[0;32m   <a href='file:///c%3A/Users/rahul/AppData/Roaming/Python/Python311/site-packages/IPython/core/ultratb.py?line=1433'>1434</a>\u001b[0m     \u001b[39mself\u001b[39m\u001b[39m.\u001b[39mtb \u001b[39m=\u001b[39m etb\n\u001b[1;32m-> <a href='file:///c%3A/Users/rahul/AppData/Roaming/Python/Python311/site-packages/IPython/core/ultratb.py?line=1434'>1435</a>\u001b[0m \u001b[39mreturn\u001b[39;00m FormattedTB\u001b[39m.\u001b[39;49mstructured_traceback(\n\u001b[0;32m   <a href='file:///c%3A/Users/rahul/AppData/Roaming/Python/Python311/site-packages/IPython/core/ultratb.py?line=1435'>1436</a>\u001b[0m     \u001b[39mself\u001b[39;49m, etype, evalue, etb, tb_offset, number_of_lines_of_context\n\u001b[0;32m   <a href='file:///c%3A/Users/rahul/AppData/Roaming/Python/Python311/site-packages/IPython/core/ultratb.py?line=1436'>1437</a>\u001b[0m )\n",
      "File \u001b[1;32m~\\AppData\\Roaming\\Python\\Python311\\site-packages\\IPython\\core\\ultratb.py:1326\u001b[0m, in \u001b[0;36mFormattedTB.structured_traceback\u001b[1;34m(self, etype, value, tb, tb_offset, number_of_lines_of_context)\u001b[0m\n\u001b[0;32m   <a href='file:///c%3A/Users/rahul/AppData/Roaming/Python/Python311/site-packages/IPython/core/ultratb.py?line=1322'>1323</a>\u001b[0m mode \u001b[39m=\u001b[39m \u001b[39mself\u001b[39m\u001b[39m.\u001b[39mmode\n\u001b[0;32m   <a href='file:///c%3A/Users/rahul/AppData/Roaming/Python/Python311/site-packages/IPython/core/ultratb.py?line=1323'>1324</a>\u001b[0m \u001b[39mif\u001b[39;00m mode \u001b[39min\u001b[39;00m \u001b[39mself\u001b[39m\u001b[39m.\u001b[39mverbose_modes:\n\u001b[0;32m   <a href='file:///c%3A/Users/rahul/AppData/Roaming/Python/Python311/site-packages/IPython/core/ultratb.py?line=1324'>1325</a>\u001b[0m     \u001b[39m# Verbose modes need a full traceback\u001b[39;00m\n\u001b[1;32m-> <a href='file:///c%3A/Users/rahul/AppData/Roaming/Python/Python311/site-packages/IPython/core/ultratb.py?line=1325'>1326</a>\u001b[0m     \u001b[39mreturn\u001b[39;00m VerboseTB\u001b[39m.\u001b[39;49mstructured_traceback(\n\u001b[0;32m   <a href='file:///c%3A/Users/rahul/AppData/Roaming/Python/Python311/site-packages/IPython/core/ultratb.py?line=1326'>1327</a>\u001b[0m         \u001b[39mself\u001b[39;49m, etype, value, tb, tb_offset, number_of_lines_of_context\n\u001b[0;32m   <a href='file:///c%3A/Users/rahul/AppData/Roaming/Python/Python311/site-packages/IPython/core/ultratb.py?line=1327'>1328</a>\u001b[0m     )\n\u001b[0;32m   <a href='file:///c%3A/Users/rahul/AppData/Roaming/Python/Python311/site-packages/IPython/core/ultratb.py?line=1328'>1329</a>\u001b[0m \u001b[39melif\u001b[39;00m mode \u001b[39m==\u001b[39m \u001b[39m'\u001b[39m\u001b[39mMinimal\u001b[39m\u001b[39m'\u001b[39m:\n\u001b[0;32m   <a href='file:///c%3A/Users/rahul/AppData/Roaming/Python/Python311/site-packages/IPython/core/ultratb.py?line=1329'>1330</a>\u001b[0m     \u001b[39mreturn\u001b[39;00m ListTB\u001b[39m.\u001b[39mget_exception_only(\u001b[39mself\u001b[39m, etype, value)\n",
      "File \u001b[1;32m~\\AppData\\Roaming\\Python\\Python311\\site-packages\\IPython\\core\\ultratb.py:1173\u001b[0m, in \u001b[0;36mVerboseTB.structured_traceback\u001b[1;34m(self, etype, evalue, etb, tb_offset, number_of_lines_of_context)\u001b[0m\n\u001b[0;32m   <a href='file:///c%3A/Users/rahul/AppData/Roaming/Python/Python311/site-packages/IPython/core/ultratb.py?line=1163'>1164</a>\u001b[0m \u001b[39mdef\u001b[39;00m \u001b[39mstructured_traceback\u001b[39m(\n\u001b[0;32m   <a href='file:///c%3A/Users/rahul/AppData/Roaming/Python/Python311/site-packages/IPython/core/ultratb.py?line=1164'>1165</a>\u001b[0m     \u001b[39mself\u001b[39m,\n\u001b[0;32m   <a href='file:///c%3A/Users/rahul/AppData/Roaming/Python/Python311/site-packages/IPython/core/ultratb.py?line=1165'>1166</a>\u001b[0m     etype: \u001b[39mtype\u001b[39m,\n\u001b[1;32m   (...)\u001b[0m\n\u001b[0;32m   <a href='file:///c%3A/Users/rahul/AppData/Roaming/Python/Python311/site-packages/IPython/core/ultratb.py?line=1169'>1170</a>\u001b[0m     number_of_lines_of_context: \u001b[39mint\u001b[39m \u001b[39m=\u001b[39m \u001b[39m5\u001b[39m,\n\u001b[0;32m   <a href='file:///c%3A/Users/rahul/AppData/Roaming/Python/Python311/site-packages/IPython/core/ultratb.py?line=1170'>1171</a>\u001b[0m ):\n\u001b[0;32m   <a href='file:///c%3A/Users/rahul/AppData/Roaming/Python/Python311/site-packages/IPython/core/ultratb.py?line=1171'>1172</a>\u001b[0m \u001b[39m    \u001b[39m\u001b[39m\"\"\"Return a nice text document describing the traceback.\"\"\"\u001b[39;00m\n\u001b[1;32m-> <a href='file:///c%3A/Users/rahul/AppData/Roaming/Python/Python311/site-packages/IPython/core/ultratb.py?line=1172'>1173</a>\u001b[0m     formatted_exception \u001b[39m=\u001b[39m \u001b[39mself\u001b[39;49m\u001b[39m.\u001b[39;49mformat_exception_as_a_whole(etype, evalue, etb, number_of_lines_of_context,\n\u001b[0;32m   <a href='file:///c%3A/Users/rahul/AppData/Roaming/Python/Python311/site-packages/IPython/core/ultratb.py?line=1173'>1174</a>\u001b[0m                                                            tb_offset)\n\u001b[0;32m   <a href='file:///c%3A/Users/rahul/AppData/Roaming/Python/Python311/site-packages/IPython/core/ultratb.py?line=1175'>1176</a>\u001b[0m     colors \u001b[39m=\u001b[39m \u001b[39mself\u001b[39m\u001b[39m.\u001b[39mColors  \u001b[39m# just a shorthand + quicker name lookup\u001b[39;00m\n\u001b[0;32m   <a href='file:///c%3A/Users/rahul/AppData/Roaming/Python/Python311/site-packages/IPython/core/ultratb.py?line=1176'>1177</a>\u001b[0m     colorsnormal \u001b[39m=\u001b[39m colors\u001b[39m.\u001b[39mNormal  \u001b[39m# used a lot\u001b[39;00m\n",
      "File \u001b[1;32m~\\AppData\\Roaming\\Python\\Python311\\site-packages\\IPython\\core\\ultratb.py:1063\u001b[0m, in \u001b[0;36mVerboseTB.format_exception_as_a_whole\u001b[1;34m(self, etype, evalue, etb, number_of_lines_of_context, tb_offset)\u001b[0m\n\u001b[0;32m   <a href='file:///c%3A/Users/rahul/AppData/Roaming/Python/Python311/site-packages/IPython/core/ultratb.py?line=1059'>1060</a>\u001b[0m \u001b[39massert\u001b[39;00m \u001b[39misinstance\u001b[39m(tb_offset, \u001b[39mint\u001b[39m)\n\u001b[0;32m   <a href='file:///c%3A/Users/rahul/AppData/Roaming/Python/Python311/site-packages/IPython/core/ultratb.py?line=1060'>1061</a>\u001b[0m head \u001b[39m=\u001b[39m \u001b[39mself\u001b[39m\u001b[39m.\u001b[39mprepare_header(\u001b[39mstr\u001b[39m(etype), \u001b[39mself\u001b[39m\u001b[39m.\u001b[39mlong_header)\n\u001b[0;32m   <a href='file:///c%3A/Users/rahul/AppData/Roaming/Python/Python311/site-packages/IPython/core/ultratb.py?line=1061'>1062</a>\u001b[0m records \u001b[39m=\u001b[39m (\n\u001b[1;32m-> <a href='file:///c%3A/Users/rahul/AppData/Roaming/Python/Python311/site-packages/IPython/core/ultratb.py?line=1062'>1063</a>\u001b[0m     \u001b[39mself\u001b[39;49m\u001b[39m.\u001b[39;49mget_records(etb, number_of_lines_of_context, tb_offset) \u001b[39mif\u001b[39;00m etb \u001b[39melse\u001b[39;00m []\n\u001b[0;32m   <a href='file:///c%3A/Users/rahul/AppData/Roaming/Python/Python311/site-packages/IPython/core/ultratb.py?line=1063'>1064</a>\u001b[0m )\n\u001b[0;32m   <a href='file:///c%3A/Users/rahul/AppData/Roaming/Python/Python311/site-packages/IPython/core/ultratb.py?line=1065'>1066</a>\u001b[0m frames \u001b[39m=\u001b[39m []\n\u001b[0;32m   <a href='file:///c%3A/Users/rahul/AppData/Roaming/Python/Python311/site-packages/IPython/core/ultratb.py?line=1066'>1067</a>\u001b[0m skipped \u001b[39m=\u001b[39m \u001b[39m0\u001b[39m\n",
      "File \u001b[1;32m~\\AppData\\Roaming\\Python\\Python311\\site-packages\\IPython\\core\\ultratb.py:1131\u001b[0m, in \u001b[0;36mVerboseTB.get_records\u001b[1;34m(self, etb, number_of_lines_of_context, tb_offset)\u001b[0m\n\u001b[0;32m   <a href='file:///c%3A/Users/rahul/AppData/Roaming/Python/Python311/site-packages/IPython/core/ultratb.py?line=1128'>1129</a>\u001b[0m \u001b[39mwhile\u001b[39;00m cf \u001b[39mis\u001b[39;00m \u001b[39mnot\u001b[39;00m \u001b[39mNone\u001b[39;00m:\n\u001b[0;32m   <a href='file:///c%3A/Users/rahul/AppData/Roaming/Python/Python311/site-packages/IPython/core/ultratb.py?line=1129'>1130</a>\u001b[0m     \u001b[39mtry\u001b[39;00m:\n\u001b[1;32m-> <a href='file:///c%3A/Users/rahul/AppData/Roaming/Python/Python311/site-packages/IPython/core/ultratb.py?line=1130'>1131</a>\u001b[0m         mod \u001b[39m=\u001b[39m inspect\u001b[39m.\u001b[39mgetmodule(cf\u001b[39m.\u001b[39;49mtb_frame)\n\u001b[0;32m   <a href='file:///c%3A/Users/rahul/AppData/Roaming/Python/Python311/site-packages/IPython/core/ultratb.py?line=1131'>1132</a>\u001b[0m         \u001b[39mif\u001b[39;00m mod \u001b[39mis\u001b[39;00m \u001b[39mnot\u001b[39;00m \u001b[39mNone\u001b[39;00m:\n\u001b[0;32m   <a href='file:///c%3A/Users/rahul/AppData/Roaming/Python/Python311/site-packages/IPython/core/ultratb.py?line=1132'>1133</a>\u001b[0m             mod_name \u001b[39m=\u001b[39m mod\u001b[39m.\u001b[39m\u001b[39m__name__\u001b[39m\n",
      "\u001b[1;31mAttributeError\u001b[0m: 'tuple' object has no attribute 'tb_frame'"
     ]
    }
   ],
   "source": [
    "import unittest\n",
    "import os\n",
    "from assignmentpkg.analysis import Analysis\n",
    "\n",
    "class TestAnalysisMethods(unittest.TestCase):\n",
    "\n",
    "    @classmethod\n",
    "    def setUpClass(cls):\n",
    "        # This is the path to your configuration file\n",
    "        cls.config_path = r'C:\\Users\\rahul\\Desktop\\Assignmentpkg\\dsi-build-software-project\\config\\config.yml'\n",
    "        cls.analysis = Analysis(cls.config_path)\n",
    "\n",
    "    def test_config_loaded(self):\n",
    "        \"\"\"Test if the configuration file is loaded properly.\"\"\"\n",
    "        self.assertIsNotNone(self.analysis.config, \"Config should not be None.\")\n",
    "\n",
    "    def test_load_data(self):\n",
    "        \"\"\"Test if data is loaded successfully.\"\"\"\n",
    "        data = self.analysis.load_data()\n",
    "        self.assertIsNotNone(data, \"Data should not be None after load_data.\")\n",
    "        self.assertIsInstance(data, list, \"Data should be a list.\")\n",
    "\n",
    "    def test_calculate_mean(self):\n",
    "        \"\"\"Test if the mean calculation is correct.\"\"\"\n",
    "        # Assuming that 'field' exists and is a numeric field in your data\n",
    "        field = 'numeric_field_name'\n",
    "        mean_value = self.analysis.calculate_mean(field)\n",
    "        self.assertIsNotNone(mean_value, \"Mean value should not be None.\")\n",
    "        self.assertIsInstance(mean_value, float, \"Mean value should be a float.\")\n",
    "\n",
    "    def test_perform_regression(self):\n",
    "        \"\"\"Test if regression is performed correctly.\"\"\"\n",
    "        # Assuming that 'independent_var' and 'dependent_var' exist and are numeric fields in your data\n",
    "        independent_var = 'independent_field_name'\n",
    "        dependent_var = 'dependent_field_name'\n",
    "        result = self.analysis.perform_regression(independent_var, dependent_var)\n",
    "        self.assertIsInstance(result, dict, \"Result should be a dictionary.\")\n",
    "        self.assertIn('slope', result, \"Result dictionary should have a 'slope' key.\")\n",
    "        self.assertIn('intercept', result, \"Result dictionary should have an 'intercept' key.\")\n",
    "\n",
    "# This allows the test to be run from the command line\n",
    "if __name__ == '__main__':\n",
    "    unittest.main()\n"
   ]
  },
  {
   "cell_type": "code",
   "execution_count": 8,
   "metadata": {},
   "outputs": [
    {
     "ename": "SyntaxError",
     "evalue": "unterminated string literal (detected at line 37) (<ipython-input-8-29a6d7014ade>, line 37)",
     "output_type": "error",
     "traceback": [
      "\u001b[1;36m  Cell \u001b[1;32mIn[8], line 37\u001b[1;36m\u001b[0m\n\u001b[1;33m    self.assertIsInstance(result, dict, \"Result should be a dictionary\u001b[0m\n\u001b[1;37m                                        ^\u001b[0m\n\u001b[1;31mSyntaxError\u001b[0m\u001b[1;31m:\u001b[0m unterminated string literal (detected at line 37)\n"
     ]
    }
   ],
   "source": [
    "import unittest\n",
    "import os\n",
    "from assignmentpkg.analysis import Analysis\n",
    "\n",
    "class TestAnalysisMethods(unittest.TestCase):\n",
    "\n",
    "    @classmethod\n",
    "    def setUpClass(cls):\n",
    "        # This is the path to your configuration file\n",
    "        cls.config_path = r'C:\\Users\\rahul\\Desktop\\Assignmentpkg\\dsi-build-software-project\\config\\config.yml'\n",
    "        cls.analysis = Analysis(cls.config_path)\n",
    "\n",
    "    def test_config_loaded(self):\n",
    "        \"\"\"Test if the configuration file is loaded properly.\"\"\"\n",
    "        self.assertIsNotNone(self.analysis.config, \"Config should not be None.\")\n",
    "\n",
    "    def test_load_data(self):\n",
    "        \"\"\"Test if data is loaded successfully.\"\"\"\n",
    "        data = self.analysis.load_data()\n",
    "        self.assertIsNotNone(data, \"Data should not be None after load_data.\")\n",
    "        self.assertIsInstance(data, list, \"Data should be a list.\")\n",
    "\n",
    "    def test_calculate_mean(self):\n",
    "        \"\"\"Test if the mean calculation is correct.\"\"\"\n",
    "        # You need to replace 'numeric_field_name' with an actual field from your data\n",
    "        field = 'numeric_field_name'\n",
    "        mean_value = self.analysis.calculate_mean(field)\n",
    "        self.assertIsNotNone(mean_value, \"Mean value should not be None.\")\n",
    "        self.assertIsInstance(mean_value, float, \"Mean value should be a float.\")\n",
    "\n",
    "    def test_perform_regression(self):\n",
    "        \"\"\"Test if regression is performed correctly.\"\"\"\n",
    "        # You need to replace 'independent_var' and 'dependent_var' with actual fields from your data\n",
    "        independent_var = 'independent_field_name'\n",
    "        dependent_var = 'dependent_field_name'\n",
    "        result = self.analysis.perform_regression(independent_var, dependent_var)\n",
    "        self.assertIsInstance(result, dict, \"Result should be a dictionary\n"
   ]
  },
  {
   "cell_type": "code",
   "execution_count": 9,
   "metadata": {},
   "outputs": [
    {
     "name": "stderr",
     "output_type": "stream",
     "text": [
      "E\n",
      "======================================================================\n",
      "ERROR: setUpClass (__main__.TestAnalysisMethods)\n",
      "----------------------------------------------------------------------\n",
      "Traceback (most recent call last):\n",
      "  File \"<ipython-input-9-49304596a7bf>\", line 10, in setUpClass\n",
      "    cls.analysis = Analysis(cls.config_path)\n",
      "                   ^^^^^^^^^^^^^^^^^^^^^^^^^\n",
      "  File \"c:\\Users\\rahul\\Desktop\\Assignmentpkg\\dsi-build-software-project\\assignmentpkg\\analysis.py\", line 11, in __init__\n",
      "    topic = self.config[\"topic\"]\n",
      "            ~~~~~~~~~~~^^^^^^^^^\n",
      "KeyError: 'topic'\n",
      "\n",
      "----------------------------------------------------------------------\n",
      "Ran 0 tests in 0.010s\n",
      "\n",
      "FAILED (errors=1)\n"
     ]
    }
   ],
   "source": [
    "import unittest\n",
    "from assignmentpkg.analysis import Analysis\n",
    "\n",
    "class TestAnalysisMethods(unittest.TestCase):\n",
    "\n",
    "    @classmethod\n",
    "    def setUpClass(cls):\n",
    "        # Path to your configuration file\n",
    "        cls.config_path = r'C:\\Users\\rahul\\Desktop\\Assignmentpkg\\dsi-build-software-project\\config\\config.yml'\n",
    "        cls.analysis = Analysis(cls.config_path)\n",
    "\n",
    "    def test_config_loaded(self):\n",
    "        \"\"\"Test if the configuration file is loaded properly.\"\"\"\n",
    "        self.assertIsNotNone(self.analysis.config, \"Config should not be None.\")\n",
    "\n",
    "    def test_load_data(self):\n",
    "        \"\"\"Test if data is loaded successfully.\"\"\"\n",
    "        data = self.analysis.load_data()\n",
    "        self.assertIsNotNone(data, \"Data should not be None after load_data.\")\n",
    "        self.assertIsInstance(data, list, \"Data should be a list.\")\n",
    "\n",
    "    def test_calculate_mean(self):\n",
    "        \"\"\"Test if the mean calculation is correct.\"\"\"\n",
    "        # Replace 'numeric_field_name' with an actual field name from your data\n",
    "        field = 'numeric_field_name'\n",
    "        mean_value = self.analysis.calculate_mean(field)\n",
    "        self.assertIsNotNone(mean_value, \"Mean value should not be None.\")\n",
    "        self.assertIsInstance(mean_value, float, \"Mean value should be a float.\")\n",
    "\n",
    "    def test_perform_regression(self):\n",
    "        \"\"\"Test if regression is performed correctly.\"\"\"\n",
    "        # Replace 'independent_var' and 'dependent_var' with actual field names from your data\n",
    "        independent_var = 'independent_field_name'\n",
    "        dependent_var = 'dependent_field_name'\n",
    "        result = self.analysis.perform_regression(independent_var, dependent_var)\n",
    "        self.assertIsInstance(result, dict, \"Result should be a dictionary.\")\n",
    "        self.assertIn('slope', result, \"Result dictionary should have a 'slope' key.\")\n",
    "        self.assertIn('intercept', result, \"Result dictionary should have an 'intercept' key.\")\n",
    "\n",
    "# Running the tests in Jupyter notebook\n",
    "if __name__ == '__main__':\n",
    "    unittest.main(argv=['first-arg-is-ignored'], exit=False)\n"
   ]
  },
  {
   "cell_type": "code",
   "execution_count": 10,
   "metadata": {},
   "outputs": [
    {
     "name": "stderr",
     "output_type": "stream",
     "text": [
      "E\n",
      "======================================================================\n",
      "ERROR: setUpClass (__main__.TestAnalysisMethods)\n",
      "----------------------------------------------------------------------\n",
      "Traceback (most recent call last):\n",
      "  File \"<ipython-input-10-49304596a7bf>\", line 10, in setUpClass\n",
      "    cls.analysis = Analysis(cls.config_path)\n",
      "                   ^^^^^^^^^^^^^^^^^^^^^^^^^\n",
      "  File \"c:\\Users\\rahul\\Desktop\\Assignmentpkg\\dsi-build-software-project\\assignmentpkg\\analysis.py\", line 11, in __init__\n",
      "    topic = self.config[\"topic\"]\n",
      "            ~~~~~~~~~~~^^^^^^^^^\n",
      "KeyError: 'topic'\n",
      "\n",
      "----------------------------------------------------------------------\n",
      "Ran 0 tests in 0.003s\n",
      "\n",
      "FAILED (errors=1)\n"
     ]
    }
   ],
   "source": [
    "import unittest\n",
    "from assignmentpkg.analysis import Analysis\n",
    "\n",
    "class TestAnalysisMethods(unittest.TestCase):\n",
    "\n",
    "    @classmethod\n",
    "    def setUpClass(cls):\n",
    "        # Path to your configuration file\n",
    "        cls.config_path = r'C:\\Users\\rahul\\Desktop\\Assignmentpkg\\dsi-build-software-project\\config\\config.yml'\n",
    "        cls.analysis = Analysis(cls.config_path)\n",
    "\n",
    "    def test_config_loaded(self):\n",
    "        \"\"\"Test if the configuration file is loaded properly.\"\"\"\n",
    "        self.assertIsNotNone(self.analysis.config, \"Config should not be None.\")\n",
    "\n",
    "    def test_load_data(self):\n",
    "        \"\"\"Test if data is loaded successfully.\"\"\"\n",
    "        data = self.analysis.load_data()\n",
    "        self.assertIsNotNone(data, \"Data should not be None after load_data.\")\n",
    "        self.assertIsInstance(data, list, \"Data should be a list.\")\n",
    "\n",
    "    def test_calculate_mean(self):\n",
    "        \"\"\"Test if the mean calculation is correct.\"\"\"\n",
    "        # Replace 'numeric_field_name' with an actual field name from your data\n",
    "        field = 'numeric_field_name'\n",
    "        mean_value = self.analysis.calculate_mean(field)\n",
    "        self.assertIsNotNone(mean_value, \"Mean value should not be None.\")\n",
    "        self.assertIsInstance(mean_value, float, \"Mean value should be a float.\")\n",
    "\n",
    "    def test_perform_regression(self):\n",
    "        \"\"\"Test if regression is performed correctly.\"\"\"\n",
    "        # Replace 'independent_var' and 'dependent_var' with actual field names from your data\n",
    "        independent_var = 'independent_field_name'\n",
    "        dependent_var = 'dependent_field_name'\n",
    "        result = self.analysis.perform_regression(independent_var, dependent_var)\n",
    "        self.assertIsInstance(result, dict, \"Result should be a dictionary.\")\n",
    "        self.assertIn('slope', result, \"Result dictionary should have a 'slope' key.\")\n",
    "        self.assertIn('intercept', result, \"Result dictionary should have an 'intercept' key.\")\n",
    "\n",
    "# Running the tests in Jupyter notebook\n",
    "if __name__ == '__main__':\n",
    "    unittest.main(argv=['first-arg-is-ignored'], exit=False)\n"
   ]
  },
  {
   "cell_type": "code",
   "execution_count": 11,
   "metadata": {},
   "outputs": [
    {
     "name": "stderr",
     "output_type": "stream",
     "text": [
      "E\n",
      "======================================================================\n",
      "ERROR: setUpClass (__main__.TestAnalysisMethods)\n",
      "----------------------------------------------------------------------\n",
      "Traceback (most recent call last):\n",
      "  File \"<ipython-input-11-49304596a7bf>\", line 10, in setUpClass\n",
      "    cls.analysis = Analysis(cls.config_path)\n",
      "                   ^^^^^^^^^^^^^^^^^^^^^^^^^\n",
      "  File \"c:\\Users\\rahul\\Desktop\\Assignmentpkg\\dsi-build-software-project\\assignmentpkg\\analysis.py\", line 11, in __init__\n",
      "    topic = self.config[\"topic\"]\n",
      "            ~~~~~~~~~~~^^^^^^^^^\n",
      "KeyError: 'topic'\n",
      "\n",
      "----------------------------------------------------------------------\n",
      "Ran 0 tests in 0.002s\n",
      "\n",
      "FAILED (errors=1)\n"
     ]
    }
   ],
   "source": [
    "import unittest\n",
    "from assignmentpkg.analysis import Analysis\n",
    "\n",
    "class TestAnalysisMethods(unittest.TestCase):\n",
    "\n",
    "    @classmethod\n",
    "    def setUpClass(cls):\n",
    "        # Path to your configuration file\n",
    "        cls.config_path = r'C:\\Users\\rahul\\Desktop\\Assignmentpkg\\dsi-build-software-project\\config\\config.yml'\n",
    "        cls.analysis = Analysis(cls.config_path)\n",
    "\n",
    "    def test_config_loaded(self):\n",
    "        \"\"\"Test if the configuration file is loaded properly.\"\"\"\n",
    "        self.assertIsNotNone(self.analysis.config, \"Config should not be None.\")\n",
    "\n",
    "    def test_load_data(self):\n",
    "        \"\"\"Test if data is loaded successfully.\"\"\"\n",
    "        data = self.analysis.load_data()\n",
    "        self.assertIsNotNone(data, \"Data should not be None after load_data.\")\n",
    "        self.assertIsInstance(data, list, \"Data should be a list.\")\n",
    "\n",
    "    def test_calculate_mean(self):\n",
    "        \"\"\"Test if the mean calculation is correct.\"\"\"\n",
    "        # Replace 'numeric_field_name' with an actual field name from your data\n",
    "        field = 'numeric_field_name'\n",
    "        mean_value = self.analysis.calculate_mean(field)\n",
    "        self.assertIsNotNone(mean_value, \"Mean value should not be None.\")\n",
    "        self.assertIsInstance(mean_value, float, \"Mean value should be a float.\")\n",
    "\n",
    "    def test_perform_regression(self):\n",
    "        \"\"\"Test if regression is performed correctly.\"\"\"\n",
    "        # Replace 'independent_var' and 'dependent_var' with actual field names from your data\n",
    "        independent_var = 'independent_field_name'\n",
    "        dependent_var = 'dependent_field_name'\n",
    "        result = self.analysis.perform_regression(independent_var, dependent_var)\n",
    "        self.assertIsInstance(result, dict, \"Result should be a dictionary.\")\n",
    "        self.assertIn('slope', result, \"Result dictionary should have a 'slope' key.\")\n",
    "        self.assertIn('intercept', result, \"Result dictionary should have an 'intercept' key.\")\n",
    "\n",
    "# Running the tests in Jupyter notebook\n",
    "if __name__ == '__main__':\n",
    "    unittest.main(argv=['first-arg-is-ignored'], exit=False)\n"
   ]
  },
  {
   "cell_type": "code",
   "execution_count": 12,
   "metadata": {},
   "outputs": [],
   "source": [
    "class Analysis:\n",
    "    def __init__(self, config_path):\n",
    "        with open(config_path, 'r') as file:\n",
    "            self.config = yaml.safe_load(file)\n",
    "        topic = self.config[\"topic\"]\n",
    "        api_key = self.config[\"api_key\"]\n",
    "        self.url = f\"{self.config['url']}articlesearch.json?q={topic}&api-key={api_key}\"\n",
    "        self.data = None"
   ]
  },
  {
   "cell_type": "code",
   "execution_count": 13,
   "metadata": {},
   "outputs": [
    {
     "ename": "IndentationError",
     "evalue": "unexpected indent (<ipython-input-13-cadb64e419f7>, line 3)",
     "output_type": "error",
     "traceback": [
      "\u001b[1;36m  Cell \u001b[1;32mIn[13], line 3\u001b[1;36m\u001b[0m\n\u001b[1;33m    def test_calculate_mean(self):\u001b[0m\n\u001b[1;37m    ^\u001b[0m\n\u001b[1;31mIndentationError\u001b[0m\u001b[1;31m:\u001b[0m unexpected indent\n"
     ]
    }
   ],
   "source": [
    "# Other import statements and TestAnalysisMethods class definition\n",
    "\n",
    "    def test_calculate_mean(self):\n",
    "        # Assuming your data is loaded and a field is available for testing\n",
    "        self.analysis.load_data()\n",
    "        mean_result = self.analysis.calculate_mean('test_field')\n",
    "        self.assertIsInstance(mean_result, float, \"Mean result should be a float.\")\n",
    "\n",
    "    def test_perform_regression(self):\n",
    "        self.analysis.load_data()\n",
    "        regression_result = self.analysis.perform_regression('independent_field', 'dependent_field')\n",
    "        self.assertIsInstance(regression_result, dict, \"Regression result should be a dictionary.\")\n",
    "        self.assertIn('slope', regression_result, \"Regression result should have key 'slope'.\")\n",
    "\n",
    "    def test_plot_data(self):\n",
    "        self.analysis.load_data()\n",
    "        x = [1, 2, 3]  # Example data\n",
    "        y = [1, 4, 9]  # Example data\n",
    "        fig = self.analysis.plot_data(x, y)\n",
    "        self.assertIsInstance(fig, matplotlib.figure.Figure, \"Should return a matplotlib figure.\")\n",
    "\n",
    "# Running the tests\n",
    "if __name__ == '__main__':\n",
    "    unittest.main()\n"
   ]
  },
  {
   "cell_type": "code",
   "execution_count": 14,
   "metadata": {},
   "outputs": [
    {
     "ename": "IndentationError",
     "evalue": "unexpected indent (<ipython-input-14-cadb64e419f7>, line 3)",
     "output_type": "error",
     "traceback": [
      "\u001b[1;36m  Cell \u001b[1;32mIn[14], line 3\u001b[1;36m\u001b[0m\n\u001b[1;33m    def test_calculate_mean(self):\u001b[0m\n\u001b[1;37m    ^\u001b[0m\n\u001b[1;31mIndentationError\u001b[0m\u001b[1;31m:\u001b[0m unexpected indent\n"
     ]
    }
   ],
   "source": [
    "# Other import statements and TestAnalysisMethods class definition\n",
    "\n",
    "    def test_calculate_mean(self):\n",
    "        # Assuming your data is loaded and a field is available for testing\n",
    "        self.analysis.load_data()\n",
    "        mean_result = self.analysis.calculate_mean('test_field')\n",
    "        self.assertIsInstance(mean_result, float, \"Mean result should be a float.\")\n",
    "\n",
    "    def test_perform_regression(self):\n",
    "        self.analysis.load_data()\n",
    "        regression_result = self.analysis.perform_regression('independent_field', 'dependent_field')\n",
    "        self.assertIsInstance(regression_result, dict, \"Regression result should be a dictionary.\")\n",
    "        self.assertIn('slope', regression_result, \"Regression result should have key 'slope'.\")\n",
    "\n",
    "    def test_plot_data(self):\n",
    "        self.analysis.load_data()\n",
    "        x = [1, 2, 3]  # Example data\n",
    "        y = [1, 4, 9]  # Example data\n",
    "        fig = self.analysis.plot_data(x, y)\n",
    "        self.assertIsInstance(fig, matplotlib.figure.Figure, \"Should return a matplotlib figure.\")\n",
    "\n",
    "# Running the tests\n",
    "if __name__ == '__main__':\n",
    "    unittest.main()\n"
   ]
  },
  {
   "cell_type": "code",
   "execution_count": 15,
   "metadata": {},
   "outputs": [
    {
     "name": "stderr",
     "output_type": "stream",
     "text": [
      "usage: ipykernel_launcher.py [-h] [-v] [-q] [--locals] [-f] [-c] [-b]\n",
      "                             [-k TESTNAMEPATTERNS]\n",
      "                             [tests ...]\n",
      "ipykernel_launcher.py: error: argument -f/--failfast: ignored explicit argument 'c:\\\\Users\\\\rahul\\\\AppData\\\\Roaming\\\\jupyter\\\\runtime\\\\kernel-v2-301521Roifa4rLGE7.json'\n"
     ]
    },
    {
     "ename": "AttributeError",
     "evalue": "'tuple' object has no attribute 'tb_frame'",
     "output_type": "error",
     "traceback": [
      "\u001b[1;31m---------------------------------------------------------------------------\u001b[0m",
      "\u001b[1;31mArgumentError\u001b[0m                             Traceback (most recent call last)",
      "File \u001b[1;32mc:\\Users\\rahul\\AppData\\Local\\Programs\\Python\\Python311\\Lib\\argparse.py:1902\u001b[0m, in \u001b[0;36mArgumentParser.parse_known_args\u001b[1;34m(self, args, namespace)\u001b[0m\n\u001b[0;32m   <a href='file:///c%3A/Users/rahul/AppData/Local/Programs/Python/Python311/Lib/argparse.py?line=1900'>1901</a>\u001b[0m \u001b[39mtry\u001b[39;00m:\n\u001b[1;32m-> <a href='file:///c%3A/Users/rahul/AppData/Local/Programs/Python/Python311/Lib/argparse.py?line=1901'>1902</a>\u001b[0m     namespace, args \u001b[39m=\u001b[39m \u001b[39mself\u001b[39;49m\u001b[39m.\u001b[39;49m_parse_known_args(args, namespace)\n\u001b[0;32m   <a href='file:///c%3A/Users/rahul/AppData/Local/Programs/Python/Python311/Lib/argparse.py?line=1902'>1903</a>\u001b[0m \u001b[39mexcept\u001b[39;00m ArgumentError \u001b[39mas\u001b[39;00m err:\n",
      "File \u001b[1;32mc:\\Users\\rahul\\AppData\\Local\\Programs\\Python\\Python311\\Lib\\argparse.py:2114\u001b[0m, in \u001b[0;36mArgumentParser._parse_known_args\u001b[1;34m(self, arg_strings, namespace)\u001b[0m\n\u001b[0;32m   <a href='file:///c%3A/Users/rahul/AppData/Local/Programs/Python/Python311/Lib/argparse.py?line=2112'>2113</a>\u001b[0m     \u001b[39m# consume the next optional and any arguments for it\u001b[39;00m\n\u001b[1;32m-> <a href='file:///c%3A/Users/rahul/AppData/Local/Programs/Python/Python311/Lib/argparse.py?line=2113'>2114</a>\u001b[0m     start_index \u001b[39m=\u001b[39m consume_optional(start_index)\n\u001b[0;32m   <a href='file:///c%3A/Users/rahul/AppData/Local/Programs/Python/Python311/Lib/argparse.py?line=2115'>2116</a>\u001b[0m \u001b[39m# consume any positionals following the last Optional\u001b[39;00m\n",
      "File \u001b[1;32mc:\\Users\\rahul\\AppData\\Local\\Programs\\Python\\Python311\\Lib\\argparse.py:2036\u001b[0m, in \u001b[0;36mArgumentParser._parse_known_args.<locals>.consume_optional\u001b[1;34m(start_index)\u001b[0m\n\u001b[0;32m   <a href='file:///c%3A/Users/rahul/AppData/Local/Programs/Python/Python311/Lib/argparse.py?line=2034'>2035</a>\u001b[0m         msg \u001b[39m=\u001b[39m _(\u001b[39m'\u001b[39m\u001b[39mignored explicit argument \u001b[39m\u001b[39m%r\u001b[39;00m\u001b[39m'\u001b[39m)\n\u001b[1;32m-> <a href='file:///c%3A/Users/rahul/AppData/Local/Programs/Python/Python311/Lib/argparse.py?line=2035'>2036</a>\u001b[0m         \u001b[39mraise\u001b[39;00m ArgumentError(action, msg \u001b[39m%\u001b[39m explicit_arg)\n\u001b[0;32m   <a href='file:///c%3A/Users/rahul/AppData/Local/Programs/Python/Python311/Lib/argparse.py?line=2037'>2038</a>\u001b[0m \u001b[39m# if there is no explicit argument, try to match the\u001b[39;00m\n\u001b[0;32m   <a href='file:///c%3A/Users/rahul/AppData/Local/Programs/Python/Python311/Lib/argparse.py?line=2038'>2039</a>\u001b[0m \u001b[39m# optional's string arguments with the following strings\u001b[39;00m\n\u001b[0;32m   <a href='file:///c%3A/Users/rahul/AppData/Local/Programs/Python/Python311/Lib/argparse.py?line=2039'>2040</a>\u001b[0m \u001b[39m# if successful, exit the loop\u001b[39;00m\n\u001b[0;32m   <a href='file:///c%3A/Users/rahul/AppData/Local/Programs/Python/Python311/Lib/argparse.py?line=2040'>2041</a>\u001b[0m \u001b[39melse\u001b[39;00m:\n",
      "\u001b[1;31mArgumentError\u001b[0m: argument -f/--failfast: ignored explicit argument 'c:\\\\Users\\\\rahul\\\\AppData\\\\Roaming\\\\jupyter\\\\runtime\\\\kernel-v2-301521Roifa4rLGE7.json'",
      "\nDuring handling of the above exception, another exception occurred:\n",
      "\u001b[1;31mSystemExit\u001b[0m                                Traceback (most recent call last)",
      "    \u001b[1;31m[... skipping hidden 1 frame]\u001b[0m\n",
      "Cell \u001b[1;32mIn[15], line 30\u001b[0m\n\u001b[0;32m     29\u001b[0m \u001b[39mif\u001b[39;00m \u001b[39m__name__\u001b[39m \u001b[39m==\u001b[39m \u001b[39m'\u001b[39m\u001b[39m__main__\u001b[39m\u001b[39m'\u001b[39m:\n\u001b[1;32m---> 30\u001b[0m     unittest\u001b[39m.\u001b[39;49mmain()\n",
      "File \u001b[1;32mc:\\Users\\rahul\\AppData\\Local\\Programs\\Python\\Python311\\Lib\\unittest\\main.py:101\u001b[0m, in \u001b[0;36mTestProgram.__init__\u001b[1;34m(self, module, defaultTest, argv, testRunner, testLoader, exit, verbosity, failfast, catchbreak, buffer, warnings, tb_locals)\u001b[0m\n\u001b[0;32m    <a href='file:///c%3A/Users/rahul/AppData/Local/Programs/Python/Python311/Lib/unittest/main.py?line=99'>100</a>\u001b[0m \u001b[39mself\u001b[39m\u001b[39m.\u001b[39mprogName \u001b[39m=\u001b[39m os\u001b[39m.\u001b[39mpath\u001b[39m.\u001b[39mbasename(argv[\u001b[39m0\u001b[39m])\n\u001b[1;32m--> <a href='file:///c%3A/Users/rahul/AppData/Local/Programs/Python/Python311/Lib/unittest/main.py?line=100'>101</a>\u001b[0m \u001b[39mself\u001b[39;49m\u001b[39m.\u001b[39;49mparseArgs(argv)\n\u001b[0;32m    <a href='file:///c%3A/Users/rahul/AppData/Local/Programs/Python/Python311/Lib/unittest/main.py?line=101'>102</a>\u001b[0m \u001b[39mself\u001b[39m\u001b[39m.\u001b[39mrunTests()\n",
      "File \u001b[1;32mc:\\Users\\rahul\\AppData\\Local\\Programs\\Python\\Python311\\Lib\\unittest\\main.py:136\u001b[0m, in \u001b[0;36mTestProgram.parseArgs\u001b[1;34m(self, argv)\u001b[0m\n\u001b[0;32m    <a href='file:///c%3A/Users/rahul/AppData/Local/Programs/Python/Python311/Lib/unittest/main.py?line=134'>135</a>\u001b[0m \u001b[39melse\u001b[39;00m:\n\u001b[1;32m--> <a href='file:///c%3A/Users/rahul/AppData/Local/Programs/Python/Python311/Lib/unittest/main.py?line=135'>136</a>\u001b[0m     \u001b[39mself\u001b[39;49m\u001b[39m.\u001b[39;49m_main_parser\u001b[39m.\u001b[39;49mparse_args(argv[\u001b[39m1\u001b[39;49m:], \u001b[39mself\u001b[39;49m)\n\u001b[0;32m    <a href='file:///c%3A/Users/rahul/AppData/Local/Programs/Python/Python311/Lib/unittest/main.py?line=137'>138</a>\u001b[0m \u001b[39mif\u001b[39;00m \u001b[39mself\u001b[39m\u001b[39m.\u001b[39mtests:\n",
      "File \u001b[1;32mc:\\Users\\rahul\\AppData\\Local\\Programs\\Python\\Python311\\Lib\\argparse.py:1869\u001b[0m, in \u001b[0;36mArgumentParser.parse_args\u001b[1;34m(self, args, namespace)\u001b[0m\n\u001b[0;32m   <a href='file:///c%3A/Users/rahul/AppData/Local/Programs/Python/Python311/Lib/argparse.py?line=1867'>1868</a>\u001b[0m \u001b[39mdef\u001b[39;00m \u001b[39mparse_args\u001b[39m(\u001b[39mself\u001b[39m, args\u001b[39m=\u001b[39m\u001b[39mNone\u001b[39;00m, namespace\u001b[39m=\u001b[39m\u001b[39mNone\u001b[39;00m):\n\u001b[1;32m-> <a href='file:///c%3A/Users/rahul/AppData/Local/Programs/Python/Python311/Lib/argparse.py?line=1868'>1869</a>\u001b[0m     args, argv \u001b[39m=\u001b[39m \u001b[39mself\u001b[39;49m\u001b[39m.\u001b[39;49mparse_known_args(args, namespace)\n\u001b[0;32m   <a href='file:///c%3A/Users/rahul/AppData/Local/Programs/Python/Python311/Lib/argparse.py?line=1869'>1870</a>\u001b[0m     \u001b[39mif\u001b[39;00m argv:\n",
      "File \u001b[1;32mc:\\Users\\rahul\\AppData\\Local\\Programs\\Python\\Python311\\Lib\\argparse.py:1904\u001b[0m, in \u001b[0;36mArgumentParser.parse_known_args\u001b[1;34m(self, args, namespace)\u001b[0m\n\u001b[0;32m   <a href='file:///c%3A/Users/rahul/AppData/Local/Programs/Python/Python311/Lib/argparse.py?line=1902'>1903</a>\u001b[0m     \u001b[39mexcept\u001b[39;00m ArgumentError \u001b[39mas\u001b[39;00m err:\n\u001b[1;32m-> <a href='file:///c%3A/Users/rahul/AppData/Local/Programs/Python/Python311/Lib/argparse.py?line=1903'>1904</a>\u001b[0m         \u001b[39mself\u001b[39;49m\u001b[39m.\u001b[39;49merror(\u001b[39mstr\u001b[39;49m(err))\n\u001b[0;32m   <a href='file:///c%3A/Users/rahul/AppData/Local/Programs/Python/Python311/Lib/argparse.py?line=1904'>1905</a>\u001b[0m \u001b[39melse\u001b[39;00m:\n",
      "File \u001b[1;32mc:\\Users\\rahul\\AppData\\Local\\Programs\\Python\\Python311\\Lib\\argparse.py:2630\u001b[0m, in \u001b[0;36mArgumentParser.error\u001b[1;34m(self, message)\u001b[0m\n\u001b[0;32m   <a href='file:///c%3A/Users/rahul/AppData/Local/Programs/Python/Python311/Lib/argparse.py?line=2628'>2629</a>\u001b[0m args \u001b[39m=\u001b[39m {\u001b[39m'\u001b[39m\u001b[39mprog\u001b[39m\u001b[39m'\u001b[39m: \u001b[39mself\u001b[39m\u001b[39m.\u001b[39mprog, \u001b[39m'\u001b[39m\u001b[39mmessage\u001b[39m\u001b[39m'\u001b[39m: message}\n\u001b[1;32m-> <a href='file:///c%3A/Users/rahul/AppData/Local/Programs/Python/Python311/Lib/argparse.py?line=2629'>2630</a>\u001b[0m \u001b[39mself\u001b[39;49m\u001b[39m.\u001b[39;49mexit(\u001b[39m2\u001b[39;49m, _(\u001b[39m'\u001b[39;49m\u001b[39m%(prog)s\u001b[39;49;00m\u001b[39m: error: \u001b[39;49m\u001b[39m%(message)s\u001b[39;49;00m\u001b[39m\\n\u001b[39;49;00m\u001b[39m'\u001b[39;49m) \u001b[39m%\u001b[39;49m args)\n",
      "File \u001b[1;32mc:\\Users\\rahul\\AppData\\Local\\Programs\\Python\\Python311\\Lib\\argparse.py:2617\u001b[0m, in \u001b[0;36mArgumentParser.exit\u001b[1;34m(self, status, message)\u001b[0m\n\u001b[0;32m   <a href='file:///c%3A/Users/rahul/AppData/Local/Programs/Python/Python311/Lib/argparse.py?line=2615'>2616</a>\u001b[0m     \u001b[39mself\u001b[39m\u001b[39m.\u001b[39m_print_message(message, _sys\u001b[39m.\u001b[39mstderr)\n\u001b[1;32m-> <a href='file:///c%3A/Users/rahul/AppData/Local/Programs/Python/Python311/Lib/argparse.py?line=2616'>2617</a>\u001b[0m _sys\u001b[39m.\u001b[39;49mexit(status)\n",
      "\u001b[1;31mSystemExit\u001b[0m: 2",
      "\nDuring handling of the above exception, another exception occurred:\n",
      "\u001b[1;31mAttributeError\u001b[0m                            Traceback (most recent call last)",
      "    \u001b[1;31m[... skipping hidden 1 frame]\u001b[0m\n",
      "File \u001b[1;32m~\\AppData\\Roaming\\Python\\Python311\\site-packages\\IPython\\core\\interactiveshell.py:2121\u001b[0m, in \u001b[0;36mInteractiveShell.showtraceback\u001b[1;34m(self, exc_tuple, filename, tb_offset, exception_only, running_compiled_code)\u001b[0m\n\u001b[0;32m   <a href='file:///c%3A/Users/rahul/AppData/Roaming/Python/Python311/site-packages/IPython/core/interactiveshell.py?line=2117'>2118</a>\u001b[0m \u001b[39mif\u001b[39;00m exception_only:\n\u001b[0;32m   <a href='file:///c%3A/Users/rahul/AppData/Roaming/Python/Python311/site-packages/IPython/core/interactiveshell.py?line=2118'>2119</a>\u001b[0m     stb \u001b[39m=\u001b[39m [\u001b[39m'\u001b[39m\u001b[39mAn exception has occurred, use \u001b[39m\u001b[39m%\u001b[39m\u001b[39mtb to see \u001b[39m\u001b[39m'\u001b[39m\n\u001b[0;32m   <a href='file:///c%3A/Users/rahul/AppData/Roaming/Python/Python311/site-packages/IPython/core/interactiveshell.py?line=2119'>2120</a>\u001b[0m            \u001b[39m'\u001b[39m\u001b[39mthe full traceback.\u001b[39m\u001b[39m\\n\u001b[39;00m\u001b[39m'\u001b[39m]\n\u001b[1;32m-> <a href='file:///c%3A/Users/rahul/AppData/Roaming/Python/Python311/site-packages/IPython/core/interactiveshell.py?line=2120'>2121</a>\u001b[0m     stb\u001b[39m.\u001b[39mextend(\u001b[39mself\u001b[39;49m\u001b[39m.\u001b[39;49mInteractiveTB\u001b[39m.\u001b[39;49mget_exception_only(etype,\n\u001b[0;32m   <a href='file:///c%3A/Users/rahul/AppData/Roaming/Python/Python311/site-packages/IPython/core/interactiveshell.py?line=2121'>2122</a>\u001b[0m                                                      value))\n\u001b[0;32m   <a href='file:///c%3A/Users/rahul/AppData/Roaming/Python/Python311/site-packages/IPython/core/interactiveshell.py?line=2122'>2123</a>\u001b[0m \u001b[39melse\u001b[39;00m:\n\u001b[0;32m   <a href='file:///c%3A/Users/rahul/AppData/Roaming/Python/Python311/site-packages/IPython/core/interactiveshell.py?line=2124'>2125</a>\u001b[0m     \u001b[39mdef\u001b[39;00m \u001b[39mcontains_exceptiongroup\u001b[39m(val):\n",
      "File \u001b[1;32m~\\AppData\\Roaming\\Python\\Python311\\site-packages\\IPython\\core\\ultratb.py:710\u001b[0m, in \u001b[0;36mListTB.get_exception_only\u001b[1;34m(self, etype, value)\u001b[0m\n\u001b[0;32m    <a href='file:///c%3A/Users/rahul/AppData/Roaming/Python/Python311/site-packages/IPython/core/ultratb.py?line=701'>702</a>\u001b[0m \u001b[39mdef\u001b[39;00m \u001b[39mget_exception_only\u001b[39m(\u001b[39mself\u001b[39m, etype, value):\n\u001b[0;32m    <a href='file:///c%3A/Users/rahul/AppData/Roaming/Python/Python311/site-packages/IPython/core/ultratb.py?line=702'>703</a>\u001b[0m \u001b[39m    \u001b[39m\u001b[39m\"\"\"Only print the exception type and message, without a traceback.\u001b[39;00m\n\u001b[0;32m    <a href='file:///c%3A/Users/rahul/AppData/Roaming/Python/Python311/site-packages/IPython/core/ultratb.py?line=703'>704</a>\u001b[0m \n\u001b[0;32m    <a href='file:///c%3A/Users/rahul/AppData/Roaming/Python/Python311/site-packages/IPython/core/ultratb.py?line=704'>705</a>\u001b[0m \u001b[39m    Parameters\u001b[39;00m\n\u001b[1;32m   (...)\u001b[0m\n\u001b[0;32m    <a href='file:///c%3A/Users/rahul/AppData/Roaming/Python/Python311/site-packages/IPython/core/ultratb.py?line=707'>708</a>\u001b[0m \u001b[39m    value : exception value\u001b[39;00m\n\u001b[0;32m    <a href='file:///c%3A/Users/rahul/AppData/Roaming/Python/Python311/site-packages/IPython/core/ultratb.py?line=708'>709</a>\u001b[0m \u001b[39m    \"\"\"\u001b[39;00m\n\u001b[1;32m--> <a href='file:///c%3A/Users/rahul/AppData/Roaming/Python/Python311/site-packages/IPython/core/ultratb.py?line=709'>710</a>\u001b[0m     \u001b[39mreturn\u001b[39;00m ListTB\u001b[39m.\u001b[39;49mstructured_traceback(\u001b[39mself\u001b[39;49m, etype, value)\n",
      "File \u001b[1;32m~\\AppData\\Roaming\\Python\\Python311\\site-packages\\IPython\\core\\ultratb.py:568\u001b[0m, in \u001b[0;36mListTB.structured_traceback\u001b[1;34m(self, etype, evalue, etb, tb_offset, context)\u001b[0m\n\u001b[0;32m    <a href='file:///c%3A/Users/rahul/AppData/Roaming/Python/Python311/site-packages/IPython/core/ultratb.py?line=564'>565</a>\u001b[0m     chained_exc_ids\u001b[39m.\u001b[39madd(\u001b[39mid\u001b[39m(exception[\u001b[39m1\u001b[39m]))\n\u001b[0;32m    <a href='file:///c%3A/Users/rahul/AppData/Roaming/Python/Python311/site-packages/IPython/core/ultratb.py?line=565'>566</a>\u001b[0m     chained_exceptions_tb_offset \u001b[39m=\u001b[39m \u001b[39m0\u001b[39m\n\u001b[0;32m    <a href='file:///c%3A/Users/rahul/AppData/Roaming/Python/Python311/site-packages/IPython/core/ultratb.py?line=566'>567</a>\u001b[0m     out_list \u001b[39m=\u001b[39m (\n\u001b[1;32m--> <a href='file:///c%3A/Users/rahul/AppData/Roaming/Python/Python311/site-packages/IPython/core/ultratb.py?line=567'>568</a>\u001b[0m         \u001b[39mself\u001b[39;49m\u001b[39m.\u001b[39;49mstructured_traceback(\n\u001b[0;32m    <a href='file:///c%3A/Users/rahul/AppData/Roaming/Python/Python311/site-packages/IPython/core/ultratb.py?line=568'>569</a>\u001b[0m             etype,\n\u001b[0;32m    <a href='file:///c%3A/Users/rahul/AppData/Roaming/Python/Python311/site-packages/IPython/core/ultratb.py?line=569'>570</a>\u001b[0m             evalue,\n\u001b[0;32m    <a href='file:///c%3A/Users/rahul/AppData/Roaming/Python/Python311/site-packages/IPython/core/ultratb.py?line=570'>571</a>\u001b[0m             (etb, chained_exc_ids),  \u001b[39m# type: ignore\u001b[39;49;00m\n\u001b[0;32m    <a href='file:///c%3A/Users/rahul/AppData/Roaming/Python/Python311/site-packages/IPython/core/ultratb.py?line=571'>572</a>\u001b[0m             chained_exceptions_tb_offset,\n\u001b[0;32m    <a href='file:///c%3A/Users/rahul/AppData/Roaming/Python/Python311/site-packages/IPython/core/ultratb.py?line=572'>573</a>\u001b[0m             context,\n\u001b[0;32m    <a href='file:///c%3A/Users/rahul/AppData/Roaming/Python/Python311/site-packages/IPython/core/ultratb.py?line=573'>574</a>\u001b[0m         )\n\u001b[0;32m    <a href='file:///c%3A/Users/rahul/AppData/Roaming/Python/Python311/site-packages/IPython/core/ultratb.py?line=574'>575</a>\u001b[0m         \u001b[39m+\u001b[39m chained_exception_message\n\u001b[0;32m    <a href='file:///c%3A/Users/rahul/AppData/Roaming/Python/Python311/site-packages/IPython/core/ultratb.py?line=575'>576</a>\u001b[0m         \u001b[39m+\u001b[39m out_list)\n\u001b[0;32m    <a href='file:///c%3A/Users/rahul/AppData/Roaming/Python/Python311/site-packages/IPython/core/ultratb.py?line=577'>578</a>\u001b[0m \u001b[39mreturn\u001b[39;00m out_list\n",
      "File \u001b[1;32m~\\AppData\\Roaming\\Python\\Python311\\site-packages\\IPython\\core\\ultratb.py:1435\u001b[0m, in \u001b[0;36mAutoFormattedTB.structured_traceback\u001b[1;34m(self, etype, evalue, etb, tb_offset, number_of_lines_of_context)\u001b[0m\n\u001b[0;32m   <a href='file:///c%3A/Users/rahul/AppData/Roaming/Python/Python311/site-packages/IPython/core/ultratb.py?line=1432'>1433</a>\u001b[0m \u001b[39melse\u001b[39;00m:\n\u001b[0;32m   <a href='file:///c%3A/Users/rahul/AppData/Roaming/Python/Python311/site-packages/IPython/core/ultratb.py?line=1433'>1434</a>\u001b[0m     \u001b[39mself\u001b[39m\u001b[39m.\u001b[39mtb \u001b[39m=\u001b[39m etb\n\u001b[1;32m-> <a href='file:///c%3A/Users/rahul/AppData/Roaming/Python/Python311/site-packages/IPython/core/ultratb.py?line=1434'>1435</a>\u001b[0m \u001b[39mreturn\u001b[39;00m FormattedTB\u001b[39m.\u001b[39;49mstructured_traceback(\n\u001b[0;32m   <a href='file:///c%3A/Users/rahul/AppData/Roaming/Python/Python311/site-packages/IPython/core/ultratb.py?line=1435'>1436</a>\u001b[0m     \u001b[39mself\u001b[39;49m, etype, evalue, etb, tb_offset, number_of_lines_of_context\n\u001b[0;32m   <a href='file:///c%3A/Users/rahul/AppData/Roaming/Python/Python311/site-packages/IPython/core/ultratb.py?line=1436'>1437</a>\u001b[0m )\n",
      "File \u001b[1;32m~\\AppData\\Roaming\\Python\\Python311\\site-packages\\IPython\\core\\ultratb.py:1326\u001b[0m, in \u001b[0;36mFormattedTB.structured_traceback\u001b[1;34m(self, etype, value, tb, tb_offset, number_of_lines_of_context)\u001b[0m\n\u001b[0;32m   <a href='file:///c%3A/Users/rahul/AppData/Roaming/Python/Python311/site-packages/IPython/core/ultratb.py?line=1322'>1323</a>\u001b[0m mode \u001b[39m=\u001b[39m \u001b[39mself\u001b[39m\u001b[39m.\u001b[39mmode\n\u001b[0;32m   <a href='file:///c%3A/Users/rahul/AppData/Roaming/Python/Python311/site-packages/IPython/core/ultratb.py?line=1323'>1324</a>\u001b[0m \u001b[39mif\u001b[39;00m mode \u001b[39min\u001b[39;00m \u001b[39mself\u001b[39m\u001b[39m.\u001b[39mverbose_modes:\n\u001b[0;32m   <a href='file:///c%3A/Users/rahul/AppData/Roaming/Python/Python311/site-packages/IPython/core/ultratb.py?line=1324'>1325</a>\u001b[0m     \u001b[39m# Verbose modes need a full traceback\u001b[39;00m\n\u001b[1;32m-> <a href='file:///c%3A/Users/rahul/AppData/Roaming/Python/Python311/site-packages/IPython/core/ultratb.py?line=1325'>1326</a>\u001b[0m     \u001b[39mreturn\u001b[39;00m VerboseTB\u001b[39m.\u001b[39;49mstructured_traceback(\n\u001b[0;32m   <a href='file:///c%3A/Users/rahul/AppData/Roaming/Python/Python311/site-packages/IPython/core/ultratb.py?line=1326'>1327</a>\u001b[0m         \u001b[39mself\u001b[39;49m, etype, value, tb, tb_offset, number_of_lines_of_context\n\u001b[0;32m   <a href='file:///c%3A/Users/rahul/AppData/Roaming/Python/Python311/site-packages/IPython/core/ultratb.py?line=1327'>1328</a>\u001b[0m     )\n\u001b[0;32m   <a href='file:///c%3A/Users/rahul/AppData/Roaming/Python/Python311/site-packages/IPython/core/ultratb.py?line=1328'>1329</a>\u001b[0m \u001b[39melif\u001b[39;00m mode \u001b[39m==\u001b[39m \u001b[39m'\u001b[39m\u001b[39mMinimal\u001b[39m\u001b[39m'\u001b[39m:\n\u001b[0;32m   <a href='file:///c%3A/Users/rahul/AppData/Roaming/Python/Python311/site-packages/IPython/core/ultratb.py?line=1329'>1330</a>\u001b[0m     \u001b[39mreturn\u001b[39;00m ListTB\u001b[39m.\u001b[39mget_exception_only(\u001b[39mself\u001b[39m, etype, value)\n",
      "File \u001b[1;32m~\\AppData\\Roaming\\Python\\Python311\\site-packages\\IPython\\core\\ultratb.py:1173\u001b[0m, in \u001b[0;36mVerboseTB.structured_traceback\u001b[1;34m(self, etype, evalue, etb, tb_offset, number_of_lines_of_context)\u001b[0m\n\u001b[0;32m   <a href='file:///c%3A/Users/rahul/AppData/Roaming/Python/Python311/site-packages/IPython/core/ultratb.py?line=1163'>1164</a>\u001b[0m \u001b[39mdef\u001b[39;00m \u001b[39mstructured_traceback\u001b[39m(\n\u001b[0;32m   <a href='file:///c%3A/Users/rahul/AppData/Roaming/Python/Python311/site-packages/IPython/core/ultratb.py?line=1164'>1165</a>\u001b[0m     \u001b[39mself\u001b[39m,\n\u001b[0;32m   <a href='file:///c%3A/Users/rahul/AppData/Roaming/Python/Python311/site-packages/IPython/core/ultratb.py?line=1165'>1166</a>\u001b[0m     etype: \u001b[39mtype\u001b[39m,\n\u001b[1;32m   (...)\u001b[0m\n\u001b[0;32m   <a href='file:///c%3A/Users/rahul/AppData/Roaming/Python/Python311/site-packages/IPython/core/ultratb.py?line=1169'>1170</a>\u001b[0m     number_of_lines_of_context: \u001b[39mint\u001b[39m \u001b[39m=\u001b[39m \u001b[39m5\u001b[39m,\n\u001b[0;32m   <a href='file:///c%3A/Users/rahul/AppData/Roaming/Python/Python311/site-packages/IPython/core/ultratb.py?line=1170'>1171</a>\u001b[0m ):\n\u001b[0;32m   <a href='file:///c%3A/Users/rahul/AppData/Roaming/Python/Python311/site-packages/IPython/core/ultratb.py?line=1171'>1172</a>\u001b[0m \u001b[39m    \u001b[39m\u001b[39m\"\"\"Return a nice text document describing the traceback.\"\"\"\u001b[39;00m\n\u001b[1;32m-> <a href='file:///c%3A/Users/rahul/AppData/Roaming/Python/Python311/site-packages/IPython/core/ultratb.py?line=1172'>1173</a>\u001b[0m     formatted_exception \u001b[39m=\u001b[39m \u001b[39mself\u001b[39;49m\u001b[39m.\u001b[39;49mformat_exception_as_a_whole(etype, evalue, etb, number_of_lines_of_context,\n\u001b[0;32m   <a href='file:///c%3A/Users/rahul/AppData/Roaming/Python/Python311/site-packages/IPython/core/ultratb.py?line=1173'>1174</a>\u001b[0m                                                            tb_offset)\n\u001b[0;32m   <a href='file:///c%3A/Users/rahul/AppData/Roaming/Python/Python311/site-packages/IPython/core/ultratb.py?line=1175'>1176</a>\u001b[0m     colors \u001b[39m=\u001b[39m \u001b[39mself\u001b[39m\u001b[39m.\u001b[39mColors  \u001b[39m# just a shorthand + quicker name lookup\u001b[39;00m\n\u001b[0;32m   <a href='file:///c%3A/Users/rahul/AppData/Roaming/Python/Python311/site-packages/IPython/core/ultratb.py?line=1176'>1177</a>\u001b[0m     colorsnormal \u001b[39m=\u001b[39m colors\u001b[39m.\u001b[39mNormal  \u001b[39m# used a lot\u001b[39;00m\n",
      "File \u001b[1;32m~\\AppData\\Roaming\\Python\\Python311\\site-packages\\IPython\\core\\ultratb.py:1063\u001b[0m, in \u001b[0;36mVerboseTB.format_exception_as_a_whole\u001b[1;34m(self, etype, evalue, etb, number_of_lines_of_context, tb_offset)\u001b[0m\n\u001b[0;32m   <a href='file:///c%3A/Users/rahul/AppData/Roaming/Python/Python311/site-packages/IPython/core/ultratb.py?line=1059'>1060</a>\u001b[0m \u001b[39massert\u001b[39;00m \u001b[39misinstance\u001b[39m(tb_offset, \u001b[39mint\u001b[39m)\n\u001b[0;32m   <a href='file:///c%3A/Users/rahul/AppData/Roaming/Python/Python311/site-packages/IPython/core/ultratb.py?line=1060'>1061</a>\u001b[0m head \u001b[39m=\u001b[39m \u001b[39mself\u001b[39m\u001b[39m.\u001b[39mprepare_header(\u001b[39mstr\u001b[39m(etype), \u001b[39mself\u001b[39m\u001b[39m.\u001b[39mlong_header)\n\u001b[0;32m   <a href='file:///c%3A/Users/rahul/AppData/Roaming/Python/Python311/site-packages/IPython/core/ultratb.py?line=1061'>1062</a>\u001b[0m records \u001b[39m=\u001b[39m (\n\u001b[1;32m-> <a href='file:///c%3A/Users/rahul/AppData/Roaming/Python/Python311/site-packages/IPython/core/ultratb.py?line=1062'>1063</a>\u001b[0m     \u001b[39mself\u001b[39;49m\u001b[39m.\u001b[39;49mget_records(etb, number_of_lines_of_context, tb_offset) \u001b[39mif\u001b[39;00m etb \u001b[39melse\u001b[39;00m []\n\u001b[0;32m   <a href='file:///c%3A/Users/rahul/AppData/Roaming/Python/Python311/site-packages/IPython/core/ultratb.py?line=1063'>1064</a>\u001b[0m )\n\u001b[0;32m   <a href='file:///c%3A/Users/rahul/AppData/Roaming/Python/Python311/site-packages/IPython/core/ultratb.py?line=1065'>1066</a>\u001b[0m frames \u001b[39m=\u001b[39m []\n\u001b[0;32m   <a href='file:///c%3A/Users/rahul/AppData/Roaming/Python/Python311/site-packages/IPython/core/ultratb.py?line=1066'>1067</a>\u001b[0m skipped \u001b[39m=\u001b[39m \u001b[39m0\u001b[39m\n",
      "File \u001b[1;32m~\\AppData\\Roaming\\Python\\Python311\\site-packages\\IPython\\core\\ultratb.py:1131\u001b[0m, in \u001b[0;36mVerboseTB.get_records\u001b[1;34m(self, etb, number_of_lines_of_context, tb_offset)\u001b[0m\n\u001b[0;32m   <a href='file:///c%3A/Users/rahul/AppData/Roaming/Python/Python311/site-packages/IPython/core/ultratb.py?line=1128'>1129</a>\u001b[0m \u001b[39mwhile\u001b[39;00m cf \u001b[39mis\u001b[39;00m \u001b[39mnot\u001b[39;00m \u001b[39mNone\u001b[39;00m:\n\u001b[0;32m   <a href='file:///c%3A/Users/rahul/AppData/Roaming/Python/Python311/site-packages/IPython/core/ultratb.py?line=1129'>1130</a>\u001b[0m     \u001b[39mtry\u001b[39;00m:\n\u001b[1;32m-> <a href='file:///c%3A/Users/rahul/AppData/Roaming/Python/Python311/site-packages/IPython/core/ultratb.py?line=1130'>1131</a>\u001b[0m         mod \u001b[39m=\u001b[39m inspect\u001b[39m.\u001b[39mgetmodule(cf\u001b[39m.\u001b[39;49mtb_frame)\n\u001b[0;32m   <a href='file:///c%3A/Users/rahul/AppData/Roaming/Python/Python311/site-packages/IPython/core/ultratb.py?line=1131'>1132</a>\u001b[0m         \u001b[39mif\u001b[39;00m mod \u001b[39mis\u001b[39;00m \u001b[39mnot\u001b[39;00m \u001b[39mNone\u001b[39;00m:\n\u001b[0;32m   <a href='file:///c%3A/Users/rahul/AppData/Roaming/Python/Python311/site-packages/IPython/core/ultratb.py?line=1132'>1133</a>\u001b[0m             mod_name \u001b[39m=\u001b[39m mod\u001b[39m.\u001b[39m\u001b[39m__name__\u001b[39m\n",
      "\u001b[1;31mAttributeError\u001b[0m: 'tuple' object has no attribute 'tb_frame'"
     ]
    }
   ],
   "source": [
    "import unittest\n",
    "from assignmentpkg.analysis import Analysis\n",
    "\n",
    "class TestAnalysis(unittest.TestCase):\n",
    "\n",
    "    def setUp(self):\n",
    "        config_paths = ['configs/system_config.yml', 'configs/user_config.yml']\n",
    "        self.analysis = Analysis(config_paths)\n",
    "\n",
    "    def test_calculate_mean(self):\n",
    "        # Assuming your data is loaded and a field is available for testing\n",
    "        self.analysis.load_data()\n",
    "        mean_result = self.analysis.calculate_mean('test_field')\n",
    "        self.assertIsInstance(mean_result, float, \"Mean result should be a float.\")\n",
    "\n",
    "    def test_perform_regression(self):\n",
    "        self.analysis.load_data()\n",
    "        regression_result = self.analysis.perform_regression('independent_field', 'dependent_field')\n",
    "        self.assertIsInstance(regression_result, dict, \"Regression result should be a dictionary.\")\n",
    "        self.assertIn('slope', regression_result, \"Regression result should have key 'slope'.\")\n",
    "\n",
    "    def test_plot_data(self):\n",
    "        self.analysis.load_data()\n",
    "        x = [1, 2, 3]  # Example data\n",
    "        y = [1, 4, 9]  # Example data\n",
    "        fig = self.analysis.plot_data(x, y)\n",
    "        self.assertIsInstance(fig, matplotlib.figure.Figure, \"Should return a matplotlib figure.\")\n",
    "\n",
    "if __name__ == '__main__':\n",
    "    unittest.main()\n"
   ]
  },
  {
   "cell_type": "code",
   "execution_count": 16,
   "metadata": {},
   "outputs": [
    {
     "name": "stderr",
     "output_type": "stream",
     "text": [
      "usage: ipykernel_launcher.py [-h] [-v] [-q] [--locals] [-f] [-c] [-b]\n",
      "                             [-k TESTNAMEPATTERNS]\n",
      "                             [tests ...]\n",
      "ipykernel_launcher.py: error: argument -f/--failfast: ignored explicit argument 'c:\\\\Users\\\\rahul\\\\AppData\\\\Roaming\\\\jupyter\\\\runtime\\\\kernel-v2-301521Roifa4rLGE7.json'\n"
     ]
    },
    {
     "ename": "AttributeError",
     "evalue": "'tuple' object has no attribute 'tb_frame'",
     "output_type": "error",
     "traceback": [
      "\u001b[1;31m---------------------------------------------------------------------------\u001b[0m",
      "\u001b[1;31mArgumentError\u001b[0m                             Traceback (most recent call last)",
      "File \u001b[1;32mc:\\Users\\rahul\\AppData\\Local\\Programs\\Python\\Python311\\Lib\\argparse.py:1902\u001b[0m, in \u001b[0;36mArgumentParser.parse_known_args\u001b[1;34m(self, args, namespace)\u001b[0m\n\u001b[0;32m   <a href='file:///c%3A/Users/rahul/AppData/Local/Programs/Python/Python311/Lib/argparse.py?line=1900'>1901</a>\u001b[0m \u001b[39mtry\u001b[39;00m:\n\u001b[1;32m-> <a href='file:///c%3A/Users/rahul/AppData/Local/Programs/Python/Python311/Lib/argparse.py?line=1901'>1902</a>\u001b[0m     namespace, args \u001b[39m=\u001b[39m \u001b[39mself\u001b[39;49m\u001b[39m.\u001b[39;49m_parse_known_args(args, namespace)\n\u001b[0;32m   <a href='file:///c%3A/Users/rahul/AppData/Local/Programs/Python/Python311/Lib/argparse.py?line=1902'>1903</a>\u001b[0m \u001b[39mexcept\u001b[39;00m ArgumentError \u001b[39mas\u001b[39;00m err:\n",
      "File \u001b[1;32mc:\\Users\\rahul\\AppData\\Local\\Programs\\Python\\Python311\\Lib\\argparse.py:2114\u001b[0m, in \u001b[0;36mArgumentParser._parse_known_args\u001b[1;34m(self, arg_strings, namespace)\u001b[0m\n\u001b[0;32m   <a href='file:///c%3A/Users/rahul/AppData/Local/Programs/Python/Python311/Lib/argparse.py?line=2112'>2113</a>\u001b[0m     \u001b[39m# consume the next optional and any arguments for it\u001b[39;00m\n\u001b[1;32m-> <a href='file:///c%3A/Users/rahul/AppData/Local/Programs/Python/Python311/Lib/argparse.py?line=2113'>2114</a>\u001b[0m     start_index \u001b[39m=\u001b[39m consume_optional(start_index)\n\u001b[0;32m   <a href='file:///c%3A/Users/rahul/AppData/Local/Programs/Python/Python311/Lib/argparse.py?line=2115'>2116</a>\u001b[0m \u001b[39m# consume any positionals following the last Optional\u001b[39;00m\n",
      "File \u001b[1;32mc:\\Users\\rahul\\AppData\\Local\\Programs\\Python\\Python311\\Lib\\argparse.py:2036\u001b[0m, in \u001b[0;36mArgumentParser._parse_known_args.<locals>.consume_optional\u001b[1;34m(start_index)\u001b[0m\n\u001b[0;32m   <a href='file:///c%3A/Users/rahul/AppData/Local/Programs/Python/Python311/Lib/argparse.py?line=2034'>2035</a>\u001b[0m         msg \u001b[39m=\u001b[39m _(\u001b[39m'\u001b[39m\u001b[39mignored explicit argument \u001b[39m\u001b[39m%r\u001b[39;00m\u001b[39m'\u001b[39m)\n\u001b[1;32m-> <a href='file:///c%3A/Users/rahul/AppData/Local/Programs/Python/Python311/Lib/argparse.py?line=2035'>2036</a>\u001b[0m         \u001b[39mraise\u001b[39;00m ArgumentError(action, msg \u001b[39m%\u001b[39m explicit_arg)\n\u001b[0;32m   <a href='file:///c%3A/Users/rahul/AppData/Local/Programs/Python/Python311/Lib/argparse.py?line=2037'>2038</a>\u001b[0m \u001b[39m# if there is no explicit argument, try to match the\u001b[39;00m\n\u001b[0;32m   <a href='file:///c%3A/Users/rahul/AppData/Local/Programs/Python/Python311/Lib/argparse.py?line=2038'>2039</a>\u001b[0m \u001b[39m# optional's string arguments with the following strings\u001b[39;00m\n\u001b[0;32m   <a href='file:///c%3A/Users/rahul/AppData/Local/Programs/Python/Python311/Lib/argparse.py?line=2039'>2040</a>\u001b[0m \u001b[39m# if successful, exit the loop\u001b[39;00m\n\u001b[0;32m   <a href='file:///c%3A/Users/rahul/AppData/Local/Programs/Python/Python311/Lib/argparse.py?line=2040'>2041</a>\u001b[0m \u001b[39melse\u001b[39;00m:\n",
      "\u001b[1;31mArgumentError\u001b[0m: argument -f/--failfast: ignored explicit argument 'c:\\\\Users\\\\rahul\\\\AppData\\\\Roaming\\\\jupyter\\\\runtime\\\\kernel-v2-301521Roifa4rLGE7.json'",
      "\nDuring handling of the above exception, another exception occurred:\n",
      "\u001b[1;31mSystemExit\u001b[0m                                Traceback (most recent call last)",
      "    \u001b[1;31m[... skipping hidden 1 frame]\u001b[0m\n",
      "Cell \u001b[1;32mIn[16], line 30\u001b[0m\n\u001b[0;32m     29\u001b[0m \u001b[39mif\u001b[39;00m \u001b[39m__name__\u001b[39m \u001b[39m==\u001b[39m \u001b[39m'\u001b[39m\u001b[39m__main__\u001b[39m\u001b[39m'\u001b[39m:\n\u001b[1;32m---> 30\u001b[0m     unittest\u001b[39m.\u001b[39;49mmain()\n\u001b[0;32m     31\u001b[0m \u001b[39mif\u001b[39;00m \u001b[39m__name__\u001b[39m \u001b[39m==\u001b[39m \u001b[39m'\u001b[39m\u001b[39m__main__\u001b[39m\u001b[39m'\u001b[39m:\n",
      "File \u001b[1;32mc:\\Users\\rahul\\AppData\\Local\\Programs\\Python\\Python311\\Lib\\unittest\\main.py:101\u001b[0m, in \u001b[0;36mTestProgram.__init__\u001b[1;34m(self, module, defaultTest, argv, testRunner, testLoader, exit, verbosity, failfast, catchbreak, buffer, warnings, tb_locals)\u001b[0m\n\u001b[0;32m    <a href='file:///c%3A/Users/rahul/AppData/Local/Programs/Python/Python311/Lib/unittest/main.py?line=99'>100</a>\u001b[0m \u001b[39mself\u001b[39m\u001b[39m.\u001b[39mprogName \u001b[39m=\u001b[39m os\u001b[39m.\u001b[39mpath\u001b[39m.\u001b[39mbasename(argv[\u001b[39m0\u001b[39m])\n\u001b[1;32m--> <a href='file:///c%3A/Users/rahul/AppData/Local/Programs/Python/Python311/Lib/unittest/main.py?line=100'>101</a>\u001b[0m \u001b[39mself\u001b[39;49m\u001b[39m.\u001b[39;49mparseArgs(argv)\n\u001b[0;32m    <a href='file:///c%3A/Users/rahul/AppData/Local/Programs/Python/Python311/Lib/unittest/main.py?line=101'>102</a>\u001b[0m \u001b[39mself\u001b[39m\u001b[39m.\u001b[39mrunTests()\n",
      "File \u001b[1;32mc:\\Users\\rahul\\AppData\\Local\\Programs\\Python\\Python311\\Lib\\unittest\\main.py:136\u001b[0m, in \u001b[0;36mTestProgram.parseArgs\u001b[1;34m(self, argv)\u001b[0m\n\u001b[0;32m    <a href='file:///c%3A/Users/rahul/AppData/Local/Programs/Python/Python311/Lib/unittest/main.py?line=134'>135</a>\u001b[0m \u001b[39melse\u001b[39;00m:\n\u001b[1;32m--> <a href='file:///c%3A/Users/rahul/AppData/Local/Programs/Python/Python311/Lib/unittest/main.py?line=135'>136</a>\u001b[0m     \u001b[39mself\u001b[39;49m\u001b[39m.\u001b[39;49m_main_parser\u001b[39m.\u001b[39;49mparse_args(argv[\u001b[39m1\u001b[39;49m:], \u001b[39mself\u001b[39;49m)\n\u001b[0;32m    <a href='file:///c%3A/Users/rahul/AppData/Local/Programs/Python/Python311/Lib/unittest/main.py?line=137'>138</a>\u001b[0m \u001b[39mif\u001b[39;00m \u001b[39mself\u001b[39m\u001b[39m.\u001b[39mtests:\n",
      "File \u001b[1;32mc:\\Users\\rahul\\AppData\\Local\\Programs\\Python\\Python311\\Lib\\argparse.py:1869\u001b[0m, in \u001b[0;36mArgumentParser.parse_args\u001b[1;34m(self, args, namespace)\u001b[0m\n\u001b[0;32m   <a href='file:///c%3A/Users/rahul/AppData/Local/Programs/Python/Python311/Lib/argparse.py?line=1867'>1868</a>\u001b[0m \u001b[39mdef\u001b[39;00m \u001b[39mparse_args\u001b[39m(\u001b[39mself\u001b[39m, args\u001b[39m=\u001b[39m\u001b[39mNone\u001b[39;00m, namespace\u001b[39m=\u001b[39m\u001b[39mNone\u001b[39;00m):\n\u001b[1;32m-> <a href='file:///c%3A/Users/rahul/AppData/Local/Programs/Python/Python311/Lib/argparse.py?line=1868'>1869</a>\u001b[0m     args, argv \u001b[39m=\u001b[39m \u001b[39mself\u001b[39;49m\u001b[39m.\u001b[39;49mparse_known_args(args, namespace)\n\u001b[0;32m   <a href='file:///c%3A/Users/rahul/AppData/Local/Programs/Python/Python311/Lib/argparse.py?line=1869'>1870</a>\u001b[0m     \u001b[39mif\u001b[39;00m argv:\n",
      "File \u001b[1;32mc:\\Users\\rahul\\AppData\\Local\\Programs\\Python\\Python311\\Lib\\argparse.py:1904\u001b[0m, in \u001b[0;36mArgumentParser.parse_known_args\u001b[1;34m(self, args, namespace)\u001b[0m\n\u001b[0;32m   <a href='file:///c%3A/Users/rahul/AppData/Local/Programs/Python/Python311/Lib/argparse.py?line=1902'>1903</a>\u001b[0m     \u001b[39mexcept\u001b[39;00m ArgumentError \u001b[39mas\u001b[39;00m err:\n\u001b[1;32m-> <a href='file:///c%3A/Users/rahul/AppData/Local/Programs/Python/Python311/Lib/argparse.py?line=1903'>1904</a>\u001b[0m         \u001b[39mself\u001b[39;49m\u001b[39m.\u001b[39;49merror(\u001b[39mstr\u001b[39;49m(err))\n\u001b[0;32m   <a href='file:///c%3A/Users/rahul/AppData/Local/Programs/Python/Python311/Lib/argparse.py?line=1904'>1905</a>\u001b[0m \u001b[39melse\u001b[39;00m:\n",
      "File \u001b[1;32mc:\\Users\\rahul\\AppData\\Local\\Programs\\Python\\Python311\\Lib\\argparse.py:2630\u001b[0m, in \u001b[0;36mArgumentParser.error\u001b[1;34m(self, message)\u001b[0m\n\u001b[0;32m   <a href='file:///c%3A/Users/rahul/AppData/Local/Programs/Python/Python311/Lib/argparse.py?line=2628'>2629</a>\u001b[0m args \u001b[39m=\u001b[39m {\u001b[39m'\u001b[39m\u001b[39mprog\u001b[39m\u001b[39m'\u001b[39m: \u001b[39mself\u001b[39m\u001b[39m.\u001b[39mprog, \u001b[39m'\u001b[39m\u001b[39mmessage\u001b[39m\u001b[39m'\u001b[39m: message}\n\u001b[1;32m-> <a href='file:///c%3A/Users/rahul/AppData/Local/Programs/Python/Python311/Lib/argparse.py?line=2629'>2630</a>\u001b[0m \u001b[39mself\u001b[39;49m\u001b[39m.\u001b[39;49mexit(\u001b[39m2\u001b[39;49m, _(\u001b[39m'\u001b[39;49m\u001b[39m%(prog)s\u001b[39;49;00m\u001b[39m: error: \u001b[39;49m\u001b[39m%(message)s\u001b[39;49;00m\u001b[39m\\n\u001b[39;49;00m\u001b[39m'\u001b[39;49m) \u001b[39m%\u001b[39;49m args)\n",
      "File \u001b[1;32mc:\\Users\\rahul\\AppData\\Local\\Programs\\Python\\Python311\\Lib\\argparse.py:2617\u001b[0m, in \u001b[0;36mArgumentParser.exit\u001b[1;34m(self, status, message)\u001b[0m\n\u001b[0;32m   <a href='file:///c%3A/Users/rahul/AppData/Local/Programs/Python/Python311/Lib/argparse.py?line=2615'>2616</a>\u001b[0m     \u001b[39mself\u001b[39m\u001b[39m.\u001b[39m_print_message(message, _sys\u001b[39m.\u001b[39mstderr)\n\u001b[1;32m-> <a href='file:///c%3A/Users/rahul/AppData/Local/Programs/Python/Python311/Lib/argparse.py?line=2616'>2617</a>\u001b[0m _sys\u001b[39m.\u001b[39;49mexit(status)\n",
      "\u001b[1;31mSystemExit\u001b[0m: 2",
      "\nDuring handling of the above exception, another exception occurred:\n",
      "\u001b[1;31mAttributeError\u001b[0m                            Traceback (most recent call last)",
      "    \u001b[1;31m[... skipping hidden 1 frame]\u001b[0m\n",
      "File \u001b[1;32m~\\AppData\\Roaming\\Python\\Python311\\site-packages\\IPython\\core\\interactiveshell.py:2121\u001b[0m, in \u001b[0;36mInteractiveShell.showtraceback\u001b[1;34m(self, exc_tuple, filename, tb_offset, exception_only, running_compiled_code)\u001b[0m\n\u001b[0;32m   <a href='file:///c%3A/Users/rahul/AppData/Roaming/Python/Python311/site-packages/IPython/core/interactiveshell.py?line=2117'>2118</a>\u001b[0m \u001b[39mif\u001b[39;00m exception_only:\n\u001b[0;32m   <a href='file:///c%3A/Users/rahul/AppData/Roaming/Python/Python311/site-packages/IPython/core/interactiveshell.py?line=2118'>2119</a>\u001b[0m     stb \u001b[39m=\u001b[39m [\u001b[39m'\u001b[39m\u001b[39mAn exception has occurred, use \u001b[39m\u001b[39m%\u001b[39m\u001b[39mtb to see \u001b[39m\u001b[39m'\u001b[39m\n\u001b[0;32m   <a href='file:///c%3A/Users/rahul/AppData/Roaming/Python/Python311/site-packages/IPython/core/interactiveshell.py?line=2119'>2120</a>\u001b[0m            \u001b[39m'\u001b[39m\u001b[39mthe full traceback.\u001b[39m\u001b[39m\\n\u001b[39;00m\u001b[39m'\u001b[39m]\n\u001b[1;32m-> <a href='file:///c%3A/Users/rahul/AppData/Roaming/Python/Python311/site-packages/IPython/core/interactiveshell.py?line=2120'>2121</a>\u001b[0m     stb\u001b[39m.\u001b[39mextend(\u001b[39mself\u001b[39;49m\u001b[39m.\u001b[39;49mInteractiveTB\u001b[39m.\u001b[39;49mget_exception_only(etype,\n\u001b[0;32m   <a href='file:///c%3A/Users/rahul/AppData/Roaming/Python/Python311/site-packages/IPython/core/interactiveshell.py?line=2121'>2122</a>\u001b[0m                                                      value))\n\u001b[0;32m   <a href='file:///c%3A/Users/rahul/AppData/Roaming/Python/Python311/site-packages/IPython/core/interactiveshell.py?line=2122'>2123</a>\u001b[0m \u001b[39melse\u001b[39;00m:\n\u001b[0;32m   <a href='file:///c%3A/Users/rahul/AppData/Roaming/Python/Python311/site-packages/IPython/core/interactiveshell.py?line=2124'>2125</a>\u001b[0m     \u001b[39mdef\u001b[39;00m \u001b[39mcontains_exceptiongroup\u001b[39m(val):\n",
      "File \u001b[1;32m~\\AppData\\Roaming\\Python\\Python311\\site-packages\\IPython\\core\\ultratb.py:710\u001b[0m, in \u001b[0;36mListTB.get_exception_only\u001b[1;34m(self, etype, value)\u001b[0m\n\u001b[0;32m    <a href='file:///c%3A/Users/rahul/AppData/Roaming/Python/Python311/site-packages/IPython/core/ultratb.py?line=701'>702</a>\u001b[0m \u001b[39mdef\u001b[39;00m \u001b[39mget_exception_only\u001b[39m(\u001b[39mself\u001b[39m, etype, value):\n\u001b[0;32m    <a href='file:///c%3A/Users/rahul/AppData/Roaming/Python/Python311/site-packages/IPython/core/ultratb.py?line=702'>703</a>\u001b[0m \u001b[39m    \u001b[39m\u001b[39m\"\"\"Only print the exception type and message, without a traceback.\u001b[39;00m\n\u001b[0;32m    <a href='file:///c%3A/Users/rahul/AppData/Roaming/Python/Python311/site-packages/IPython/core/ultratb.py?line=703'>704</a>\u001b[0m \n\u001b[0;32m    <a href='file:///c%3A/Users/rahul/AppData/Roaming/Python/Python311/site-packages/IPython/core/ultratb.py?line=704'>705</a>\u001b[0m \u001b[39m    Parameters\u001b[39;00m\n\u001b[1;32m   (...)\u001b[0m\n\u001b[0;32m    <a href='file:///c%3A/Users/rahul/AppData/Roaming/Python/Python311/site-packages/IPython/core/ultratb.py?line=707'>708</a>\u001b[0m \u001b[39m    value : exception value\u001b[39;00m\n\u001b[0;32m    <a href='file:///c%3A/Users/rahul/AppData/Roaming/Python/Python311/site-packages/IPython/core/ultratb.py?line=708'>709</a>\u001b[0m \u001b[39m    \"\"\"\u001b[39;00m\n\u001b[1;32m--> <a href='file:///c%3A/Users/rahul/AppData/Roaming/Python/Python311/site-packages/IPython/core/ultratb.py?line=709'>710</a>\u001b[0m     \u001b[39mreturn\u001b[39;00m ListTB\u001b[39m.\u001b[39;49mstructured_traceback(\u001b[39mself\u001b[39;49m, etype, value)\n",
      "File \u001b[1;32m~\\AppData\\Roaming\\Python\\Python311\\site-packages\\IPython\\core\\ultratb.py:568\u001b[0m, in \u001b[0;36mListTB.structured_traceback\u001b[1;34m(self, etype, evalue, etb, tb_offset, context)\u001b[0m\n\u001b[0;32m    <a href='file:///c%3A/Users/rahul/AppData/Roaming/Python/Python311/site-packages/IPython/core/ultratb.py?line=564'>565</a>\u001b[0m     chained_exc_ids\u001b[39m.\u001b[39madd(\u001b[39mid\u001b[39m(exception[\u001b[39m1\u001b[39m]))\n\u001b[0;32m    <a href='file:///c%3A/Users/rahul/AppData/Roaming/Python/Python311/site-packages/IPython/core/ultratb.py?line=565'>566</a>\u001b[0m     chained_exceptions_tb_offset \u001b[39m=\u001b[39m \u001b[39m0\u001b[39m\n\u001b[0;32m    <a href='file:///c%3A/Users/rahul/AppData/Roaming/Python/Python311/site-packages/IPython/core/ultratb.py?line=566'>567</a>\u001b[0m     out_list \u001b[39m=\u001b[39m (\n\u001b[1;32m--> <a href='file:///c%3A/Users/rahul/AppData/Roaming/Python/Python311/site-packages/IPython/core/ultratb.py?line=567'>568</a>\u001b[0m         \u001b[39mself\u001b[39;49m\u001b[39m.\u001b[39;49mstructured_traceback(\n\u001b[0;32m    <a href='file:///c%3A/Users/rahul/AppData/Roaming/Python/Python311/site-packages/IPython/core/ultratb.py?line=568'>569</a>\u001b[0m             etype,\n\u001b[0;32m    <a href='file:///c%3A/Users/rahul/AppData/Roaming/Python/Python311/site-packages/IPython/core/ultratb.py?line=569'>570</a>\u001b[0m             evalue,\n\u001b[0;32m    <a href='file:///c%3A/Users/rahul/AppData/Roaming/Python/Python311/site-packages/IPython/core/ultratb.py?line=570'>571</a>\u001b[0m             (etb, chained_exc_ids),  \u001b[39m# type: ignore\u001b[39;49;00m\n\u001b[0;32m    <a href='file:///c%3A/Users/rahul/AppData/Roaming/Python/Python311/site-packages/IPython/core/ultratb.py?line=571'>572</a>\u001b[0m             chained_exceptions_tb_offset,\n\u001b[0;32m    <a href='file:///c%3A/Users/rahul/AppData/Roaming/Python/Python311/site-packages/IPython/core/ultratb.py?line=572'>573</a>\u001b[0m             context,\n\u001b[0;32m    <a href='file:///c%3A/Users/rahul/AppData/Roaming/Python/Python311/site-packages/IPython/core/ultratb.py?line=573'>574</a>\u001b[0m         )\n\u001b[0;32m    <a href='file:///c%3A/Users/rahul/AppData/Roaming/Python/Python311/site-packages/IPython/core/ultratb.py?line=574'>575</a>\u001b[0m         \u001b[39m+\u001b[39m chained_exception_message\n\u001b[0;32m    <a href='file:///c%3A/Users/rahul/AppData/Roaming/Python/Python311/site-packages/IPython/core/ultratb.py?line=575'>576</a>\u001b[0m         \u001b[39m+\u001b[39m out_list)\n\u001b[0;32m    <a href='file:///c%3A/Users/rahul/AppData/Roaming/Python/Python311/site-packages/IPython/core/ultratb.py?line=577'>578</a>\u001b[0m \u001b[39mreturn\u001b[39;00m out_list\n",
      "File \u001b[1;32m~\\AppData\\Roaming\\Python\\Python311\\site-packages\\IPython\\core\\ultratb.py:1435\u001b[0m, in \u001b[0;36mAutoFormattedTB.structured_traceback\u001b[1;34m(self, etype, evalue, etb, tb_offset, number_of_lines_of_context)\u001b[0m\n\u001b[0;32m   <a href='file:///c%3A/Users/rahul/AppData/Roaming/Python/Python311/site-packages/IPython/core/ultratb.py?line=1432'>1433</a>\u001b[0m \u001b[39melse\u001b[39;00m:\n\u001b[0;32m   <a href='file:///c%3A/Users/rahul/AppData/Roaming/Python/Python311/site-packages/IPython/core/ultratb.py?line=1433'>1434</a>\u001b[0m     \u001b[39mself\u001b[39m\u001b[39m.\u001b[39mtb \u001b[39m=\u001b[39m etb\n\u001b[1;32m-> <a href='file:///c%3A/Users/rahul/AppData/Roaming/Python/Python311/site-packages/IPython/core/ultratb.py?line=1434'>1435</a>\u001b[0m \u001b[39mreturn\u001b[39;00m FormattedTB\u001b[39m.\u001b[39;49mstructured_traceback(\n\u001b[0;32m   <a href='file:///c%3A/Users/rahul/AppData/Roaming/Python/Python311/site-packages/IPython/core/ultratb.py?line=1435'>1436</a>\u001b[0m     \u001b[39mself\u001b[39;49m, etype, evalue, etb, tb_offset, number_of_lines_of_context\n\u001b[0;32m   <a href='file:///c%3A/Users/rahul/AppData/Roaming/Python/Python311/site-packages/IPython/core/ultratb.py?line=1436'>1437</a>\u001b[0m )\n",
      "File \u001b[1;32m~\\AppData\\Roaming\\Python\\Python311\\site-packages\\IPython\\core\\ultratb.py:1326\u001b[0m, in \u001b[0;36mFormattedTB.structured_traceback\u001b[1;34m(self, etype, value, tb, tb_offset, number_of_lines_of_context)\u001b[0m\n\u001b[0;32m   <a href='file:///c%3A/Users/rahul/AppData/Roaming/Python/Python311/site-packages/IPython/core/ultratb.py?line=1322'>1323</a>\u001b[0m mode \u001b[39m=\u001b[39m \u001b[39mself\u001b[39m\u001b[39m.\u001b[39mmode\n\u001b[0;32m   <a href='file:///c%3A/Users/rahul/AppData/Roaming/Python/Python311/site-packages/IPython/core/ultratb.py?line=1323'>1324</a>\u001b[0m \u001b[39mif\u001b[39;00m mode \u001b[39min\u001b[39;00m \u001b[39mself\u001b[39m\u001b[39m.\u001b[39mverbose_modes:\n\u001b[0;32m   <a href='file:///c%3A/Users/rahul/AppData/Roaming/Python/Python311/site-packages/IPython/core/ultratb.py?line=1324'>1325</a>\u001b[0m     \u001b[39m# Verbose modes need a full traceback\u001b[39;00m\n\u001b[1;32m-> <a href='file:///c%3A/Users/rahul/AppData/Roaming/Python/Python311/site-packages/IPython/core/ultratb.py?line=1325'>1326</a>\u001b[0m     \u001b[39mreturn\u001b[39;00m VerboseTB\u001b[39m.\u001b[39;49mstructured_traceback(\n\u001b[0;32m   <a href='file:///c%3A/Users/rahul/AppData/Roaming/Python/Python311/site-packages/IPython/core/ultratb.py?line=1326'>1327</a>\u001b[0m         \u001b[39mself\u001b[39;49m, etype, value, tb, tb_offset, number_of_lines_of_context\n\u001b[0;32m   <a href='file:///c%3A/Users/rahul/AppData/Roaming/Python/Python311/site-packages/IPython/core/ultratb.py?line=1327'>1328</a>\u001b[0m     )\n\u001b[0;32m   <a href='file:///c%3A/Users/rahul/AppData/Roaming/Python/Python311/site-packages/IPython/core/ultratb.py?line=1328'>1329</a>\u001b[0m \u001b[39melif\u001b[39;00m mode \u001b[39m==\u001b[39m \u001b[39m'\u001b[39m\u001b[39mMinimal\u001b[39m\u001b[39m'\u001b[39m:\n\u001b[0;32m   <a href='file:///c%3A/Users/rahul/AppData/Roaming/Python/Python311/site-packages/IPython/core/ultratb.py?line=1329'>1330</a>\u001b[0m     \u001b[39mreturn\u001b[39;00m ListTB\u001b[39m.\u001b[39mget_exception_only(\u001b[39mself\u001b[39m, etype, value)\n",
      "File \u001b[1;32m~\\AppData\\Roaming\\Python\\Python311\\site-packages\\IPython\\core\\ultratb.py:1173\u001b[0m, in \u001b[0;36mVerboseTB.structured_traceback\u001b[1;34m(self, etype, evalue, etb, tb_offset, number_of_lines_of_context)\u001b[0m\n\u001b[0;32m   <a href='file:///c%3A/Users/rahul/AppData/Roaming/Python/Python311/site-packages/IPython/core/ultratb.py?line=1163'>1164</a>\u001b[0m \u001b[39mdef\u001b[39;00m \u001b[39mstructured_traceback\u001b[39m(\n\u001b[0;32m   <a href='file:///c%3A/Users/rahul/AppData/Roaming/Python/Python311/site-packages/IPython/core/ultratb.py?line=1164'>1165</a>\u001b[0m     \u001b[39mself\u001b[39m,\n\u001b[0;32m   <a href='file:///c%3A/Users/rahul/AppData/Roaming/Python/Python311/site-packages/IPython/core/ultratb.py?line=1165'>1166</a>\u001b[0m     etype: \u001b[39mtype\u001b[39m,\n\u001b[1;32m   (...)\u001b[0m\n\u001b[0;32m   <a href='file:///c%3A/Users/rahul/AppData/Roaming/Python/Python311/site-packages/IPython/core/ultratb.py?line=1169'>1170</a>\u001b[0m     number_of_lines_of_context: \u001b[39mint\u001b[39m \u001b[39m=\u001b[39m \u001b[39m5\u001b[39m,\n\u001b[0;32m   <a href='file:///c%3A/Users/rahul/AppData/Roaming/Python/Python311/site-packages/IPython/core/ultratb.py?line=1170'>1171</a>\u001b[0m ):\n\u001b[0;32m   <a href='file:///c%3A/Users/rahul/AppData/Roaming/Python/Python311/site-packages/IPython/core/ultratb.py?line=1171'>1172</a>\u001b[0m \u001b[39m    \u001b[39m\u001b[39m\"\"\"Return a nice text document describing the traceback.\"\"\"\u001b[39;00m\n\u001b[1;32m-> <a href='file:///c%3A/Users/rahul/AppData/Roaming/Python/Python311/site-packages/IPython/core/ultratb.py?line=1172'>1173</a>\u001b[0m     formatted_exception \u001b[39m=\u001b[39m \u001b[39mself\u001b[39;49m\u001b[39m.\u001b[39;49mformat_exception_as_a_whole(etype, evalue, etb, number_of_lines_of_context,\n\u001b[0;32m   <a href='file:///c%3A/Users/rahul/AppData/Roaming/Python/Python311/site-packages/IPython/core/ultratb.py?line=1173'>1174</a>\u001b[0m                                                            tb_offset)\n\u001b[0;32m   <a href='file:///c%3A/Users/rahul/AppData/Roaming/Python/Python311/site-packages/IPython/core/ultratb.py?line=1175'>1176</a>\u001b[0m     colors \u001b[39m=\u001b[39m \u001b[39mself\u001b[39m\u001b[39m.\u001b[39mColors  \u001b[39m# just a shorthand + quicker name lookup\u001b[39;00m\n\u001b[0;32m   <a href='file:///c%3A/Users/rahul/AppData/Roaming/Python/Python311/site-packages/IPython/core/ultratb.py?line=1176'>1177</a>\u001b[0m     colorsnormal \u001b[39m=\u001b[39m colors\u001b[39m.\u001b[39mNormal  \u001b[39m# used a lot\u001b[39;00m\n",
      "File \u001b[1;32m~\\AppData\\Roaming\\Python\\Python311\\site-packages\\IPython\\core\\ultratb.py:1063\u001b[0m, in \u001b[0;36mVerboseTB.format_exception_as_a_whole\u001b[1;34m(self, etype, evalue, etb, number_of_lines_of_context, tb_offset)\u001b[0m\n\u001b[0;32m   <a href='file:///c%3A/Users/rahul/AppData/Roaming/Python/Python311/site-packages/IPython/core/ultratb.py?line=1059'>1060</a>\u001b[0m \u001b[39massert\u001b[39;00m \u001b[39misinstance\u001b[39m(tb_offset, \u001b[39mint\u001b[39m)\n\u001b[0;32m   <a href='file:///c%3A/Users/rahul/AppData/Roaming/Python/Python311/site-packages/IPython/core/ultratb.py?line=1060'>1061</a>\u001b[0m head \u001b[39m=\u001b[39m \u001b[39mself\u001b[39m\u001b[39m.\u001b[39mprepare_header(\u001b[39mstr\u001b[39m(etype), \u001b[39mself\u001b[39m\u001b[39m.\u001b[39mlong_header)\n\u001b[0;32m   <a href='file:///c%3A/Users/rahul/AppData/Roaming/Python/Python311/site-packages/IPython/core/ultratb.py?line=1061'>1062</a>\u001b[0m records \u001b[39m=\u001b[39m (\n\u001b[1;32m-> <a href='file:///c%3A/Users/rahul/AppData/Roaming/Python/Python311/site-packages/IPython/core/ultratb.py?line=1062'>1063</a>\u001b[0m     \u001b[39mself\u001b[39;49m\u001b[39m.\u001b[39;49mget_records(etb, number_of_lines_of_context, tb_offset) \u001b[39mif\u001b[39;00m etb \u001b[39melse\u001b[39;00m []\n\u001b[0;32m   <a href='file:///c%3A/Users/rahul/AppData/Roaming/Python/Python311/site-packages/IPython/core/ultratb.py?line=1063'>1064</a>\u001b[0m )\n\u001b[0;32m   <a href='file:///c%3A/Users/rahul/AppData/Roaming/Python/Python311/site-packages/IPython/core/ultratb.py?line=1065'>1066</a>\u001b[0m frames \u001b[39m=\u001b[39m []\n\u001b[0;32m   <a href='file:///c%3A/Users/rahul/AppData/Roaming/Python/Python311/site-packages/IPython/core/ultratb.py?line=1066'>1067</a>\u001b[0m skipped \u001b[39m=\u001b[39m \u001b[39m0\u001b[39m\n",
      "File \u001b[1;32m~\\AppData\\Roaming\\Python\\Python311\\site-packages\\IPython\\core\\ultratb.py:1131\u001b[0m, in \u001b[0;36mVerboseTB.get_records\u001b[1;34m(self, etb, number_of_lines_of_context, tb_offset)\u001b[0m\n\u001b[0;32m   <a href='file:///c%3A/Users/rahul/AppData/Roaming/Python/Python311/site-packages/IPython/core/ultratb.py?line=1128'>1129</a>\u001b[0m \u001b[39mwhile\u001b[39;00m cf \u001b[39mis\u001b[39;00m \u001b[39mnot\u001b[39;00m \u001b[39mNone\u001b[39;00m:\n\u001b[0;32m   <a href='file:///c%3A/Users/rahul/AppData/Roaming/Python/Python311/site-packages/IPython/core/ultratb.py?line=1129'>1130</a>\u001b[0m     \u001b[39mtry\u001b[39;00m:\n\u001b[1;32m-> <a href='file:///c%3A/Users/rahul/AppData/Roaming/Python/Python311/site-packages/IPython/core/ultratb.py?line=1130'>1131</a>\u001b[0m         mod \u001b[39m=\u001b[39m inspect\u001b[39m.\u001b[39mgetmodule(cf\u001b[39m.\u001b[39;49mtb_frame)\n\u001b[0;32m   <a href='file:///c%3A/Users/rahul/AppData/Roaming/Python/Python311/site-packages/IPython/core/ultratb.py?line=1131'>1132</a>\u001b[0m         \u001b[39mif\u001b[39;00m mod \u001b[39mis\u001b[39;00m \u001b[39mnot\u001b[39;00m \u001b[39mNone\u001b[39;00m:\n\u001b[0;32m   <a href='file:///c%3A/Users/rahul/AppData/Roaming/Python/Python311/site-packages/IPython/core/ultratb.py?line=1132'>1133</a>\u001b[0m             mod_name \u001b[39m=\u001b[39m mod\u001b[39m.\u001b[39m\u001b[39m__name__\u001b[39m\n",
      "\u001b[1;31mAttributeError\u001b[0m: 'tuple' object has no attribute 'tb_frame'"
     ]
    }
   ],
   "source": [
    "import unittest\n",
    "from assignmentpkg.analysis import Analysis\n",
    "\n",
    "class TestAnalysis(unittest.TestCase):\n",
    "\n",
    "    def setUp(self):\n",
    "        config_paths = ['configs/system_config.yml', 'configs/user_config.yml']\n",
    "        self.analysis = Analysis(config_paths)\n",
    "\n",
    "    def test_calculate_mean(self):\n",
    "        # Assuming your data is loaded and a field is available for testing\n",
    "        self.analysis.load_data()\n",
    "        mean_result = self.analysis.calculate_mean('test_field')\n",
    "        self.assertIsInstance(mean_result, float, \"Mean result should be a float.\")\n",
    "\n",
    "    def test_perform_regression(self):\n",
    "        self.analysis.load_data()\n",
    "        regression_result = self.analysis.perform_regression('independent_field', 'dependent_field')\n",
    "        self.assertIsInstance(regression_result, dict, \"Regression result should be a dictionary.\")\n",
    "        self.assertIn('slope', regression_result, \"Regression result should have key 'slope'.\")\n",
    "\n",
    "    def test_plot_data(self):\n",
    "        self.analysis.load_data()\n",
    "        x = [1, 2, 3]  # Example data\n",
    "        y = [1, 4, 9]  # Example data\n",
    "        fig = self.analysis.plot_data(x, y)\n",
    "        self.assertIsInstance(fig, matplotlib.figure.Figure, \"Should return a matplotlib figure.\")\n",
    "\n",
    "if __name__ == '__main__':\n",
    "    unittest.main()\n",
    "if __name__ == '__main__':\n",
    "    unittest.main(argv=['first-arg-is-ignored'], exit=False)\n"
   ]
  },
  {
   "cell_type": "code",
   "execution_count": 17,
   "metadata": {},
   "outputs": [
    {
     "ename": "IndexError",
     "evalue": "list index out of range",
     "output_type": "error",
     "traceback": [
      "\u001b[1;31m---------------------------------------------------------------------------\u001b[0m",
      "\u001b[1;31mIndexError\u001b[0m                                Traceback (most recent call last)",
      "Cell \u001b[1;32mIn[17], line 25\u001b[0m\n\u001b[0;32m     22\u001b[0m     \u001b[39m# Additional test methods for other functionalities can be added here\u001b[39;00m\n\u001b[0;32m     24\u001b[0m \u001b[39mif\u001b[39;00m \u001b[39m__name__\u001b[39m \u001b[39m==\u001b[39m \u001b[39m'\u001b[39m\u001b[39m__main__\u001b[39m\u001b[39m'\u001b[39m:\n\u001b[1;32m---> 25\u001b[0m     unittest\u001b[39m.\u001b[39;49mmain(argv\u001b[39m=\u001b[39;49m[], exit\u001b[39m=\u001b[39;49m\u001b[39mFalse\u001b[39;49;00m)\n",
      "File \u001b[1;32mc:\\Users\\rahul\\AppData\\Local\\Programs\\Python\\Python311\\Lib\\unittest\\main.py:100\u001b[0m, in \u001b[0;36mTestProgram.__init__\u001b[1;34m(self, module, defaultTest, argv, testRunner, testLoader, exit, verbosity, failfast, catchbreak, buffer, warnings, tb_locals)\u001b[0m\n\u001b[0;32m     <a href='file:///c%3A/Users/rahul/AppData/Local/Programs/Python/Python311/Lib/unittest/main.py?line=97'>98</a>\u001b[0m \u001b[39mself\u001b[39m\u001b[39m.\u001b[39mtestRunner \u001b[39m=\u001b[39m testRunner\n\u001b[0;32m     <a href='file:///c%3A/Users/rahul/AppData/Local/Programs/Python/Python311/Lib/unittest/main.py?line=98'>99</a>\u001b[0m \u001b[39mself\u001b[39m\u001b[39m.\u001b[39mtestLoader \u001b[39m=\u001b[39m testLoader\n\u001b[1;32m--> <a href='file:///c%3A/Users/rahul/AppData/Local/Programs/Python/Python311/Lib/unittest/main.py?line=99'>100</a>\u001b[0m \u001b[39mself\u001b[39m\u001b[39m.\u001b[39mprogName \u001b[39m=\u001b[39m os\u001b[39m.\u001b[39mpath\u001b[39m.\u001b[39mbasename(argv[\u001b[39m0\u001b[39;49m])\n\u001b[0;32m    <a href='file:///c%3A/Users/rahul/AppData/Local/Programs/Python/Python311/Lib/unittest/main.py?line=100'>101</a>\u001b[0m \u001b[39mself\u001b[39m\u001b[39m.\u001b[39mparseArgs(argv)\n\u001b[0;32m    <a href='file:///c%3A/Users/rahul/AppData/Local/Programs/Python/Python311/Lib/unittest/main.py?line=101'>102</a>\u001b[0m \u001b[39mself\u001b[39m\u001b[39m.\u001b[39mrunTests()\n",
      "\u001b[1;31mIndexError\u001b[0m: list index out of range"
     ]
    }
   ],
   "source": [
    "import unittest\n",
    "from assignmentpkg.analysis import Analysis\n",
    "\n",
    "class TestAnalysis(unittest.TestCase):\n",
    "\n",
    "    def setUp(self):\n",
    "        # Adjust the path according to your setup\n",
    "        self.config_path = r'C:\\Users\\rahul\\Desktop\\Assignmentpkg\\dsi-build-software-project\\config\\config.yml'\n",
    "        self.analysis = Analysis(self.config_path)\n",
    "\n",
    "    def test_load_data(self):\n",
    "        \"\"\"Test if data is loaded correctly.\"\"\"\n",
    "        data = self.analysis.load_data()\n",
    "        self.assertIsNotNone(data)\n",
    "\n",
    "    def test_calculate_mean(self):\n",
    "        \"\"\"Test the calculate_mean method.\"\"\"\n",
    "        self.analysis.load_data()\n",
    "        mean_word_count = self.analysis.calculate_mean('word_count')\n",
    "        self.assertIsInstance(mean_word_count, float)\n",
    "\n",
    "    # Additional test methods for other functionalities can be added here\n",
    "\n",
    "if __name__ == '__main__':\n",
    "    unittest.main(argv=[], exit=False)\n"
   ]
  },
  {
   "cell_type": "code",
   "execution_count": 18,
   "metadata": {},
   "outputs": [
    {
     "name": "stderr",
     "output_type": "stream",
     "text": [
      "EEE\n",
      "======================================================================\n",
      "ERROR: test_calculate_mean (__main__.TestAnalysis.test_calculate_mean)\n",
      "Test the calculate_mean method.\n",
      "----------------------------------------------------------------------\n",
      "Traceback (most recent call last):\n",
      "  File \"<ipython-input-17-58e90a3fd27b>\", line 9, in setUp\n",
      "    self.analysis = Analysis(self.config_path)\n",
      "                    ^^^^^^^^^^^^^^^^^^^^^^^^^^\n",
      "  File \"c:\\Users\\rahul\\Desktop\\Assignmentpkg\\dsi-build-software-project\\assignmentpkg\\analysis.py\", line 11, in __init__\n",
      "    topic = self.config[\"topic\"]\n",
      "            ~~~~~~~~~~~^^^^^^^^^\n",
      "KeyError: 'topic'\n",
      "\n",
      "======================================================================\n",
      "ERROR: test_load_data (__main__.TestAnalysis.test_load_data)\n",
      "Test if data is loaded correctly.\n",
      "----------------------------------------------------------------------\n",
      "Traceback (most recent call last):\n",
      "  File \"<ipython-input-17-58e90a3fd27b>\", line 9, in setUp\n",
      "    self.analysis = Analysis(self.config_path)\n",
      "                    ^^^^^^^^^^^^^^^^^^^^^^^^^^\n",
      "  File \"c:\\Users\\rahul\\Desktop\\Assignmentpkg\\dsi-build-software-project\\assignmentpkg\\analysis.py\", line 11, in __init__\n",
      "    topic = self.config[\"topic\"]\n",
      "            ~~~~~~~~~~~^^^^^^^^^\n",
      "KeyError: 'topic'\n",
      "\n",
      "======================================================================\n",
      "ERROR: setUpClass (__main__.TestAnalysisMethods)\n",
      "----------------------------------------------------------------------\n",
      "Traceback (most recent call last):\n",
      "  File \"<ipython-input-11-49304596a7bf>\", line 10, in setUpClass\n",
      "    cls.analysis = Analysis(cls.config_path)\n",
      "                   ^^^^^^^^^^^^^^^^^^^^^^^^^\n",
      "  File \"c:\\Users\\rahul\\Desktop\\Assignmentpkg\\dsi-build-software-project\\assignmentpkg\\analysis.py\", line 11, in __init__\n",
      "    topic = self.config[\"topic\"]\n",
      "            ~~~~~~~~~~~^^^^^^^^^\n",
      "KeyError: 'topic'\n",
      "\n",
      "----------------------------------------------------------------------\n",
      "Ran 2 tests in 0.015s\n",
      "\n",
      "FAILED (errors=3)\n"
     ]
    }
   ],
   "source": [
    "if __name__ == '__main__':\n",
    "    unittest.main(argv=['first-arg-is-ignored'], exit=False)\n"
   ]
  },
  {
   "cell_type": "code",
   "execution_count": 19,
   "metadata": {},
   "outputs": [
    {
     "ename": "IndexError",
     "evalue": "list index out of range",
     "output_type": "error",
     "traceback": [
      "\u001b[1;31m---------------------------------------------------------------------------\u001b[0m",
      "\u001b[1;31mIndexError\u001b[0m                                Traceback (most recent call last)",
      "Cell \u001b[1;32mIn[19], line 25\u001b[0m\n\u001b[0;32m     22\u001b[0m     \u001b[39m# Additional test methods for other functionalities can be added here\u001b[39;00m\n\u001b[0;32m     24\u001b[0m \u001b[39mif\u001b[39;00m \u001b[39m__name__\u001b[39m \u001b[39m==\u001b[39m \u001b[39m'\u001b[39m\u001b[39m__main__\u001b[39m\u001b[39m'\u001b[39m:\n\u001b[1;32m---> 25\u001b[0m     unittest\u001b[39m.\u001b[39;49mmain(argv\u001b[39m=\u001b[39;49m[], exit\u001b[39m=\u001b[39;49m\u001b[39mFalse\u001b[39;49;00m)\n",
      "File \u001b[1;32mc:\\Users\\rahul\\AppData\\Local\\Programs\\Python\\Python311\\Lib\\unittest\\main.py:100\u001b[0m, in \u001b[0;36mTestProgram.__init__\u001b[1;34m(self, module, defaultTest, argv, testRunner, testLoader, exit, verbosity, failfast, catchbreak, buffer, warnings, tb_locals)\u001b[0m\n\u001b[0;32m     <a href='file:///c%3A/Users/rahul/AppData/Local/Programs/Python/Python311/Lib/unittest/main.py?line=97'>98</a>\u001b[0m \u001b[39mself\u001b[39m\u001b[39m.\u001b[39mtestRunner \u001b[39m=\u001b[39m testRunner\n\u001b[0;32m     <a href='file:///c%3A/Users/rahul/AppData/Local/Programs/Python/Python311/Lib/unittest/main.py?line=98'>99</a>\u001b[0m \u001b[39mself\u001b[39m\u001b[39m.\u001b[39mtestLoader \u001b[39m=\u001b[39m testLoader\n\u001b[1;32m--> <a href='file:///c%3A/Users/rahul/AppData/Local/Programs/Python/Python311/Lib/unittest/main.py?line=99'>100</a>\u001b[0m \u001b[39mself\u001b[39m\u001b[39m.\u001b[39mprogName \u001b[39m=\u001b[39m os\u001b[39m.\u001b[39mpath\u001b[39m.\u001b[39mbasename(argv[\u001b[39m0\u001b[39;49m])\n\u001b[0;32m    <a href='file:///c%3A/Users/rahul/AppData/Local/Programs/Python/Python311/Lib/unittest/main.py?line=100'>101</a>\u001b[0m \u001b[39mself\u001b[39m\u001b[39m.\u001b[39mparseArgs(argv)\n\u001b[0;32m    <a href='file:///c%3A/Users/rahul/AppData/Local/Programs/Python/Python311/Lib/unittest/main.py?line=101'>102</a>\u001b[0m \u001b[39mself\u001b[39m\u001b[39m.\u001b[39mrunTests()\n",
      "\u001b[1;31mIndexError\u001b[0m: list index out of range"
     ]
    }
   ],
   "source": [
    "import unittest\n",
    "from assignmentpkg.analysis import Analysis\n",
    "\n",
    "class TestAnalysis(unittest.TestCase):\n",
    "\n",
    "    def setUp(self):\n",
    "        # Adjust the path according to your setup\n",
    "        self.config_path = r'C:\\Users\\rahul\\Desktop\\Assignmentpkg\\dsi-build-software-project\\config\\config.yml'\n",
    "        self.analysis = Analysis(self.config_path)\n",
    "\n",
    "    def test_load_data(self):\n",
    "        \"\"\"Test if data is loaded correctly.\"\"\"\n",
    "        data = self.analysis.load_data()\n",
    "        self.assertIsNotNone(data)\n",
    "\n",
    "    def test_calculate_mean(self):\n",
    "        \"\"\"Test the calculate_mean method.\"\"\"\n",
    "        self.analysis.load_data()\n",
    "        mean_word_count = self.analysis.calculate_mean('word_count')\n",
    "        self.assertIsInstance(mean_word_count, float)\n",
    "\n",
    "    # Additional test methods for other functionalities can be added here\n",
    "\n",
    "if __name__ == '__main__':\n",
    "    unittest.main(argv=[], exit=False)\n",
    "\n"
   ]
  },
  {
   "cell_type": "code",
   "execution_count": 26,
   "metadata": {},
   "outputs": [
    {
     "ename": "IndentationError",
     "evalue": "unexpected indent (<ipython-input-26-805cb3a66dcc>, line 13)",
     "output_type": "error",
     "traceback": [
      "\u001b[1;36m  Cell \u001b[1;32mIn[26], line 13\u001b[1;36m\u001b[0m\n\u001b[1;33m    return test_suite\u001b[0m\n\u001b[1;37m    ^\u001b[0m\n\u001b[1;31mIndentationError\u001b[0m\u001b[1;31m:\u001b[0m unexpected indent\n"
     ]
    }
   ],
   "source": [
    "import unittest\n",
    "from assignmentpkg.analysis import Analysis\n",
    "\n",
    "class TestAnalysis(unittest.TestCase):\n",
    "    # Your setUp method and other test methods with correct indentation\n",
    "\n",
    "# Define the suite function\n",
    "    def suite():\n",
    "        test_suite = unittest.TestSuite()\n",
    "        test_suite.addTest(TestAnalysis('test_load_data'))\n",
    "        test_suite.addTest(TestAnalysis('test_calculate_mean'))\n",
    "\n",
    "         return test_suite\n",
    "\n",
    "# Running the test suite\n",
    "    if __name__ == '__main__':\n",
    "    runner = unittest.TextTestRunner()\n",
    "    runner.run(suite())\n"
   ]
  },
  {
   "cell_type": "code",
   "execution_count": 27,
   "metadata": {},
   "outputs": [
    {
     "ename": "NameError",
     "evalue": "name 'suite' is not defined",
     "output_type": "error",
     "traceback": [
      "\u001b[1;31m---------------------------------------------------------------------------\u001b[0m",
      "\u001b[1;31mNameError\u001b[0m                                 Traceback (most recent call last)",
      "Cell \u001b[1;32mIn[27], line 17\u001b[0m\n\u001b[0;32m     15\u001b[0m \u001b[39mif\u001b[39;00m \u001b[39m__name__\u001b[39m \u001b[39m==\u001b[39m \u001b[39m'\u001b[39m\u001b[39m__main__\u001b[39m\u001b[39m'\u001b[39m:\n\u001b[0;32m     16\u001b[0m     runner \u001b[39m=\u001b[39m unittest\u001b[39m.\u001b[39mTextTestRunner()\n\u001b[1;32m---> 17\u001b[0m     runner\u001b[39m.\u001b[39mrun(suite())\n",
      "\u001b[1;31mNameError\u001b[0m: name 'suite' is not defined"
     ]
    }
   ],
   "source": [
    "import unittest\n",
    "from assignmentpkg.analysis import Analysis\n",
    "\n",
    "class TestAnalysis(unittest.TestCase):\n",
    "    # Your setUp method and other test methods with correct indentation\n",
    "\n",
    "# Define the suite function\n",
    "    def suite():\n",
    "        test_suite = unittest.TestSuite()\n",
    "        test_suite.addTest(TestAnalysis('test_load_data'))\n",
    "        test_suite.addTest(TestAnalysis('test_calculate_mean'))\n",
    "\n",
    "\n",
    "# Running the test suite\n",
    "if __name__ == '__main__':\n",
    "    runner = unittest.TextTestRunner()\n",
    "    runner.run(suite())\n"
   ]
  },
  {
   "cell_type": "code",
   "execution_count": 29,
   "metadata": {},
   "outputs": [
    {
     "name": "stderr",
     "output_type": "stream",
     "text": [
      "usage: ipykernel_launcher.py [-h] [-v] [-q] [--locals] [-f] [-c] [-b]\n",
      "                             [-k TESTNAMEPATTERNS]\n",
      "                             [tests ...]\n",
      "ipykernel_launcher.py: error: argument -f/--failfast: ignored explicit argument 'c:\\\\Users\\\\rahul\\\\AppData\\\\Roaming\\\\jupyter\\\\runtime\\\\kernel-v2-301521Roifa4rLGE7.json'\n"
     ]
    },
    {
     "ename": "AttributeError",
     "evalue": "'tuple' object has no attribute 'tb_frame'",
     "output_type": "error",
     "traceback": [
      "\u001b[1;31m---------------------------------------------------------------------------\u001b[0m",
      "\u001b[1;31mArgumentError\u001b[0m                             Traceback (most recent call last)",
      "File \u001b[1;32mc:\\Users\\rahul\\AppData\\Local\\Programs\\Python\\Python311\\Lib\\argparse.py:1902\u001b[0m, in \u001b[0;36mArgumentParser.parse_known_args\u001b[1;34m(self, args, namespace)\u001b[0m\n\u001b[0;32m   <a href='file:///c%3A/Users/rahul/AppData/Local/Programs/Python/Python311/Lib/argparse.py?line=1900'>1901</a>\u001b[0m \u001b[39mtry\u001b[39;00m:\n\u001b[1;32m-> <a href='file:///c%3A/Users/rahul/AppData/Local/Programs/Python/Python311/Lib/argparse.py?line=1901'>1902</a>\u001b[0m     namespace, args \u001b[39m=\u001b[39m \u001b[39mself\u001b[39;49m\u001b[39m.\u001b[39;49m_parse_known_args(args, namespace)\n\u001b[0;32m   <a href='file:///c%3A/Users/rahul/AppData/Local/Programs/Python/Python311/Lib/argparse.py?line=1902'>1903</a>\u001b[0m \u001b[39mexcept\u001b[39;00m ArgumentError \u001b[39mas\u001b[39;00m err:\n",
      "File \u001b[1;32mc:\\Users\\rahul\\AppData\\Local\\Programs\\Python\\Python311\\Lib\\argparse.py:2114\u001b[0m, in \u001b[0;36mArgumentParser._parse_known_args\u001b[1;34m(self, arg_strings, namespace)\u001b[0m\n\u001b[0;32m   <a href='file:///c%3A/Users/rahul/AppData/Local/Programs/Python/Python311/Lib/argparse.py?line=2112'>2113</a>\u001b[0m     \u001b[39m# consume the next optional and any arguments for it\u001b[39;00m\n\u001b[1;32m-> <a href='file:///c%3A/Users/rahul/AppData/Local/Programs/Python/Python311/Lib/argparse.py?line=2113'>2114</a>\u001b[0m     start_index \u001b[39m=\u001b[39m consume_optional(start_index)\n\u001b[0;32m   <a href='file:///c%3A/Users/rahul/AppData/Local/Programs/Python/Python311/Lib/argparse.py?line=2115'>2116</a>\u001b[0m \u001b[39m# consume any positionals following the last Optional\u001b[39;00m\n",
      "File \u001b[1;32mc:\\Users\\rahul\\AppData\\Local\\Programs\\Python\\Python311\\Lib\\argparse.py:2036\u001b[0m, in \u001b[0;36mArgumentParser._parse_known_args.<locals>.consume_optional\u001b[1;34m(start_index)\u001b[0m\n\u001b[0;32m   <a href='file:///c%3A/Users/rahul/AppData/Local/Programs/Python/Python311/Lib/argparse.py?line=2034'>2035</a>\u001b[0m         msg \u001b[39m=\u001b[39m _(\u001b[39m'\u001b[39m\u001b[39mignored explicit argument \u001b[39m\u001b[39m%r\u001b[39;00m\u001b[39m'\u001b[39m)\n\u001b[1;32m-> <a href='file:///c%3A/Users/rahul/AppData/Local/Programs/Python/Python311/Lib/argparse.py?line=2035'>2036</a>\u001b[0m         \u001b[39mraise\u001b[39;00m ArgumentError(action, msg \u001b[39m%\u001b[39m explicit_arg)\n\u001b[0;32m   <a href='file:///c%3A/Users/rahul/AppData/Local/Programs/Python/Python311/Lib/argparse.py?line=2037'>2038</a>\u001b[0m \u001b[39m# if there is no explicit argument, try to match the\u001b[39;00m\n\u001b[0;32m   <a href='file:///c%3A/Users/rahul/AppData/Local/Programs/Python/Python311/Lib/argparse.py?line=2038'>2039</a>\u001b[0m \u001b[39m# optional's string arguments with the following strings\u001b[39;00m\n\u001b[0;32m   <a href='file:///c%3A/Users/rahul/AppData/Local/Programs/Python/Python311/Lib/argparse.py?line=2039'>2040</a>\u001b[0m \u001b[39m# if successful, exit the loop\u001b[39;00m\n\u001b[0;32m   <a href='file:///c%3A/Users/rahul/AppData/Local/Programs/Python/Python311/Lib/argparse.py?line=2040'>2041</a>\u001b[0m \u001b[39melse\u001b[39;00m:\n",
      "\u001b[1;31mArgumentError\u001b[0m: argument -f/--failfast: ignored explicit argument 'c:\\\\Users\\\\rahul\\\\AppData\\\\Roaming\\\\jupyter\\\\runtime\\\\kernel-v2-301521Roifa4rLGE7.json'",
      "\nDuring handling of the above exception, another exception occurred:\n",
      "\u001b[1;31mSystemExit\u001b[0m                                Traceback (most recent call last)",
      "    \u001b[1;31m[... skipping hidden 1 frame]\u001b[0m\n",
      "Cell \u001b[1;32mIn[29], line 4\u001b[0m\n\u001b[0;32m      2\u001b[0m \u001b[39mfrom\u001b[39;00m \u001b[39massignmentpkg\u001b[39;00m\u001b[39m.\u001b[39;00m\u001b[39manalysis\u001b[39;00m \u001b[39mimport\u001b[39;00m Analysis\n\u001b[1;32m----> 4\u001b[0m \u001b[39mclass\u001b[39;49;00m \u001b[39mTestAnalysis\u001b[39;49;00m(unittest\u001b[39m.\u001b[39;49mTestCase):\n\u001b[0;32m      5\u001b[0m     \u001b[39m# Your setUp method and other test methods with correct indentation\u001b[39;49;00m\n\u001b[0;32m      7\u001b[0m     \u001b[39mif\u001b[39;49;00m \u001b[39m__name__\u001b[39;49m \u001b[39m==\u001b[39;49m \u001b[39m'\u001b[39;49m\u001b[39m__main__\u001b[39;49m\u001b[39m'\u001b[39;49m:\n",
      "Cell \u001b[1;32mIn[29], line 8\u001b[0m, in \u001b[0;36mTestAnalysis\u001b[1;34m()\u001b[0m\n\u001b[0;32m      7\u001b[0m \u001b[39mif\u001b[39;00m \u001b[39m__name__\u001b[39m \u001b[39m==\u001b[39m \u001b[39m'\u001b[39m\u001b[39m__main__\u001b[39m\u001b[39m'\u001b[39m:\n\u001b[1;32m----> 8\u001b[0m     unittest\u001b[39m.\u001b[39;49mmain()\n",
      "File \u001b[1;32mc:\\Users\\rahul\\AppData\\Local\\Programs\\Python\\Python311\\Lib\\unittest\\main.py:101\u001b[0m, in \u001b[0;36mTestProgram.__init__\u001b[1;34m(self, module, defaultTest, argv, testRunner, testLoader, exit, verbosity, failfast, catchbreak, buffer, warnings, tb_locals)\u001b[0m\n\u001b[0;32m    <a href='file:///c%3A/Users/rahul/AppData/Local/Programs/Python/Python311/Lib/unittest/main.py?line=99'>100</a>\u001b[0m \u001b[39mself\u001b[39m\u001b[39m.\u001b[39mprogName \u001b[39m=\u001b[39m os\u001b[39m.\u001b[39mpath\u001b[39m.\u001b[39mbasename(argv[\u001b[39m0\u001b[39m])\n\u001b[1;32m--> <a href='file:///c%3A/Users/rahul/AppData/Local/Programs/Python/Python311/Lib/unittest/main.py?line=100'>101</a>\u001b[0m \u001b[39mself\u001b[39;49m\u001b[39m.\u001b[39;49mparseArgs(argv)\n\u001b[0;32m    <a href='file:///c%3A/Users/rahul/AppData/Local/Programs/Python/Python311/Lib/unittest/main.py?line=101'>102</a>\u001b[0m \u001b[39mself\u001b[39m\u001b[39m.\u001b[39mrunTests()\n",
      "File \u001b[1;32mc:\\Users\\rahul\\AppData\\Local\\Programs\\Python\\Python311\\Lib\\unittest\\main.py:136\u001b[0m, in \u001b[0;36mTestProgram.parseArgs\u001b[1;34m(self, argv)\u001b[0m\n\u001b[0;32m    <a href='file:///c%3A/Users/rahul/AppData/Local/Programs/Python/Python311/Lib/unittest/main.py?line=134'>135</a>\u001b[0m \u001b[39melse\u001b[39;00m:\n\u001b[1;32m--> <a href='file:///c%3A/Users/rahul/AppData/Local/Programs/Python/Python311/Lib/unittest/main.py?line=135'>136</a>\u001b[0m     \u001b[39mself\u001b[39;49m\u001b[39m.\u001b[39;49m_main_parser\u001b[39m.\u001b[39;49mparse_args(argv[\u001b[39m1\u001b[39;49m:], \u001b[39mself\u001b[39;49m)\n\u001b[0;32m    <a href='file:///c%3A/Users/rahul/AppData/Local/Programs/Python/Python311/Lib/unittest/main.py?line=137'>138</a>\u001b[0m \u001b[39mif\u001b[39;00m \u001b[39mself\u001b[39m\u001b[39m.\u001b[39mtests:\n",
      "File \u001b[1;32mc:\\Users\\rahul\\AppData\\Local\\Programs\\Python\\Python311\\Lib\\argparse.py:1869\u001b[0m, in \u001b[0;36mArgumentParser.parse_args\u001b[1;34m(self, args, namespace)\u001b[0m\n\u001b[0;32m   <a href='file:///c%3A/Users/rahul/AppData/Local/Programs/Python/Python311/Lib/argparse.py?line=1867'>1868</a>\u001b[0m \u001b[39mdef\u001b[39;00m \u001b[39mparse_args\u001b[39m(\u001b[39mself\u001b[39m, args\u001b[39m=\u001b[39m\u001b[39mNone\u001b[39;00m, namespace\u001b[39m=\u001b[39m\u001b[39mNone\u001b[39;00m):\n\u001b[1;32m-> <a href='file:///c%3A/Users/rahul/AppData/Local/Programs/Python/Python311/Lib/argparse.py?line=1868'>1869</a>\u001b[0m     args, argv \u001b[39m=\u001b[39m \u001b[39mself\u001b[39;49m\u001b[39m.\u001b[39;49mparse_known_args(args, namespace)\n\u001b[0;32m   <a href='file:///c%3A/Users/rahul/AppData/Local/Programs/Python/Python311/Lib/argparse.py?line=1869'>1870</a>\u001b[0m     \u001b[39mif\u001b[39;00m argv:\n",
      "File \u001b[1;32mc:\\Users\\rahul\\AppData\\Local\\Programs\\Python\\Python311\\Lib\\argparse.py:1904\u001b[0m, in \u001b[0;36mArgumentParser.parse_known_args\u001b[1;34m(self, args, namespace)\u001b[0m\n\u001b[0;32m   <a href='file:///c%3A/Users/rahul/AppData/Local/Programs/Python/Python311/Lib/argparse.py?line=1902'>1903</a>\u001b[0m     \u001b[39mexcept\u001b[39;00m ArgumentError \u001b[39mas\u001b[39;00m err:\n\u001b[1;32m-> <a href='file:///c%3A/Users/rahul/AppData/Local/Programs/Python/Python311/Lib/argparse.py?line=1903'>1904</a>\u001b[0m         \u001b[39mself\u001b[39;49m\u001b[39m.\u001b[39;49merror(\u001b[39mstr\u001b[39;49m(err))\n\u001b[0;32m   <a href='file:///c%3A/Users/rahul/AppData/Local/Programs/Python/Python311/Lib/argparse.py?line=1904'>1905</a>\u001b[0m \u001b[39melse\u001b[39;00m:\n",
      "File \u001b[1;32mc:\\Users\\rahul\\AppData\\Local\\Programs\\Python\\Python311\\Lib\\argparse.py:2630\u001b[0m, in \u001b[0;36mArgumentParser.error\u001b[1;34m(self, message)\u001b[0m\n\u001b[0;32m   <a href='file:///c%3A/Users/rahul/AppData/Local/Programs/Python/Python311/Lib/argparse.py?line=2628'>2629</a>\u001b[0m args \u001b[39m=\u001b[39m {\u001b[39m'\u001b[39m\u001b[39mprog\u001b[39m\u001b[39m'\u001b[39m: \u001b[39mself\u001b[39m\u001b[39m.\u001b[39mprog, \u001b[39m'\u001b[39m\u001b[39mmessage\u001b[39m\u001b[39m'\u001b[39m: message}\n\u001b[1;32m-> <a href='file:///c%3A/Users/rahul/AppData/Local/Programs/Python/Python311/Lib/argparse.py?line=2629'>2630</a>\u001b[0m \u001b[39mself\u001b[39;49m\u001b[39m.\u001b[39;49mexit(\u001b[39m2\u001b[39;49m, _(\u001b[39m'\u001b[39;49m\u001b[39m%(prog)s\u001b[39;49;00m\u001b[39m: error: \u001b[39;49m\u001b[39m%(message)s\u001b[39;49;00m\u001b[39m\\n\u001b[39;49;00m\u001b[39m'\u001b[39;49m) \u001b[39m%\u001b[39;49m args)\n",
      "File \u001b[1;32mc:\\Users\\rahul\\AppData\\Local\\Programs\\Python\\Python311\\Lib\\argparse.py:2617\u001b[0m, in \u001b[0;36mArgumentParser.exit\u001b[1;34m(self, status, message)\u001b[0m\n\u001b[0;32m   <a href='file:///c%3A/Users/rahul/AppData/Local/Programs/Python/Python311/Lib/argparse.py?line=2615'>2616</a>\u001b[0m     \u001b[39mself\u001b[39m\u001b[39m.\u001b[39m_print_message(message, _sys\u001b[39m.\u001b[39mstderr)\n\u001b[1;32m-> <a href='file:///c%3A/Users/rahul/AppData/Local/Programs/Python/Python311/Lib/argparse.py?line=2616'>2617</a>\u001b[0m _sys\u001b[39m.\u001b[39;49mexit(status)\n",
      "\u001b[1;31mSystemExit\u001b[0m: 2",
      "\nDuring handling of the above exception, another exception occurred:\n",
      "\u001b[1;31mAttributeError\u001b[0m                            Traceback (most recent call last)",
      "    \u001b[1;31m[... skipping hidden 1 frame]\u001b[0m\n",
      "File \u001b[1;32m~\\AppData\\Roaming\\Python\\Python311\\site-packages\\IPython\\core\\interactiveshell.py:2121\u001b[0m, in \u001b[0;36mInteractiveShell.showtraceback\u001b[1;34m(self, exc_tuple, filename, tb_offset, exception_only, running_compiled_code)\u001b[0m\n\u001b[0;32m   <a href='file:///c%3A/Users/rahul/AppData/Roaming/Python/Python311/site-packages/IPython/core/interactiveshell.py?line=2117'>2118</a>\u001b[0m \u001b[39mif\u001b[39;00m exception_only:\n\u001b[0;32m   <a href='file:///c%3A/Users/rahul/AppData/Roaming/Python/Python311/site-packages/IPython/core/interactiveshell.py?line=2118'>2119</a>\u001b[0m     stb \u001b[39m=\u001b[39m [\u001b[39m'\u001b[39m\u001b[39mAn exception has occurred, use \u001b[39m\u001b[39m%\u001b[39m\u001b[39mtb to see \u001b[39m\u001b[39m'\u001b[39m\n\u001b[0;32m   <a href='file:///c%3A/Users/rahul/AppData/Roaming/Python/Python311/site-packages/IPython/core/interactiveshell.py?line=2119'>2120</a>\u001b[0m            \u001b[39m'\u001b[39m\u001b[39mthe full traceback.\u001b[39m\u001b[39m\\n\u001b[39;00m\u001b[39m'\u001b[39m]\n\u001b[1;32m-> <a href='file:///c%3A/Users/rahul/AppData/Roaming/Python/Python311/site-packages/IPython/core/interactiveshell.py?line=2120'>2121</a>\u001b[0m     stb\u001b[39m.\u001b[39mextend(\u001b[39mself\u001b[39;49m\u001b[39m.\u001b[39;49mInteractiveTB\u001b[39m.\u001b[39;49mget_exception_only(etype,\n\u001b[0;32m   <a href='file:///c%3A/Users/rahul/AppData/Roaming/Python/Python311/site-packages/IPython/core/interactiveshell.py?line=2121'>2122</a>\u001b[0m                                                      value))\n\u001b[0;32m   <a href='file:///c%3A/Users/rahul/AppData/Roaming/Python/Python311/site-packages/IPython/core/interactiveshell.py?line=2122'>2123</a>\u001b[0m \u001b[39melse\u001b[39;00m:\n\u001b[0;32m   <a href='file:///c%3A/Users/rahul/AppData/Roaming/Python/Python311/site-packages/IPython/core/interactiveshell.py?line=2124'>2125</a>\u001b[0m     \u001b[39mdef\u001b[39;00m \u001b[39mcontains_exceptiongroup\u001b[39m(val):\n",
      "File \u001b[1;32m~\\AppData\\Roaming\\Python\\Python311\\site-packages\\IPython\\core\\ultratb.py:710\u001b[0m, in \u001b[0;36mListTB.get_exception_only\u001b[1;34m(self, etype, value)\u001b[0m\n\u001b[0;32m    <a href='file:///c%3A/Users/rahul/AppData/Roaming/Python/Python311/site-packages/IPython/core/ultratb.py?line=701'>702</a>\u001b[0m \u001b[39mdef\u001b[39;00m \u001b[39mget_exception_only\u001b[39m(\u001b[39mself\u001b[39m, etype, value):\n\u001b[0;32m    <a href='file:///c%3A/Users/rahul/AppData/Roaming/Python/Python311/site-packages/IPython/core/ultratb.py?line=702'>703</a>\u001b[0m \u001b[39m    \u001b[39m\u001b[39m\"\"\"Only print the exception type and message, without a traceback.\u001b[39;00m\n\u001b[0;32m    <a href='file:///c%3A/Users/rahul/AppData/Roaming/Python/Python311/site-packages/IPython/core/ultratb.py?line=703'>704</a>\u001b[0m \n\u001b[0;32m    <a href='file:///c%3A/Users/rahul/AppData/Roaming/Python/Python311/site-packages/IPython/core/ultratb.py?line=704'>705</a>\u001b[0m \u001b[39m    Parameters\u001b[39;00m\n\u001b[1;32m   (...)\u001b[0m\n\u001b[0;32m    <a href='file:///c%3A/Users/rahul/AppData/Roaming/Python/Python311/site-packages/IPython/core/ultratb.py?line=707'>708</a>\u001b[0m \u001b[39m    value : exception value\u001b[39;00m\n\u001b[0;32m    <a href='file:///c%3A/Users/rahul/AppData/Roaming/Python/Python311/site-packages/IPython/core/ultratb.py?line=708'>709</a>\u001b[0m \u001b[39m    \"\"\"\u001b[39;00m\n\u001b[1;32m--> <a href='file:///c%3A/Users/rahul/AppData/Roaming/Python/Python311/site-packages/IPython/core/ultratb.py?line=709'>710</a>\u001b[0m     \u001b[39mreturn\u001b[39;00m ListTB\u001b[39m.\u001b[39;49mstructured_traceback(\u001b[39mself\u001b[39;49m, etype, value)\n",
      "File \u001b[1;32m~\\AppData\\Roaming\\Python\\Python311\\site-packages\\IPython\\core\\ultratb.py:568\u001b[0m, in \u001b[0;36mListTB.structured_traceback\u001b[1;34m(self, etype, evalue, etb, tb_offset, context)\u001b[0m\n\u001b[0;32m    <a href='file:///c%3A/Users/rahul/AppData/Roaming/Python/Python311/site-packages/IPython/core/ultratb.py?line=564'>565</a>\u001b[0m     chained_exc_ids\u001b[39m.\u001b[39madd(\u001b[39mid\u001b[39m(exception[\u001b[39m1\u001b[39m]))\n\u001b[0;32m    <a href='file:///c%3A/Users/rahul/AppData/Roaming/Python/Python311/site-packages/IPython/core/ultratb.py?line=565'>566</a>\u001b[0m     chained_exceptions_tb_offset \u001b[39m=\u001b[39m \u001b[39m0\u001b[39m\n\u001b[0;32m    <a href='file:///c%3A/Users/rahul/AppData/Roaming/Python/Python311/site-packages/IPython/core/ultratb.py?line=566'>567</a>\u001b[0m     out_list \u001b[39m=\u001b[39m (\n\u001b[1;32m--> <a href='file:///c%3A/Users/rahul/AppData/Roaming/Python/Python311/site-packages/IPython/core/ultratb.py?line=567'>568</a>\u001b[0m         \u001b[39mself\u001b[39;49m\u001b[39m.\u001b[39;49mstructured_traceback(\n\u001b[0;32m    <a href='file:///c%3A/Users/rahul/AppData/Roaming/Python/Python311/site-packages/IPython/core/ultratb.py?line=568'>569</a>\u001b[0m             etype,\n\u001b[0;32m    <a href='file:///c%3A/Users/rahul/AppData/Roaming/Python/Python311/site-packages/IPython/core/ultratb.py?line=569'>570</a>\u001b[0m             evalue,\n\u001b[0;32m    <a href='file:///c%3A/Users/rahul/AppData/Roaming/Python/Python311/site-packages/IPython/core/ultratb.py?line=570'>571</a>\u001b[0m             (etb, chained_exc_ids),  \u001b[39m# type: ignore\u001b[39;49;00m\n\u001b[0;32m    <a href='file:///c%3A/Users/rahul/AppData/Roaming/Python/Python311/site-packages/IPython/core/ultratb.py?line=571'>572</a>\u001b[0m             chained_exceptions_tb_offset,\n\u001b[0;32m    <a href='file:///c%3A/Users/rahul/AppData/Roaming/Python/Python311/site-packages/IPython/core/ultratb.py?line=572'>573</a>\u001b[0m             context,\n\u001b[0;32m    <a href='file:///c%3A/Users/rahul/AppData/Roaming/Python/Python311/site-packages/IPython/core/ultratb.py?line=573'>574</a>\u001b[0m         )\n\u001b[0;32m    <a href='file:///c%3A/Users/rahul/AppData/Roaming/Python/Python311/site-packages/IPython/core/ultratb.py?line=574'>575</a>\u001b[0m         \u001b[39m+\u001b[39m chained_exception_message\n\u001b[0;32m    <a href='file:///c%3A/Users/rahul/AppData/Roaming/Python/Python311/site-packages/IPython/core/ultratb.py?line=575'>576</a>\u001b[0m         \u001b[39m+\u001b[39m out_list)\n\u001b[0;32m    <a href='file:///c%3A/Users/rahul/AppData/Roaming/Python/Python311/site-packages/IPython/core/ultratb.py?line=577'>578</a>\u001b[0m \u001b[39mreturn\u001b[39;00m out_list\n",
      "File \u001b[1;32m~\\AppData\\Roaming\\Python\\Python311\\site-packages\\IPython\\core\\ultratb.py:1435\u001b[0m, in \u001b[0;36mAutoFormattedTB.structured_traceback\u001b[1;34m(self, etype, evalue, etb, tb_offset, number_of_lines_of_context)\u001b[0m\n\u001b[0;32m   <a href='file:///c%3A/Users/rahul/AppData/Roaming/Python/Python311/site-packages/IPython/core/ultratb.py?line=1432'>1433</a>\u001b[0m \u001b[39melse\u001b[39;00m:\n\u001b[0;32m   <a href='file:///c%3A/Users/rahul/AppData/Roaming/Python/Python311/site-packages/IPython/core/ultratb.py?line=1433'>1434</a>\u001b[0m     \u001b[39mself\u001b[39m\u001b[39m.\u001b[39mtb \u001b[39m=\u001b[39m etb\n\u001b[1;32m-> <a href='file:///c%3A/Users/rahul/AppData/Roaming/Python/Python311/site-packages/IPython/core/ultratb.py?line=1434'>1435</a>\u001b[0m \u001b[39mreturn\u001b[39;00m FormattedTB\u001b[39m.\u001b[39;49mstructured_traceback(\n\u001b[0;32m   <a href='file:///c%3A/Users/rahul/AppData/Roaming/Python/Python311/site-packages/IPython/core/ultratb.py?line=1435'>1436</a>\u001b[0m     \u001b[39mself\u001b[39;49m, etype, evalue, etb, tb_offset, number_of_lines_of_context\n\u001b[0;32m   <a href='file:///c%3A/Users/rahul/AppData/Roaming/Python/Python311/site-packages/IPython/core/ultratb.py?line=1436'>1437</a>\u001b[0m )\n",
      "File \u001b[1;32m~\\AppData\\Roaming\\Python\\Python311\\site-packages\\IPython\\core\\ultratb.py:1326\u001b[0m, in \u001b[0;36mFormattedTB.structured_traceback\u001b[1;34m(self, etype, value, tb, tb_offset, number_of_lines_of_context)\u001b[0m\n\u001b[0;32m   <a href='file:///c%3A/Users/rahul/AppData/Roaming/Python/Python311/site-packages/IPython/core/ultratb.py?line=1322'>1323</a>\u001b[0m mode \u001b[39m=\u001b[39m \u001b[39mself\u001b[39m\u001b[39m.\u001b[39mmode\n\u001b[0;32m   <a href='file:///c%3A/Users/rahul/AppData/Roaming/Python/Python311/site-packages/IPython/core/ultratb.py?line=1323'>1324</a>\u001b[0m \u001b[39mif\u001b[39;00m mode \u001b[39min\u001b[39;00m \u001b[39mself\u001b[39m\u001b[39m.\u001b[39mverbose_modes:\n\u001b[0;32m   <a href='file:///c%3A/Users/rahul/AppData/Roaming/Python/Python311/site-packages/IPython/core/ultratb.py?line=1324'>1325</a>\u001b[0m     \u001b[39m# Verbose modes need a full traceback\u001b[39;00m\n\u001b[1;32m-> <a href='file:///c%3A/Users/rahul/AppData/Roaming/Python/Python311/site-packages/IPython/core/ultratb.py?line=1325'>1326</a>\u001b[0m     \u001b[39mreturn\u001b[39;00m VerboseTB\u001b[39m.\u001b[39;49mstructured_traceback(\n\u001b[0;32m   <a href='file:///c%3A/Users/rahul/AppData/Roaming/Python/Python311/site-packages/IPython/core/ultratb.py?line=1326'>1327</a>\u001b[0m         \u001b[39mself\u001b[39;49m, etype, value, tb, tb_offset, number_of_lines_of_context\n\u001b[0;32m   <a href='file:///c%3A/Users/rahul/AppData/Roaming/Python/Python311/site-packages/IPython/core/ultratb.py?line=1327'>1328</a>\u001b[0m     )\n\u001b[0;32m   <a href='file:///c%3A/Users/rahul/AppData/Roaming/Python/Python311/site-packages/IPython/core/ultratb.py?line=1328'>1329</a>\u001b[0m \u001b[39melif\u001b[39;00m mode \u001b[39m==\u001b[39m \u001b[39m'\u001b[39m\u001b[39mMinimal\u001b[39m\u001b[39m'\u001b[39m:\n\u001b[0;32m   <a href='file:///c%3A/Users/rahul/AppData/Roaming/Python/Python311/site-packages/IPython/core/ultratb.py?line=1329'>1330</a>\u001b[0m     \u001b[39mreturn\u001b[39;00m ListTB\u001b[39m.\u001b[39mget_exception_only(\u001b[39mself\u001b[39m, etype, value)\n",
      "File \u001b[1;32m~\\AppData\\Roaming\\Python\\Python311\\site-packages\\IPython\\core\\ultratb.py:1173\u001b[0m, in \u001b[0;36mVerboseTB.structured_traceback\u001b[1;34m(self, etype, evalue, etb, tb_offset, number_of_lines_of_context)\u001b[0m\n\u001b[0;32m   <a href='file:///c%3A/Users/rahul/AppData/Roaming/Python/Python311/site-packages/IPython/core/ultratb.py?line=1163'>1164</a>\u001b[0m \u001b[39mdef\u001b[39;00m \u001b[39mstructured_traceback\u001b[39m(\n\u001b[0;32m   <a href='file:///c%3A/Users/rahul/AppData/Roaming/Python/Python311/site-packages/IPython/core/ultratb.py?line=1164'>1165</a>\u001b[0m     \u001b[39mself\u001b[39m,\n\u001b[0;32m   <a href='file:///c%3A/Users/rahul/AppData/Roaming/Python/Python311/site-packages/IPython/core/ultratb.py?line=1165'>1166</a>\u001b[0m     etype: \u001b[39mtype\u001b[39m,\n\u001b[1;32m   (...)\u001b[0m\n\u001b[0;32m   <a href='file:///c%3A/Users/rahul/AppData/Roaming/Python/Python311/site-packages/IPython/core/ultratb.py?line=1169'>1170</a>\u001b[0m     number_of_lines_of_context: \u001b[39mint\u001b[39m \u001b[39m=\u001b[39m \u001b[39m5\u001b[39m,\n\u001b[0;32m   <a href='file:///c%3A/Users/rahul/AppData/Roaming/Python/Python311/site-packages/IPython/core/ultratb.py?line=1170'>1171</a>\u001b[0m ):\n\u001b[0;32m   <a href='file:///c%3A/Users/rahul/AppData/Roaming/Python/Python311/site-packages/IPython/core/ultratb.py?line=1171'>1172</a>\u001b[0m \u001b[39m    \u001b[39m\u001b[39m\"\"\"Return a nice text document describing the traceback.\"\"\"\u001b[39;00m\n\u001b[1;32m-> <a href='file:///c%3A/Users/rahul/AppData/Roaming/Python/Python311/site-packages/IPython/core/ultratb.py?line=1172'>1173</a>\u001b[0m     formatted_exception \u001b[39m=\u001b[39m \u001b[39mself\u001b[39;49m\u001b[39m.\u001b[39;49mformat_exception_as_a_whole(etype, evalue, etb, number_of_lines_of_context,\n\u001b[0;32m   <a href='file:///c%3A/Users/rahul/AppData/Roaming/Python/Python311/site-packages/IPython/core/ultratb.py?line=1173'>1174</a>\u001b[0m                                                            tb_offset)\n\u001b[0;32m   <a href='file:///c%3A/Users/rahul/AppData/Roaming/Python/Python311/site-packages/IPython/core/ultratb.py?line=1175'>1176</a>\u001b[0m     colors \u001b[39m=\u001b[39m \u001b[39mself\u001b[39m\u001b[39m.\u001b[39mColors  \u001b[39m# just a shorthand + quicker name lookup\u001b[39;00m\n\u001b[0;32m   <a href='file:///c%3A/Users/rahul/AppData/Roaming/Python/Python311/site-packages/IPython/core/ultratb.py?line=1176'>1177</a>\u001b[0m     colorsnormal \u001b[39m=\u001b[39m colors\u001b[39m.\u001b[39mNormal  \u001b[39m# used a lot\u001b[39;00m\n",
      "File \u001b[1;32m~\\AppData\\Roaming\\Python\\Python311\\site-packages\\IPython\\core\\ultratb.py:1063\u001b[0m, in \u001b[0;36mVerboseTB.format_exception_as_a_whole\u001b[1;34m(self, etype, evalue, etb, number_of_lines_of_context, tb_offset)\u001b[0m\n\u001b[0;32m   <a href='file:///c%3A/Users/rahul/AppData/Roaming/Python/Python311/site-packages/IPython/core/ultratb.py?line=1059'>1060</a>\u001b[0m \u001b[39massert\u001b[39;00m \u001b[39misinstance\u001b[39m(tb_offset, \u001b[39mint\u001b[39m)\n\u001b[0;32m   <a href='file:///c%3A/Users/rahul/AppData/Roaming/Python/Python311/site-packages/IPython/core/ultratb.py?line=1060'>1061</a>\u001b[0m head \u001b[39m=\u001b[39m \u001b[39mself\u001b[39m\u001b[39m.\u001b[39mprepare_header(\u001b[39mstr\u001b[39m(etype), \u001b[39mself\u001b[39m\u001b[39m.\u001b[39mlong_header)\n\u001b[0;32m   <a href='file:///c%3A/Users/rahul/AppData/Roaming/Python/Python311/site-packages/IPython/core/ultratb.py?line=1061'>1062</a>\u001b[0m records \u001b[39m=\u001b[39m (\n\u001b[1;32m-> <a href='file:///c%3A/Users/rahul/AppData/Roaming/Python/Python311/site-packages/IPython/core/ultratb.py?line=1062'>1063</a>\u001b[0m     \u001b[39mself\u001b[39;49m\u001b[39m.\u001b[39;49mget_records(etb, number_of_lines_of_context, tb_offset) \u001b[39mif\u001b[39;00m etb \u001b[39melse\u001b[39;00m []\n\u001b[0;32m   <a href='file:///c%3A/Users/rahul/AppData/Roaming/Python/Python311/site-packages/IPython/core/ultratb.py?line=1063'>1064</a>\u001b[0m )\n\u001b[0;32m   <a href='file:///c%3A/Users/rahul/AppData/Roaming/Python/Python311/site-packages/IPython/core/ultratb.py?line=1065'>1066</a>\u001b[0m frames \u001b[39m=\u001b[39m []\n\u001b[0;32m   <a href='file:///c%3A/Users/rahul/AppData/Roaming/Python/Python311/site-packages/IPython/core/ultratb.py?line=1066'>1067</a>\u001b[0m skipped \u001b[39m=\u001b[39m \u001b[39m0\u001b[39m\n",
      "File \u001b[1;32m~\\AppData\\Roaming\\Python\\Python311\\site-packages\\IPython\\core\\ultratb.py:1131\u001b[0m, in \u001b[0;36mVerboseTB.get_records\u001b[1;34m(self, etb, number_of_lines_of_context, tb_offset)\u001b[0m\n\u001b[0;32m   <a href='file:///c%3A/Users/rahul/AppData/Roaming/Python/Python311/site-packages/IPython/core/ultratb.py?line=1128'>1129</a>\u001b[0m \u001b[39mwhile\u001b[39;00m cf \u001b[39mis\u001b[39;00m \u001b[39mnot\u001b[39;00m \u001b[39mNone\u001b[39;00m:\n\u001b[0;32m   <a href='file:///c%3A/Users/rahul/AppData/Roaming/Python/Python311/site-packages/IPython/core/ultratb.py?line=1129'>1130</a>\u001b[0m     \u001b[39mtry\u001b[39;00m:\n\u001b[1;32m-> <a href='file:///c%3A/Users/rahul/AppData/Roaming/Python/Python311/site-packages/IPython/core/ultratb.py?line=1130'>1131</a>\u001b[0m         mod \u001b[39m=\u001b[39m inspect\u001b[39m.\u001b[39mgetmodule(cf\u001b[39m.\u001b[39;49mtb_frame)\n\u001b[0;32m   <a href='file:///c%3A/Users/rahul/AppData/Roaming/Python/Python311/site-packages/IPython/core/ultratb.py?line=1131'>1132</a>\u001b[0m         \u001b[39mif\u001b[39;00m mod \u001b[39mis\u001b[39;00m \u001b[39mnot\u001b[39;00m \u001b[39mNone\u001b[39;00m:\n\u001b[0;32m   <a href='file:///c%3A/Users/rahul/AppData/Roaming/Python/Python311/site-packages/IPython/core/ultratb.py?line=1132'>1133</a>\u001b[0m             mod_name \u001b[39m=\u001b[39m mod\u001b[39m.\u001b[39m\u001b[39m__name__\u001b[39m\n",
      "\u001b[1;31mAttributeError\u001b[0m: 'tuple' object has no attribute 'tb_frame'"
     ]
    }
   ],
   "source": [
    "import unittest\n",
    "from assignmentpkg.analysis import Analysis\n",
    "\n",
    "class TestAnalysis(unittest.TestCase):\n",
    "    # Your setUp method and other test methods with correct indentation\n",
    "\n",
    "    if __name__ == '__main__':\n",
    "        unittest.main()\n"
   ]
  }
 ],
 "metadata": {
  "kernelspec": {
   "display_name": "Python 3",
   "language": "python",
   "name": "python3"
  },
  "language_info": {
   "codemirror_mode": {
    "name": "ipython",
    "version": 3
   },
   "file_extension": ".py",
   "mimetype": "text/x-python",
   "name": "python",
   "nbconvert_exporter": "python",
   "pygments_lexer": "ipython3",
   "version": "3.11.4"
  }
 },
 "nbformat": 4,
 "nbformat_minor": 2
}
