{
 "cells": [
  {
   "cell_type": "markdown",
   "metadata": {
    "isInteractiveWindowMessageCell": true
   },
   "source": [
    "Restarted Python 3.11.4"
   ]
  },
  {
   "cell_type": "code",
   "execution_count": null,
   "metadata": {},
   "outputs": [],
   "source": [
    "from assignmentpkg import analysis\n",
    "analysis = Analysis.AnalysisClass('configs/user_config.yml')"
   ]
  },
  {
   "cell_type": "code",
   "execution_count": null,
   "metadata": {},
   "outputs": [],
   "source": [
    "---------------------------------------------------------------------------\n",
    "ModuleNotFoundError                       Traceback (most recent call last)\n",
    "Cell In[1], line 1\n",
    "----> 1 from assignmentpkg import analysis\n",
    "      2 analysis = Analysis.AnalysisClass('configs/user_config.yml')\n",
    "\n",
    "ModuleNotFoundError: No module named 'assignmentpkg'"
   ]
  },
  {
   "cell_type": "code",
   "execution_count": null,
   "metadata": {},
   "outputs": [],
   "source": [
    "pip install -e"
   ]
  },
  {
   "cell_type": "code",
   "execution_count": null,
   "metadata": {},
   "outputs": [],
   "source": [
    "from assignmentpkg import analysis\n",
    "analysis = Analysis.AnalysisClass('configs/user_config.yml')"
   ]
  },
  {
   "cell_type": "code",
   "execution_count": 2,
   "metadata": {},
   "outputs": [
    {
     "ename": "ModuleNotFoundError",
     "evalue": "No module named 'assignmentpkg'",
     "output_type": "error",
     "traceback": [
      "\u001b[1;31m---------------------------------------------------------------------------\u001b[0m",
      "\u001b[1;31mModuleNotFoundError\u001b[0m                       Traceback (most recent call last)",
      "Cell \u001b[1;32mIn[2], line 1\u001b[0m\n\u001b[1;32m----> 1\u001b[0m \u001b[38;5;28;01mfrom\u001b[39;00m \u001b[38;5;21;01massignmentpkg\u001b[39;00m \u001b[38;5;28;01mimport\u001b[39;00m analysis\n\u001b[0;32m      2\u001b[0m analysis \u001b[38;5;241m=\u001b[39m Analysis\u001b[38;5;241m.\u001b[39mAnalysisClass(\u001b[38;5;124m'\u001b[39m\u001b[38;5;124mconfigs/user_config.yml\u001b[39m\u001b[38;5;124m'\u001b[39m)\n",
      "\u001b[1;31mModuleNotFoundError\u001b[0m: No module named 'assignmentpkg'"
     ]
    }
   ],
   "source": [
    "from assignmentpkg import analysis\n",
    "analysis = Analysis.AnalysisClass('configs/user_config.yml')"
   ]
  },
  {
   "cell_type": "code",
   "execution_count": 3,
   "metadata": {},
   "outputs": [
    {
     "ename": "ModuleNotFoundError",
     "evalue": "No module named 'assignmentpkg'",
     "output_type": "error",
     "traceback": [
      "\u001b[1;31m---------------------------------------------------------------------------\u001b[0m",
      "\u001b[1;31mModuleNotFoundError\u001b[0m                       Traceback (most recent call last)",
      "Cell \u001b[1;32mIn[3], line 1\u001b[0m\n\u001b[1;32m----> 1\u001b[0m \u001b[38;5;28;01mfrom\u001b[39;00m \u001b[38;5;21;01massignmentpkg\u001b[39;00m \u001b[38;5;28;01mimport\u001b[39;00m analysis\n\u001b[0;32m      2\u001b[0m analysis \u001b[38;5;241m=\u001b[39m Analysis\u001b[38;5;241m.\u001b[39mAnalysisClass(\u001b[38;5;124m'\u001b[39m\u001b[38;5;124mconfigs/user_config.yml\u001b[39m\u001b[38;5;124m'\u001b[39m)\n",
      "\u001b[1;31mModuleNotFoundError\u001b[0m: No module named 'assignmentpkg'"
     ]
    }
   ],
   "source": [
    "from assignmentpkg import analysis\n",
    "analysis = Analysis.AnalysisClass('configs/user_config.yml')"
   ]
  },
  {
   "cell_type": "code",
   "execution_count": 4,
   "metadata": {},
   "outputs": [
    {
     "ename": "ModuleNotFoundError",
     "evalue": "No module named 'assignmentpkg'",
     "output_type": "error",
     "traceback": [
      "\u001b[1;31m---------------------------------------------------------------------------\u001b[0m",
      "\u001b[1;31mModuleNotFoundError\u001b[0m                       Traceback (most recent call last)",
      "Cell \u001b[1;32mIn[4], line 1\u001b[0m\n\u001b[1;32m----> 1\u001b[0m \u001b[38;5;28;01mfrom\u001b[39;00m \u001b[38;5;21;01massignmentpkg\u001b[39;00m \u001b[38;5;28;01mimport\u001b[39;00m analysis\n\u001b[0;32m      2\u001b[0m analysis \u001b[38;5;241m=\u001b[39m Analysis\u001b[38;5;241m.\u001b[39mAnalysisClass(\u001b[38;5;124m'\u001b[39m\u001b[38;5;124mconfigs/user_config.yml\u001b[39m\u001b[38;5;124m'\u001b[39m)\n",
      "\u001b[1;31mModuleNotFoundError\u001b[0m: No module named 'assignmentpkg'"
     ]
    }
   ],
   "source": [
    "from assignmentpkg import analysis\n",
    "analysis = Analysis.AnalysisClass('configs/user_config.yml')"
   ]
  },
  {
   "cell_type": "code",
   "execution_count": null,
   "metadata": {},
   "outputs": [
    {
     "name": "stdout",
     "output_type": "stream",
     "text": [
      "Note: you may need to restart the kernel to use updated packages.\n"
     ]
    },
    {
     "name": "stderr",
     "output_type": "stream",
     "text": [
      "ERROR: Could not open requirements file: [Errno 2] No such file or directory: 'requirements.txt'\n",
      "\n",
      "[notice] A new release of pip is available: 23.1.2 -> 23.3.2\n",
      "[notice] To update, run: python.exe -m pip install --upgrade pip\n"
     ]
    }
   ],
   "source": [
    "pip install -r requirements.txt\n"
   ]
  },
  {
   "cell_type": "code",
   "execution_count": null,
   "metadata": {},
   "outputs": [
    {
     "ename": "SyntaxError",
     "evalue": "invalid syntax (<ipython-input-3-cf443e0f7a04>, line 1)",
     "output_type": "error",
     "traceback": [
      "\u001b[1;36m  Cell \u001b[1;32mIn[3], line 1\u001b[1;36m\u001b[0m\n\u001b[1;33m    python.exe -m pip install --upgrade pip\u001b[0m\n\u001b[1;37m                  ^\u001b[0m\n\u001b[1;31mSyntaxError\u001b[0m\u001b[1;31m:\u001b[0m invalid syntax\n"
     ]
    }
   ],
   "source": [
    "python.exe -m pip install --upgrade pip"
   ]
  },
  {
   "cell_type": "code",
   "execution_count": null,
   "metadata": {},
   "outputs": [
    {
     "name": "stdout",
     "output_type": "stream",
     "text": [
      "Requirement already satisfied: pip in c:\\users\\rahul\\appdata\\local\\programs\\python\\python311\\lib\\site-packages (23.1.2)\n",
      "Collecting pip\n",
      "  Downloading pip-23.3.2-py3-none-any.whl (2.1 MB)\n",
      "                                              0.0/2.1 MB ? eta -:--:--\n",
      "     --------                                 0.4/2.1 MB 13.5 MB/s eta 0:00:01\n",
      "     ------------------                       1.0/2.1 MB 12.5 MB/s eta 0:00:01\n",
      "     ------------------------------           1.6/2.1 MB 12.8 MB/s eta 0:00:01\n",
      "     ---------------------------------------- 2.1/2.1 MB 12.2 MB/s eta 0:00:00\n",
      "Installing collected packages: pip\n",
      "  Attempting uninstall: pip\n",
      "    Found existing installation: pip 23.1.2\n",
      "    Uninstalling pip-23.1.2:\n",
      "      Successfully uninstalled pip-23.1.2\n",
      "Successfully installed pip-23.3.2\n",
      "Note: you may need to restart the kernel to use updated packages.\n"
     ]
    },
    {
     "name": "stderr",
     "output_type": "stream",
     "text": [
      "  WARNING: The scripts pip.exe, pip3.11.exe and pip3.exe are installed in 'c:\\Users\\rahul\\AppData\\Local\\Programs\\Python\\Python311\\Scripts' which is not on PATH.\n",
      "  Consider adding this directory to PATH or, if you prefer to suppress this warning, use --no-warn-script-location.\n"
     ]
    }
   ],
   "source": [
    "pip install --upgrade pip"
   ]
  },
  {
   "cell_type": "code",
   "execution_count": null,
   "metadata": {},
   "outputs": [
    {
     "ename": "ModuleNotFoundError",
     "evalue": "No module named 'assignmentpkg'",
     "output_type": "error",
     "traceback": [
      "\u001b[1;31m---------------------------------------------------------------------------\u001b[0m",
      "\u001b[1;31mModuleNotFoundError\u001b[0m                       Traceback (most recent call last)",
      "Cell \u001b[1;32mIn[5], line 1\u001b[0m\n\u001b[1;32m----> 1\u001b[0m \u001b[39mfrom\u001b[39;00m \u001b[39massignmentpkg\u001b[39;00m \u001b[39mimport\u001b[39;00m analysis\n\u001b[0;32m      2\u001b[0m analysis \u001b[39m=\u001b[39m Analysis\u001b[39m.\u001b[39mAnalysisClass(\u001b[39m'\u001b[39m\u001b[39mconfigs/user_config.yml\u001b[39m\u001b[39m'\u001b[39m)\n",
      "\u001b[1;31mModuleNotFoundError\u001b[0m: No module named 'assignmentpkg'"
     ]
    }
   ],
   "source": [
    "from assignmentpkg import analysis\n",
    "analysis = Analysis.AnalysisClass('configs/user_config.yml')"
   ]
  },
  {
   "cell_type": "code",
   "execution_count": null,
   "metadata": {},
   "outputs": [
    {
     "ename": "ModuleNotFoundError",
     "evalue": "No module named 'assignmentpkg'",
     "output_type": "error",
     "traceback": [
      "\u001b[1;31m---------------------------------------------------------------------------\u001b[0m",
      "\u001b[1;31mModuleNotFoundError\u001b[0m                       Traceback (most recent call last)",
      "Cell \u001b[1;32mIn[6], line 1\u001b[0m\n\u001b[1;32m----> 1\u001b[0m \u001b[39mfrom\u001b[39;00m \u001b[39massignmentpkg\u001b[39;00m \u001b[39mimport\u001b[39;00m analysis\n\u001b[0;32m      2\u001b[0m analysis \u001b[39m=\u001b[39m Analysis\u001b[39m.\u001b[39mAnalysisClass(\u001b[39m'\u001b[39m\u001b[39mconfigs/user_config.yml\u001b[39m\u001b[39m'\u001b[39m)\n",
      "\u001b[1;31mModuleNotFoundError\u001b[0m: No module named 'assignmentpkg'"
     ]
    }
   ],
   "source": [
    "from assignmentpkg import analysis\n",
    "analysis = Analysis.AnalysisClass('configs/user_config.yml')"
   ]
  },
  {
   "cell_type": "code",
   "execution_count": null,
   "metadata": {},
   "outputs": [
    {
     "name": "stdout",
     "output_type": "stream",
     "text": [
      "Current Working Directory: c:\\Users\\rahul\\Desktop\\Assignmentpkg\\dsi-build-software-project\\assignmentpkg\n",
      "\n",
      "Python Path:\n",
      "c:\\Users\\rahul\\Desktop\\Assignmentpkg\\dsi-build-software-project\\assignmentpkg\n",
      "c:\\Users\\rahul\\AppData\\Local\\Programs\\Python\\Python311\\python311.zip\n",
      "c:\\Users\\rahul\\AppData\\Local\\Programs\\Python\\Python311\\DLLs\n",
      "c:\\Users\\rahul\\AppData\\Local\\Programs\\Python\\Python311\\Lib\n",
      "c:\\Users\\rahul\\AppData\\Local\\Programs\\Python\\Python311\n",
      "\n",
      "C:\\Users\\rahul\\AppData\\Roaming\\Python\\Python311\\site-packages\n",
      "C:\\Users\\rahul\\AppData\\Roaming\\Python\\Python311\\site-packages\\win32\n",
      "C:\\Users\\rahul\\AppData\\Roaming\\Python\\Python311\\site-packages\\win32\\lib\n",
      "C:\\Users\\rahul\\AppData\\Roaming\\Python\\Python311\\site-packages\\Pythonwin\n",
      "c:\\Users\\rahul\\AppData\\Local\\Programs\\Python\\Python311\\Lib\\site-packages\n"
     ]
    }
   ],
   "source": [
    "import os\n",
    "import sys\n",
    "\n",
    "print(\"Current Working Directory:\", os.getcwd())\n",
    "print(\"\\nPython Path:\")\n",
    "print(\"\\n\".join(sys.path))\n"
   ]
  },
  {
   "cell_type": "code",
   "execution_count": null,
   "metadata": {},
   "outputs": [
    {
     "ename": "ModuleNotFoundError",
     "evalue": "No module named 'numpy'",
     "output_type": "error",
     "traceback": [
      "\u001b[1;31m---------------------------------------------------------------------------\u001b[0m",
      "\u001b[1;31mModuleNotFoundError\u001b[0m                       Traceback (most recent call last)",
      "Cell \u001b[1;32mIn[8], line 7\u001b[0m\n\u001b[0;32m      4\u001b[0m     sys\u001b[39m.\u001b[39mpath\u001b[39m.\u001b[39minsert(\u001b[39m0\u001b[39m, package_dir)\n\u001b[0;32m      6\u001b[0m \u001b[39m# Now try to import the package again\u001b[39;00m\n\u001b[1;32m----> 7\u001b[0m \u001b[39mfrom\u001b[39;00m \u001b[39massignmentpkg\u001b[39;00m \u001b[39mimport\u001b[39;00m analysis\n",
      "File \u001b[1;32mc:\\Users\\rahul\\Desktop\\Assignmentpkg\\dsi-build-software-project\\assignmentpkg\\analysis.py:6\u001b[0m\n\u001b[0;32m      <a href='file:///c%3A/Users/rahul/Desktop/Assignmentpkg/dsi-build-software-project/assignmentpkg/analysis.py?line=3'>4</a>\u001b[0m \u001b[39mimport\u001b[39;00m \u001b[39mrequests\u001b[39;00m\n\u001b[0;32m      <a href='file:///c%3A/Users/rahul/Desktop/Assignmentpkg/dsi-build-software-project/assignmentpkg/analysis.py?line=4'>5</a>\u001b[0m \u001b[39mimport\u001b[39;00m \u001b[39mlogging\u001b[39;00m\n\u001b[1;32m----> <a href='file:///c%3A/Users/rahul/Desktop/Assignmentpkg/dsi-build-software-project/assignmentpkg/analysis.py?line=5'>6</a>\u001b[0m \u001b[39mimport\u001b[39;00m \u001b[39mnumpy\u001b[39;00m \u001b[39mas\u001b[39;00m \u001b[39mnp\u001b[39;00m\n\u001b[0;32m      <a href='file:///c%3A/Users/rahul/Desktop/Assignmentpkg/dsi-build-software-project/assignmentpkg/analysis.py?line=6'>7</a>\u001b[0m \u001b[39mimport\u001b[39;00m \u001b[39mmatplotlib\u001b[39;00m\u001b[39m.\u001b[39;00m\u001b[39mpyplot\u001b[39;00m \u001b[39mas\u001b[39;00m \u001b[39mplt\u001b[39;00m\n\u001b[0;32m      <a href='file:///c%3A/Users/rahul/Desktop/Assignmentpkg/dsi-build-software-project/assignmentpkg/analysis.py?line=7'>8</a>\u001b[0m \u001b[39mfrom\u001b[39;00m \u001b[39mscipy\u001b[39;00m \u001b[39mimport\u001b[39;00m stats\n",
      "\u001b[1;31mModuleNotFoundError\u001b[0m: No module named 'numpy'"
     ]
    }
   ],
   "source": [
    "# Add the parent directory of `assignmentpkg` to the Python path\n",
    "package_dir = 'c:\\\\Users\\\\rahul\\\\Desktop\\\\Assignmentpkg\\\\dsi-build-software-project'\n",
    "if package_dir not in sys.path:\n",
    "    sys.path.insert(0, package_dir)\n",
    "\n",
    "# Now try to import the package again\n",
    "from assignmentpkg import analysis\n"
   ]
  },
  {
   "cell_type": "code",
   "execution_count": null,
   "metadata": {},
   "outputs": [
    {
     "name": "stdout",
     "output_type": "stream",
     "text": [
      "Collecting numpyNote: you may need to restart the kernel to use updated packages.\n",
      "\n",
      "  Downloading numpy-1.26.3-cp311-cp311-win_amd64.whl.metadata (61 kB)\n",
      "     ---------------------------------------- 0.0/61.2 kB ? eta -:--:--\n",
      "     ---------------------------------------- 61.2/61.2 kB 3.2 MB/s eta 0:00:00\n"
     ]
    },
    {
     "name": "stderr",
     "output_type": "stream",
     "text": [
      "ERROR: Ignored the following versions that require a different python version: 1.21.2 Requires-Python >=3.7,<3.11; 1.21.3 Requires-Python >=3.7,<3.11; 1.21.4 Requires-Python >=3.7,<3.11; 1.21.5 Requires-Python >=3.7,<3.11; 1.21.6 Requires-Python >=3.7,<3.11\n",
      "ERROR: Could not find a version that satisfies the requirement as (from versions: none)\n",
      "ERROR: No matching distribution found for as\n"
     ]
    }
   ],
   "source": [
    "pip install numpy as np"
   ]
  },
  {
   "cell_type": "code",
   "execution_count": null,
   "metadata": {},
   "outputs": [
    {
     "ename": "ModuleNotFoundError",
     "evalue": "No module named 'numpy'",
     "output_type": "error",
     "traceback": [
      "\u001b[1;31m---------------------------------------------------------------------------\u001b[0m",
      "\u001b[1;31mModuleNotFoundError\u001b[0m                       Traceback (most recent call last)",
      "Cell \u001b[1;32mIn[10], line 1\u001b[0m\n\u001b[1;32m----> 1\u001b[0m \u001b[39mfrom\u001b[39;00m \u001b[39massignmentpkg\u001b[39;00m \u001b[39mimport\u001b[39;00m analysis\n",
      "File \u001b[1;32mc:\\Users\\rahul\\Desktop\\Assignmentpkg\\dsi-build-software-project\\assignmentpkg\\analysis.py:6\u001b[0m\n\u001b[0;32m      <a href='file:///c%3A/Users/rahul/Desktop/Assignmentpkg/dsi-build-software-project/assignmentpkg/analysis.py?line=3'>4</a>\u001b[0m \u001b[39mimport\u001b[39;00m \u001b[39mrequests\u001b[39;00m\n\u001b[0;32m      <a href='file:///c%3A/Users/rahul/Desktop/Assignmentpkg/dsi-build-software-project/assignmentpkg/analysis.py?line=4'>5</a>\u001b[0m \u001b[39mimport\u001b[39;00m \u001b[39mlogging\u001b[39;00m\n\u001b[1;32m----> <a href='file:///c%3A/Users/rahul/Desktop/Assignmentpkg/dsi-build-software-project/assignmentpkg/analysis.py?line=5'>6</a>\u001b[0m \u001b[39mimport\u001b[39;00m \u001b[39mnumpy\u001b[39;00m \u001b[39mas\u001b[39;00m \u001b[39mnp\u001b[39;00m\n\u001b[0;32m      <a href='file:///c%3A/Users/rahul/Desktop/Assignmentpkg/dsi-build-software-project/assignmentpkg/analysis.py?line=6'>7</a>\u001b[0m \u001b[39mimport\u001b[39;00m \u001b[39mmatplotlib\u001b[39;00m\u001b[39m.\u001b[39;00m\u001b[39mpyplot\u001b[39;00m \u001b[39mas\u001b[39;00m \u001b[39mplt\u001b[39;00m\n\u001b[0;32m      <a href='file:///c%3A/Users/rahul/Desktop/Assignmentpkg/dsi-build-software-project/assignmentpkg/analysis.py?line=7'>8</a>\u001b[0m \u001b[39mfrom\u001b[39;00m \u001b[39mscipy\u001b[39;00m \u001b[39mimport\u001b[39;00m stats\n",
      "\u001b[1;31mModuleNotFoundError\u001b[0m: No module named 'numpy'"
     ]
    }
   ],
   "source": [
    "from assignmentpkg import analysis\n"
   ]
  },
  {
   "cell_type": "code",
   "execution_count": null,
   "metadata": {},
   "outputs": [
    {
     "name": "stdout",
     "output_type": "stream",
     "text": [
      "Collecting numpy\n",
      "  Using cached numpy-1.26.3-cp311-cp311-win_amd64.whl.metadata (61 kB)\n",
      "Note: you may need to restart the kernel to use updated packages.\n"
     ]
    },
    {
     "name": "stderr",
     "output_type": "stream",
     "text": [
      "ERROR: Ignored the following versions that require a different python version: 1.21.2 Requires-Python >=3.7,<3.11; 1.21.3 Requires-Python >=3.7,<3.11; 1.21.4 Requires-Python >=3.7,<3.11; 1.21.5 Requires-Python >=3.7,<3.11; 1.21.6 Requires-Python >=3.7,<3.11\n",
      "ERROR: Could not find a version that satisfies the requirement as (from versions: none)\n",
      "ERROR: No matching distribution found for as\n"
     ]
    }
   ],
   "source": [
    "pip install numpy as np"
   ]
  },
  {
   "cell_type": "code",
   "execution_count": null,
   "metadata": {},
   "outputs": [
    {
     "name": "stdout",
     "output_type": "stream",
     "text": [
      "Collecting numpy\n",
      "  Using cached numpy-1.26.3-cp311-cp311-win_amd64.whl.metadata (61 kB)\n",
      "Downloading numpy-1.26.3-cp311-cp311-win_amd64.whl (15.8 MB)\n",
      "   ---------------------------------------- 0.0/15.8 MB ? eta -:--:--\n",
      "    --------------------------------------- 0.3/15.8 MB 5.2 MB/s eta 0:00:03\n",
      "   -- ------------------------------------- 0.8/15.8 MB 10.8 MB/s eta 0:00:02\n",
      "   ---- ----------------------------------- 1.6/15.8 MB 12.9 MB/s eta 0:00:02\n",
      "   ----- ---------------------------------- 2.3/15.8 MB 13.4 MB/s eta 0:00:02\n",
      "   ------- -------------------------------- 3.0/15.8 MB 13.8 MB/s eta 0:00:01\n",
      "   --------- ------------------------------ 3.7/15.8 MB 14.0 MB/s eta 0:00:01\n",
      "   ----------- ---------------------------- 4.5/15.8 MB 14.2 MB/s eta 0:00:01\n",
      "   ------------- -------------------------- 5.2/15.8 MB 14.3 MB/s eta 0:00:01\n",
      "   -------------- ------------------------- 5.9/15.8 MB 14.5 MB/s eta 0:00:01\n",
      "   ---------------- ----------------------- 6.6/15.8 MB 14.6 MB/s eta 0:00:01\n",
      "   ------------------ --------------------- 7.3/15.8 MB 14.6 MB/s eta 0:00:01\n",
      "   -------------------- ------------------- 8.1/15.8 MB 14.8 MB/s eta 0:00:01\n",
      "   ---------------------- ----------------- 8.8/15.8 MB 14.7 MB/s eta 0:00:01\n",
      "   ----------------------- ---------------- 9.1/15.8 MB 14.6 MB/s eta 0:00:01\n",
      "   ----------------------- ---------------- 9.3/15.8 MB 13.9 MB/s eta 0:00:01\n",
      "   -------------------------- ------------- 10.4/15.8 MB 14.5 MB/s eta 0:00:01\n",
      "   ---------------------------- ----------- 11.1/15.8 MB 14.9 MB/s eta 0:00:01\n",
      "   ----------------------------- ---------- 11.8/15.8 MB 14.6 MB/s eta 0:00:01\n",
      "   ------------------------------- -------- 12.5/15.8 MB 14.6 MB/s eta 0:00:01\n",
      "   --------------------------------- ------ 13.2/15.8 MB 14.6 MB/s eta 0:00:01\n",
      "   ----------------------------------- ---- 13.9/15.8 MB 14.6 MB/s eta 0:00:01\n",
      "   ------------------------------------- -- 14.7/15.8 MB 14.6 MB/s eta 0:00:01\n",
      "   -------------------------------------- - 15.4/15.8 MB 14.6 MB/s eta 0:00:01\n",
      "   ---------------------------------------  15.8/15.8 MB 14.6 MB/s eta 0:00:01\n",
      "   ---------------------------------------- 15.8/15.8 MB 13.9 MB/s eta 0:00:00\n",
      "Installing collected packages: numpy\n",
      "Successfully installed numpy-1.26.3\n",
      "Note: you may need to restart the kernel to use updated packages.\n"
     ]
    },
    {
     "name": "stderr",
     "output_type": "stream",
     "text": [
      "  WARNING: The script f2py.exe is installed in 'c:\\Users\\rahul\\AppData\\Local\\Programs\\Python\\Python311\\Scripts' which is not on PATH.\n",
      "  Consider adding this directory to PATH or, if you prefer to suppress this warning, use --no-warn-script-location.\n"
     ]
    }
   ],
   "source": [
    "pip install numpy\n"
   ]
  },
  {
   "cell_type": "markdown",
   "metadata": {
    "isInteractiveWindowMessageCell": true
   },
   "source": [
    "Restarted Python 3.11.4"
   ]
  },
  {
   "cell_type": "code",
   "execution_count": null,
   "metadata": {},
   "outputs": [
    {
     "ename": "ModuleNotFoundError",
     "evalue": "No module named 'assignmentpkg'",
     "output_type": "error",
     "traceback": [
      "\u001b[1;31m---------------------------------------------------------------------------\u001b[0m",
      "\u001b[1;31mModuleNotFoundError\u001b[0m                       Traceback (most recent call last)",
      "Cell \u001b[1;32mIn[1], line 1\u001b[0m\n\u001b[1;32m----> 1\u001b[0m \u001b[39mfrom\u001b[39;00m \u001b[39massignmentpkg\u001b[39;00m \u001b[39mimport\u001b[39;00m analysis\n",
      "\u001b[1;31mModuleNotFoundError\u001b[0m: No module named 'assignmentpkg'"
     ]
    }
   ],
   "source": [
    "from assignmentpkg import analysis\n"
   ]
  },
  {
   "cell_type": "code",
   "execution_count": 5,
   "metadata": {},
   "outputs": [
    {
     "ename": "SyntaxError",
     "evalue": "invalid syntax (3712055049.py, line 2)",
     "output_type": "error",
     "traceback": [
      "\u001b[1;36m  Cell \u001b[1;32mIn[5], line 2\u001b[1;36m\u001b[0m\n\u001b[1;33m    cd c:\\Users\\rahul\\Desktop\\Assignmentpkg\\dsi-build-software-project\u001b[0m\n\u001b[1;37m       ^\u001b[0m\n\u001b[1;31mSyntaxError\u001b[0m\u001b[1;31m:\u001b[0m invalid syntax\n"
     ]
    }
   ],
   "source": [
    "# Navigate to your project directory\n",
    "cd c:\\Users\\rahul\\Desktop\\Assignmentpkg\\dsi-build-software-project\n",
    "\n",
    "# Create a virtual environment\n",
    "python -m venv venv\n",
    "\n",
    "# Activate the virtual environment\n",
    "# On Windows:\n",
    "venv\\Scripts\\activate\n",
    "\n",
    "# On Unix or MacOS:\n",
    "source venv/bin/activate\n",
    "\n",
    "# Install your package\n",
    "pip install -e .\n",
    "\n",
    "# Now try running your Jupyter notebook\n"
   ]
  },
  {
   "cell_type": "code",
   "execution_count": 1,
   "metadata": {},
   "outputs": [
    {
     "ename": "ModuleNotFoundError",
     "evalue": "No module named 'assignmentpkg'",
     "output_type": "error",
     "traceback": [
      "\u001b[1;31m---------------------------------------------------------------------------\u001b[0m",
      "\u001b[1;31mModuleNotFoundError\u001b[0m                       Traceback (most recent call last)",
      "Cell \u001b[1;32mIn[1], line 1\u001b[0m\n\u001b[1;32m----> 1\u001b[0m \u001b[38;5;28;01mfrom\u001b[39;00m \u001b[38;5;21;01massignmentpkg\u001b[39;00m \u001b[38;5;28;01mimport\u001b[39;00m analysis\n",
      "\u001b[1;31mModuleNotFoundError\u001b[0m: No module named 'assignmentpkg'"
     ]
    }
   ],
   "source": [
    "from assignmentpkg import analysis"
   ]
  },
  {
   "cell_type": "code",
   "execution_count": 2,
   "metadata": {},
   "outputs": [
    {
     "name": "stdout",
     "output_type": "stream",
     "text": [
      "Processing c:\\users\\rahul\\desktop\\assignmentpkg\\dsi-build-software-project\\assignmentpkg\n",
      "  Installing build dependencies: started\n",
      "  Installing build dependencies: finished with status 'done'\n",
      "  Getting requirements to build wheel: started\n",
      "  Getting requirements to build wheel: finished with status 'error'\n",
      "Note: you may need to restart the kernel to use updated packages.\n"
     ]
    },
    {
     "name": "stderr",
     "output_type": "stream",
     "text": [
      "  error: subprocess-exited-with-error\n",
      "  \n",
      "  × Getting requirements to build wheel did not run successfully.\n",
      "  │ exit code: 1\n",
      "  ╰─> [22 lines of output]\n",
      "      Traceback (most recent call last):\n",
      "        File \"c:\\Users\\rahul\\AppData\\Local\\Programs\\Python\\Python311\\Lib\\site-packages\\pip\\_vendor\\pyproject_hooks\\_in_process\\_in_process.py\", line 353, in <module>\n",
      "          main()\n",
      "        File \"c:\\Users\\rahul\\AppData\\Local\\Programs\\Python\\Python311\\Lib\\site-packages\\pip\\_vendor\\pyproject_hooks\\_in_process\\_in_process.py\", line 335, in main\n",
      "          json_out['return_val'] = hook(**hook_input['kwargs'])\n",
      "                                   ^^^^^^^^^^^^^^^^^^^^^^^^^^^^\n",
      "        File \"c:\\Users\\rahul\\AppData\\Local\\Programs\\Python\\Python311\\Lib\\site-packages\\pip\\_vendor\\pyproject_hooks\\_in_process\\_in_process.py\", line 118, in get_requires_for_build_wheel\n",
      "          return hook(config_settings)\n",
      "                 ^^^^^^^^^^^^^^^^^^^^^\n",
      "        File \"C:\\Users\\rahul\\AppData\\Local\\Temp\\pip-build-env-i1e6ir1l\\overlay\\Lib\\site-packages\\setuptools\\build_meta.py\", line 325, in get_requires_for_build_wheel\n",
      "          return self._get_build_requires(config_settings, requirements=['wheel'])\n",
      "                 ^^^^^^^^^^^^^^^^^^^^^^^^^^^^^^^^^^^^^^^^^^^^^^^^^^^^^^^^^^^^^^^^^\n",
      "        File \"C:\\Users\\rahul\\AppData\\Local\\Temp\\pip-build-env-i1e6ir1l\\overlay\\Lib\\site-packages\\setuptools\\build_meta.py\", line 295, in _get_build_requires\n",
      "          self.run_setup()\n",
      "        File \"C:\\Users\\rahul\\AppData\\Local\\Temp\\pip-build-env-i1e6ir1l\\overlay\\Lib\\site-packages\\setuptools\\build_meta.py\", line 480, in run_setup\n",
      "          super(_BuildMetaLegacyBackend, self).run_setup(setup_script=setup_script)\n",
      "        File \"C:\\Users\\rahul\\AppData\\Local\\Temp\\pip-build-env-i1e6ir1l\\overlay\\Lib\\site-packages\\setuptools\\build_meta.py\", line 311, in run_setup\n",
      "          exec(code, locals())\n",
      "        File \"<string>\", line 5\n",
      "          description=\"A package for analyzing data from the NYT API\"\n",
      "                      ^^^^^^^^^^^^^^^^^^^^^^^^^^^^^^^^^^^^^^^^^^^^^^\n",
      "      SyntaxError: invalid syntax. Perhaps you forgot a comma?\n",
      "      [end of output]\n",
      "  \n",
      "  note: This error originates from a subprocess, and is likely not a problem with pip.\n",
      "error: subprocess-exited-with-error\n",
      "\n",
      "× Getting requirements to build wheel did not run successfully.\n",
      "│ exit code: 1\n",
      "╰─> See above for output.\n",
      "\n",
      "note: This error originates from a subprocess, and is likely not a problem with pip.\n"
     ]
    }
   ],
   "source": [
    "pip install .\n"
   ]
  },
  {
   "cell_type": "code",
   "execution_count": 3,
   "metadata": {},
   "outputs": [
    {
     "ename": "ModuleNotFoundError",
     "evalue": "No module named 'assignmentpkg'",
     "output_type": "error",
     "traceback": [
      "\u001b[1;31m---------------------------------------------------------------------------\u001b[0m",
      "\u001b[1;31mModuleNotFoundError\u001b[0m                       Traceback (most recent call last)",
      "Cell \u001b[1;32mIn[3], line 1\u001b[0m\n\u001b[1;32m----> 1\u001b[0m \u001b[38;5;28;01mfrom\u001b[39;00m \u001b[38;5;21;01massignmentpkg\u001b[39;00m \u001b[38;5;28;01mimport\u001b[39;00m analysis\n\u001b[0;32m      2\u001b[0m analysis \u001b[38;5;241m=\u001b[39m Analysis\u001b[38;5;241m.\u001b[39mAnalysisClass(\u001b[38;5;124m'\u001b[39m\u001b[38;5;124mconfigs/user_config.yml\u001b[39m\u001b[38;5;124m'\u001b[39m)\n",
      "\u001b[1;31mModuleNotFoundError\u001b[0m: No module named 'assignmentpkg'"
     ]
    }
   ],
   "source": [
    "from assignmentpkg import analysis\n",
    "analysis = Analysis.AnalysisClass('configs/user_config.yml')\n"
   ]
  },
  {
   "cell_type": "code",
   "execution_count": 4,
   "metadata": {},
   "outputs": [
    {
     "name": "stdout",
     "output_type": "stream",
     "text": [
      "Processing c:\\users\\rahul\\desktop\\assignmentpkg\\dsi-build-software-project\\assignmentpkg\n",
      "  Installing build dependencies: started\n",
      "  Installing build dependencies: finished with status 'done'\n",
      "  Getting requirements to build wheel: started\n",
      "  Getting requirements to build wheel: finished with status 'done'\n",
      "  Preparing metadata (pyproject.toml): started\n",
      "  Preparing metadata (pyproject.toml): finished with status 'done'\n",
      "Requirement already satisfied: requests in c:\\users\\rahul\\appdata\\local\\programs\\python\\python311\\lib\\site-packages (from assignmentpkg==0.1.0) (2.31.0)\n",
      "Requirement already satisfied: PyYAML in c:\\users\\rahul\\appdata\\local\\programs\\python\\python311\\lib\\site-packages (from assignmentpkg==0.1.0) (6.0.1)\n",
      "Requirement already satisfied: numpy in c:\\users\\rahul\\appdata\\local\\programs\\python\\python311\\lib\\site-packages (from assignmentpkg==0.1.0) (1.26.3)\n",
      "Collecting scipy (from assignmentpkg==0.1.0)\n",
      "  Downloading scipy-1.11.4-cp311-cp311-win_amd64.whl.metadata (60 kB)\n",
      "     ---------------------------------------- 0.0/60.4 kB ? eta -:--:--\n",
      "     ---------------------------------------- 60.4/60.4 kB ? eta 0:00:00\n",
      "Collecting matplotlib (from assignmentpkg==0.1.0)\n",
      "  Downloading matplotlib-3.8.2-cp311-cp311-win_amd64.whl.metadata (5.9 kB)\n",
      "Collecting contourpy>=1.0.1 (from matplotlib->assignmentpkg==0.1.0)\n",
      "  Downloading contourpy-1.2.0-cp311-cp311-win_amd64.whl.metadata (5.8 kB)\n",
      "Collecting cycler>=0.10 (from matplotlib->assignmentpkg==0.1.0)\n",
      "  Downloading cycler-0.12.1-py3-none-any.whl.metadata (3.8 kB)\n",
      "Collecting fonttools>=4.22.0 (from matplotlib->assignmentpkg==0.1.0)\n",
      "  Downloading fonttools-4.47.2-cp311-cp311-win_amd64.whl.metadata (160 kB)\n",
      "     ---------------------------------------- 0.0/160.8 kB ? eta -:--:--\n",
      "     -------------------------------------- 160.8/160.8 kB 9.4 MB/s eta 0:00:00\n",
      "Collecting kiwisolver>=1.3.1 (from matplotlib->assignmentpkg==0.1.0)\n",
      "  Downloading kiwisolver-1.4.5-cp311-cp311-win_amd64.whl.metadata (6.5 kB)\n",
      "Requirement already satisfied: packaging>=20.0 in c:\\users\\rahul\\appdata\\roaming\\python\\python311\\site-packages (from matplotlib->assignmentpkg==0.1.0) (23.2)\n",
      "Collecting pillow>=8 (from matplotlib->assignmentpkg==0.1.0)\n",
      "  Downloading pillow-10.2.0-cp311-cp311-win_amd64.whl.metadata (9.9 kB)\n",
      "Collecting pyparsing>=2.3.1 (from matplotlib->assignmentpkg==0.1.0)\n",
      "  Downloading pyparsing-3.1.1-py3-none-any.whl.metadata (5.1 kB)\n",
      "Requirement already satisfied: python-dateutil>=2.7 in c:\\users\\rahul\\appdata\\roaming\\python\\python311\\site-packages (from matplotlib->assignmentpkg==0.1.0) (2.8.2)\n",
      "Requirement already satisfied: charset-normalizer<4,>=2 in c:\\users\\rahul\\appdata\\local\\programs\\python\\python311\\lib\\site-packages (from requests->assignmentpkg==0.1.0) (3.3.2)\n",
      "Requirement already satisfied: idna<4,>=2.5 in c:\\users\\rahul\\appdata\\local\\programs\\python\\python311\\lib\\site-packages (from requests->assignmentpkg==0.1.0) (3.6)\n",
      "Requirement already satisfied: urllib3<3,>=1.21.1 in c:\\users\\rahul\\appdata\\local\\programs\\python\\python311\\lib\\site-packages (from requests->assignmentpkg==0.1.0) (2.1.0)\n",
      "Requirement already satisfied: certifi>=2017.4.17 in c:\\users\\rahul\\appdata\\local\\programs\\python\\python311\\lib\\site-packages (from requests->assignmentpkg==0.1.0) (2023.11.17)\n",
      "Requirement already satisfied: six>=1.5 in c:\\users\\rahul\\appdata\\roaming\\python\\python311\\site-packages (from python-dateutil>=2.7->matplotlib->assignmentpkg==0.1.0) (1.16.0)\n",
      "Downloading matplotlib-3.8.2-cp311-cp311-win_amd64.whl (7.6 MB)\n",
      "   ---------------------------------------- 0.0/7.6 MB ? eta -:--:--\n",
      "   ---- ----------------------------------- 0.8/7.6 MB 16.8 MB/s eta 0:00:01\n",
      "   ------- -------------------------------- 1.4/7.6 MB 15.0 MB/s eta 0:00:01\n",
      "   ----------- ---------------------------- 2.1/7.6 MB 15.0 MB/s eta 0:00:01\n",
      "   -------------- ------------------------- 2.9/7.6 MB 15.1 MB/s eta 0:00:01\n",
      "   ------------------ --------------------- 3.5/7.6 MB 14.8 MB/s eta 0:00:01\n",
      "   ------------------- -------------------- 3.8/7.6 MB 13.5 MB/s eta 0:00:01\n",
      "   ----------------------- ---------------- 4.4/7.6 MB 13.5 MB/s eta 0:00:01\n",
      "   --------------------------- ------------ 5.2/7.6 MB 13.7 MB/s eta 0:00:01\n",
      "   ------------------------------ --------- 5.9/7.6 MB 13.9 MB/s eta 0:00:01\n",
      "   ---------------------------------- ----- 6.6/7.6 MB 14.0 MB/s eta 0:00:01\n",
      "   -------------------------------------- - 7.3/7.6 MB 14.2 MB/s eta 0:00:01\n",
      "   ---------------------------------------- 7.6/7.6 MB 14.0 MB/s eta 0:00:00\n",
      "Downloading scipy-1.11.4-cp311-cp311-win_amd64.whl (44.1 MB)\n",
      "   ---------------------------------------- 0.0/44.1 MB ? eta -:--:--\n",
      "   ---------------------------------------- 0.5/44.1 MB 10.5 MB/s eta 0:00:05\n",
      "   - -------------------------------------- 1.1/44.1 MB 14.2 MB/s eta 0:00:04\n",
      "   - -------------------------------------- 1.6/44.1 MB 12.6 MB/s eta 0:00:04\n",
      "   - -------------------------------------- 2.1/44.1 MB 12.1 MB/s eta 0:00:04\n",
      "   -- ------------------------------------- 2.9/44.1 MB 13.1 MB/s eta 0:00:04\n",
      "   --- ------------------------------------ 3.5/44.1 MB 13.3 MB/s eta 0:00:04\n",
      "   --- ------------------------------------ 4.2/44.1 MB 13.3 MB/s eta 0:00:03\n",
      "   ---- ----------------------------------- 4.9/44.1 MB 13.5 MB/s eta 0:00:03\n",
      "   ----- ---------------------------------- 5.6/44.1 MB 13.7 MB/s eta 0:00:03\n",
      "   ----- ---------------------------------- 6.3/44.1 MB 13.9 MB/s eta 0:00:03\n",
      "   ------ --------------------------------- 7.0/44.1 MB 14.0 MB/s eta 0:00:03\n",
      "   ------ --------------------------------- 7.7/44.1 MB 14.0 MB/s eta 0:00:03\n",
      "   ------- -------------------------------- 8.4/44.1 MB 14.1 MB/s eta 0:00:03\n",
      "   -------- ------------------------------- 9.1/44.1 MB 14.2 MB/s eta 0:00:03\n",
      "   -------- ------------------------------- 9.8/44.1 MB 14.3 MB/s eta 0:00:03\n",
      "   --------- ------------------------------ 10.5/44.1 MB 14.2 MB/s eta 0:00:03\n",
      "   ---------- ----------------------------- 11.3/44.1 MB 14.6 MB/s eta 0:00:03\n",
      "   ---------- ----------------------------- 12.0/44.1 MB 14.9 MB/s eta 0:00:03\n",
      "   ----------- ---------------------------- 12.7/44.1 MB 15.2 MB/s eta 0:00:03\n",
      "   ------------ --------------------------- 13.4/44.1 MB 14.9 MB/s eta 0:00:03\n",
      "   ------------ --------------------------- 13.8/44.1 MB 14.6 MB/s eta 0:00:03\n",
      "   ------------- -------------------------- 14.5/44.1 MB 14.9 MB/s eta 0:00:02\n",
      "   ------------- -------------------------- 15.1/44.1 MB 14.6 MB/s eta 0:00:02\n",
      "   -------------- ------------------------- 15.9/44.1 MB 14.6 MB/s eta 0:00:02\n",
      "   --------------- ------------------------ 16.6/44.1 MB 14.6 MB/s eta 0:00:02\n",
      "   --------------- ------------------------ 17.3/44.1 MB 14.6 MB/s eta 0:00:02\n",
      "   ---------------- ----------------------- 18.0/44.1 MB 14.9 MB/s eta 0:00:02\n",
      "   ---------------- ----------------------- 18.7/44.1 MB 14.9 MB/s eta 0:00:02\n",
      "   ----------------- ---------------------- 19.1/44.1 MB 14.6 MB/s eta 0:00:02\n",
      "   ----------------- ---------------------- 19.8/44.1 MB 14.6 MB/s eta 0:00:02\n",
      "   ------------------ --------------------- 20.4/44.1 MB 14.2 MB/s eta 0:00:02\n",
      "   ------------------- -------------------- 21.1/44.1 MB 14.2 MB/s eta 0:00:02\n",
      "   ------------------- -------------------- 21.9/44.1 MB 14.2 MB/s eta 0:00:02\n",
      "   -------------------- ------------------- 22.6/44.1 MB 14.2 MB/s eta 0:00:02\n",
      "   --------------------- ------------------ 23.3/44.1 MB 14.6 MB/s eta 0:00:02\n",
      "   --------------------- ------------------ 24.0/44.1 MB 14.9 MB/s eta 0:00:02\n",
      "   ---------------------- ----------------- 24.7/44.1 MB 14.9 MB/s eta 0:00:02\n",
      "   ----------------------- ---------------- 25.4/44.1 MB 14.9 MB/s eta 0:00:02\n",
      "   ----------------------- ---------------- 26.0/44.1 MB 14.5 MB/s eta 0:00:02\n",
      "   ----------------------- ---------------- 26.3/44.1 MB 14.6 MB/s eta 0:00:02\n",
      "   ----------------------- ---------------- 26.4/44.1 MB 13.6 MB/s eta 0:00:02\n",
      "   ------------------------ --------------- 26.7/44.1 MB 13.4 MB/s eta 0:00:02\n",
      "   ------------------------ --------------- 27.1/44.1 MB 12.6 MB/s eta 0:00:02\n",
      "   ------------------------- -------------- 27.8/44.1 MB 12.6 MB/s eta 0:00:02\n",
      "   ------------------------- -------------- 28.1/44.1 MB 12.1 MB/s eta 0:00:02\n",
      "   ------------------------- -------------- 28.5/44.1 MB 12.1 MB/s eta 0:00:02\n",
      "   -------------------------- ------------- 28.8/44.1 MB 11.5 MB/s eta 0:00:02\n",
      "   -------------------------- ------------- 29.6/44.1 MB 11.9 MB/s eta 0:00:02\n",
      "   --------------------------- ------------ 30.2/44.1 MB 11.7 MB/s eta 0:00:02\n",
      "   ---------------------------- ----------- 30.9/44.1 MB 11.7 MB/s eta 0:00:02\n",
      "   ---------------------------- ----------- 31.6/44.1 MB 11.7 MB/s eta 0:00:02\n",
      "   ----------------------------- ---------- 32.2/44.1 MB 11.7 MB/s eta 0:00:02\n",
      "   ----------------------------- ---------- 32.9/44.1 MB 11.7 MB/s eta 0:00:01\n",
      "   ------------------------------ --------- 33.5/44.1 MB 11.7 MB/s eta 0:00:01\n",
      "   ------------------------------ --------- 33.9/44.1 MB 11.3 MB/s eta 0:00:01\n",
      "   ------------------------------- -------- 34.7/44.1 MB 11.3 MB/s eta 0:00:01\n",
      "   -------------------------------- ------- 35.4/44.1 MB 11.3 MB/s eta 0:00:01\n",
      "   -------------------------------- ------- 36.1/44.1 MB 11.3 MB/s eta 0:00:01\n",
      "   --------------------------------- ------ 36.8/44.1 MB 12.4 MB/s eta 0:00:01\n",
      "   --------------------------------- ------ 37.5/44.1 MB 13.1 MB/s eta 0:00:01\n",
      "   ---------------------------------- ----- 38.2/44.1 MB 13.4 MB/s eta 0:00:01\n",
      "   ----------------------------------- ---- 38.9/44.1 MB 14.2 MB/s eta 0:00:01\n",
      "   ----------------------------------- ---- 39.2/44.1 MB 13.6 MB/s eta 0:00:01\n",
      "   ------------------------------------ --- 39.9/44.1 MB 13.6 MB/s eta 0:00:01\n",
      "   ------------------------------------ --- 40.5/44.1 MB 13.6 MB/s eta 0:00:01\n",
      "   ------------------------------------- -- 41.2/44.1 MB 13.9 MB/s eta 0:00:01\n",
      "   -------------------------------------- - 41.9/44.1 MB 13.9 MB/s eta 0:00:01\n",
      "   -------------------------------------- - 42.6/44.1 MB 13.9 MB/s eta 0:00:01\n",
      "   ---------------------------------------  43.3/44.1 MB 13.9 MB/s eta 0:00:01\n",
      "   ---------------------------------------  44.0/44.1 MB 14.6 MB/s eta 0:00:01\n",
      "   ---------------------------------------  44.1/44.1 MB 14.2 MB/s eta 0:00:01\n",
      "   ---------------------------------------- 44.1/44.1 MB 13.1 MB/s eta 0:00:00\n",
      "Downloading contourpy-1.2.0-cp311-cp311-win_amd64.whl (187 kB)\n",
      "   ---------------------------------------- 0.0/187.6 kB ? eta -:--:--\n",
      "   --------------------------------------- 187.6/187.6 kB 11.8 MB/s eta 0:00:00\n",
      "Downloading cycler-0.12.1-py3-none-any.whl (8.3 kB)\n",
      "Downloading fonttools-4.47.2-cp311-cp311-win_amd64.whl (2.2 MB)\n",
      "   ---------------------------------------- 0.0/2.2 MB ? eta -:--:--\n",
      "   ------------- -------------------------- 0.7/2.2 MB 22.4 MB/s eta 0:00:01\n",
      "   -------------------------- ------------- 1.5/2.2 MB 18.5 MB/s eta 0:00:01\n",
      "   -------------------------------------- - 2.1/2.2 MB 16.8 MB/s eta 0:00:01\n",
      "   ---------------------------------------- 2.2/2.2 MB 13.8 MB/s eta 0:00:00\n",
      "Downloading kiwisolver-1.4.5-cp311-cp311-win_amd64.whl (56 kB)\n",
      "   ---------------------------------------- 0.0/56.1 kB ? eta -:--:--\n",
      "   ---------------------------------------- 56.1/56.1 kB ? eta 0:00:00\n",
      "Downloading pillow-10.2.0-cp311-cp311-win_amd64.whl (2.6 MB)\n",
      "   ---------------------------------------- 0.0/2.6 MB ? eta -:--:--\n",
      "   --------- ------------------------------ 0.6/2.6 MB 19.2 MB/s eta 0:00:01\n",
      "   ------------------- -------------------- 1.3/2.6 MB 16.5 MB/s eta 0:00:01\n",
      "   ----------------------------- ---------- 1.9/2.6 MB 15.2 MB/s eta 0:00:01\n",
      "   ------------------------------------ --- 2.4/2.6 MB 14.0 MB/s eta 0:00:01\n",
      "   ---------------------------------------- 2.6/2.6 MB 12.9 MB/s eta 0:00:00\n",
      "Downloading pyparsing-3.1.1-py3-none-any.whl (103 kB)\n",
      "   ---------------------------------------- 0.0/103.1 kB ? eta -:--:--\n",
      "   ---------------------------------------- 103.1/103.1 kB 3.0 MB/s eta 0:00:00\n",
      "Building wheels for collected packages: assignmentpkg\n",
      "  Building wheel for assignmentpkg (pyproject.toml): started\n",
      "  Building wheel for assignmentpkg (pyproject.toml): finished with status 'done'\n",
      "  Created wheel for assignmentpkg: filename=assignmentpkg-0.1.0-py3-none-any.whl size=1124 sha256=2c4695396188fb7c2cd0e83ae65596df95d09caffa69453d60f2eeaa8a864621\n",
      "  Stored in directory: C:\\Users\\rahul\\AppData\\Local\\Temp\\pip-ephem-wheel-cache-pb8p066a\\wheels\\96\\e5\\bd\\44663bf4961bbf8659e5672f3f41077090479baa020442f8e3\n",
      "Successfully built assignmentpkg\n",
      "Installing collected packages: scipy, pyparsing, pillow, kiwisolver, fonttools, cycler, contourpy, matplotlib, assignmentpkg\n",
      "Successfully installed assignmentpkg-0.1.0 contourpy-1.2.0 cycler-0.12.1 fonttools-4.47.2 kiwisolver-1.4.5 matplotlib-3.8.2 pillow-10.2.0 pyparsing-3.1.1 scipy-1.11.4\n",
      "Note: you may need to restart the kernel to use updated packages.\n"
     ]
    },
    {
     "name": "stderr",
     "output_type": "stream",
     "text": [
      "  WARNING: The scripts fonttools.exe, pyftmerge.exe, pyftsubset.exe and ttx.exe are installed in 'c:\\Users\\rahul\\AppData\\Local\\Programs\\Python\\Python311\\Scripts' which is not on PATH.\n",
      "  Consider adding this directory to PATH or, if you prefer to suppress this warning, use --no-warn-script-location.\n"
     ]
    }
   ],
   "source": [
    "pip install ."
   ]
  },
  {
   "cell_type": "code",
   "execution_count": 5,
   "metadata": {},
   "outputs": [
    {
     "ename": "ModuleNotFoundError",
     "evalue": "No module named 'assignmentpkg'",
     "output_type": "error",
     "traceback": [
      "\u001b[1;31m---------------------------------------------------------------------------\u001b[0m",
      "\u001b[1;31mModuleNotFoundError\u001b[0m                       Traceback (most recent call last)",
      "Cell \u001b[1;32mIn[5], line 1\u001b[0m\n\u001b[1;32m----> 1\u001b[0m \u001b[38;5;28;01mfrom\u001b[39;00m \u001b[38;5;21;01massignmentpkg\u001b[39;00m \u001b[38;5;28;01mimport\u001b[39;00m analysis\n\u001b[0;32m      2\u001b[0m analysis \u001b[38;5;241m=\u001b[39m Analysis\u001b[38;5;241m.\u001b[39mAnalysisClass(\u001b[38;5;124m'\u001b[39m\u001b[38;5;124mconfigs/user_config.yml\u001b[39m\u001b[38;5;124m'\u001b[39m)\n",
      "\u001b[1;31mModuleNotFoundError\u001b[0m: No module named 'assignmentpkg'"
     ]
    }
   ],
   "source": [
    "\n",
    "from assignmentpkg import analysis\n",
    "analysis = Analysis.AnalysisClass('configs/user_config.yml')\n"
   ]
  },
  {
   "cell_type": "code",
   "execution_count": 6,
   "metadata": {},
   "outputs": [
    {
     "ename": "ModuleNotFoundError",
     "evalue": "No module named 'assignmentpkg'",
     "output_type": "error",
     "traceback": [
      "\u001b[1;31m---------------------------------------------------------------------------\u001b[0m",
      "\u001b[1;31mModuleNotFoundError\u001b[0m                       Traceback (most recent call last)",
      "Cell \u001b[1;32mIn[6], line 1\u001b[0m\n\u001b[1;32m----> 1\u001b[0m \u001b[38;5;28;01mfrom\u001b[39;00m \u001b[38;5;21;01massignmentpkg\u001b[39;00m \u001b[38;5;28;01mimport\u001b[39;00m analysis\n\u001b[0;32m      3\u001b[0m \u001b[38;5;66;03m# Example of using the package\u001b[39;00m\n\u001b[0;32m      4\u001b[0m analyzer \u001b[38;5;241m=\u001b[39m analysis\u001b[38;5;241m.\u001b[39mAnalysis([\u001b[38;5;124m'\u001b[39m\u001b[38;5;124mconfigs/system_config.yml\u001b[39m\u001b[38;5;124m'\u001b[39m, \u001b[38;5;124m'\u001b[39m\u001b[38;5;124mconfigs/user_config.yml\u001b[39m\u001b[38;5;124m'\u001b[39m])\n",
      "\u001b[1;31mModuleNotFoundError\u001b[0m: No module named 'assignmentpkg'"
     ]
    }
   ],
   "source": [
    "from assignmentpkg import analysis\n",
    "\n",
    "# Example of using the package\n",
    "analyzer = analysis.Analysis(['configs/system_config.yml', 'configs/user_config.yml'])\n",
    "data = analyzer.load_data()\n",
    "print(data)\n"
   ]
  },
  {
   "cell_type": "code",
   "execution_count": 7,
   "metadata": {},
   "outputs": [
    {
     "name": "stdout",
     "output_type": "stream",
     "text": [
      "['c:\\\\Users\\\\rahul\\\\Desktop\\\\Assignmentpkg\\\\dsi-build-software-project\\\\assignmentpkg', 'c:\\\\Users\\\\rahul\\\\AppData\\\\Local\\\\Programs\\\\Python\\\\Python311\\\\python311.zip', 'c:\\\\Users\\\\rahul\\\\AppData\\\\Local\\\\Programs\\\\Python\\\\Python311\\\\DLLs', 'c:\\\\Users\\\\rahul\\\\AppData\\\\Local\\\\Programs\\\\Python\\\\Python311\\\\Lib', 'c:\\\\Users\\\\rahul\\\\AppData\\\\Local\\\\Programs\\\\Python\\\\Python311', '', 'C:\\\\Users\\\\rahul\\\\AppData\\\\Roaming\\\\Python\\\\Python311\\\\site-packages', 'C:\\\\Users\\\\rahul\\\\AppData\\\\Roaming\\\\Python\\\\Python311\\\\site-packages\\\\win32', 'C:\\\\Users\\\\rahul\\\\AppData\\\\Roaming\\\\Python\\\\Python311\\\\site-packages\\\\win32\\\\lib', 'C:\\\\Users\\\\rahul\\\\AppData\\\\Roaming\\\\Python\\\\Python311\\\\site-packages\\\\Pythonwin', 'c:\\\\Users\\\\rahul\\\\AppData\\\\Local\\\\Programs\\\\Python\\\\Python311\\\\Lib\\\\site-packages']\n"
     ]
    }
   ],
   "source": [
    "import sys\n",
    "print(sys.path)\n"
   ]
  },
  {
   "cell_type": "code",
   "execution_count": 10,
   "metadata": {},
   "outputs": [
    {
     "ename": "ModuleNotFoundError",
     "evalue": "No module named 'assignmentpkg'",
     "output_type": "error",
     "traceback": [
      "\u001b[1;31m---------------------------------------------------------------------------\u001b[0m",
      "\u001b[1;31mModuleNotFoundError\u001b[0m                       Traceback (most recent call last)",
      "Cell \u001b[1;32mIn[10], line 1\u001b[0m\n\u001b[1;32m----> 1\u001b[0m \u001b[38;5;28;01mfrom\u001b[39;00m \u001b[38;5;21;01massignmentpkg\u001b[39;00m \u001b[38;5;28;01mimport\u001b[39;00m analysis\n",
      "\u001b[1;31mModuleNotFoundError\u001b[0m: No module named 'assignmentpkg'"
     ]
    }
   ],
   "source": [
    "from assignmentpkg import analysis\n"
   ]
  },
  {
   "cell_type": "code",
   "execution_count": 11,
   "metadata": {},
   "outputs": [
    {
     "ename": "ModuleNotFoundError",
     "evalue": "No module named 'assignmentpkg'",
     "output_type": "error",
     "traceback": [
      "\u001b[1;31m---------------------------------------------------------------------------\u001b[0m",
      "\u001b[1;31mModuleNotFoundError\u001b[0m                       Traceback (most recent call last)",
      "Cell \u001b[1;32mIn[11], line 1\u001b[0m\n\u001b[1;32m----> 1\u001b[0m \u001b[38;5;28;01mfrom\u001b[39;00m \u001b[38;5;21;01massignmentpkg\u001b[39;00m \u001b[38;5;28;01mimport\u001b[39;00m analysis\n",
      "\u001b[1;31mModuleNotFoundError\u001b[0m: No module named 'assignmentpkg'"
     ]
    }
   ],
   "source": [
    "from assignmentpkg import analysis"
   ]
  },
  {
   "cell_type": "code",
   "execution_count": 1,
   "metadata": {},
   "outputs": [
    {
     "ename": "ModuleNotFoundError",
     "evalue": "No module named 'assignmentpkg'",
     "output_type": "error",
     "traceback": [
      "\u001b[1;31m---------------------------------------------------------------------------\u001b[0m",
      "\u001b[1;31mModuleNotFoundError\u001b[0m                       Traceback (most recent call last)",
      "Cell \u001b[1;32mIn[1], line 1\u001b[0m\n\u001b[1;32m----> 1\u001b[0m \u001b[38;5;28;01mfrom\u001b[39;00m \u001b[38;5;21;01massignmentpkg\u001b[39;00m \u001b[38;5;28;01mimport\u001b[39;00m analysis\n",
      "\u001b[1;31mModuleNotFoundError\u001b[0m: No module named 'assignmentpkg'"
     ]
    }
   ],
   "source": [
    "from assignmentpkg import analysis"
   ]
  },
  {
   "cell_type": "code",
   "execution_count": 1,
   "metadata": {},
   "outputs": [
    {
     "ename": "ModuleNotFoundError",
     "evalue": "No module named 'assignmentpkg'",
     "output_type": "error",
     "traceback": [
      "\u001b[1;31m---------------------------------------------------------------------------\u001b[0m",
      "\u001b[1;31mModuleNotFoundError\u001b[0m                       Traceback (most recent call last)",
      "Cell \u001b[1;32mIn[1], line 1\u001b[0m\n\u001b[1;32m----> 1\u001b[0m \u001b[38;5;28;01mfrom\u001b[39;00m \u001b[38;5;21;01massignmentpkg\u001b[39;00m \u001b[38;5;28;01mimport\u001b[39;00m analysis\n",
      "\u001b[1;31mModuleNotFoundError\u001b[0m: No module named 'assignmentpkg'"
     ]
    }
   ],
   "source": [
    "from assignmentpkg import analysis"
   ]
  },
  {
   "cell_type": "code",
   "execution_count": 2,
   "metadata": {},
   "outputs": [],
   "source": [
    "import sys\n",
    "sys.path.insert(0, 'c:\\\\Users\\\\rahul\\\\Desktop\\\\Assignmentpkg\\\\dsi-build-software-project')\n",
    "from assignmentpkg import analysis\n"
   ]
  },
  {
   "cell_type": "code",
   "execution_count": 3,
   "metadata": {},
   "outputs": [
    {
     "name": "stdout",
     "output_type": "stream",
     "text": [
      "c:\\Users\\rahul\\AppData\\Local\\Programs\\Python\\Python311\\python.exe\n"
     ]
    }
   ],
   "source": [
    "import sys\n",
    "print(sys.executable)\n"
   ]
  },
  {
   "cell_type": "code",
   "execution_count": 6,
   "metadata": {},
   "outputs": [
    {
     "ename": "SyntaxError",
     "evalue": "unexpected character after line continuation character (2463526607.py, line 1)",
     "output_type": "error",
     "traceback": [
      "\u001b[1;36m  Cell \u001b[1;32mIn[6], line 1\u001b[1;36m\u001b[0m\n\u001b[1;33m    c: \\ Users\\rahul\\AppData\\Local\\Programs\\Python\\Python311\\python.exe -m pip list\u001b[0m\n\u001b[1;37m        ^\u001b[0m\n\u001b[1;31mSyntaxError\u001b[0m\u001b[1;31m:\u001b[0m unexpected character after line continuation character\n"
     ]
    }
   ],
   "source": [
    "c: \\ Users\\rahul\\AppData\\Local\\Programs\\Python\\Python311\\python.exe -m pip list\n"
   ]
  },
  {
   "cell_type": "code",
   "execution_count": 7,
   "metadata": {},
   "outputs": [],
   "source": [
    "from assignmentpkg import analysis\n"
   ]
  },
  {
   "cell_type": "code",
   "execution_count": 8,
   "metadata": {},
   "outputs": [
    {
     "ename": "NameError",
     "evalue": "name 'Analysis' is not defined",
     "output_type": "error",
     "traceback": [
      "\u001b[1;31m---------------------------------------------------------------------------\u001b[0m",
      "\u001b[1;31mNameError\u001b[0m                                 Traceback (most recent call last)",
      "Cell \u001b[1;32mIn[8], line 1\u001b[0m\n\u001b[1;32m----> 1\u001b[0m analysis \u001b[38;5;241m=\u001b[39m \u001b[43mAnalysis\u001b[49m\u001b[38;5;241m.\u001b[39mAnalysisClass(\u001b[38;5;124m'\u001b[39m\u001b[38;5;124mconfigs/user_config.yml\u001b[39m\u001b[38;5;124m'\u001b[39m)\n",
      "\u001b[1;31mNameError\u001b[0m: name 'Analysis' is not defined"
     ]
    }
   ],
   "source": [
    "analysis = Analysis.AnalysisClass('configs/user_config.yml')"
   ]
  },
  {
   "cell_type": "code",
   "execution_count": 9,
   "metadata": {},
   "outputs": [
    {
     "ename": "NameError",
     "evalue": "name 'Analysis' is not defined",
     "output_type": "error",
     "traceback": [
      "\u001b[1;31m---------------------------------------------------------------------------\u001b[0m",
      "\u001b[1;31mNameError\u001b[0m                                 Traceback (most recent call last)",
      "Cell \u001b[1;32mIn[9], line 2\u001b[0m\n\u001b[0;32m      1\u001b[0m \u001b[38;5;28;01mfrom\u001b[39;00m \u001b[38;5;21;01massignmentpkg\u001b[39;00m \u001b[38;5;28;01mimport\u001b[39;00m analysis\n\u001b[1;32m----> 2\u001b[0m analysis \u001b[38;5;241m=\u001b[39m \u001b[43mAnalysis\u001b[49m\u001b[38;5;241m.\u001b[39mAnalysisClass(\u001b[38;5;124m'\u001b[39m\u001b[38;5;124mconfigs/user_config.yml\u001b[39m\u001b[38;5;124m'\u001b[39m)\n",
      "\u001b[1;31mNameError\u001b[0m: name 'Analysis' is not defined"
     ]
    }
   ],
   "source": [
    "from assignmentpkg import analysis\n",
    "analysis = Analysis.AnalysisClass('configs/user_config.yml')"
   ]
  },
  {
   "cell_type": "code",
   "execution_count": 10,
   "metadata": {},
   "outputs": [
    {
     "ename": "FileNotFoundError",
     "evalue": "[Errno 2] No such file or directory: 'c'",
     "output_type": "error",
     "traceback": [
      "\u001b[1;31m---------------------------------------------------------------------------\u001b[0m",
      "\u001b[1;31mFileNotFoundError\u001b[0m                         Traceback (most recent call last)",
      "Cell \u001b[1;32mIn[10], line 3\u001b[0m\n\u001b[0;32m      1\u001b[0m \u001b[38;5;28;01mfrom\u001b[39;00m \u001b[38;5;21;01massignmentpkg\u001b[39;00m\u001b[38;5;21;01m.\u001b[39;00m\u001b[38;5;21;01manalysis\u001b[39;00m \u001b[38;5;28;01mimport\u001b[39;00m Analysis\n\u001b[1;32m----> 3\u001b[0m analysis \u001b[38;5;241m=\u001b[39m \u001b[43mAnalysis\u001b[49m\u001b[43m(\u001b[49m\u001b[38;5;124;43m'\u001b[39;49m\u001b[38;5;124;43mconfigs/user_config.yml\u001b[39;49m\u001b[38;5;124;43m'\u001b[39;49m\u001b[43m)\u001b[49m\n",
      "File \u001b[1;32mc:\\Users\\rahul\\Desktop\\Assignmentpkg\\dsi-build-software-project\\assignmentpkg\\analysis.py:11\u001b[0m, in \u001b[0;36mAnalysis.__init__\u001b[1;34m(self, config_paths)\u001b[0m\n\u001b[0;32m      9\u001b[0m \u001b[38;5;28mself\u001b[39m\u001b[38;5;241m.\u001b[39mconfig \u001b[38;5;241m=\u001b[39m {}\n\u001b[0;32m     10\u001b[0m \u001b[38;5;28;01mfor\u001b[39;00m path \u001b[38;5;129;01min\u001b[39;00m config_paths:\n\u001b[1;32m---> 11\u001b[0m     \u001b[38;5;28;01mwith\u001b[39;00m \u001b[38;5;28;43mopen\u001b[39;49m\u001b[43m(\u001b[49m\u001b[43mpath\u001b[49m\u001b[43m,\u001b[49m\u001b[43m \u001b[49m\u001b[38;5;124;43m'\u001b[39;49m\u001b[38;5;124;43mr\u001b[39;49m\u001b[38;5;124;43m'\u001b[39;49m\u001b[43m)\u001b[49m \u001b[38;5;28;01mas\u001b[39;00m file:\n\u001b[0;32m     12\u001b[0m         \u001b[38;5;28mself\u001b[39m\u001b[38;5;241m.\u001b[39mconfig\u001b[38;5;241m.\u001b[39mupdate(yaml\u001b[38;5;241m.\u001b[39msafe_load(file))\n\u001b[0;32m     13\u001b[0m topic \u001b[38;5;241m=\u001b[39m \u001b[38;5;28mself\u001b[39m\u001b[38;5;241m.\u001b[39mconfig[\u001b[38;5;124m\"\u001b[39m\u001b[38;5;124mtopic\u001b[39m\u001b[38;5;124m\"\u001b[39m]\n",
      "\u001b[1;31mFileNotFoundError\u001b[0m: [Errno 2] No such file or directory: 'c'"
     ]
    }
   ],
   "source": [
    "from assignmentpkg.analysis import Analysis\n",
    "\n",
    "analysis = Analysis('configs/user_config.yml')\n"
   ]
  },
  {
   "cell_type": "code",
   "execution_count": 11,
   "metadata": {},
   "outputs": [
    {
     "ename": "FileNotFoundError",
     "evalue": "[Errno 2] No such file or directory: 'c'",
     "output_type": "error",
     "traceback": [
      "\u001b[1;31m---------------------------------------------------------------------------\u001b[0m",
      "\u001b[1;31mFileNotFoundError\u001b[0m                         Traceback (most recent call last)",
      "Cell \u001b[1;32mIn[11], line 4\u001b[0m\n\u001b[0;32m      1\u001b[0m \u001b[38;5;28;01mfrom\u001b[39;00m \u001b[38;5;21;01massignmentpkg\u001b[39;00m \u001b[38;5;28;01mimport\u001b[39;00m analysis\n\u001b[0;32m      3\u001b[0m \u001b[38;5;66;03m# If Analysis is a class in the analysis module\u001b[39;00m\n\u001b[1;32m----> 4\u001b[0m analyzer \u001b[38;5;241m=\u001b[39m \u001b[43manalysis\u001b[49m\u001b[38;5;241;43m.\u001b[39;49m\u001b[43mAnalysis\u001b[49m\u001b[43m(\u001b[49m\u001b[38;5;124;43m'\u001b[39;49m\u001b[38;5;124;43mconfigs/user_config.yml\u001b[39;49m\u001b[38;5;124;43m'\u001b[39;49m\u001b[43m)\u001b[49m\n",
      "File \u001b[1;32mc:\\Users\\rahul\\Desktop\\Assignmentpkg\\dsi-build-software-project\\assignmentpkg\\analysis.py:11\u001b[0m, in \u001b[0;36mAnalysis.__init__\u001b[1;34m(self, config_paths)\u001b[0m\n\u001b[0;32m      9\u001b[0m \u001b[38;5;28mself\u001b[39m\u001b[38;5;241m.\u001b[39mconfig \u001b[38;5;241m=\u001b[39m {}\n\u001b[0;32m     10\u001b[0m \u001b[38;5;28;01mfor\u001b[39;00m path \u001b[38;5;129;01min\u001b[39;00m config_paths:\n\u001b[1;32m---> 11\u001b[0m     \u001b[38;5;28;01mwith\u001b[39;00m \u001b[38;5;28;43mopen\u001b[39;49m\u001b[43m(\u001b[49m\u001b[43mpath\u001b[49m\u001b[43m,\u001b[49m\u001b[43m \u001b[49m\u001b[38;5;124;43m'\u001b[39;49m\u001b[38;5;124;43mr\u001b[39;49m\u001b[38;5;124;43m'\u001b[39;49m\u001b[43m)\u001b[49m \u001b[38;5;28;01mas\u001b[39;00m file:\n\u001b[0;32m     12\u001b[0m         \u001b[38;5;28mself\u001b[39m\u001b[38;5;241m.\u001b[39mconfig\u001b[38;5;241m.\u001b[39mupdate(yaml\u001b[38;5;241m.\u001b[39msafe_load(file))\n\u001b[0;32m     13\u001b[0m topic \u001b[38;5;241m=\u001b[39m \u001b[38;5;28mself\u001b[39m\u001b[38;5;241m.\u001b[39mconfig[\u001b[38;5;124m\"\u001b[39m\u001b[38;5;124mtopic\u001b[39m\u001b[38;5;124m\"\u001b[39m]\n",
      "\u001b[1;31mFileNotFoundError\u001b[0m: [Errno 2] No such file or directory: 'c'"
     ]
    }
   ],
   "source": [
    "from assignmentpkg import analysis\n",
    "\n",
    "# If Analysis is a class in the analysis module\n",
    "analyzer = analysis.Analysis('configs/user_config.yml')\n"
   ]
  },
  {
   "cell_type": "code",
   "execution_count": 12,
   "metadata": {},
   "outputs": [
    {
     "ename": "FileNotFoundError",
     "evalue": "[Errno 2] No such file or directory: 'c'",
     "output_type": "error",
     "traceback": [
      "\u001b[1;31m---------------------------------------------------------------------------\u001b[0m",
      "\u001b[1;31mFileNotFoundError\u001b[0m                         Traceback (most recent call last)",
      "Cell \u001b[1;32mIn[12], line 1\u001b[0m\n\u001b[1;32m----> 1\u001b[0m analyzer \u001b[38;5;241m=\u001b[39m \u001b[43manalysis\u001b[49m\u001b[38;5;241;43m.\u001b[39;49m\u001b[43mAnalysis\u001b[49m\u001b[43m(\u001b[49m\u001b[38;5;124;43m'\u001b[39;49m\u001b[38;5;124;43mc:/Users/rahul/Desktop/Assignmentpkg/dsi-build-software-project/configs/user_config.yml\u001b[39;49m\u001b[38;5;124;43m'\u001b[39;49m\u001b[43m)\u001b[49m\n",
      "File \u001b[1;32mc:\\Users\\rahul\\Desktop\\Assignmentpkg\\dsi-build-software-project\\assignmentpkg\\analysis.py:11\u001b[0m, in \u001b[0;36mAnalysis.__init__\u001b[1;34m(self, config_paths)\u001b[0m\n\u001b[0;32m      9\u001b[0m \u001b[38;5;28mself\u001b[39m\u001b[38;5;241m.\u001b[39mconfig \u001b[38;5;241m=\u001b[39m {}\n\u001b[0;32m     10\u001b[0m \u001b[38;5;28;01mfor\u001b[39;00m path \u001b[38;5;129;01min\u001b[39;00m config_paths:\n\u001b[1;32m---> 11\u001b[0m     \u001b[38;5;28;01mwith\u001b[39;00m \u001b[38;5;28;43mopen\u001b[39;49m\u001b[43m(\u001b[49m\u001b[43mpath\u001b[49m\u001b[43m,\u001b[49m\u001b[43m \u001b[49m\u001b[38;5;124;43m'\u001b[39;49m\u001b[38;5;124;43mr\u001b[39;49m\u001b[38;5;124;43m'\u001b[39;49m\u001b[43m)\u001b[49m \u001b[38;5;28;01mas\u001b[39;00m file:\n\u001b[0;32m     12\u001b[0m         \u001b[38;5;28mself\u001b[39m\u001b[38;5;241m.\u001b[39mconfig\u001b[38;5;241m.\u001b[39mupdate(yaml\u001b[38;5;241m.\u001b[39msafe_load(file))\n\u001b[0;32m     13\u001b[0m topic \u001b[38;5;241m=\u001b[39m \u001b[38;5;28mself\u001b[39m\u001b[38;5;241m.\u001b[39mconfig[\u001b[38;5;124m\"\u001b[39m\u001b[38;5;124mtopic\u001b[39m\u001b[38;5;124m\"\u001b[39m]\n",
      "\u001b[1;31mFileNotFoundError\u001b[0m: [Errno 2] No such file or directory: 'c'"
     ]
    }
   ],
   "source": [
    "analyzer = analysis.Analysis('c:/Users/rahul/Desktop/Assignmentpkg/dsi-build-software-project/configs/user_config.yml')\n"
   ]
  },
  {
   "cell_type": "code",
   "execution_count": 13,
   "metadata": {},
   "outputs": [
    {
     "name": "stdout",
     "output_type": "stream",
     "text": [
      "c:\\Users\\rahul\\Desktop\\Assignmentpkg\\dsi-build-software-project\\assignmentpkg\n"
     ]
    }
   ],
   "source": [
    "import os\n",
    "print(os.getcwd())\n"
   ]
  },
  {
   "cell_type": "code",
   "execution_count": 14,
   "metadata": {},
   "outputs": [
    {
     "name": "stdout",
     "output_type": "stream",
     "text": [
      "c:\\Users\\rahul\\Desktop\\Assignmentpkg\\dsi-build-software-project\\assignmentpkg\n"
     ]
    }
   ],
   "source": [
    "import os\n",
    "\n",
    "# Print current working directory\n",
    "print(os.getcwd())\n",
    "\n",
    "# Set the correct working directory if needed\n",
    "os.chdir('c:\\\\Users\\\\rahul\\\\Desktop\\\\Assignmentpkg\\\\dsi-build-software-project')\n"
   ]
  },
  {
   "cell_type": "code",
   "execution_count": 15,
   "metadata": {},
   "outputs": [
    {
     "ename": "FileNotFoundError",
     "evalue": "[Errno 2] No such file or directory: 'c'",
     "output_type": "error",
     "traceback": [
      "\u001b[1;31m---------------------------------------------------------------------------\u001b[0m",
      "\u001b[1;31mFileNotFoundError\u001b[0m                         Traceback (most recent call last)",
      "Cell \u001b[1;32mIn[15], line 1\u001b[0m\n\u001b[1;32m----> 1\u001b[0m analyzer \u001b[38;5;241m=\u001b[39m \u001b[43manalysis\u001b[49m\u001b[38;5;241;43m.\u001b[39;49m\u001b[43mAnalysis\u001b[49m\u001b[43m(\u001b[49m\u001b[38;5;124;43m'\u001b[39;49m\u001b[38;5;124;43mc:/Users/rahul/Desktop/Assignmentpkg/dsi-build-software-project/configs/user_config.yml\u001b[39;49m\u001b[38;5;124;43m'\u001b[39;49m\u001b[43m)\u001b[49m\n",
      "File \u001b[1;32mc:\\Users\\rahul\\Desktop\\Assignmentpkg\\dsi-build-software-project\\assignmentpkg\\analysis.py:11\u001b[0m, in \u001b[0;36mAnalysis.__init__\u001b[1;34m(self, config_paths)\u001b[0m\n\u001b[0;32m      9\u001b[0m \u001b[38;5;28mself\u001b[39m\u001b[38;5;241m.\u001b[39mconfig \u001b[38;5;241m=\u001b[39m {}\n\u001b[0;32m     10\u001b[0m \u001b[38;5;28;01mfor\u001b[39;00m path \u001b[38;5;129;01min\u001b[39;00m config_paths:\n\u001b[1;32m---> 11\u001b[0m     \u001b[38;5;28;01mwith\u001b[39;00m \u001b[38;5;28;43mopen\u001b[39;49m\u001b[43m(\u001b[49m\u001b[43mpath\u001b[49m\u001b[43m,\u001b[49m\u001b[43m \u001b[49m\u001b[38;5;124;43m'\u001b[39;49m\u001b[38;5;124;43mr\u001b[39;49m\u001b[38;5;124;43m'\u001b[39;49m\u001b[43m)\u001b[49m \u001b[38;5;28;01mas\u001b[39;00m file:\n\u001b[0;32m     12\u001b[0m         \u001b[38;5;28mself\u001b[39m\u001b[38;5;241m.\u001b[39mconfig\u001b[38;5;241m.\u001b[39mupdate(yaml\u001b[38;5;241m.\u001b[39msafe_load(file))\n\u001b[0;32m     13\u001b[0m topic \u001b[38;5;241m=\u001b[39m \u001b[38;5;28mself\u001b[39m\u001b[38;5;241m.\u001b[39mconfig[\u001b[38;5;124m\"\u001b[39m\u001b[38;5;124mtopic\u001b[39m\u001b[38;5;124m\"\u001b[39m]\n",
      "\u001b[1;31mFileNotFoundError\u001b[0m: [Errno 2] No such file or directory: 'c'"
     ]
    }
   ],
   "source": [
    "analyzer = analysis.Analysis('c:/Users/rahul/Desktop/Assignmentpkg/dsi-build-software-project/configs/user_config.yml')\n"
   ]
  },
  {
   "cell_type": "code",
   "execution_count": 16,
   "metadata": {},
   "outputs": [],
   "source": [
    "from assignmentpkg import analysis"
   ]
  },
  {
   "cell_type": "code",
   "execution_count": 17,
   "metadata": {},
   "outputs": [
    {
     "ename": "SyntaxError",
     "evalue": "(unicode error) 'unicodeescape' codec can't decode bytes in position 2-3: truncated \\UXXXXXXXX escape (776257676.py, line 2)",
     "output_type": "error",
     "traceback": [
      "\u001b[1;36m  Cell \u001b[1;32mIn[17], line 2\u001b[1;36m\u001b[0m\n\u001b[1;33m    analyzer = analysis.Analysis('C:\\Users\\rahul\\Desktop\\Assignmentpkg\\dsi-build-software-project\\config\\user_config.yml')\u001b[0m\n\u001b[1;37m                                                                                                                         ^\u001b[0m\n\u001b[1;31mSyntaxError\u001b[0m\u001b[1;31m:\u001b[0m (unicode error) 'unicodeescape' codec can't decode bytes in position 2-3: truncated \\UXXXXXXXX escape\n"
     ]
    }
   ],
   "source": [
    "# Create an instance of the Analysis class\n",
    "analyzer = analysis.Analysis('C:\\Users\\rahul\\Desktop\\Assignmentpkg\\dsi-build-software-project\\config\\user_config.yml')\n",
    "\n",
    "# Example of using a method from the Analysis class\n",
    "data = analyzer.load_data()\n",
    "print(data)\n",
    "\n",
    "# If you have other methods like calculate_mean or perform_regression, you can use them similarly\n",
    "mean_value = analyzer.calculate_mean('some_field')\n",
    "regression_results = analyzer.perform_regression('independent_field', 'dependent_field')\n",
    "\n",
    "# And so on...\n"
   ]
  },
  {
   "cell_type": "code",
   "execution_count": 18,
   "metadata": {},
   "outputs": [
    {
     "ename": "FileNotFoundError",
     "evalue": "[Errno 2] No such file or directory: 'C'",
     "output_type": "error",
     "traceback": [
      "\u001b[1;31m---------------------------------------------------------------------------\u001b[0m",
      "\u001b[1;31mFileNotFoundError\u001b[0m                         Traceback (most recent call last)",
      "Cell \u001b[1;32mIn[18], line 1\u001b[0m\n\u001b[1;32m----> 1\u001b[0m analyzer \u001b[38;5;241m=\u001b[39m \u001b[43manalysis\u001b[49m\u001b[38;5;241;43m.\u001b[39;49m\u001b[43mAnalysis\u001b[49m\u001b[43m(\u001b[49m\u001b[38;5;124;43m'\u001b[39;49m\u001b[38;5;124;43mC:/Users/rahul/Desktop/Assignmentpkg/dsi-build-software-project/config/user_config.yml\u001b[39;49m\u001b[38;5;124;43m'\u001b[39;49m\u001b[43m)\u001b[49m\n",
      "File \u001b[1;32mc:\\Users\\rahul\\Desktop\\Assignmentpkg\\dsi-build-software-project\\assignmentpkg\\analysis.py:11\u001b[0m, in \u001b[0;36mAnalysis.__init__\u001b[1;34m(self, config_paths)\u001b[0m\n\u001b[0;32m      9\u001b[0m \u001b[38;5;28mself\u001b[39m\u001b[38;5;241m.\u001b[39mconfig \u001b[38;5;241m=\u001b[39m {}\n\u001b[0;32m     10\u001b[0m \u001b[38;5;28;01mfor\u001b[39;00m path \u001b[38;5;129;01min\u001b[39;00m config_paths:\n\u001b[1;32m---> 11\u001b[0m     \u001b[38;5;28;01mwith\u001b[39;00m \u001b[38;5;28;43mopen\u001b[39;49m\u001b[43m(\u001b[49m\u001b[43mpath\u001b[49m\u001b[43m,\u001b[49m\u001b[43m \u001b[49m\u001b[38;5;124;43m'\u001b[39;49m\u001b[38;5;124;43mr\u001b[39;49m\u001b[38;5;124;43m'\u001b[39;49m\u001b[43m)\u001b[49m \u001b[38;5;28;01mas\u001b[39;00m file:\n\u001b[0;32m     12\u001b[0m         \u001b[38;5;28mself\u001b[39m\u001b[38;5;241m.\u001b[39mconfig\u001b[38;5;241m.\u001b[39mupdate(yaml\u001b[38;5;241m.\u001b[39msafe_load(file))\n\u001b[0;32m     13\u001b[0m topic \u001b[38;5;241m=\u001b[39m \u001b[38;5;28mself\u001b[39m\u001b[38;5;241m.\u001b[39mconfig[\u001b[38;5;124m\"\u001b[39m\u001b[38;5;124mtopic\u001b[39m\u001b[38;5;124m\"\u001b[39m]\n",
      "\u001b[1;31mFileNotFoundError\u001b[0m: [Errno 2] No such file or directory: 'C'"
     ]
    }
   ],
   "source": [
    "analyzer = analysis.Analysis('C:/Users/rahul/Desktop/Assignmentpkg/dsi-build-software-project/config/user_config.yml')\n"
   ]
  },
  {
   "cell_type": "code",
   "execution_count": 19,
   "metadata": {},
   "outputs": [
    {
     "ename": "FileNotFoundError",
     "evalue": "[Errno 2] No such file or directory: 'C'",
     "output_type": "error",
     "traceback": [
      "\u001b[1;31m---------------------------------------------------------------------------\u001b[0m",
      "\u001b[1;31mFileNotFoundError\u001b[0m                         Traceback (most recent call last)",
      "Cell \u001b[1;32mIn[19], line 1\u001b[0m\n\u001b[1;32m----> 1\u001b[0m analyzer \u001b[38;5;241m=\u001b[39m \u001b[43manalysis\u001b[49m\u001b[38;5;241;43m.\u001b[39;49m\u001b[43mAnalysis\u001b[49m\u001b[43m(\u001b[49m\u001b[38;5;124;43mr\u001b[39;49m\u001b[38;5;124;43m'\u001b[39;49m\u001b[38;5;124;43mC:\u001b[39;49m\u001b[38;5;124;43m\\\u001b[39;49m\u001b[38;5;124;43mUsers\u001b[39;49m\u001b[38;5;124;43m\\\u001b[39;49m\u001b[38;5;124;43mrahul\u001b[39;49m\u001b[38;5;124;43m\\\u001b[39;49m\u001b[38;5;124;43mDesktop\u001b[39;49m\u001b[38;5;124;43m\\\u001b[39;49m\u001b[38;5;124;43mAssignmentpkg\u001b[39;49m\u001b[38;5;124;43m\\\u001b[39;49m\u001b[38;5;124;43mdsi-build-software-project\u001b[39;49m\u001b[38;5;124;43m\\\u001b[39;49m\u001b[38;5;124;43mconfig\u001b[39;49m\u001b[38;5;124;43m\\\u001b[39;49m\u001b[38;5;124;43muser_config.yml\u001b[39;49m\u001b[38;5;124;43m'\u001b[39;49m\u001b[43m)\u001b[49m\n",
      "File \u001b[1;32mc:\\Users\\rahul\\Desktop\\Assignmentpkg\\dsi-build-software-project\\assignmentpkg\\analysis.py:11\u001b[0m, in \u001b[0;36mAnalysis.__init__\u001b[1;34m(self, config_paths)\u001b[0m\n\u001b[0;32m      9\u001b[0m \u001b[38;5;28mself\u001b[39m\u001b[38;5;241m.\u001b[39mconfig \u001b[38;5;241m=\u001b[39m {}\n\u001b[0;32m     10\u001b[0m \u001b[38;5;28;01mfor\u001b[39;00m path \u001b[38;5;129;01min\u001b[39;00m config_paths:\n\u001b[1;32m---> 11\u001b[0m     \u001b[38;5;28;01mwith\u001b[39;00m \u001b[38;5;28;43mopen\u001b[39;49m\u001b[43m(\u001b[49m\u001b[43mpath\u001b[49m\u001b[43m,\u001b[49m\u001b[43m \u001b[49m\u001b[38;5;124;43m'\u001b[39;49m\u001b[38;5;124;43mr\u001b[39;49m\u001b[38;5;124;43m'\u001b[39;49m\u001b[43m)\u001b[49m \u001b[38;5;28;01mas\u001b[39;00m file:\n\u001b[0;32m     12\u001b[0m         \u001b[38;5;28mself\u001b[39m\u001b[38;5;241m.\u001b[39mconfig\u001b[38;5;241m.\u001b[39mupdate(yaml\u001b[38;5;241m.\u001b[39msafe_load(file))\n\u001b[0;32m     13\u001b[0m topic \u001b[38;5;241m=\u001b[39m \u001b[38;5;28mself\u001b[39m\u001b[38;5;241m.\u001b[39mconfig[\u001b[38;5;124m\"\u001b[39m\u001b[38;5;124mtopic\u001b[39m\u001b[38;5;124m\"\u001b[39m]\n",
      "\u001b[1;31mFileNotFoundError\u001b[0m: [Errno 2] No such file or directory: 'C'"
     ]
    }
   ],
   "source": [
    "analyzer = analysis.Analysis(r'C:\\Users\\rahul\\Desktop\\Assignmentpkg\\dsi-build-software-project\\config\\user_config.yml')\n"
   ]
  },
  {
   "cell_type": "code",
   "execution_count": 20,
   "metadata": {},
   "outputs": [
    {
     "ename": "FileNotFoundError",
     "evalue": "[Errno 2] No such file or directory: 'C'",
     "output_type": "error",
     "traceback": [
      "\u001b[1;31m---------------------------------------------------------------------------\u001b[0m",
      "\u001b[1;31mFileNotFoundError\u001b[0m                         Traceback (most recent call last)",
      "Cell \u001b[1;32mIn[20], line 1\u001b[0m\n\u001b[1;32m----> 1\u001b[0m analyzer \u001b[38;5;241m=\u001b[39m \u001b[43manalysis\u001b[49m\u001b[38;5;241;43m.\u001b[39;49m\u001b[43mAnalysis\u001b[49m\u001b[43m(\u001b[49m\u001b[38;5;124;43m'\u001b[39;49m\u001b[38;5;124;43mC:\u001b[39;49m\u001b[38;5;130;43;01m\\\\\u001b[39;49;00m\u001b[38;5;124;43mUsers\u001b[39;49m\u001b[38;5;130;43;01m\\\\\u001b[39;49;00m\u001b[38;5;124;43mrahul\u001b[39;49m\u001b[38;5;130;43;01m\\\\\u001b[39;49;00m\u001b[38;5;124;43mDesktop\u001b[39;49m\u001b[38;5;130;43;01m\\\\\u001b[39;49;00m\u001b[38;5;124;43mAssignmentpkg\u001b[39;49m\u001b[38;5;130;43;01m\\\\\u001b[39;49;00m\u001b[38;5;124;43mdsi-build-software-project\u001b[39;49m\u001b[38;5;130;43;01m\\\\\u001b[39;49;00m\u001b[38;5;124;43mconfig\u001b[39;49m\u001b[38;5;130;43;01m\\\\\u001b[39;49;00m\u001b[38;5;124;43muser_config.yml\u001b[39;49m\u001b[38;5;124;43m'\u001b[39;49m\u001b[43m)\u001b[49m\n",
      "File \u001b[1;32mc:\\Users\\rahul\\Desktop\\Assignmentpkg\\dsi-build-software-project\\assignmentpkg\\analysis.py:11\u001b[0m, in \u001b[0;36mAnalysis.__init__\u001b[1;34m(self, config_paths)\u001b[0m\n\u001b[0;32m      9\u001b[0m \u001b[38;5;28mself\u001b[39m\u001b[38;5;241m.\u001b[39mconfig \u001b[38;5;241m=\u001b[39m {}\n\u001b[0;32m     10\u001b[0m \u001b[38;5;28;01mfor\u001b[39;00m path \u001b[38;5;129;01min\u001b[39;00m config_paths:\n\u001b[1;32m---> 11\u001b[0m     \u001b[38;5;28;01mwith\u001b[39;00m \u001b[38;5;28;43mopen\u001b[39;49m\u001b[43m(\u001b[49m\u001b[43mpath\u001b[49m\u001b[43m,\u001b[49m\u001b[43m \u001b[49m\u001b[38;5;124;43m'\u001b[39;49m\u001b[38;5;124;43mr\u001b[39;49m\u001b[38;5;124;43m'\u001b[39;49m\u001b[43m)\u001b[49m \u001b[38;5;28;01mas\u001b[39;00m file:\n\u001b[0;32m     12\u001b[0m         \u001b[38;5;28mself\u001b[39m\u001b[38;5;241m.\u001b[39mconfig\u001b[38;5;241m.\u001b[39mupdate(yaml\u001b[38;5;241m.\u001b[39msafe_load(file))\n\u001b[0;32m     13\u001b[0m topic \u001b[38;5;241m=\u001b[39m \u001b[38;5;28mself\u001b[39m\u001b[38;5;241m.\u001b[39mconfig[\u001b[38;5;124m\"\u001b[39m\u001b[38;5;124mtopic\u001b[39m\u001b[38;5;124m\"\u001b[39m]\n",
      "\u001b[1;31mFileNotFoundError\u001b[0m: [Errno 2] No such file or directory: 'C'"
     ]
    }
   ],
   "source": [
    "analyzer = analysis.Analysis('C:\\\\Users\\\\rahul\\\\Desktop\\\\Assignmentpkg\\\\dsi-build-software-project\\\\config\\\\user_config.yml')\n"
   ]
  },
  {
   "cell_type": "code",
   "execution_count": 21,
   "metadata": {},
   "outputs": [
    {
     "name": "stdout",
     "output_type": "stream",
     "text": [
      "c:\\Users\\rahul\\Desktop\\Assignmentpkg\\dsi-build-software-project\n"
     ]
    }
   ],
   "source": [
    "import os\n",
    "print(os.getcwd())\n",
    "\n"
   ]
  },
  {
   "cell_type": "code",
   "execution_count": 22,
   "metadata": {},
   "outputs": [
    {
     "name": "stdout",
     "output_type": "stream",
     "text": [
      "api_key: \"Y1ZhrKoaow3FeAZwoPXCHNPpq0LTKjK4G\"\n",
      "topic: \"movies\"\n",
      "\n"
     ]
    }
   ],
   "source": [
    "with open('C:\\\\Users\\\\rahul\\\\Desktop\\\\Assignmentpkg\\\\dsi-build-software-project\\\\config\\\\user_config.yml', 'r') as file:\n",
    "    print(file.read())\n"
   ]
  },
  {
   "cell_type": "code",
   "execution_count": 23,
   "metadata": {},
   "outputs": [
    {
     "ename": "FileNotFoundError",
     "evalue": "[Errno 2] No such file or directory: 'c'",
     "output_type": "error",
     "traceback": [
      "\u001b[1;31m---------------------------------------------------------------------------\u001b[0m",
      "\u001b[1;31mFileNotFoundError\u001b[0m                         Traceback (most recent call last)",
      "Cell \u001b[1;32mIn[23], line 1\u001b[0m\n\u001b[1;32m----> 1\u001b[0m analyzer \u001b[38;5;241m=\u001b[39m \u001b[43manalysis\u001b[49m\u001b[38;5;241;43m.\u001b[39;49m\u001b[43mAnalysis\u001b[49m\u001b[43m(\u001b[49m\u001b[38;5;124;43m'\u001b[39;49m\u001b[38;5;124;43mconfig\u001b[39;49m\u001b[38;5;130;43;01m\\\\\u001b[39;49;00m\u001b[38;5;124;43muser_config.yml\u001b[39;49m\u001b[38;5;124;43m'\u001b[39;49m\u001b[43m)\u001b[49m\n",
      "File \u001b[1;32mc:\\Users\\rahul\\Desktop\\Assignmentpkg\\dsi-build-software-project\\assignmentpkg\\analysis.py:11\u001b[0m, in \u001b[0;36mAnalysis.__init__\u001b[1;34m(self, config_paths)\u001b[0m\n\u001b[0;32m      9\u001b[0m \u001b[38;5;28mself\u001b[39m\u001b[38;5;241m.\u001b[39mconfig \u001b[38;5;241m=\u001b[39m {}\n\u001b[0;32m     10\u001b[0m \u001b[38;5;28;01mfor\u001b[39;00m path \u001b[38;5;129;01min\u001b[39;00m config_paths:\n\u001b[1;32m---> 11\u001b[0m     \u001b[38;5;28;01mwith\u001b[39;00m \u001b[38;5;28mopen\u001b[39m(path, \u001b[38;5;124m'\u001b[39m\u001b[38;5;124mr\u001b[39m\u001b[38;5;124m'\u001b[39m) \u001b[38;5;28;01mas\u001b[39;00m file:\n\u001b[0;32m     12\u001b[0m         \u001b[38;5;28mself\u001b[39m\u001b[38;5;241m.\u001b[39mconfig\u001b[38;5;241m.\u001b[39mupdate(yaml\u001b[38;5;241m.\u001b[39msafe_load(file))\n\u001b[0;32m     13\u001b[0m topic \u001b[38;5;241m=\u001b[39m \u001b[38;5;28mself\u001b[39m\u001b[38;5;241m.\u001b[39mconfig[\u001b[38;5;124m\"\u001b[39m\u001b[38;5;124mtopic\u001b[39m\u001b[38;5;124m\"\u001b[39m]\n",
      "\u001b[1;31mFileNotFoundError\u001b[0m: [Errno 2] No such file or directory: 'c'"
     ]
    }
   ],
   "source": [
    "analyzer = analysis.Analysis('config\\\\user_config.yml')\n"
   ]
  },
  {
   "cell_type": "code",
   "execution_count": 24,
   "metadata": {},
   "outputs": [
    {
     "ename": "FileNotFoundError",
     "evalue": "[Errno 2] No such file or directory: 'c'",
     "output_type": "error",
     "traceback": [
      "\u001b[1;31m---------------------------------------------------------------------------\u001b[0m",
      "\u001b[1;31mFileNotFoundError\u001b[0m                         Traceback (most recent call last)",
      "Cell \u001b[1;32mIn[24], line 1\u001b[0m\n\u001b[1;32m----> 1\u001b[0m analyzer \u001b[38;5;241m=\u001b[39m \u001b[43manalysis\u001b[49m\u001b[38;5;241;43m.\u001b[39;49m\u001b[43mAnalysis\u001b[49m\u001b[43m(\u001b[49m\u001b[38;5;124;43m'\u001b[39;49m\u001b[38;5;124;43mconfig\u001b[39;49m\u001b[38;5;130;43;01m\\\\\u001b[39;49;00m\u001b[38;5;124;43muser_config.yml\u001b[39;49m\u001b[38;5;124;43m'\u001b[39;49m\u001b[43m)\u001b[49m\n",
      "File \u001b[1;32mc:\\Users\\rahul\\Desktop\\Assignmentpkg\\dsi-build-software-project\\assignmentpkg\\analysis.py:11\u001b[0m, in \u001b[0;36mAnalysis.__init__\u001b[1;34m(self, config_paths)\u001b[0m\n\u001b[0;32m      9\u001b[0m \u001b[38;5;28mself\u001b[39m\u001b[38;5;241m.\u001b[39mconfig \u001b[38;5;241m=\u001b[39m {}\n\u001b[0;32m     10\u001b[0m \u001b[38;5;28;01mfor\u001b[39;00m path \u001b[38;5;129;01min\u001b[39;00m config_paths:\n\u001b[1;32m---> 11\u001b[0m     \u001b[38;5;28;01mwith\u001b[39;00m \u001b[38;5;28mopen\u001b[39m(path, \u001b[38;5;124m'\u001b[39m\u001b[38;5;124mr\u001b[39m\u001b[38;5;124m'\u001b[39m) \u001b[38;5;28;01mas\u001b[39;00m file:\n\u001b[0;32m     12\u001b[0m         \u001b[38;5;28mself\u001b[39m\u001b[38;5;241m.\u001b[39mconfig\u001b[38;5;241m.\u001b[39mupdate(yaml\u001b[38;5;241m.\u001b[39msafe_load(file))\n\u001b[0;32m     13\u001b[0m topic \u001b[38;5;241m=\u001b[39m \u001b[38;5;28mself\u001b[39m\u001b[38;5;241m.\u001b[39mconfig[\u001b[38;5;124m\"\u001b[39m\u001b[38;5;124mtopic\u001b[39m\u001b[38;5;124m\"\u001b[39m]\n",
      "\u001b[1;31mFileNotFoundError\u001b[0m: [Errno 2] No such file or directory: 'c'"
     ]
    }
   ],
   "source": [
    "analyzer = analysis.Analysis('config\\\\user_config.yml')"
   ]
  },
  {
   "cell_type": "code",
   "execution_count": 26,
   "metadata": {},
   "outputs": [
    {
     "ename": "FileNotFoundError",
     "evalue": "[Errno 2] No such file or directory: 'c'",
     "output_type": "error",
     "traceback": [
      "\u001b[1;31m---------------------------------------------------------------------------\u001b[0m",
      "\u001b[1;31mFileNotFoundError\u001b[0m                         Traceback (most recent call last)",
      "Cell \u001b[1;32mIn[26], line 2\u001b[0m\n\u001b[0;32m      1\u001b[0m \u001b[38;5;28;01mfrom\u001b[39;00m \u001b[38;5;21;01massignmentpkg\u001b[39;00m \u001b[38;5;28;01mimport\u001b[39;00m analysis\n\u001b[1;32m----> 2\u001b[0m analyzer \u001b[38;5;241m=\u001b[39m \u001b[43manalysis\u001b[49m\u001b[38;5;241;43m.\u001b[39;49m\u001b[43mAnalysis\u001b[49m\u001b[43m(\u001b[49m\u001b[38;5;124;43m'\u001b[39;49m\u001b[38;5;124;43mconfig\u001b[39;49m\u001b[38;5;130;43;01m\\\\\u001b[39;49;00m\u001b[38;5;124;43muser_config.yml\u001b[39;49m\u001b[38;5;124;43m'\u001b[39;49m\u001b[43m)\u001b[49m\n",
      "File \u001b[1;32mc:\\Users\\rahul\\Desktop\\Assignmentpkg\\dsi-build-software-project\\assignmentpkg\\analysis.py:11\u001b[0m, in \u001b[0;36mAnalysis.__init__\u001b[1;34m(self, config_paths)\u001b[0m\n\u001b[0;32m      9\u001b[0m \u001b[38;5;28mself\u001b[39m\u001b[38;5;241m.\u001b[39mconfig \u001b[38;5;241m=\u001b[39m {}\n\u001b[0;32m     10\u001b[0m \u001b[38;5;28;01mfor\u001b[39;00m path \u001b[38;5;129;01min\u001b[39;00m config_paths:\n\u001b[1;32m---> 11\u001b[0m     \u001b[38;5;28;01mwith\u001b[39;00m \u001b[38;5;28mopen\u001b[39m(path, \u001b[38;5;124m'\u001b[39m\u001b[38;5;124mr\u001b[39m\u001b[38;5;124m'\u001b[39m) \u001b[38;5;28;01mas\u001b[39;00m file:\n\u001b[0;32m     12\u001b[0m         \u001b[38;5;28mself\u001b[39m\u001b[38;5;241m.\u001b[39mconfig\u001b[38;5;241m.\u001b[39mupdate(yaml\u001b[38;5;241m.\u001b[39msafe_load(file))\n\u001b[0;32m     13\u001b[0m topic \u001b[38;5;241m=\u001b[39m \u001b[38;5;28mself\u001b[39m\u001b[38;5;241m.\u001b[39mconfig[\u001b[38;5;124m\"\u001b[39m\u001b[38;5;124mtopic\u001b[39m\u001b[38;5;124m\"\u001b[39m]\n",
      "\u001b[1;31mFileNotFoundError\u001b[0m: [Errno 2] No such file or directory: 'c'"
     ]
    }
   ],
   "source": [
    "from assignmentpkg import analysis\n",
    "analyzer = analysis.Analysis('config\\\\user_config.yml')"
   ]
  },
  {
   "cell_type": "code",
   "execution_count": 28,
   "metadata": {},
   "outputs": [
    {
     "ename": "FileNotFoundError",
     "evalue": "[Errno 2] No such file or directory: 'c'",
     "output_type": "error",
     "traceback": [
      "\u001b[1;31m---------------------------------------------------------------------------\u001b[0m",
      "\u001b[1;31mFileNotFoundError\u001b[0m                         Traceback (most recent call last)",
      "Cell \u001b[1;32mIn[28], line 2\u001b[0m\n\u001b[0;32m      1\u001b[0m \u001b[38;5;28;01mfrom\u001b[39;00m \u001b[38;5;21;01massignmentpkg\u001b[39;00m \u001b[38;5;28;01mimport\u001b[39;00m analysis\n\u001b[1;32m----> 2\u001b[0m analyzer \u001b[38;5;241m=\u001b[39m \u001b[43manalysis\u001b[49m\u001b[38;5;241;43m.\u001b[39;49m\u001b[43mAnalysis\u001b[49m\u001b[43m(\u001b[49m\u001b[38;5;124;43m'\u001b[39;49m\u001b[38;5;124;43mconfig\u001b[39;49m\u001b[38;5;130;43;01m\\\\\u001b[39;49;00m\u001b[38;5;124;43muser_config.yml\u001b[39;49m\u001b[38;5;124;43m'\u001b[39;49m\u001b[43m)\u001b[49m\n",
      "File \u001b[1;32mc:\\Users\\rahul\\Desktop\\Assignmentpkg\\dsi-build-software-project\\assignmentpkg\\analysis.py:11\u001b[0m, in \u001b[0;36mAnalysis.__init__\u001b[1;34m(self, config_paths)\u001b[0m\n\u001b[0;32m      9\u001b[0m \u001b[38;5;28mself\u001b[39m\u001b[38;5;241m.\u001b[39mconfig \u001b[38;5;241m=\u001b[39m {}\n\u001b[0;32m     10\u001b[0m \u001b[38;5;28;01mfor\u001b[39;00m path \u001b[38;5;129;01min\u001b[39;00m config_paths:\n\u001b[1;32m---> 11\u001b[0m     \u001b[38;5;28;01mwith\u001b[39;00m \u001b[38;5;28mopen\u001b[39m(path, \u001b[38;5;124m'\u001b[39m\u001b[38;5;124mr\u001b[39m\u001b[38;5;124m'\u001b[39m) \u001b[38;5;28;01mas\u001b[39;00m file:\n\u001b[0;32m     12\u001b[0m         \u001b[38;5;28mself\u001b[39m\u001b[38;5;241m.\u001b[39mconfig\u001b[38;5;241m.\u001b[39mupdate(yaml\u001b[38;5;241m.\u001b[39msafe_load(file))\n\u001b[0;32m     13\u001b[0m topic \u001b[38;5;241m=\u001b[39m \u001b[38;5;28mself\u001b[39m\u001b[38;5;241m.\u001b[39mconfig[\u001b[38;5;124m\"\u001b[39m\u001b[38;5;124mtopic\u001b[39m\u001b[38;5;124m\"\u001b[39m]\n",
      "\u001b[1;31mFileNotFoundError\u001b[0m: [Errno 2] No such file or directory: 'c'"
     ]
    }
   ],
   "source": [
    "from assignmentpkg import analysis\n",
    "analyzer = analysis.Analysis('config\\\\user_config.yml')"
   ]
  },
  {
   "cell_type": "code",
   "execution_count": 29,
   "metadata": {},
   "outputs": [
    {
     "ename": "FileNotFoundError",
     "evalue": "[Errno 2] No such file or directory: 'c'",
     "output_type": "error",
     "traceback": [
      "\u001b[1;31m---------------------------------------------------------------------------\u001b[0m",
      "\u001b[1;31mFileNotFoundError\u001b[0m                         Traceback (most recent call last)",
      "Cell \u001b[1;32mIn[29], line 3\u001b[0m\n\u001b[0;32m      1\u001b[0m \u001b[38;5;28;01mfrom\u001b[39;00m \u001b[38;5;21;01massignmentpkg\u001b[39;00m \u001b[38;5;28;01mimport\u001b[39;00m analysis\n\u001b[1;32m----> 3\u001b[0m analyzer \u001b[38;5;241m=\u001b[39m \u001b[43manalysis\u001b[49m\u001b[38;5;241;43m.\u001b[39;49m\u001b[43mAnalysis\u001b[49m\u001b[43m(\u001b[49m\u001b[38;5;124;43m'\u001b[39;49m\u001b[38;5;124;43mc:\u001b[39;49m\u001b[38;5;130;43;01m\\\\\u001b[39;49;00m\u001b[38;5;124;43mUsers\u001b[39;49m\u001b[38;5;130;43;01m\\\\\u001b[39;49;00m\u001b[38;5;124;43mrahul\u001b[39;49m\u001b[38;5;130;43;01m\\\\\u001b[39;49;00m\u001b[38;5;124;43mDesktop\u001b[39;49m\u001b[38;5;130;43;01m\\\\\u001b[39;49;00m\u001b[38;5;124;43mAssignmentpkg\u001b[39;49m\u001b[38;5;130;43;01m\\\\\u001b[39;49;00m\u001b[38;5;124;43mdsi-build-software-project\u001b[39;49m\u001b[38;5;130;43;01m\\\\\u001b[39;49;00m\u001b[38;5;124;43mconfig\u001b[39;49m\u001b[38;5;130;43;01m\\\\\u001b[39;49;00m\u001b[38;5;124;43muser_config.yml\u001b[39;49m\u001b[38;5;124;43m'\u001b[39;49m\u001b[43m)\u001b[49m\n",
      "File \u001b[1;32mc:\\Users\\rahul\\Desktop\\Assignmentpkg\\dsi-build-software-project\\assignmentpkg\\analysis.py:11\u001b[0m, in \u001b[0;36mAnalysis.__init__\u001b[1;34m(self, config_paths)\u001b[0m\n\u001b[0;32m      9\u001b[0m \u001b[38;5;28mself\u001b[39m\u001b[38;5;241m.\u001b[39mconfig \u001b[38;5;241m=\u001b[39m {}\n\u001b[0;32m     10\u001b[0m \u001b[38;5;28;01mfor\u001b[39;00m path \u001b[38;5;129;01min\u001b[39;00m config_paths:\n\u001b[1;32m---> 11\u001b[0m     \u001b[38;5;28;01mwith\u001b[39;00m \u001b[38;5;28mopen\u001b[39m(path, \u001b[38;5;124m'\u001b[39m\u001b[38;5;124mr\u001b[39m\u001b[38;5;124m'\u001b[39m) \u001b[38;5;28;01mas\u001b[39;00m file:\n\u001b[0;32m     12\u001b[0m         \u001b[38;5;28mself\u001b[39m\u001b[38;5;241m.\u001b[39mconfig\u001b[38;5;241m.\u001b[39mupdate(yaml\u001b[38;5;241m.\u001b[39msafe_load(file))\n\u001b[0;32m     13\u001b[0m topic \u001b[38;5;241m=\u001b[39m \u001b[38;5;28mself\u001b[39m\u001b[38;5;241m.\u001b[39mconfig[\u001b[38;5;124m\"\u001b[39m\u001b[38;5;124mtopic\u001b[39m\u001b[38;5;124m\"\u001b[39m]\n",
      "\u001b[1;31mFileNotFoundError\u001b[0m: [Errno 2] No such file or directory: 'c'"
     ]
    }
   ],
   "source": [
    "from assignmentpkg import analysis\n",
    "\n",
    "analyzer = analysis.Analysis('c:\\\\Users\\\\rahul\\\\Desktop\\\\Assignmentpkg\\\\dsi-build-software-project\\\\config\\\\user_config.yml')\n"
   ]
  },
  {
   "cell_type": "code",
   "execution_count": 30,
   "metadata": {},
   "outputs": [
    {
     "name": "stdout",
     "output_type": "stream",
     "text": [
      "api_key: \"Y1ZhrKoaow3FeAZwoPXCHNPpq0LTKjK4G\"\n",
      "topic: \"movies\"\n",
      "\n"
     ]
    }
   ],
   "source": [
    "with open('c:\\\\Users\\\\rahul\\\\Desktop\\\\Assignmentpkg\\\\dsi-build-software-project\\\\config\\\\user_config.yml', 'r') as file:\n",
    "    print(file.read())\n"
   ]
  },
  {
   "cell_type": "code",
   "execution_count": 31,
   "metadata": {},
   "outputs": [],
   "source": [
    "from assignmentpkg import analysis\n"
   ]
  },
  {
   "cell_type": "code",
   "execution_count": 32,
   "metadata": {},
   "outputs": [
    {
     "ename": "FileNotFoundError",
     "evalue": "[Errno 2] No such file or directory: 'c'",
     "output_type": "error",
     "traceback": [
      "\u001b[1;31m---------------------------------------------------------------------------\u001b[0m",
      "\u001b[1;31mFileNotFoundError\u001b[0m                         Traceback (most recent call last)",
      "Cell \u001b[1;32mIn[32], line 1\u001b[0m\n\u001b[1;32m----> 1\u001b[0m analyzer \u001b[38;5;241m=\u001b[39m \u001b[43manalysis\u001b[49m\u001b[38;5;241;43m.\u001b[39;49m\u001b[43mAnalysis\u001b[49m\u001b[43m(\u001b[49m\u001b[38;5;124;43m'\u001b[39;49m\u001b[38;5;124;43mc:\u001b[39;49m\u001b[38;5;130;43;01m\\\\\u001b[39;49;00m\u001b[38;5;124;43mUsers\u001b[39;49m\u001b[38;5;130;43;01m\\\\\u001b[39;49;00m\u001b[38;5;124;43mrahul\u001b[39;49m\u001b[38;5;130;43;01m\\\\\u001b[39;49;00m\u001b[38;5;124;43mDesktop\u001b[39;49m\u001b[38;5;130;43;01m\\\\\u001b[39;49;00m\u001b[38;5;124;43mAssignmentpkg\u001b[39;49m\u001b[38;5;130;43;01m\\\\\u001b[39;49;00m\u001b[38;5;124;43mdsi-build-software-project\u001b[39;49m\u001b[38;5;130;43;01m\\\\\u001b[39;49;00m\u001b[38;5;124;43mconfig\u001b[39;49m\u001b[38;5;130;43;01m\\\\\u001b[39;49;00m\u001b[38;5;124;43muser_config.yml\u001b[39;49m\u001b[38;5;124;43m'\u001b[39;49m\u001b[43m)\u001b[49m\n",
      "File \u001b[1;32mc:\\Users\\rahul\\Desktop\\Assignmentpkg\\dsi-build-software-project\\assignmentpkg\\analysis.py:11\u001b[0m, in \u001b[0;36mAnalysis.__init__\u001b[1;34m(self, config_paths)\u001b[0m\n\u001b[0;32m      9\u001b[0m \u001b[38;5;28mself\u001b[39m\u001b[38;5;241m.\u001b[39mconfig \u001b[38;5;241m=\u001b[39m {}\n\u001b[0;32m     10\u001b[0m \u001b[38;5;28;01mfor\u001b[39;00m path \u001b[38;5;129;01min\u001b[39;00m config_paths:\n\u001b[1;32m---> 11\u001b[0m     \u001b[38;5;28;01mwith\u001b[39;00m \u001b[38;5;28mopen\u001b[39m(path, \u001b[38;5;124m'\u001b[39m\u001b[38;5;124mr\u001b[39m\u001b[38;5;124m'\u001b[39m) \u001b[38;5;28;01mas\u001b[39;00m file:\n\u001b[0;32m     12\u001b[0m         \u001b[38;5;28mself\u001b[39m\u001b[38;5;241m.\u001b[39mconfig\u001b[38;5;241m.\u001b[39mupdate(yaml\u001b[38;5;241m.\u001b[39msafe_load(file))\n\u001b[0;32m     13\u001b[0m topic \u001b[38;5;241m=\u001b[39m \u001b[38;5;28mself\u001b[39m\u001b[38;5;241m.\u001b[39mconfig[\u001b[38;5;124m\"\u001b[39m\u001b[38;5;124mtopic\u001b[39m\u001b[38;5;124m\"\u001b[39m]\n",
      "\u001b[1;31mFileNotFoundError\u001b[0m: [Errno 2] No such file or directory: 'c'"
     ]
    }
   ],
   "source": [
    "analyzer = analysis.Analysis('c:\\\\Users\\\\rahul\\\\Desktop\\\\Assignmentpkg\\\\dsi-build-software-project\\\\config\\\\user_config.yml')\n"
   ]
  },
  {
   "cell_type": "code",
   "execution_count": 33,
   "metadata": {},
   "outputs": [
    {
     "name": "stdout",
     "output_type": "stream",
     "text": [
      "File successfully opened!\n",
      "api_key: \"Y1ZhrKoaow3FeAZwoPXCHNPpq0LTKjK4G\"\n",
      "topic: \"movies\"\n",
      "\n"
     ]
    }
   ],
   "source": [
    "file_path = 'c:\\\\Users\\\\rahul\\\\Desktop\\\\Assignmentpkg\\\\dsi-build-software-project\\\\config\\\\user_config.yml'\n",
    "try:\n",
    "    with open(file_path, 'r') as file:\n",
    "        print(\"File successfully opened!\")\n",
    "        print(file.read())  # This will print the contents of your file\n",
    "except FileNotFoundError as e:\n",
    "    print(f\"File not found: {e}\")\n"
   ]
  },
  {
   "cell_type": "code",
   "execution_count": 34,
   "metadata": {},
   "outputs": [
    {
     "ename": "FileNotFoundError",
     "evalue": "[Errno 2] No such file or directory: 'c'",
     "output_type": "error",
     "traceback": [
      "\u001b[1;31m---------------------------------------------------------------------------\u001b[0m",
      "\u001b[1;31mFileNotFoundError\u001b[0m                         Traceback (most recent call last)",
      "Cell \u001b[1;32mIn[34], line 3\u001b[0m\n\u001b[0;32m      1\u001b[0m \u001b[38;5;28;01mfrom\u001b[39;00m \u001b[38;5;21;01massignmentpkg\u001b[39;00m \u001b[38;5;28;01mimport\u001b[39;00m analysis\n\u001b[1;32m----> 3\u001b[0m analyzer \u001b[38;5;241m=\u001b[39m \u001b[43manalysis\u001b[49m\u001b[38;5;241;43m.\u001b[39;49m\u001b[43mAnalysis\u001b[49m\u001b[43m(\u001b[49m\u001b[38;5;124;43m'\u001b[39;49m\u001b[38;5;124;43mc:\u001b[39;49m\u001b[38;5;130;43;01m\\\\\u001b[39;49;00m\u001b[38;5;124;43mUsers\u001b[39;49m\u001b[38;5;130;43;01m\\\\\u001b[39;49;00m\u001b[38;5;124;43mrahul\u001b[39;49m\u001b[38;5;130;43;01m\\\\\u001b[39;49;00m\u001b[38;5;124;43mDesktop\u001b[39;49m\u001b[38;5;130;43;01m\\\\\u001b[39;49;00m\u001b[38;5;124;43mAssignmentpkg\u001b[39;49m\u001b[38;5;130;43;01m\\\\\u001b[39;49;00m\u001b[38;5;124;43mdsi-build-software-project\u001b[39;49m\u001b[38;5;130;43;01m\\\\\u001b[39;49;00m\u001b[38;5;124;43mconfig\u001b[39;49m\u001b[38;5;130;43;01m\\\\\u001b[39;49;00m\u001b[38;5;124;43muser_config.yml\u001b[39;49m\u001b[38;5;124;43m'\u001b[39;49m\u001b[43m)\u001b[49m\n",
      "File \u001b[1;32mc:\\Users\\rahul\\Desktop\\Assignmentpkg\\dsi-build-software-project\\assignmentpkg\\analysis.py:11\u001b[0m, in \u001b[0;36mAnalysis.__init__\u001b[1;34m(self, config_paths)\u001b[0m\n\u001b[0;32m      9\u001b[0m \u001b[38;5;28mself\u001b[39m\u001b[38;5;241m.\u001b[39mconfig \u001b[38;5;241m=\u001b[39m {}\n\u001b[0;32m     10\u001b[0m \u001b[38;5;28;01mfor\u001b[39;00m path \u001b[38;5;129;01min\u001b[39;00m config_paths:\n\u001b[1;32m---> 11\u001b[0m     \u001b[38;5;28;01mwith\u001b[39;00m \u001b[38;5;28mopen\u001b[39m(path, \u001b[38;5;124m'\u001b[39m\u001b[38;5;124mr\u001b[39m\u001b[38;5;124m'\u001b[39m) \u001b[38;5;28;01mas\u001b[39;00m file:\n\u001b[0;32m     12\u001b[0m         \u001b[38;5;28mself\u001b[39m\u001b[38;5;241m.\u001b[39mconfig\u001b[38;5;241m.\u001b[39mupdate(yaml\u001b[38;5;241m.\u001b[39msafe_load(file))\n\u001b[0;32m     13\u001b[0m topic \u001b[38;5;241m=\u001b[39m \u001b[38;5;28mself\u001b[39m\u001b[38;5;241m.\u001b[39mconfig[\u001b[38;5;124m\"\u001b[39m\u001b[38;5;124mtopic\u001b[39m\u001b[38;5;124m\"\u001b[39m]\n",
      "\u001b[1;31mFileNotFoundError\u001b[0m: [Errno 2] No such file or directory: 'c'"
     ]
    }
   ],
   "source": [
    "from assignmentpkg import analysis\n",
    "\n",
    "analyzer = analysis.Analysis('c:\\\\Users\\\\rahul\\\\Desktop\\\\Assignmentpkg\\\\dsi-build-software-project\\\\config\\\\user_config.yml')\n",
    "\n"
   ]
  },
  {
   "cell_type": "code",
   "execution_count": 35,
   "metadata": {},
   "outputs": [
    {
     "ename": "TypeError",
     "evalue": "Analysis.__init__() missing 1 required positional argument: 'config_paths'",
     "output_type": "error",
     "traceback": [
      "\u001b[1;31m---------------------------------------------------------------------------\u001b[0m",
      "\u001b[1;31mTypeError\u001b[0m                                 Traceback (most recent call last)",
      "Cell \u001b[1;32mIn[35], line 3\u001b[0m\n\u001b[0;32m      1\u001b[0m \u001b[38;5;28;01mfrom\u001b[39;00m \u001b[38;5;21;01massignmentpkg\u001b[39;00m \u001b[38;5;28;01mimport\u001b[39;00m analysis\n\u001b[1;32m----> 3\u001b[0m analyzer \u001b[38;5;241m=\u001b[39m \u001b[43manalysis\u001b[49m\u001b[38;5;241;43m.\u001b[39;49m\u001b[43mAnalysis\u001b[49m\u001b[43m(\u001b[49m\u001b[43m)\u001b[49m\n",
      "\u001b[1;31mTypeError\u001b[0m: Analysis.__init__() missing 1 required positional argument: 'config_paths'"
     ]
    }
   ],
   "source": [
    "from assignmentpkg import analysis\n",
    "\n",
    "analyzer = analysis.Analysis()\n"
   ]
  },
  {
   "cell_type": "code",
   "execution_count": 36,
   "metadata": {},
   "outputs": [
    {
     "ename": "FileNotFoundError",
     "evalue": "[Errno 2] No such file or directory: 'c'",
     "output_type": "error",
     "traceback": [
      "\u001b[1;31m---------------------------------------------------------------------------\u001b[0m",
      "\u001b[1;31mFileNotFoundError\u001b[0m                         Traceback (most recent call last)",
      "Cell \u001b[1;32mIn[36], line 4\u001b[0m\n\u001b[0;32m      1\u001b[0m \u001b[38;5;28;01mfrom\u001b[39;00m \u001b[38;5;21;01massignmentpkg\u001b[39;00m \u001b[38;5;28;01mimport\u001b[39;00m analysis\n\u001b[0;32m      3\u001b[0m \u001b[38;5;66;03m# Provide the path to the configuration file when creating the Analysis object\u001b[39;00m\n\u001b[1;32m----> 4\u001b[0m analyzer \u001b[38;5;241m=\u001b[39m \u001b[43manalysis\u001b[49m\u001b[38;5;241;43m.\u001b[39;49m\u001b[43mAnalysis\u001b[49m\u001b[43m(\u001b[49m\u001b[38;5;124;43m'\u001b[39;49m\u001b[38;5;124;43mc:\u001b[39;49m\u001b[38;5;130;43;01m\\\\\u001b[39;49;00m\u001b[38;5;124;43mUsers\u001b[39;49m\u001b[38;5;130;43;01m\\\\\u001b[39;49;00m\u001b[38;5;124;43mrahul\u001b[39;49m\u001b[38;5;130;43;01m\\\\\u001b[39;49;00m\u001b[38;5;124;43mDesktop\u001b[39;49m\u001b[38;5;130;43;01m\\\\\u001b[39;49;00m\u001b[38;5;124;43mAssignmentpkg\u001b[39;49m\u001b[38;5;130;43;01m\\\\\u001b[39;49;00m\u001b[38;5;124;43mdsi-build-software-project\u001b[39;49m\u001b[38;5;130;43;01m\\\\\u001b[39;49;00m\u001b[38;5;124;43mconfig\u001b[39;49m\u001b[38;5;130;43;01m\\\\\u001b[39;49;00m\u001b[38;5;124;43muser_config.yml\u001b[39;49m\u001b[38;5;124;43m'\u001b[39;49m\u001b[43m)\u001b[49m\n",
      "File \u001b[1;32mc:\\Users\\rahul\\Desktop\\Assignmentpkg\\dsi-build-software-project\\assignmentpkg\\analysis.py:11\u001b[0m, in \u001b[0;36mAnalysis.__init__\u001b[1;34m(self, config_paths)\u001b[0m\n\u001b[0;32m      9\u001b[0m \u001b[38;5;28mself\u001b[39m\u001b[38;5;241m.\u001b[39mconfig \u001b[38;5;241m=\u001b[39m {}\n\u001b[0;32m     10\u001b[0m \u001b[38;5;28;01mfor\u001b[39;00m path \u001b[38;5;129;01min\u001b[39;00m config_paths:\n\u001b[1;32m---> 11\u001b[0m     \u001b[38;5;28;01mwith\u001b[39;00m \u001b[38;5;28mopen\u001b[39m(path, \u001b[38;5;124m'\u001b[39m\u001b[38;5;124mr\u001b[39m\u001b[38;5;124m'\u001b[39m) \u001b[38;5;28;01mas\u001b[39;00m file:\n\u001b[0;32m     12\u001b[0m         \u001b[38;5;28mself\u001b[39m\u001b[38;5;241m.\u001b[39mconfig\u001b[38;5;241m.\u001b[39mupdate(yaml\u001b[38;5;241m.\u001b[39msafe_load(file))\n\u001b[0;32m     13\u001b[0m topic \u001b[38;5;241m=\u001b[39m \u001b[38;5;28mself\u001b[39m\u001b[38;5;241m.\u001b[39mconfig[\u001b[38;5;124m\"\u001b[39m\u001b[38;5;124mtopic\u001b[39m\u001b[38;5;124m\"\u001b[39m]\n",
      "\u001b[1;31mFileNotFoundError\u001b[0m: [Errno 2] No such file or directory: 'c'"
     ]
    }
   ],
   "source": [
    "from assignmentpkg import analysis\n",
    "\n",
    "# Provide the path to the configuration file when creating the Analysis object\n",
    "analyzer = analysis.Analysis('c:\\\\Users\\\\rahul\\\\Desktop\\\\Assignmentpkg\\\\dsi-build-software-project\\\\config\\\\user_config.yml')\n"
   ]
  },
  {
   "cell_type": "code",
   "execution_count": 1,
   "metadata": {},
   "outputs": [
    {
     "ename": "ModuleNotFoundError",
     "evalue": "No module named 'assignmentpkg'",
     "output_type": "error",
     "traceback": [
      "\u001b[1;31m---------------------------------------------------------------------------\u001b[0m",
      "\u001b[1;31mModuleNotFoundError\u001b[0m                       Traceback (most recent call last)",
      "Cell \u001b[1;32mIn[1], line 1\u001b[0m\n\u001b[1;32m----> 1\u001b[0m \u001b[38;5;28;01mfrom\u001b[39;00m \u001b[38;5;21;01massignmentpkg\u001b[39;00m \u001b[38;5;28;01mimport\u001b[39;00m analysis\n\u001b[0;32m      3\u001b[0m analyzer \u001b[38;5;241m=\u001b[39m analysis\u001b[38;5;241m.\u001b[39mAnalysis(\u001b[38;5;124m'\u001b[39m\u001b[38;5;124mc:\u001b[39m\u001b[38;5;130;01m\\\\\u001b[39;00m\u001b[38;5;124mUsers\u001b[39m\u001b[38;5;130;01m\\\\\u001b[39;00m\u001b[38;5;124mrahul\u001b[39m\u001b[38;5;130;01m\\\\\u001b[39;00m\u001b[38;5;124mDesktop\u001b[39m\u001b[38;5;130;01m\\\\\u001b[39;00m\u001b[38;5;124mAssignmentpkg\u001b[39m\u001b[38;5;130;01m\\\\\u001b[39;00m\u001b[38;5;124mdsi-build-software-project\u001b[39m\u001b[38;5;130;01m\\\\\u001b[39;00m\u001b[38;5;124mconfig\u001b[39m\u001b[38;5;130;01m\\\\\u001b[39;00m\u001b[38;5;124muser_config.yml\u001b[39m\u001b[38;5;124m'\u001b[39m)\n",
      "\u001b[1;31mModuleNotFoundError\u001b[0m: No module named 'assignmentpkg'"
     ]
    }
   ],
   "source": [
    "from assignmentpkg import analysis\n",
    "\n",
    "analyzer = analysis.Analysis('c:\\\\Users\\\\rahul\\\\Desktop\\\\Assignmentpkg\\\\dsi-build-software-project\\\\config\\\\user_config.yml')\n"
   ]
  },
  {
   "cell_type": "code",
   "execution_count": 2,
   "metadata": {},
   "outputs": [
    {
     "ename": "ModuleNotFoundError",
     "evalue": "No module named 'assignmentpkg'",
     "output_type": "error",
     "traceback": [
      "\u001b[1;31m---------------------------------------------------------------------------\u001b[0m",
      "\u001b[1;31mModuleNotFoundError\u001b[0m                       Traceback (most recent call last)",
      "Cell \u001b[1;32mIn[2], line 1\u001b[0m\n\u001b[1;32m----> 1\u001b[0m \u001b[38;5;28;01mfrom\u001b[39;00m \u001b[38;5;21;01massignmentpkg\u001b[39;00m \u001b[38;5;28;01mimport\u001b[39;00m analysis\n",
      "\u001b[1;31mModuleNotFoundError\u001b[0m: No module named 'assignmentpkg'"
     ]
    }
   ],
   "source": [
    "from assignmentpkg import analysis"
   ]
  },
  {
   "cell_type": "code",
   "execution_count": 3,
   "metadata": {},
   "outputs": [
    {
     "ename": "ModuleNotFoundError",
     "evalue": "No module named 'assignmentpkg'",
     "output_type": "error",
     "traceback": [
      "\u001b[1;31m---------------------------------------------------------------------------\u001b[0m",
      "\u001b[1;31mModuleNotFoundError\u001b[0m                       Traceback (most recent call last)",
      "Cell \u001b[1;32mIn[3], line 1\u001b[0m\n\u001b[1;32m----> 1\u001b[0m \u001b[38;5;28;01mfrom\u001b[39;00m \u001b[38;5;21;01massignmentpkg\u001b[39;00m \u001b[38;5;28;01mimport\u001b[39;00m analysis\n",
      "\u001b[1;31mModuleNotFoundError\u001b[0m: No module named 'assignmentpkg'"
     ]
    }
   ],
   "source": [
    "from assignmentpkg import analysis"
   ]
  },
  {
   "cell_type": "code",
   "execution_count": 4,
   "metadata": {},
   "outputs": [
    {
     "name": "stdout",
     "output_type": "stream",
     "text": [
      "Processing c:\\users\\rahul\\desktop\\assignmentpkg\\dsi-build-software-project\\assignmentpkg\n",
      "  Installing build dependencies: started\n",
      "  Installing build dependencies: finished with status 'done'\n",
      "  Getting requirements to build wheel: started\n",
      "  Getting requirements to build wheel: finished with status 'error'\n",
      "Note: you may need to restart the kernel to use updated packages.\n"
     ]
    },
    {
     "name": "stderr",
     "output_type": "stream",
     "text": [
      "  error: subprocess-exited-with-error\n",
      "  \n",
      "  × Getting requirements to build wheel did not run successfully.\n",
      "  │ exit code: 1\n",
      "  ╰─> [22 lines of output]\n",
      "      Traceback (most recent call last):\n",
      "        File \"c:\\Users\\rahul\\AppData\\Local\\Programs\\Python\\Python311\\Lib\\site-packages\\pip\\_vendor\\pyproject_hooks\\_in_process\\_in_process.py\", line 353, in <module>\n",
      "          main()\n",
      "        File \"c:\\Users\\rahul\\AppData\\Local\\Programs\\Python\\Python311\\Lib\\site-packages\\pip\\_vendor\\pyproject_hooks\\_in_process\\_in_process.py\", line 335, in main\n",
      "          json_out['return_val'] = hook(**hook_input['kwargs'])\n",
      "                                   ^^^^^^^^^^^^^^^^^^^^^^^^^^^^\n",
      "        File \"c:\\Users\\rahul\\AppData\\Local\\Programs\\Python\\Python311\\Lib\\site-packages\\pip\\_vendor\\pyproject_hooks\\_in_process\\_in_process.py\", line 118, in get_requires_for_build_wheel\n",
      "          return hook(config_settings)\n",
      "                 ^^^^^^^^^^^^^^^^^^^^^\n",
      "        File \"C:\\Users\\rahul\\AppData\\Local\\Temp\\pip-build-env-717nv83u\\overlay\\Lib\\site-packages\\setuptools\\build_meta.py\", line 325, in get_requires_for_build_wheel\n",
      "          return self._get_build_requires(config_settings, requirements=['wheel'])\n",
      "                 ^^^^^^^^^^^^^^^^^^^^^^^^^^^^^^^^^^^^^^^^^^^^^^^^^^^^^^^^^^^^^^^^^\n",
      "        File \"C:\\Users\\rahul\\AppData\\Local\\Temp\\pip-build-env-717nv83u\\overlay\\Lib\\site-packages\\setuptools\\build_meta.py\", line 295, in _get_build_requires\n",
      "          self.run_setup()\n",
      "        File \"C:\\Users\\rahul\\AppData\\Local\\Temp\\pip-build-env-717nv83u\\overlay\\Lib\\site-packages\\setuptools\\build_meta.py\", line 480, in run_setup\n",
      "          super(_BuildMetaLegacyBackend, self).run_setup(setup_script=setup_script)\n",
      "        File \"C:\\Users\\rahul\\AppData\\Local\\Temp\\pip-build-env-717nv83u\\overlay\\Lib\\site-packages\\setuptools\\build_meta.py\", line 311, in run_setup\n",
      "          exec(code, locals())\n",
      "        File \"<string>\", line 18\n",
      "          pip install -e .\n",
      "              ^^^^^^^\n",
      "      SyntaxError: invalid syntax\n",
      "      [end of output]\n",
      "  \n",
      "  note: This error originates from a subprocess, and is likely not a problem with pip.\n",
      "error: subprocess-exited-with-error\n",
      "\n",
      "× Getting requirements to build wheel did not run successfully.\n",
      "│ exit code: 1\n",
      "╰─> See above for output.\n",
      "\n",
      "note: This error originates from a subprocess, and is likely not a problem with pip.\n"
     ]
    }
   ],
   "source": [
    "pip install ."
   ]
  },
  {
   "cell_type": "code",
   "execution_count": 5,
   "metadata": {},
   "outputs": [
    {
     "ename": "FileNotFoundError",
     "evalue": "[WinError 2] The system cannot find the file specified: 'path_to_dsi-build-software-project'",
     "output_type": "error",
     "traceback": [
      "\u001b[1;31m---------------------------------------------------------------------------\u001b[0m",
      "\u001b[1;31mFileNotFoundError\u001b[0m                         Traceback (most recent call last)",
      "Cell \u001b[1;32mIn[5], line 2\u001b[0m\n\u001b[0;32m      1\u001b[0m \u001b[38;5;28;01mimport\u001b[39;00m \u001b[38;5;21;01mos\u001b[39;00m\n\u001b[1;32m----> 2\u001b[0m \u001b[43mos\u001b[49m\u001b[38;5;241;43m.\u001b[39;49m\u001b[43mchdir\u001b[49m\u001b[43m(\u001b[49m\u001b[38;5;124;43m'\u001b[39;49m\u001b[38;5;124;43mpath_to_dsi-build-software-project\u001b[39;49m\u001b[38;5;124;43m'\u001b[39;49m\u001b[43m)\u001b[49m\n\u001b[0;32m      3\u001b[0m \u001b[38;5;28mprint\u001b[39m(os\u001b[38;5;241m.\u001b[39mgetcwd())\n",
      "\u001b[1;31mFileNotFoundError\u001b[0m: [WinError 2] The system cannot find the file specified: 'path_to_dsi-build-software-project'"
     ]
    }
   ],
   "source": [
    "import os\n",
    "os.chdir('path_to_dsi-build-software-project')\n",
    "print(os.getcwd())\n"
   ]
  },
  {
   "cell_type": "code",
   "execution_count": 6,
   "metadata": {},
   "outputs": [
    {
     "name": "stdout",
     "output_type": "stream",
     "text": [
      "C:\\Users\\rahul\\Desktop\\Assignmentpkg\\dsi-build-software-project\n"
     ]
    }
   ],
   "source": [
    "import os\n",
    "os.chdir('C:\\\\Users\\\\rahul\\\\Desktop\\\\Assignmentpkg\\\\dsi-build-software-project')\n",
    "print(os.getcwd())\n"
   ]
  },
  {
   "cell_type": "code",
   "execution_count": 7,
   "metadata": {},
   "outputs": [],
   "source": [
    "from assignmentpkg import analysis\n"
   ]
  },
  {
   "cell_type": "code",
   "execution_count": 8,
   "metadata": {},
   "outputs": [
    {
     "ename": "KeyError",
     "evalue": "'url'",
     "output_type": "error",
     "traceback": [
      "\u001b[1;31m---------------------------------------------------------------------------\u001b[0m",
      "\u001b[1;31mKeyError\u001b[0m                                  Traceback (most recent call last)",
      "Cell \u001b[1;32mIn[8], line 1\u001b[0m\n\u001b[1;32m----> 1\u001b[0m analyzer \u001b[38;5;241m=\u001b[39m \u001b[43manalysis\u001b[49m\u001b[38;5;241;43m.\u001b[39;49m\u001b[43mAnalysis\u001b[49m\u001b[43m(\u001b[49m\u001b[38;5;124;43m'\u001b[39;49m\u001b[38;5;124;43mc:\u001b[39;49m\u001b[38;5;130;43;01m\\\\\u001b[39;49;00m\u001b[38;5;124;43mUsers\u001b[39;49m\u001b[38;5;130;43;01m\\\\\u001b[39;49;00m\u001b[38;5;124;43mrahul\u001b[39;49m\u001b[38;5;130;43;01m\\\\\u001b[39;49;00m\u001b[38;5;124;43mDesktop\u001b[39;49m\u001b[38;5;130;43;01m\\\\\u001b[39;49;00m\u001b[38;5;124;43mAssignmentpkg\u001b[39;49m\u001b[38;5;130;43;01m\\\\\u001b[39;49;00m\u001b[38;5;124;43mdsi-build-software-project\u001b[39;49m\u001b[38;5;130;43;01m\\\\\u001b[39;49;00m\u001b[38;5;124;43mconfig\u001b[39;49m\u001b[38;5;130;43;01m\\\\\u001b[39;49;00m\u001b[38;5;124;43muser_config.yml\u001b[39;49m\u001b[38;5;124;43m'\u001b[39;49m\u001b[43m)\u001b[49m\n",
      "File \u001b[1;32m~\\Desktop\\Assignmentpkg\\dsi-build-software-project\\assignmentpkg\\analysis.py:13\u001b[0m, in \u001b[0;36mAnalysis.__init__\u001b[1;34m(self, config_path)\u001b[0m\n\u001b[0;32m     11\u001b[0m     \u001b[38;5;28mself\u001b[39m\u001b[38;5;241m.\u001b[39mconfig \u001b[38;5;241m=\u001b[39m yaml\u001b[38;5;241m.\u001b[39msafe_load(file)\n\u001b[0;32m     12\u001b[0m topic \u001b[38;5;241m=\u001b[39m \u001b[38;5;28mself\u001b[39m\u001b[38;5;241m.\u001b[39mconfig[\u001b[38;5;124m\"\u001b[39m\u001b[38;5;124mtopic\u001b[39m\u001b[38;5;124m\"\u001b[39m]\n\u001b[1;32m---> 13\u001b[0m \u001b[38;5;28mself\u001b[39m\u001b[38;5;241m.\u001b[39murl \u001b[38;5;241m=\u001b[39m \u001b[38;5;28;43mself\u001b[39;49m\u001b[38;5;241;43m.\u001b[39;49m\u001b[43mconfig\u001b[49m\u001b[43m[\u001b[49m\u001b[38;5;124;43m\"\u001b[39;49m\u001b[38;5;124;43murl\u001b[39;49m\u001b[38;5;124;43m\"\u001b[39;49m\u001b[43m]\u001b[49m \u001b[38;5;241m+\u001b[39m \u001b[38;5;124m'\u001b[39m\u001b[38;5;124marticlesearch.json?q=\u001b[39m\u001b[38;5;124m'\u001b[39m \u001b[38;5;241m+\u001b[39m topic \u001b[38;5;241m+\u001b[39m \u001b[38;5;124m'\u001b[39m\u001b[38;5;124m&api-key=\u001b[39m\u001b[38;5;124m'\u001b[39m \u001b[38;5;241m+\u001b[39m \u001b[38;5;28mself\u001b[39m\u001b[38;5;241m.\u001b[39mconfig[\u001b[38;5;124m\"\u001b[39m\u001b[38;5;124mapi_key\u001b[39m\u001b[38;5;124m\"\u001b[39m]\n\u001b[0;32m     14\u001b[0m \u001b[38;5;28mself\u001b[39m\u001b[38;5;241m.\u001b[39mdata \u001b[38;5;241m=\u001b[39m \u001b[38;5;28;01mNone\u001b[39;00m\n",
      "\u001b[1;31mKeyError\u001b[0m: 'url'"
     ]
    }
   ],
   "source": [
    "analyzer = analysis.Analysis('c:\\\\Users\\\\rahul\\\\Desktop\\\\Assignmentpkg\\\\dsi-build-software-project\\\\config\\\\user_config.yml')\n"
   ]
  },
  {
   "cell_type": "code",
   "execution_count": 9,
   "metadata": {},
   "outputs": [],
   "source": [
    "analyzer = analysis.Analysis('c:\\\\Users\\\\rahul\\\\Desktop\\\\Assignmentpkg\\\\dsi-build-software-project\\\\config\\\\user_config.yml')\n"
   ]
  },
  {
   "cell_type": "code",
   "execution_count": 10,
   "metadata": {},
   "outputs": [],
   "source": [
    "from assignmentpkg import analysis\n",
    "analyzer = analysis.Analysis('c:\\\\Users\\\\rahul\\\\Desktop\\\\Assignmentpkg\\\\dsi-build-software-project\\\\config\\\\user_config.yml')\n"
   ]
  },
  {
   "cell_type": "code",
   "execution_count": 11,
   "metadata": {},
   "outputs": [
    {
     "ename": "AttributeError",
     "evalue": "'Analysis' object has no attribute 'load_data'",
     "output_type": "error",
     "traceback": [
      "\u001b[1;31m---------------------------------------------------------------------------\u001b[0m",
      "\u001b[1;31mAttributeError\u001b[0m                            Traceback (most recent call last)",
      "Cell \u001b[1;32mIn[11], line 1\u001b[0m\n\u001b[1;32m----> 1\u001b[0m data \u001b[38;5;241m=\u001b[39m \u001b[43manalyzer\u001b[49m\u001b[38;5;241;43m.\u001b[39;49m\u001b[43mload_data\u001b[49m()\n\u001b[0;32m      2\u001b[0m \u001b[38;5;28mprint\u001b[39m(data)  \u001b[38;5;66;03m# This will print the raw data returned by the API.\u001b[39;00m\n",
      "\u001b[1;31mAttributeError\u001b[0m: 'Analysis' object has no attribute 'load_data'"
     ]
    }
   ],
   "source": [
    "data = analyzer.load_data()\n",
    "print(data)  # This will print the raw data returned by the API.\n"
   ]
  },
  {
   "cell_type": "code",
   "execution_count": 12,
   "metadata": {},
   "outputs": [
    {
     "ename": "AttributeError",
     "evalue": "'Analysis' object has no attribute 'calculate_mean'",
     "output_type": "error",
     "traceback": [
      "\u001b[1;31m---------------------------------------------------------------------------\u001b[0m",
      "\u001b[1;31mAttributeError\u001b[0m                            Traceback (most recent call last)",
      "Cell \u001b[1;32mIn[12], line 1\u001b[0m\n\u001b[1;32m----> 1\u001b[0m mean_value \u001b[38;5;241m=\u001b[39m \u001b[43manalyzer\u001b[49m\u001b[38;5;241;43m.\u001b[39;49m\u001b[43mcalculate_mean\u001b[49m(\u001b[38;5;124m'\u001b[39m\u001b[38;5;124msome_numerical_field\u001b[39m\u001b[38;5;124m'\u001b[39m)\n\u001b[0;32m      2\u001b[0m \u001b[38;5;28mprint\u001b[39m(\u001b[38;5;124m\"\u001b[39m\u001b[38;5;124mMean Value:\u001b[39m\u001b[38;5;124m\"\u001b[39m, mean_value)\n",
      "\u001b[1;31mAttributeError\u001b[0m: 'Analysis' object has no attribute 'calculate_mean'"
     ]
    }
   ],
   "source": [
    "mean_value = analyzer.calculate_mean('some_numerical_field')\n",
    "print(\"Mean Value:\", mean_value)\n"
   ]
  },
  {
   "cell_type": "code",
   "execution_count": 13,
   "metadata": {},
   "outputs": [
    {
     "ename": "NameError",
     "evalue": "name 'Analysis' is not defined",
     "output_type": "error",
     "traceback": [
      "\u001b[1;31m---------------------------------------------------------------------------\u001b[0m",
      "\u001b[1;31mNameError\u001b[0m                                 Traceback (most recent call last)",
      "Cell \u001b[1;32mIn[13], line 2\u001b[0m\n\u001b[0;32m      1\u001b[0m \u001b[38;5;66;03m# Create an instance of the Analysis class with the path to the configuration file\u001b[39;00m\n\u001b[1;32m----> 2\u001b[0m analyzer \u001b[38;5;241m=\u001b[39m \u001b[43mAnalysis\u001b[49m(\u001b[38;5;124m'\u001b[39m\u001b[38;5;124mpath_to_config_file.yml\u001b[39m\u001b[38;5;124m'\u001b[39m)\n\u001b[0;32m      4\u001b[0m \u001b[38;5;66;03m# Load data from the API\u001b[39;00m\n\u001b[0;32m      5\u001b[0m data \u001b[38;5;241m=\u001b[39m analyzer\u001b[38;5;241m.\u001b[39mload_data()\n",
      "\u001b[1;31mNameError\u001b[0m: name 'Analysis' is not defined"
     ]
    }
   ],
   "source": [
    "# Create an instance of the Analysis class with the path to the configuration file\n",
    "analyzer = Analysis('path_to_config_file.yml')\n",
    "\n",
    "# Load data from the API\n",
    "data = analyzer.load_data()\n",
    "\n",
    "# Check the data\n",
    "print(data)\n",
    "\n",
    "# Calculate the mean of a field in the data\n",
    "mean_value = analyzer.calculate_mean(\"some_field\")\n",
    "print(\"Mean Value:\", mean_value)\n",
    "\n",
    "# Perform regression analysis\n",
    "regression_result = analyzer.perform_regression(\"independent_var\", \"dependent_var\")\n",
    "print(\"Regression Result:\", regression_result)\n",
    "\n",
    "# Plot data (provide x and y values)\n",
    "x_values = [1, 2, 3, 4, 5]  # Replace with your actual data\n",
    "y_values = [10, 20, 15, 30, 25]  # Replace with your actual data\n",
    "analyzer.plot_data(x_values, y_values, save_path=\"plot.png\")  # Optionally, provide a save path for the plot\n"
   ]
  },
  {
   "cell_type": "code",
   "execution_count": 14,
   "metadata": {},
   "outputs": [
    {
     "ename": "AttributeError",
     "evalue": "'Analysis' object has no attribute 'load_data'",
     "output_type": "error",
     "traceback": [
      "\u001b[1;31m---------------------------------------------------------------------------\u001b[0m",
      "\u001b[1;31mAttributeError\u001b[0m                            Traceback (most recent call last)",
      "Cell \u001b[1;32mIn[14], line 8\u001b[0m\n\u001b[0;32m      5\u001b[0m analyzer \u001b[38;5;241m=\u001b[39m Analysis(\u001b[38;5;124m'\u001b[39m\u001b[38;5;124mc:\u001b[39m\u001b[38;5;130;01m\\\\\u001b[39;00m\u001b[38;5;124mUsers\u001b[39m\u001b[38;5;130;01m\\\\\u001b[39;00m\u001b[38;5;124mrahul\u001b[39m\u001b[38;5;130;01m\\\\\u001b[39;00m\u001b[38;5;124mDesktop\u001b[39m\u001b[38;5;130;01m\\\\\u001b[39;00m\u001b[38;5;124mAssignmentpkg\u001b[39m\u001b[38;5;130;01m\\\\\u001b[39;00m\u001b[38;5;124mdsi-build-software-project\u001b[39m\u001b[38;5;130;01m\\\\\u001b[39;00m\u001b[38;5;124mconfig\u001b[39m\u001b[38;5;130;01m\\\\\u001b[39;00m\u001b[38;5;124muser_config.yml\u001b[39m\u001b[38;5;124m'\u001b[39m)\n\u001b[0;32m      7\u001b[0m \u001b[38;5;66;03m# Load data from the API\u001b[39;00m\n\u001b[1;32m----> 8\u001b[0m data \u001b[38;5;241m=\u001b[39m \u001b[43manalyzer\u001b[49m\u001b[38;5;241;43m.\u001b[39;49m\u001b[43mload_data\u001b[49m()\n\u001b[0;32m     10\u001b[0m \u001b[38;5;66;03m# Check if data was successfully loaded\u001b[39;00m\n\u001b[0;32m     11\u001b[0m \u001b[38;5;28;01mif\u001b[39;00m data:\n",
      "\u001b[1;31mAttributeError\u001b[0m: 'Analysis' object has no attribute 'load_data'"
     ]
    }
   ],
   "source": [
    "# Import the Analysis class from your module\n",
    "from assignmentpkg.analysis import Analysis\n",
    "\n",
    "# Create an instance of the Analysis class with the path to the configuration file\n",
    "analyzer = Analysis('c:\\\\Users\\\\rahul\\\\Desktop\\\\Assignmentpkg\\\\dsi-build-software-project\\\\config\\\\user_config.yml')\n",
    "\n",
    "# Load data from the API\n",
    "data = analyzer.load_data()\n",
    "\n",
    "# Check if data was successfully loaded\n",
    "if data:\n",
    "    print(\"Data loaded successfully.\")\n",
    "else:\n",
    "    print(\"Error loading data.\")\n",
    "\n",
    "# Calculate the mean of a field in the data (replace 'field_name' with the actual field name)\n",
    "mean_value = analyzer.calculate_mean('field_name')\n",
    "print(f\"Mean value of 'field_name': {mean_value}\")\n",
    "\n",
    "# Perform regression analysis (replace 'independent_var' and 'dependent_var' with actual field names)\n",
    "result = analyzer.perform_regression('independent_var', 'dependent_var')\n",
    "print(\"Regression Analysis Results:\")\n",
    "print(result)\n",
    "\n",
    "# Plot data (replace 'x' and 'y' with actual data for the plot)\n",
    "# You can also provide a save_path to save the plot as an image\n",
    "analyzer.plot_data(x, y, save_path='plot.png')\n"
   ]
  },
  {
   "cell_type": "code",
   "execution_count": 1,
   "metadata": {},
   "outputs": [
    {
     "ename": "ModuleNotFoundError",
     "evalue": "No module named 'assignmentpkg'",
     "output_type": "error",
     "traceback": [
      "\u001b[1;31m---------------------------------------------------------------------------\u001b[0m",
      "\u001b[1;31mModuleNotFoundError\u001b[0m                       Traceback (most recent call last)",
      "Cell \u001b[1;32mIn[1], line 2\u001b[0m\n\u001b[0;32m      1\u001b[0m \u001b[38;5;66;03m# Import the Analysis class from your module\u001b[39;00m\n\u001b[1;32m----> 2\u001b[0m \u001b[38;5;28;01mfrom\u001b[39;00m \u001b[38;5;21;01massignmentpkg\u001b[39;00m\u001b[38;5;21;01m.\u001b[39;00m\u001b[38;5;21;01manalysis\u001b[39;00m \u001b[38;5;28;01mimport\u001b[39;00m Analysis\n\u001b[0;32m      4\u001b[0m \u001b[38;5;66;03m# Create an instance of the Analysis class with the path to the configuration file\u001b[39;00m\n\u001b[0;32m      5\u001b[0m analyzer \u001b[38;5;241m=\u001b[39m Analysis(\u001b[38;5;124m'\u001b[39m\u001b[38;5;124mc:\u001b[39m\u001b[38;5;130;01m\\\\\u001b[39;00m\u001b[38;5;124mUsers\u001b[39m\u001b[38;5;130;01m\\\\\u001b[39;00m\u001b[38;5;124mrahul\u001b[39m\u001b[38;5;130;01m\\\\\u001b[39;00m\u001b[38;5;124mDesktop\u001b[39m\u001b[38;5;130;01m\\\\\u001b[39;00m\u001b[38;5;124mAssignmentpkg\u001b[39m\u001b[38;5;130;01m\\\\\u001b[39;00m\u001b[38;5;124mdsi-build-software-project\u001b[39m\u001b[38;5;130;01m\\\\\u001b[39;00m\u001b[38;5;124mconfig\u001b[39m\u001b[38;5;130;01m\\\\\u001b[39;00m\u001b[38;5;124muser_config.yml\u001b[39m\u001b[38;5;124m'\u001b[39m)\n",
      "\u001b[1;31mModuleNotFoundError\u001b[0m: No module named 'assignmentpkg'"
     ]
    }
   ],
   "source": [
    "# Import the Analysis class from your module\n",
    "from assignmentpkg.analysis import Analysis\n",
    "\n",
    "# Create an instance of the Analysis class with the path to the configuration file\n",
    "analyzer = Analysis('c:\\\\Users\\\\rahul\\\\Desktop\\\\Assignmentpkg\\\\dsi-build-software-project\\\\config\\\\user_config.yml')\n",
    "\n",
    "# Load data from the API\n",
    "data = analyzer.load_data()\n",
    "\n",
    "# Check if data was successfully loaded\n",
    "if data:\n",
    "    print(\"Data loaded successfully.\")\n",
    "else:\n",
    "    print(\"Error loading data.\")\n",
    "\n",
    "# Calculate the mean of a field in the data (replace 'field_name' with the actual field name)\n",
    "mean_value = analyzer.calculate_mean('field_name')\n",
    "print(f\"Mean value of 'field_name': {mean_value}\")\n",
    "\n",
    "# Perform regression analysis (replace 'independent_var' and 'dependent_var' with actual field names)\n",
    "result = analyzer.perform_regression('independent_var', 'dependent_var')\n",
    "print(\"Regression Analysis Results:\")\n",
    "print(result)\n",
    "\n",
    "# Plot data (replace 'x' and 'y' with actual data for the plot)\n",
    "# You can also provide a save_path to save the plot as an image\n",
    "analyzer.plot_data(x, y, save_path='plot.png')"
   ]
  },
  {
   "cell_type": "code",
   "execution_count": 2,
   "metadata": {},
   "outputs": [
    {
     "ename": "NameError",
     "evalue": "name 'Analysis' is not defined",
     "output_type": "error",
     "traceback": [
      "\u001b[1;31m---------------------------------------------------------------------------\u001b[0m",
      "\u001b[1;31mNameError\u001b[0m                                 Traceback (most recent call last)",
      "Cell \u001b[1;32mIn[2], line 2\u001b[0m\n\u001b[0;32m      1\u001b[0m \u001b[38;5;66;03m# Create an instance of the Analysis class with the path to the configuration file\u001b[39;00m\n\u001b[1;32m----> 2\u001b[0m analyzer \u001b[38;5;241m=\u001b[39m \u001b[43mAnalysis\u001b[49m(\u001b[38;5;124m'\u001b[39m\u001b[38;5;124mC:\u001b[39m\u001b[38;5;130;01m\\\\\u001b[39;00m\u001b[38;5;124mUsers\u001b[39m\u001b[38;5;130;01m\\\\\u001b[39;00m\u001b[38;5;124mrahul\u001b[39m\u001b[38;5;130;01m\\\\\u001b[39;00m\u001b[38;5;124mDesktop\u001b[39m\u001b[38;5;130;01m\\\\\u001b[39;00m\u001b[38;5;124mAssignmentpkg\u001b[39m\u001b[38;5;130;01m\\\\\u001b[39;00m\u001b[38;5;124mconfig\u001b[39m\u001b[38;5;130;01m\\\\\u001b[39;00m\u001b[38;5;124muser_config.yml\u001b[39m\u001b[38;5;124m'\u001b[39m)\n\u001b[0;32m      4\u001b[0m \u001b[38;5;66;03m# Load data from the API\u001b[39;00m\n\u001b[0;32m      5\u001b[0m data \u001b[38;5;241m=\u001b[39m analyzer\u001b[38;5;241m.\u001b[39mload_data()\n",
      "\u001b[1;31mNameError\u001b[0m: name 'Analysis' is not defined"
     ]
    }
   ],
   "source": [
    "# Create an instance of the Analysis class with the path to the configuration file\n",
    "analyzer = Analysis('C:\\\\Users\\\\rahul\\\\Desktop\\\\Assignmentpkg\\\\config\\\\user_config.yml')\n",
    "\n",
    "# Load data from the API\n",
    "data = analyzer.load_data()\n",
    "\n",
    "# Check if data was successfully loaded\n",
    "if data:\n",
    "    # Perform analysis or visualization tasks as needed\n",
    "    mean_value = analyzer.calculate_mean(\"some_field\")\n",
    "    regression_result = analyzer.perform_regression(\"independent_var\", \"dependent_var\")\n",
    "    analyzer.plot_data(x_data, y_data, save_path=\"plot.png\")\n"
   ]
  },
  {
   "cell_type": "code",
   "execution_count": 3,
   "metadata": {},
   "outputs": [
    {
     "ename": "FileNotFoundError",
     "evalue": "[Errno 2] No such file or directory: 'C:\\\\Users\\\\rahul\\\\Desktop\\\\Assignmentpkg\\\\config\\\\user_config.yml'",
     "output_type": "error",
     "traceback": [
      "\u001b[1;31m---------------------------------------------------------------------------\u001b[0m",
      "\u001b[1;31mFileNotFoundError\u001b[0m                         Traceback (most recent call last)",
      "Cell \u001b[1;32mIn[3], line 5\u001b[0m\n\u001b[0;32m      2\u001b[0m \u001b[38;5;28;01mfrom\u001b[39;00m \u001b[38;5;21;01manalysis\u001b[39;00m \u001b[38;5;28;01mimport\u001b[39;00m Analysis  \u001b[38;5;66;03m# Assuming the analysis module is in the same directory\u001b[39;00m\n\u001b[0;32m      4\u001b[0m \u001b[38;5;66;03m# Create an instance of the Analysis class with the path to the configuration file\u001b[39;00m\n\u001b[1;32m----> 5\u001b[0m analyzer \u001b[38;5;241m=\u001b[39m \u001b[43mAnalysis\u001b[49m\u001b[43m(\u001b[49m\u001b[38;5;124;43m'\u001b[39;49m\u001b[38;5;124;43mC:\u001b[39;49m\u001b[38;5;130;43;01m\\\\\u001b[39;49;00m\u001b[38;5;124;43mUsers\u001b[39;49m\u001b[38;5;130;43;01m\\\\\u001b[39;49;00m\u001b[38;5;124;43mrahul\u001b[39;49m\u001b[38;5;130;43;01m\\\\\u001b[39;49;00m\u001b[38;5;124;43mDesktop\u001b[39;49m\u001b[38;5;130;43;01m\\\\\u001b[39;49;00m\u001b[38;5;124;43mAssignmentpkg\u001b[39;49m\u001b[38;5;130;43;01m\\\\\u001b[39;49;00m\u001b[38;5;124;43mconfig\u001b[39;49m\u001b[38;5;130;43;01m\\\\\u001b[39;49;00m\u001b[38;5;124;43muser_config.yml\u001b[39;49m\u001b[38;5;124;43m'\u001b[39;49m\u001b[43m)\u001b[49m\n\u001b[0;32m      7\u001b[0m \u001b[38;5;66;03m# Load data from the API\u001b[39;00m\n\u001b[0;32m      8\u001b[0m data \u001b[38;5;241m=\u001b[39m analyzer\u001b[38;5;241m.\u001b[39mload_data()\n",
      "File \u001b[1;32mc:\\Users\\rahul\\Desktop\\Assignmentpkg\\dsi-build-software-project\\assignmentpkg\\analysis.py:9\u001b[0m, in \u001b[0;36mAnalysis.__init__\u001b[1;34m(self, config_path)\u001b[0m\n\u001b[0;32m      8\u001b[0m \u001b[38;5;28;01mdef\u001b[39;00m \u001b[38;5;21m__init__\u001b[39m(\u001b[38;5;28mself\u001b[39m, config_path):\n\u001b[1;32m----> 9\u001b[0m     \u001b[38;5;28;01mwith\u001b[39;00m \u001b[38;5;28;43mopen\u001b[39;49m\u001b[43m(\u001b[49m\u001b[43mconfig_path\u001b[49m\u001b[43m,\u001b[49m\u001b[43m \u001b[49m\u001b[38;5;124;43m'\u001b[39;49m\u001b[38;5;124;43mr\u001b[39;49m\u001b[38;5;124;43m'\u001b[39;49m\u001b[43m)\u001b[49m \u001b[38;5;28;01mas\u001b[39;00m file:\n\u001b[0;32m     10\u001b[0m         \u001b[38;5;28mself\u001b[39m\u001b[38;5;241m.\u001b[39mconfig \u001b[38;5;241m=\u001b[39m yaml\u001b[38;5;241m.\u001b[39msafe_load(file)\n\u001b[0;32m     11\u001b[0m     topic \u001b[38;5;241m=\u001b[39m \u001b[38;5;28mself\u001b[39m\u001b[38;5;241m.\u001b[39mconfig[\u001b[38;5;124m\"\u001b[39m\u001b[38;5;124mtopic\u001b[39m\u001b[38;5;124m\"\u001b[39m]\n",
      "\u001b[1;31mFileNotFoundError\u001b[0m: [Errno 2] No such file or directory: 'C:\\\\Users\\\\rahul\\\\Desktop\\\\Assignmentpkg\\\\config\\\\user_config.yml'"
     ]
    }
   ],
   "source": [
    "# Import the Analysis class from your module\n",
    "from analysis import Analysis  # Assuming the analysis module is in the same directory\n",
    "\n",
    "# Create an instance of the Analysis class with the path to the configuration file\n",
    "analyzer = Analysis('C:\\\\Users\\\\rahul\\\\Desktop\\\\Assignmentpkg\\\\config\\\\user_config.yml')\n",
    "\n",
    "# Load data from the API\n",
    "data = analyzer.load_data()\n",
    "\n",
    "# Check if data was successfully loaded\n",
    "if data:\n",
    "    # Perform analysis or visualization tasks as needed\n",
    "    mean_value = analyzer.calculate_mean(\"some_field\")\n",
    "    regression_result = analyzer.perform_regression(\"independent_var\", \"dependent_var\")\n",
    "    analyzer.plot_data(x_data, y_data, save_path=\"plot.png\")\n"
   ]
  },
  {
   "cell_type": "code",
   "execution_count": 4,
   "metadata": {},
   "outputs": [],
   "source": [
    "from analysis import Analysis "
   ]
  },
  {
   "cell_type": "code",
   "execution_count": 5,
   "metadata": {},
   "outputs": [
    {
     "ename": "FileNotFoundError",
     "evalue": "[Errno 2] No such file or directory: 'C:\\\\Users\\\\rahul\\\\Desktop\\\\Assignmentpkg\\\\config\\\\user_config.yml'",
     "output_type": "error",
     "traceback": [
      "\u001b[1;31m---------------------------------------------------------------------------\u001b[0m",
      "\u001b[1;31mFileNotFoundError\u001b[0m                         Traceback (most recent call last)",
      "Cell \u001b[1;32mIn[5], line 1\u001b[0m\n\u001b[1;32m----> 1\u001b[0m analyzer \u001b[38;5;241m=\u001b[39m \u001b[43mAnalysis\u001b[49m\u001b[43m(\u001b[49m\u001b[38;5;124;43m'\u001b[39;49m\u001b[38;5;124;43mC:\u001b[39;49m\u001b[38;5;130;43;01m\\\\\u001b[39;49;00m\u001b[38;5;124;43mUsers\u001b[39;49m\u001b[38;5;130;43;01m\\\\\u001b[39;49;00m\u001b[38;5;124;43mrahul\u001b[39;49m\u001b[38;5;130;43;01m\\\\\u001b[39;49;00m\u001b[38;5;124;43mDesktop\u001b[39;49m\u001b[38;5;130;43;01m\\\\\u001b[39;49;00m\u001b[38;5;124;43mAssignmentpkg\u001b[39;49m\u001b[38;5;130;43;01m\\\\\u001b[39;49;00m\u001b[38;5;124;43mconfig\u001b[39;49m\u001b[38;5;130;43;01m\\\\\u001b[39;49;00m\u001b[38;5;124;43muser_config.yml\u001b[39;49m\u001b[38;5;124;43m'\u001b[39;49m\u001b[43m)\u001b[49m\n",
      "File \u001b[1;32mc:\\Users\\rahul\\Desktop\\Assignmentpkg\\dsi-build-software-project\\assignmentpkg\\analysis.py:9\u001b[0m, in \u001b[0;36mAnalysis.__init__\u001b[1;34m(self, config_path)\u001b[0m\n\u001b[0;32m      8\u001b[0m \u001b[38;5;28;01mdef\u001b[39;00m \u001b[38;5;21m__init__\u001b[39m(\u001b[38;5;28mself\u001b[39m, config_path):\n\u001b[1;32m----> 9\u001b[0m     \u001b[38;5;28;01mwith\u001b[39;00m \u001b[38;5;28;43mopen\u001b[39;49m\u001b[43m(\u001b[49m\u001b[43mconfig_path\u001b[49m\u001b[43m,\u001b[49m\u001b[43m \u001b[49m\u001b[38;5;124;43m'\u001b[39;49m\u001b[38;5;124;43mr\u001b[39;49m\u001b[38;5;124;43m'\u001b[39;49m\u001b[43m)\u001b[49m \u001b[38;5;28;01mas\u001b[39;00m file:\n\u001b[0;32m     10\u001b[0m         \u001b[38;5;28mself\u001b[39m\u001b[38;5;241m.\u001b[39mconfig \u001b[38;5;241m=\u001b[39m yaml\u001b[38;5;241m.\u001b[39msafe_load(file)\n\u001b[0;32m     11\u001b[0m     topic \u001b[38;5;241m=\u001b[39m \u001b[38;5;28mself\u001b[39m\u001b[38;5;241m.\u001b[39mconfig[\u001b[38;5;124m\"\u001b[39m\u001b[38;5;124mtopic\u001b[39m\u001b[38;5;124m\"\u001b[39m]\n",
      "\u001b[1;31mFileNotFoundError\u001b[0m: [Errno 2] No such file or directory: 'C:\\\\Users\\\\rahul\\\\Desktop\\\\Assignmentpkg\\\\config\\\\user_config.yml'"
     ]
    }
   ],
   "source": [
    "analyzer = Analysis('C:\\\\Users\\\\rahul\\\\Desktop\\\\Assignmentpkg\\\\config\\\\user_config.yml')"
   ]
  },
  {
   "cell_type": "code",
   "execution_count": 6,
   "metadata": {},
   "outputs": [
    {
     "ename": "ModuleNotFoundError",
     "evalue": "No module named 'assignmentpkg'",
     "output_type": "error",
     "traceback": [
      "\u001b[1;31m---------------------------------------------------------------------------\u001b[0m",
      "\u001b[1;31mModuleNotFoundError\u001b[0m                       Traceback (most recent call last)",
      "Cell \u001b[1;32mIn[6], line 1\u001b[0m\n\u001b[1;32m----> 1\u001b[0m \u001b[38;5;28;01mfrom\u001b[39;00m \u001b[38;5;21;01massignmentpkg\u001b[39;00m \u001b[38;5;28;01mimport\u001b[39;00m analysis\n\u001b[0;32m      2\u001b[0m analyzer \u001b[38;5;241m=\u001b[39m analysis\u001b[38;5;241m.\u001b[39mAnalysis(\u001b[38;5;124m'\u001b[39m\u001b[38;5;124mc:\u001b[39m\u001b[38;5;130;01m\\\\\u001b[39;00m\u001b[38;5;124mUsers\u001b[39m\u001b[38;5;130;01m\\\\\u001b[39;00m\u001b[38;5;124mrahul\u001b[39m\u001b[38;5;130;01m\\\\\u001b[39;00m\u001b[38;5;124mDesktop\u001b[39m\u001b[38;5;130;01m\\\\\u001b[39;00m\u001b[38;5;124mAssignmentpkg\u001b[39m\u001b[38;5;130;01m\\\\\u001b[39;00m\u001b[38;5;124mdsi-build-software-project\u001b[39m\u001b[38;5;130;01m\\\\\u001b[39;00m\u001b[38;5;124mconfig\u001b[39m\u001b[38;5;130;01m\\\\\u001b[39;00m\u001b[38;5;124muser_config.yml\u001b[39m\u001b[38;5;124m'\u001b[39m)\n",
      "\u001b[1;31mModuleNotFoundError\u001b[0m: No module named 'assignmentpkg'"
     ]
    }
   ],
   "source": [
    "from assignmentpkg import analysis\n",
    "analyzer = analysis.Analysis('c:\\\\Users\\\\rahul\\\\Desktop\\\\Assignmentpkg\\\\dsi-build-software-project\\\\config\\\\user_config.yml')"
   ]
  },
  {
   "cell_type": "code",
   "execution_count": 8,
   "metadata": {},
   "outputs": [
    {
     "ename": "ModuleNotFoundError",
     "evalue": "No module named 'assignmentpkg'",
     "output_type": "error",
     "traceback": [
      "\u001b[1;31m---------------------------------------------------------------------------\u001b[0m",
      "\u001b[1;31mModuleNotFoundError\u001b[0m                       Traceback (most recent call last)",
      "Cell \u001b[1;32mIn[8], line 1\u001b[0m\n\u001b[1;32m----> 1\u001b[0m \u001b[38;5;28;01mfrom\u001b[39;00m \u001b[38;5;21;01massignmentpkg\u001b[39;00m \u001b[38;5;28;01mimport\u001b[39;00m analysis\n",
      "\u001b[1;31mModuleNotFoundError\u001b[0m: No module named 'assignmentpkg'"
     ]
    }
   ],
   "source": [
    "from assignmentpkg import analysis"
   ]
  },
  {
   "cell_type": "code",
   "execution_count": 9,
   "metadata": {},
   "outputs": [
    {
     "ename": "ModuleNotFoundError",
     "evalue": "No module named 'assignmentpkg'",
     "output_type": "error",
     "traceback": [
      "\u001b[1;31m---------------------------------------------------------------------------\u001b[0m",
      "\u001b[1;31mModuleNotFoundError\u001b[0m                       Traceback (most recent call last)",
      "Cell \u001b[1;32mIn[9], line 1\u001b[0m\n\u001b[1;32m----> 1\u001b[0m \u001b[38;5;28;01mfrom\u001b[39;00m \u001b[38;5;21;01massignmentpkg\u001b[39;00m \u001b[38;5;28;01mimport\u001b[39;00m analysis\n",
      "\u001b[1;31mModuleNotFoundError\u001b[0m: No module named 'assignmentpkg'"
     ]
    }
   ],
   "source": [
    "from assignmentpkg import analysis"
   ]
  },
  {
   "cell_type": "code",
   "execution_count": 10,
   "metadata": {},
   "outputs": [
    {
     "ename": "ModuleNotFoundError",
     "evalue": "No module named 'assignmentpkg'",
     "output_type": "error",
     "traceback": [
      "\u001b[1;31m---------------------------------------------------------------------------\u001b[0m",
      "\u001b[1;31mModuleNotFoundError\u001b[0m                       Traceback (most recent call last)",
      "Cell \u001b[1;32mIn[10], line 1\u001b[0m\n\u001b[1;32m----> 1\u001b[0m \u001b[38;5;28;01mfrom\u001b[39;00m \u001b[38;5;21;01massignmentpkg\u001b[39;00m \u001b[38;5;28;01mimport\u001b[39;00m analysis\n",
      "\u001b[1;31mModuleNotFoundError\u001b[0m: No module named 'assignmentpkg'"
     ]
    }
   ],
   "source": [
    "from assignmentpkg import analysis\n"
   ]
  },
  {
   "cell_type": "code",
   "execution_count": 11,
   "metadata": {},
   "outputs": [
    {
     "name": "stdout",
     "output_type": "stream",
     "text": [
      "Note: you may need to restart the kernel to use updated packages.Processing c:\\users\\rahul\\desktop\\assignmentpkg\\dsi-build-software-project\\assignmentpkg\n",
      "  Installing build dependencies: started\n",
      "  Installing build dependencies: finished with status 'done'\n",
      "  Getting requirements to build wheel: started\n",
      "  Getting requirements to build wheel: finished with status 'error'\n",
      "\n"
     ]
    },
    {
     "name": "stderr",
     "output_type": "stream",
     "text": [
      "  error: subprocess-exited-with-error\n",
      "  \n",
      "  × Getting requirements to build wheel did not run successfully.\n",
      "  │ exit code: 1\n",
      "  ╰─> [22 lines of output]\n",
      "      Traceback (most recent call last):\n",
      "        File \"c:\\Users\\rahul\\AppData\\Local\\Programs\\Python\\Python311\\Lib\\site-packages\\pip\\_vendor\\pyproject_hooks\\_in_process\\_in_process.py\", line 353, in <module>\n",
      "          main()\n",
      "        File \"c:\\Users\\rahul\\AppData\\Local\\Programs\\Python\\Python311\\Lib\\site-packages\\pip\\_vendor\\pyproject_hooks\\_in_process\\_in_process.py\", line 335, in main\n",
      "          json_out['return_val'] = hook(**hook_input['kwargs'])\n",
      "                                   ^^^^^^^^^^^^^^^^^^^^^^^^^^^^\n",
      "        File \"c:\\Users\\rahul\\AppData\\Local\\Programs\\Python\\Python311\\Lib\\site-packages\\pip\\_vendor\\pyproject_hooks\\_in_process\\_in_process.py\", line 118, in get_requires_for_build_wheel\n",
      "          return hook(config_settings)\n",
      "                 ^^^^^^^^^^^^^^^^^^^^^\n",
      "        File \"C:\\Users\\rahul\\AppData\\Local\\Temp\\pip-build-env-g5ft1b6_\\overlay\\Lib\\site-packages\\setuptools\\build_meta.py\", line 325, in get_requires_for_build_wheel\n",
      "          return self._get_build_requires(config_settings, requirements=['wheel'])\n",
      "                 ^^^^^^^^^^^^^^^^^^^^^^^^^^^^^^^^^^^^^^^^^^^^^^^^^^^^^^^^^^^^^^^^^\n",
      "        File \"C:\\Users\\rahul\\AppData\\Local\\Temp\\pip-build-env-g5ft1b6_\\overlay\\Lib\\site-packages\\setuptools\\build_meta.py\", line 295, in _get_build_requires\n",
      "          self.run_setup()\n",
      "        File \"C:\\Users\\rahul\\AppData\\Local\\Temp\\pip-build-env-g5ft1b6_\\overlay\\Lib\\site-packages\\setuptools\\build_meta.py\", line 480, in run_setup\n",
      "          super(_BuildMetaLegacyBackend, self).run_setup(setup_script=setup_script)\n",
      "        File \"C:\\Users\\rahul\\AppData\\Local\\Temp\\pip-build-env-g5ft1b6_\\overlay\\Lib\\site-packages\\setuptools\\build_meta.py\", line 311, in run_setup\n",
      "          exec(code, locals())\n",
      "        File \"<string>\", line 18\n",
      "          pip install -e .\n",
      "              ^^^^^^^\n",
      "      SyntaxError: invalid syntax\n",
      "      [end of output]\n",
      "  \n",
      "  note: This error originates from a subprocess, and is likely not a problem with pip.\n",
      "error: subprocess-exited-with-error\n",
      "\n",
      "× Getting requirements to build wheel did not run successfully.\n",
      "│ exit code: 1\n",
      "╰─> See above for output.\n",
      "\n",
      "note: This error originates from a subprocess, and is likely not a problem with pip.\n"
     ]
    }
   ],
   "source": [
    "pip install .\n"
   ]
  },
  {
   "cell_type": "code",
   "execution_count": 1,
   "metadata": {},
   "outputs": [
    {
     "ename": "ModuleNotFoundError",
     "evalue": "No module named 'assignmentpkg'",
     "output_type": "error",
     "traceback": [
      "\u001b[1;31m---------------------------------------------------------------------------\u001b[0m",
      "\u001b[1;31mModuleNotFoundError\u001b[0m                       Traceback (most recent call last)",
      "Cell \u001b[1;32mIn[1], line 1\u001b[0m\n\u001b[1;32m----> 1\u001b[0m \u001b[38;5;28;01mfrom\u001b[39;00m \u001b[38;5;21;01massignmentpkg\u001b[39;00m \u001b[38;5;28;01mimport\u001b[39;00m analysis\n",
      "\u001b[1;31mModuleNotFoundError\u001b[0m: No module named 'assignmentpkg'"
     ]
    }
   ],
   "source": [
    "from assignmentpkg import analysis"
   ]
  },
  {
   "cell_type": "code",
   "execution_count": 3,
   "metadata": {},
   "outputs": [
    {
     "ename": "ModuleNotFoundError",
     "evalue": "No module named 'assignmentpkg'",
     "output_type": "error",
     "traceback": [
      "\u001b[1;31m---------------------------------------------------------------------------\u001b[0m",
      "\u001b[1;31mModuleNotFoundError\u001b[0m                       Traceback (most recent call last)",
      "Cell \u001b[1;32mIn[3], line 1\u001b[0m\n\u001b[1;32m----> 1\u001b[0m \u001b[38;5;28;01mfrom\u001b[39;00m \u001b[38;5;21;01massignmentpkg\u001b[39;00m \u001b[38;5;28;01mimport\u001b[39;00m analysis\n",
      "\u001b[1;31mModuleNotFoundError\u001b[0m: No module named 'assignmentpkg'"
     ]
    }
   ],
   "source": [
    "from assignmentpkg import analysis"
   ]
  },
  {
   "cell_type": "code",
   "execution_count": 5,
   "metadata": {},
   "outputs": [
    {
     "name": "stderr",
     "output_type": "stream",
     "text": [
      "'pip' is not recognized as an internal or external command,\n",
      "operable program or batch file.\n",
      "'pip' is not recognized as an internal or external command,\n",
      "operable program or batch file.\n"
     ]
    }
   ],
   "source": [
    "!pip install --upgrade pip\n",
    "!pip install --upgrade setuptools\n"
   ]
  },
  {
   "cell_type": "code",
   "execution_count": 6,
   "metadata": {},
   "outputs": [
    {
     "name": "stdout",
     "output_type": "stream",
     "text": [
      "Obtaining file:///C:/Users/rahul/Desktop/Assignmentpkg/dsi-build-software-project/assignmentpkgNote: you may need to restart the kernel to use updated packages.\n",
      "\n",
      "  Installing build dependencies: started\n",
      "  Installing build dependencies: finished with status 'done'\n",
      "  Checking if build backend supports build_editable: started\n",
      "  Checking if build backend supports build_editable: finished with status 'done'\n",
      "  Getting requirements to build editable: started\n",
      "  Getting requirements to build editable: finished with status 'error'\n"
     ]
    },
    {
     "name": "stderr",
     "output_type": "stream",
     "text": [
      "  error: subprocess-exited-with-error\n",
      "  \n",
      "  × Getting requirements to build editable did not run successfully.\n",
      "  │ exit code: 1\n",
      "  ╰─> [25 lines of output]\n",
      "      Traceback (most recent call last):\n",
      "        File \"c:\\Users\\rahul\\AppData\\Local\\Programs\\Python\\Python311\\Lib\\site-packages\\pip\\_vendor\\pyproject_hooks\\_in_process\\_in_process.py\", line 353, in <module>\n",
      "          main()\n",
      "        File \"c:\\Users\\rahul\\AppData\\Local\\Programs\\Python\\Python311\\Lib\\site-packages\\pip\\_vendor\\pyproject_hooks\\_in_process\\_in_process.py\", line 335, in main\n",
      "          json_out['return_val'] = hook(**hook_input['kwargs'])\n",
      "                                   ^^^^^^^^^^^^^^^^^^^^^^^^^^^^\n",
      "        File \"c:\\Users\\rahul\\AppData\\Local\\Programs\\Python\\Python311\\Lib\\site-packages\\pip\\_vendor\\pyproject_hooks\\_in_process\\_in_process.py\", line 132, in get_requires_for_build_editable\n",
      "          return hook(config_settings)\n",
      "                 ^^^^^^^^^^^^^^^^^^^^^\n",
      "        File \"C:\\Users\\rahul\\AppData\\Local\\Temp\\pip-build-env-qdydb9d5\\overlay\\Lib\\site-packages\\setuptools\\build_meta.py\", line 441, in get_requires_for_build_editable\n",
      "          return self.get_requires_for_build_wheel(config_settings)\n",
      "                 ^^^^^^^^^^^^^^^^^^^^^^^^^^^^^^^^^^^^^^^^^^^^^^^^^^\n",
      "        File \"C:\\Users\\rahul\\AppData\\Local\\Temp\\pip-build-env-qdydb9d5\\overlay\\Lib\\site-packages\\setuptools\\build_meta.py\", line 325, in get_requires_for_build_wheel\n",
      "          return self._get_build_requires(config_settings, requirements=['wheel'])\n",
      "                 ^^^^^^^^^^^^^^^^^^^^^^^^^^^^^^^^^^^^^^^^^^^^^^^^^^^^^^^^^^^^^^^^^\n",
      "        File \"C:\\Users\\rahul\\AppData\\Local\\Temp\\pip-build-env-qdydb9d5\\overlay\\Lib\\site-packages\\setuptools\\build_meta.py\", line 295, in _get_build_requires\n",
      "          self.run_setup()\n",
      "        File \"C:\\Users\\rahul\\AppData\\Local\\Temp\\pip-build-env-qdydb9d5\\overlay\\Lib\\site-packages\\setuptools\\build_meta.py\", line 480, in run_setup\n",
      "          super(_BuildMetaLegacyBackend, self).run_setup(setup_script=setup_script)\n",
      "        File \"C:\\Users\\rahul\\AppData\\Local\\Temp\\pip-build-env-qdydb9d5\\overlay\\Lib\\site-packages\\setuptools\\build_meta.py\", line 311, in run_setup\n",
      "          exec(code, locals())\n",
      "        File \"<string>\", line 18\n",
      "          pip install -e .\n",
      "              ^^^^^^^\n",
      "      SyntaxError: invalid syntax\n",
      "      [end of output]\n",
      "  \n",
      "  note: This error originates from a subprocess, and is likely not a problem with pip.\n",
      "error: subprocess-exited-with-error\n",
      "\n",
      "× Getting requirements to build editable did not run successfully.\n",
      "│ exit code: 1\n",
      "╰─> See above for output.\n",
      "\n",
      "note: This error originates from a subprocess, and is likely not a problem with pip.\n"
     ]
    }
   ],
   "source": [
    "pip install -e .\n"
   ]
  },
  {
   "cell_type": "code",
   "execution_count": 1,
   "metadata": {},
   "outputs": [
    {
     "ename": "SyntaxError",
     "evalue": "invalid syntax (3251870268.py, line 1)",
     "output_type": "error",
     "traceback": [
      "\u001b[1;36m  Cell \u001b[1;32mIn[1], line 1\u001b[1;36m\u001b[0m\n\u001b[1;33m    python setup.py clean --all\u001b[0m\n\u001b[1;37m           ^\u001b[0m\n\u001b[1;31mSyntaxError\u001b[0m\u001b[1;31m:\u001b[0m invalid syntax\n"
     ]
    }
   ],
   "source": [
    "python setup.py clean --all\n"
   ]
  },
  {
   "cell_type": "code",
   "execution_count": 2,
   "metadata": {},
   "outputs": [
    {
     "name": "stdout",
     "output_type": "stream",
     "text": [
      "[WinError 3] The system cannot find the path specified: 'path/to/my_package'\n",
      "c:\\Users\\rahul\\Desktop\\Assignmentpkg\\dsi-build-software-project\\assignmentpkg\n"
     ]
    },
    {
     "name": "stderr",
     "output_type": "stream",
     "text": [
      "C:\\Users\\rahul\\AppData\\Roaming\\Python\\Python311\\site-packages\\IPython\\core\\magics\\osm.py:393: UserWarning: using bookmarks requires you to install the `pickleshare` library.\n",
      "  bkms = self.shell.db.get('bookmarks', {})\n"
     ]
    }
   ],
   "source": [
    "cd path/to/my_package\n"
   ]
  },
  {
   "cell_type": "code",
   "execution_count": 3,
   "metadata": {},
   "outputs": [
    {
     "ename": "SyntaxError",
     "evalue": "invalid syntax (3251870268.py, line 1)",
     "output_type": "error",
     "traceback": [
      "\u001b[1;36m  Cell \u001b[1;32mIn[3], line 1\u001b[1;36m\u001b[0m\n\u001b[1;33m    python setup.py clean --all\u001b[0m\n\u001b[1;37m           ^\u001b[0m\n\u001b[1;31mSyntaxError\u001b[0m\u001b[1;31m:\u001b[0m invalid syntax\n"
     ]
    }
   ],
   "source": [
    "python setup.py clean --all\n"
   ]
  },
  {
   "cell_type": "code",
   "execution_count": 4,
   "metadata": {},
   "outputs": [
    {
     "name": "stdout",
     "output_type": "stream",
     "text": [
      "c:\\Users\\rahul\\Desktop\\Assignmentpkg\\dsi-build-software-project\\assignmentpkg\n"
     ]
    }
   ],
   "source": [
    "cd c:\\Users\\rahul\\Desktop\\Assignmentpkg\\dsi-build-software-project\\assignmentpkg\n"
   ]
  },
  {
   "cell_type": "code",
   "execution_count": 5,
   "metadata": {},
   "outputs": [
    {
     "name": "stdout",
     "output_type": "stream",
     "text": [
      "Obtaining file:///C:/Users/rahul/Desktop/Assignmentpkg/dsi-build-software-project/assignmentpkg\n",
      "  Installing build dependencies: started\n",
      "  Installing build dependencies: finished with status 'done'\n",
      "  Checking if build backend supports build_editable: started\n",
      "  Checking if build backend supports build_editable: finished with status 'done'\n",
      "  Getting requirements to build editable: started\n",
      "  Getting requirements to build editable: finished with status 'error'\n",
      "Note: you may need to restart the kernel to use updated packages.\n"
     ]
    },
    {
     "name": "stderr",
     "output_type": "stream",
     "text": [
      "  error: subprocess-exited-with-error\n",
      "  \n",
      "  × Getting requirements to build editable did not run successfully.\n",
      "  │ exit code: 1\n",
      "  ╰─> [25 lines of output]\n",
      "      Traceback (most recent call last):\n",
      "        File \"c:\\Users\\rahul\\AppData\\Local\\Programs\\Python\\Python311\\Lib\\site-packages\\pip\\_vendor\\pyproject_hooks\\_in_process\\_in_process.py\", line 353, in <module>\n",
      "          main()\n",
      "        File \"c:\\Users\\rahul\\AppData\\Local\\Programs\\Python\\Python311\\Lib\\site-packages\\pip\\_vendor\\pyproject_hooks\\_in_process\\_in_process.py\", line 335, in main\n",
      "          json_out['return_val'] = hook(**hook_input['kwargs'])\n",
      "                                   ^^^^^^^^^^^^^^^^^^^^^^^^^^^^\n",
      "        File \"c:\\Users\\rahul\\AppData\\Local\\Programs\\Python\\Python311\\Lib\\site-packages\\pip\\_vendor\\pyproject_hooks\\_in_process\\_in_process.py\", line 132, in get_requires_for_build_editable\n",
      "          return hook(config_settings)\n",
      "                 ^^^^^^^^^^^^^^^^^^^^^\n",
      "        File \"C:\\Users\\rahul\\AppData\\Local\\Temp\\pip-build-env-hxwu00g1\\overlay\\Lib\\site-packages\\setuptools\\build_meta.py\", line 441, in get_requires_for_build_editable\n",
      "          return self.get_requires_for_build_wheel(config_settings)\n",
      "                 ^^^^^^^^^^^^^^^^^^^^^^^^^^^^^^^^^^^^^^^^^^^^^^^^^^\n",
      "        File \"C:\\Users\\rahul\\AppData\\Local\\Temp\\pip-build-env-hxwu00g1\\overlay\\Lib\\site-packages\\setuptools\\build_meta.py\", line 325, in get_requires_for_build_wheel\n",
      "          return self._get_build_requires(config_settings, requirements=['wheel'])\n",
      "                 ^^^^^^^^^^^^^^^^^^^^^^^^^^^^^^^^^^^^^^^^^^^^^^^^^^^^^^^^^^^^^^^^^\n",
      "        File \"C:\\Users\\rahul\\AppData\\Local\\Temp\\pip-build-env-hxwu00g1\\overlay\\Lib\\site-packages\\setuptools\\build_meta.py\", line 295, in _get_build_requires\n",
      "          self.run_setup()\n",
      "        File \"C:\\Users\\rahul\\AppData\\Local\\Temp\\pip-build-env-hxwu00g1\\overlay\\Lib\\site-packages\\setuptools\\build_meta.py\", line 480, in run_setup\n",
      "          super(_BuildMetaLegacyBackend, self).run_setup(setup_script=setup_script)\n",
      "        File \"C:\\Users\\rahul\\AppData\\Local\\Temp\\pip-build-env-hxwu00g1\\overlay\\Lib\\site-packages\\setuptools\\build_meta.py\", line 311, in run_setup\n",
      "          exec(code, locals())\n",
      "        File \"<string>\", line 18\n",
      "          pip install -e .\n",
      "              ^^^^^^^\n",
      "      SyntaxError: invalid syntax\n",
      "      [end of output]\n",
      "  \n",
      "  note: This error originates from a subprocess, and is likely not a problem with pip.\n",
      "error: subprocess-exited-with-error\n",
      "\n",
      "× Getting requirements to build editable did not run successfully.\n",
      "│ exit code: 1\n",
      "╰─> See above for output.\n",
      "\n",
      "note: This error originates from a subprocess, and is likely not a problem with pip.\n"
     ]
    }
   ],
   "source": [
    "pip install -e .\n"
   ]
  },
  {
   "cell_type": "code",
   "execution_count": 6,
   "metadata": {},
   "outputs": [
    {
     "name": "stdout",
     "output_type": "stream",
     "text": [
      "Processing c:\\users\\rahul\\desktop\\assignmentpkg\\dsi-build-software-project\\assignmentpkg\n",
      "  Installing build dependencies: started\n",
      "  Installing build dependencies: finished with status 'done'\n",
      "  Getting requirements to build wheel: started\n",
      "  Getting requirements to build wheel: finished with status 'error'\n",
      "Note: you may need to restart the kernel to use updated packages.\n"
     ]
    },
    {
     "name": "stderr",
     "output_type": "stream",
     "text": [
      "  error: subprocess-exited-with-error\n",
      "  \n",
      "  × Getting requirements to build wheel did not run successfully.\n",
      "  │ exit code: 1\n",
      "  ╰─> [22 lines of output]\n",
      "      Traceback (most recent call last):\n",
      "        File \"c:\\Users\\rahul\\AppData\\Local\\Programs\\Python\\Python311\\Lib\\site-packages\\pip\\_vendor\\pyproject_hooks\\_in_process\\_in_process.py\", line 353, in <module>\n",
      "          main()\n",
      "        File \"c:\\Users\\rahul\\AppData\\Local\\Programs\\Python\\Python311\\Lib\\site-packages\\pip\\_vendor\\pyproject_hooks\\_in_process\\_in_process.py\", line 335, in main\n",
      "          json_out['return_val'] = hook(**hook_input['kwargs'])\n",
      "                                   ^^^^^^^^^^^^^^^^^^^^^^^^^^^^\n",
      "        File \"c:\\Users\\rahul\\AppData\\Local\\Programs\\Python\\Python311\\Lib\\site-packages\\pip\\_vendor\\pyproject_hooks\\_in_process\\_in_process.py\", line 118, in get_requires_for_build_wheel\n",
      "          return hook(config_settings)\n",
      "                 ^^^^^^^^^^^^^^^^^^^^^\n",
      "        File \"C:\\Users\\rahul\\AppData\\Local\\Temp\\pip-build-env-pynxf3i6\\overlay\\Lib\\site-packages\\setuptools\\build_meta.py\", line 325, in get_requires_for_build_wheel\n",
      "          return self._get_build_requires(config_settings, requirements=['wheel'])\n",
      "                 ^^^^^^^^^^^^^^^^^^^^^^^^^^^^^^^^^^^^^^^^^^^^^^^^^^^^^^^^^^^^^^^^^\n",
      "        File \"C:\\Users\\rahul\\AppData\\Local\\Temp\\pip-build-env-pynxf3i6\\overlay\\Lib\\site-packages\\setuptools\\build_meta.py\", line 295, in _get_build_requires\n",
      "          self.run_setup()\n",
      "        File \"C:\\Users\\rahul\\AppData\\Local\\Temp\\pip-build-env-pynxf3i6\\overlay\\Lib\\site-packages\\setuptools\\build_meta.py\", line 480, in run_setup\n",
      "          super(_BuildMetaLegacyBackend, self).run_setup(setup_script=setup_script)\n",
      "        File \"C:\\Users\\rahul\\AppData\\Local\\Temp\\pip-build-env-pynxf3i6\\overlay\\Lib\\site-packages\\setuptools\\build_meta.py\", line 311, in run_setup\n",
      "          exec(code, locals())\n",
      "        File \"<string>\", line 18\n",
      "          pip install -e .\n",
      "              ^^^^^^^\n",
      "      SyntaxError: invalid syntax\n",
      "      [end of output]\n",
      "  \n",
      "  note: This error originates from a subprocess, and is likely not a problem with pip.\n",
      "error: subprocess-exited-with-error\n",
      "\n",
      "× Getting requirements to build wheel did not run successfully.\n",
      "│ exit code: 1\n",
      "╰─> See above for output.\n",
      "\n",
      "note: This error originates from a subprocess, and is likely not a problem with pip.\n"
     ]
    }
   ],
   "source": [
    "pip install ."
   ]
  },
  {
   "cell_type": "code",
   "execution_count": null,
   "metadata": {},
   "outputs": [],
   "source": []
  },
  {
   "cell_type": "code",
   "execution_count": 1,
   "metadata": {},
   "outputs": [
    {
     "ename": "ModuleNotFoundError",
     "evalue": "No module named 'assignmentpkg'",
     "output_type": "error",
     "traceback": [
      "\u001b[1;31m---------------------------------------------------------------------------\u001b[0m",
      "\u001b[1;31mModuleNotFoundError\u001b[0m                       Traceback (most recent call last)",
      "Cell \u001b[1;32mIn[1], line 1\u001b[0m\n\u001b[1;32m----> 1\u001b[0m \u001b[38;5;28;01mfrom\u001b[39;00m \u001b[38;5;21;01massignmentpkg\u001b[39;00m \u001b[38;5;28;01mimport\u001b[39;00m analysis\n",
      "\u001b[1;31mModuleNotFoundError\u001b[0m: No module named 'assignmentpkg'"
     ]
    }
   ],
   "source": [
    "from assignmentpkg import analysis"
   ]
  },
  {
   "cell_type": "code",
   "execution_count": 2,
   "metadata": {},
   "outputs": [
    {
     "name": "stderr",
     "output_type": "stream",
     "text": [
      "'source' is not recognized as an internal or external command,\n",
      "operable program or batch file.\n"
     ]
    }
   ],
   "source": [
    "!source /path/to/venv/bin/activate  # Use the correct path to your virtual environment\n"
   ]
  }
 ],
 "metadata": {
  "kernelspec": {
   "display_name": "Python 3",
   "language": "python",
   "name": "python3"
  },
  "language_info": {
   "codemirror_mode": {
    "name": "ipython",
    "version": 3
   },
   "file_extension": ".py",
   "mimetype": "text/x-python",
   "name": "python",
   "nbconvert_exporter": "python",
   "pygments_lexer": "ipython3",
   "version": "3.11.4"
  }
 },
 "nbformat": 4,
 "nbformat_minor": 2
}
